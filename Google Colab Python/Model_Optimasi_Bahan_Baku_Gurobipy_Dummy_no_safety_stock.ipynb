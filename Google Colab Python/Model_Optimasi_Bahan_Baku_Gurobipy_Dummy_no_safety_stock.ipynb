{
  "nbformat": 4,
  "nbformat_minor": 0,
  "metadata": {
    "colab": {
      "provenance": []
    },
    "kernelspec": {
      "name": "python3",
      "display_name": "Python 3"
    },
    "language_info": {
      "name": "python"
    }
  },
  "cells": [
    {
      "cell_type": "code",
      "source": [
        "%pip install gurobipy"
      ],
      "metadata": {
        "colab": {
          "base_uri": "https://localhost:8080/"
        },
        "id": "1KXM3edfjRSs",
        "outputId": "23f3780d-481a-43d6-e4d8-26bdef048aa1"
      },
      "execution_count": null,
      "outputs": [
        {
          "output_type": "stream",
          "name": "stdout",
          "text": [
            "Looking in indexes: https://pypi.org/simple, https://us-python.pkg.dev/colab-wheels/public/simple/\n",
            "Collecting gurobipy\n",
            "  Downloading gurobipy-10.0.1-cp39-cp39-manylinux2014_x86_64.whl (12.8 MB)\n",
            "\u001b[2K     \u001b[90m━━━━━━━━━━━━━━━━━━━━━━━━━━━━━━━━━━━━━━━━\u001b[0m \u001b[32m12.8/12.8 MB\u001b[0m \u001b[31m35.1 MB/s\u001b[0m eta \u001b[36m0:00:00\u001b[0m\n",
            "\u001b[?25hInstalling collected packages: gurobipy\n",
            "Successfully installed gurobipy-10.0.1\n"
          ]
        }
      ]
    },
    {
      "cell_type": "code",
      "execution_count": null,
      "metadata": {
        "id": "zC0Q-PgpjBAs"
      },
      "outputs": [],
      "source": [
        "import gurobipy as gp\n",
        "from gurobipy import GRB\n",
        "import numpy as np\n",
        "import pandas as pd\n",
        "import matplotlib\n",
        "import matplotlib.pyplot as plt"
      ]
    },
    {
      "cell_type": "markdown",
      "source": [
        "**Batasan:**\n",
        "\n",
        "Periode perencanaan diketahui, yaitu 1 periode = 1 hari\n",
        "\n",
        "Biaya di semua periode diasumsikan konstan dan tidak tergantung pada jumlah pemesanan\n",
        "\n",
        "Semua demand harus terpenuhi dan tidak diperbolehkan adanya shortage dan backlog\n",
        "\n",
        "**Indeks:**\n",
        "\n",
        "T : jumlah periode dalam planning horizon\n",
        "i  : jenis bahan baku (i = 1,2,3)\n",
        "\n",
        "t  : periode waktu datang (t = 1,…,T)\n",
        "\n",
        "**Parameter:**\n",
        "\n",
        "𝑙_𝑖   =𝑙𝑒𝑎𝑑 𝑡𝑖𝑚𝑒 bahan baku i (3 hari)\n",
        "\n",
        "𝑐_𝑖   =harga satuan bahan baku i (Rp. 8000, Rp. 7000, Rp. 7300)\n",
        "\n",
        "𝑜_𝑖   =𝑜𝑟𝑑𝑒𝑟𝑖𝑛𝑔 𝑐𝑜𝑠𝑡 bahan baku i (Rp. 8990)\n",
        "\n",
        "ℎ_𝑖   =ℎ𝑜𝑙𝑑𝑖𝑛𝑔 𝐶𝑜𝑠𝑡 bahan baku i (Rp. 305.15, Rp. 304.33, Rp. 304.58 per kg)\n",
        "\n",
        "𝑠𝑠_𝑖𝑡 =𝑠𝑎𝑓𝑒𝑡𝑦 𝑠𝑡𝑜𝑐𝑘 bahan baku i pada periode t (10641.2 kg, 5651.6 kg, 9196.4)\n",
        "\n",
        "𝑑_𝑖𝑡  =𝑑𝑒𝑚𝑎𝑛𝑑 bahan baku i pada periode t (per 30 hari)\n",
        "\n",
        "m_i = kapasitas gudang bahan baku (110 ton)"
      ],
      "metadata": {
        "id": "2R8v2b9vLmfx"
      }
    },
    {
      "cell_type": "code",
      "source": [
        "# 1. Model\n",
        "model = gp.Model(\"optimasi bahan baku daur ulang PET\")"
      ],
      "metadata": {
        "id": "QZrXCC9p0NHZ",
        "colab": {
          "base_uri": "https://localhost:8080/"
        },
        "outputId": "cc99642b-0d94-43a5-913b-9da8773669c4"
      },
      "execution_count": null,
      "outputs": [
        {
          "output_type": "stream",
          "name": "stdout",
          "text": [
            "Restricted license - for non-production use only - expires 2024-10-28\n"
          ]
        }
      ]
    },
    {
      "cell_type": "code",
      "source": [
        "# 2. Sets\n",
        " # 2.1. Periode (hari)\n",
        "t = 8\n",
        "periode = range(0, t)"
      ],
      "metadata": {
        "id": "rE6yuJBc61Ar"
      },
      "execution_count": null,
      "outputs": []
    },
    {
      "cell_type": "code",
      "source": [
        "# 3. Parameter\n",
        " # 3.1. Harga bahan baku\n",
        "harga = [100 for i in periode]\n",
        "\n",
        " # 3.2. Holding cost per unit kg per hari penyimpanan\n",
        "holdingcost = [5 for i in periode]\n",
        "\n",
        " # 3.3. Ordering cost per satu kali pesan\n",
        "orderingcost = [5000 for i in periode]\n",
        "\n",
        " # 3.4. Demand per hari (dapat berupa target produksi atau forecast permintaan harian)\n",
        "demand = [400, 400, 800, 800, 1200, 1200, 1200, 1200]"
      ],
      "metadata": {
        "id": "0TYd_DG-jfhp"
      },
      "execution_count": null,
      "outputs": []
    },
    {
      "cell_type": "markdown",
      "source": [
        "Variabel Keputusan:\n",
        "\n",
        "𝑌_𝑖𝑡𝑡′={1,0}−variabel biner\n",
        "\n",
        "𝑄_𝑖𝑡𝑡′=jumlah bahan baku i yang dipesan pada t′ dan datang pada t\n",
        "\n",
        "𝑋_𝑖𝑡=level persediaan awal bahan baku i pada periode t"
      ],
      "metadata": {
        "id": "m-wb-HpwNHzF"
      }
    },
    {
      "cell_type": "markdown",
      "source": [
        "\n",
        "M     = maximum demand amount (big-M value)"
      ],
      "metadata": {
        "id": "zRpeZG25UmO1"
      }
    },
    {
      "cell_type": "code",
      "source": [
        "# 4. Variabel\n",
        " # 4.1. Kuantitas pesan\n",
        "kuantitas = model.addVars(t, name=\"kuantitas\", vtype=GRB.INTEGER)\n",
        "\n",
        " # 4.2. Inventory (jumlah per hari)\n",
        "inventory = model.addVars(t + 1, name=\"inventory\", vtype=GRB.INTEGER)\n",
        "\n",
        " # 4.3. Keputusan order (pesan = 1 / tidak pesan = 0)\n",
        "order = model.addVars(t, name=\"order\", vtype=GRB.BINARY)\n",
        "\n",
        " # 4.4. Kapasitas gudang (True - tidak ada stock di luar gudang, False - stock di luar)\n",
        "capacitated = False\n",
        "if capacitated:\n",
        "\tM = [7000, 7000, 7000, 7000, 7000, 7000, 7000, 7000]\n",
        "else:\n",
        "\tM = model.addVars(t, name=\"M\", vtype=GRB.INTEGER)"
      ],
      "metadata": {
        "id": "yuu9SGlRUloZ"
      },
      "execution_count": null,
      "outputs": []
    },
    {
      "cell_type": "markdown",
      "source": [
        "Fungsi Tujuan:\n",
        "\n",
        "Meminimalkan total biaya persediaan bahan baku gudang yang terdiri dari dua komponen biaya, yaitu biaya pesan (ordering cost) dan biaya simpan (holding cost):\n",
        "\n",
        "𝑀𝑖𝑛 𝑍=𝑂𝑟𝑑𝑒𝑟𝑖𝑛𝑔 𝐶𝑜𝑠𝑡+𝐻𝑜𝑙𝑑𝑖𝑛𝑔 𝐶𝑜𝑠𝑡\n"
      ],
      "metadata": {
        "id": "TvaZnaF9Nsmt"
      }
    },
    {
      "cell_type": "code",
      "source": [
        "# 5. Fungsi tujuan\n",
        "model.setObjective(gp.quicksum(harga[i] * kuantitas[i] + orderingcost[i] * order[i] + holdingcost[i] * inventory[i] for i in periode), GRB.MINIMIZE)"
      ],
      "metadata": {
        "id": "b-C5sXNYNzBY"
      },
      "execution_count": null,
      "outputs": []
    },
    {
      "cell_type": "markdown",
      "source": [
        "Fungsi Kendala:\n",
        "1. Memastikan total pemesanan bahan baku pada periode sebelumnya memenuhi demand dengan mendefinisikan nilai level persediaan awal (𝑋_(𝑖𝑡))\n",
        "\n",
        "2. Memastikan persediaan awal tidak kurang dari jumlah safety stock yang telah ditentukan\n",
        "\n",
        "3. Mendefinisikan keputusan 𝑌_(𝑖𝑡𝑡′)  bergantung pada 𝑄_(𝑖𝑡𝑡'). Untuk memenuhi hubungan antara 𝑌_(𝑖𝑡𝑡')  dan 𝑄_(𝑖𝑡𝑡'), diperlukan angka positif (𝑀) yang sangat besar\n",
        "\n",
        "4. Mendefinisikan nilai M sebagai maksimum dari jumlah demand tiap bahan baku selama periode perencanaan dan keputusan biner 𝑌_𝑖𝑡𝑡′  \n",
        "\n",
        "5. Mendefinisikan variabel keputusan adalah non negatif\n"
      ],
      "metadata": {
        "id": "PAMubVlvajdB"
      }
    },
    {
      "cell_type": "code",
      "source": [
        "# 6. Constraints (c)\n",
        " # 6.1. Inventory memenuhi demand\n",
        "for i in range(1, t+1):\n",
        "    model.addConstr((inventory[i] == inventory[i-1] + kuantitas[i-1] - demand[i-1]), \"c1\")\n",
        "\n",
        " # 6.2. Inventory awal\n",
        "model.addConstr(inventory[0] == 200, \"c2\")\n",
        "\n",
        " # 6.3. Inventory bahan baku lebih dari safety stock\n",
        "model.addConstr(inventory[t] == 0, \"c3\")\n",
        "\n",
        " # 6.4. Hubungan kuantitas pesan dan waktu pesan memenuhi persamaan dengan Big M-value\n",
        "for i in periode:\n",
        "    model.addConstr((kuantitas[i] <= M[i]*order[i]), \"c4\")\n",
        "\n",
        " # 6.5. Non-negatif\n",
        "for i in periode:\n",
        "    model.addConstr((order[i] >= 0), \"c5\")\n",
        "    model.addConstr((kuantitas[i] >= 0), \"c6\")\n",
        "    model.addConstr((inventory[i] >= 0), \"c7\")\n",
        "    model.addConstr((M[i] >= 0), \"c8\");"
      ],
      "metadata": {
        "id": "88y_ZUkyadxv"
      },
      "execution_count": null,
      "outputs": []
    },
    {
      "cell_type": "code",
      "source": [
        "# 7. Optimasi\n",
        "model.optimize()"
      ],
      "metadata": {
        "colab": {
          "base_uri": "https://localhost:8080/"
        },
        "id": "onimWYpnk_iR",
        "outputId": "dd15b3f2-3dfe-426b-bcae-a8e22359fa06"
      },
      "execution_count": null,
      "outputs": [
        {
          "output_type": "stream",
          "name": "stdout",
          "text": [
            "Gurobi Optimizer version 10.0.1 build v10.0.1rc0 (linux64)\n",
            "\n",
            "CPU model: Intel(R) Xeon(R) CPU @ 2.20GHz, instruction set [SSE2|AVX|AVX2]\n",
            "Thread count: 1 physical cores, 2 logical processors, using up to 2 threads\n",
            "\n",
            "Optimize a model with 42 rows, 33 columns and 58 nonzeros\n",
            "Model fingerprint: 0x95569218\n",
            "Model has 8 quadratic constraints\n",
            "Variable types: 0 continuous, 33 integer (8 binary)\n",
            "Coefficient statistics:\n",
            "  Matrix range     [1e+00, 1e+00]\n",
            "  QMatrix range    [1e+00, 1e+00]\n",
            "  QLMatrix range   [1e+00, 1e+00]\n",
            "  Objective range  [5e+00, 5e+03]\n",
            "  Bounds range     [1e+00, 1e+00]\n",
            "  RHS range        [2e+02, 1e+03]\n",
            "Presolve removed 36 rows and 4 columns\n",
            "Presolve time: 0.00s\n",
            "Presolved: 30 rows, 53 columns, 74 nonzeros\n",
            "Presolved model has 16 SOS constraint(s)\n",
            "Variable types: 0 continuous, 53 integer (16 binary)\n",
            "Found heuristic solution: objective 860000.00000\n",
            "Found heuristic solution: objective 831000.00000\n",
            "Found heuristic solution: objective 823000.00000\n",
            "\n",
            "Root relaxation: objective 7.180501e+05, 15 iterations, 0.00 seconds (0.00 work units)\n",
            "\n",
            "    Nodes    |    Current Node    |     Objective Bounds      |     Work\n",
            " Expl Unexpl |  Obj  Depth IntInf | Incumbent    BestBd   Gap | It/Node Time\n",
            "\n",
            "     0     0 718050.070    0    6 823000.000 718050.070  12.8%     -    0s\n",
            "H    0     0                    738000.00000 718050.070  2.70%     -    0s\n",
            "     0     0 736497.549    0    5 738000.000 736497.549  0.20%     -    0s\n",
            "*    0     0               0    737000.00000 737000.000  0.00%     -    0s\n",
            "\n",
            "Cutting planes:\n",
            "  Implied bound: 7\n",
            "  Flow cover: 1\n",
            "\n",
            "Explored 1 nodes (23 simplex iterations) in 0.04 seconds (0.00 work units)\n",
            "Thread count was 2 (of 2 available processors)\n",
            "\n",
            "Solution count 5: 737000 738000 823000 ... 860000\n",
            "\n",
            "Optimal solution found (tolerance 1.00e-04)\n",
            "Best objective 7.370000000000e+05, best bound 7.370000000000e+05, gap 0.0000%\n"
          ]
        }
      ]
    },
    {
      "cell_type": "markdown",
      "source": [
        "**Analisis**"
      ],
      "metadata": {
        "id": "k5Et_3WAOrH5"
      }
    },
    {
      "cell_type": "code",
      "source": [
        "# 8. Visualisasi hasil\n",
        "for v in model.getVars():\n",
        "\n",
        "\tif v.varName.startswith(\"k\"):\n",
        "\t\tprint(\"Order {} kg bahan baku pada periode {}\".format(v.x, v.varName[9:]))\n",
        "\n",
        "print(\"--------------------------------\")\n",
        "print(\"Total biaya persediaan: Rp. {}\".format(model.objVal))"
      ],
      "metadata": {
        "colab": {
          "base_uri": "https://localhost:8080/"
        },
        "id": "JFhTXEOjlXlO",
        "outputId": "18408d1d-3dbc-4675-aa65-622f71d888c1"
      },
      "execution_count": null,
      "outputs": [
        {
          "output_type": "stream",
          "name": "stdout",
          "text": [
            "Order 600.0 kg bahan baku pada periode [0]\n",
            "Order 0.0 kg bahan baku pada periode [1]\n",
            "Order 1600.0 kg bahan baku pada periode [2]\n",
            "Order 0.0 kg bahan baku pada periode [3]\n",
            "Order 1200.0 kg bahan baku pada periode [4]\n",
            "Order 1200.0 kg bahan baku pada periode [5]\n",
            "Order 1200.0 kg bahan baku pada periode [6]\n",
            "Order 1200.0 kg bahan baku pada periode [7]\n",
            "--------------------------------\n",
            "Total biaya persediaan: Rp. 737000.0\n"
          ]
        }
      ]
    },
    {
      "cell_type": "code",
      "source": [
        "kolom_order = pd.DataFrame(columns=[\"Order\"])\n",
        "for o in order.values():\n",
        "  kolom_order = kolom_order.append({\"Order\": o.X}, ignore_index=True)\n",
        "\n",
        "kolom_quantity = pd.DataFrame(columns=[\"Quantity\"])\n",
        "for q in kuantitas.values():\n",
        "  kolom_quantity = kolom_quantity.append({\"Quantity\": q.X}, ignore_index=True)\n",
        "\n",
        "kolom_inventory = pd.DataFrame(columns=[\"Inventory\"])\n",
        "for i in inventory.values():\n",
        "  kolom_inventory = kolom_inventory.append({\"Inventory\": i.X}, ignore_index=True)\n",
        "kolom_inventory = kolom_inventory.drop(labels=t, axis=0)\n",
        "\n",
        "kolom_demand = pd.DataFrame(demand, columns = [\"Demand\"])\n",
        "\n",
        "table = pd.concat([kolom_order, kolom_quantity, kolom_inventory, kolom_demand], axis='columns')\n",
        "table"
      ],
      "metadata": {
        "colab": {
          "base_uri": "https://localhost:8080/",
          "height": 1000
        },
        "id": "t7s6Pyf8hR_g",
        "outputId": "278f9ba0-135d-4b89-ab3a-116ebed9400a"
      },
      "execution_count": null,
      "outputs": [
        {
          "output_type": "stream",
          "name": "stderr",
          "text": [
            "<ipython-input-21-1ba78b7ccb62>:3: FutureWarning: The frame.append method is deprecated and will be removed from pandas in a future version. Use pandas.concat instead.\n",
            "  kolom_order = kolom_order.append({\"Order\": o.X}, ignore_index=True)\n",
            "<ipython-input-21-1ba78b7ccb62>:3: FutureWarning: The frame.append method is deprecated and will be removed from pandas in a future version. Use pandas.concat instead.\n",
            "  kolom_order = kolom_order.append({\"Order\": o.X}, ignore_index=True)\n",
            "<ipython-input-21-1ba78b7ccb62>:3: FutureWarning: The frame.append method is deprecated and will be removed from pandas in a future version. Use pandas.concat instead.\n",
            "  kolom_order = kolom_order.append({\"Order\": o.X}, ignore_index=True)\n",
            "<ipython-input-21-1ba78b7ccb62>:3: FutureWarning: The frame.append method is deprecated and will be removed from pandas in a future version. Use pandas.concat instead.\n",
            "  kolom_order = kolom_order.append({\"Order\": o.X}, ignore_index=True)\n",
            "<ipython-input-21-1ba78b7ccb62>:3: FutureWarning: The frame.append method is deprecated and will be removed from pandas in a future version. Use pandas.concat instead.\n",
            "  kolom_order = kolom_order.append({\"Order\": o.X}, ignore_index=True)\n",
            "<ipython-input-21-1ba78b7ccb62>:3: FutureWarning: The frame.append method is deprecated and will be removed from pandas in a future version. Use pandas.concat instead.\n",
            "  kolom_order = kolom_order.append({\"Order\": o.X}, ignore_index=True)\n",
            "<ipython-input-21-1ba78b7ccb62>:3: FutureWarning: The frame.append method is deprecated and will be removed from pandas in a future version. Use pandas.concat instead.\n",
            "  kolom_order = kolom_order.append({\"Order\": o.X}, ignore_index=True)\n",
            "<ipython-input-21-1ba78b7ccb62>:3: FutureWarning: The frame.append method is deprecated and will be removed from pandas in a future version. Use pandas.concat instead.\n",
            "  kolom_order = kolom_order.append({\"Order\": o.X}, ignore_index=True)\n",
            "<ipython-input-21-1ba78b7ccb62>:7: FutureWarning: The frame.append method is deprecated and will be removed from pandas in a future version. Use pandas.concat instead.\n",
            "  kolom_quantity = kolom_quantity.append({\"Quantity\": q.X}, ignore_index=True)\n",
            "<ipython-input-21-1ba78b7ccb62>:7: FutureWarning: The frame.append method is deprecated and will be removed from pandas in a future version. Use pandas.concat instead.\n",
            "  kolom_quantity = kolom_quantity.append({\"Quantity\": q.X}, ignore_index=True)\n",
            "<ipython-input-21-1ba78b7ccb62>:7: FutureWarning: The frame.append method is deprecated and will be removed from pandas in a future version. Use pandas.concat instead.\n",
            "  kolom_quantity = kolom_quantity.append({\"Quantity\": q.X}, ignore_index=True)\n",
            "<ipython-input-21-1ba78b7ccb62>:7: FutureWarning: The frame.append method is deprecated and will be removed from pandas in a future version. Use pandas.concat instead.\n",
            "  kolom_quantity = kolom_quantity.append({\"Quantity\": q.X}, ignore_index=True)\n",
            "<ipython-input-21-1ba78b7ccb62>:7: FutureWarning: The frame.append method is deprecated and will be removed from pandas in a future version. Use pandas.concat instead.\n",
            "  kolom_quantity = kolom_quantity.append({\"Quantity\": q.X}, ignore_index=True)\n",
            "<ipython-input-21-1ba78b7ccb62>:7: FutureWarning: The frame.append method is deprecated and will be removed from pandas in a future version. Use pandas.concat instead.\n",
            "  kolom_quantity = kolom_quantity.append({\"Quantity\": q.X}, ignore_index=True)\n",
            "<ipython-input-21-1ba78b7ccb62>:7: FutureWarning: The frame.append method is deprecated and will be removed from pandas in a future version. Use pandas.concat instead.\n",
            "  kolom_quantity = kolom_quantity.append({\"Quantity\": q.X}, ignore_index=True)\n",
            "<ipython-input-21-1ba78b7ccb62>:7: FutureWarning: The frame.append method is deprecated and will be removed from pandas in a future version. Use pandas.concat instead.\n",
            "  kolom_quantity = kolom_quantity.append({\"Quantity\": q.X}, ignore_index=True)\n",
            "<ipython-input-21-1ba78b7ccb62>:11: FutureWarning: The frame.append method is deprecated and will be removed from pandas in a future version. Use pandas.concat instead.\n",
            "  kolom_inventory = kolom_inventory.append({\"Inventory\": i.X}, ignore_index=True)\n",
            "<ipython-input-21-1ba78b7ccb62>:11: FutureWarning: The frame.append method is deprecated and will be removed from pandas in a future version. Use pandas.concat instead.\n",
            "  kolom_inventory = kolom_inventory.append({\"Inventory\": i.X}, ignore_index=True)\n",
            "<ipython-input-21-1ba78b7ccb62>:11: FutureWarning: The frame.append method is deprecated and will be removed from pandas in a future version. Use pandas.concat instead.\n",
            "  kolom_inventory = kolom_inventory.append({\"Inventory\": i.X}, ignore_index=True)\n",
            "<ipython-input-21-1ba78b7ccb62>:11: FutureWarning: The frame.append method is deprecated and will be removed from pandas in a future version. Use pandas.concat instead.\n",
            "  kolom_inventory = kolom_inventory.append({\"Inventory\": i.X}, ignore_index=True)\n",
            "<ipython-input-21-1ba78b7ccb62>:11: FutureWarning: The frame.append method is deprecated and will be removed from pandas in a future version. Use pandas.concat instead.\n",
            "  kolom_inventory = kolom_inventory.append({\"Inventory\": i.X}, ignore_index=True)\n",
            "<ipython-input-21-1ba78b7ccb62>:11: FutureWarning: The frame.append method is deprecated and will be removed from pandas in a future version. Use pandas.concat instead.\n",
            "  kolom_inventory = kolom_inventory.append({\"Inventory\": i.X}, ignore_index=True)\n",
            "<ipython-input-21-1ba78b7ccb62>:11: FutureWarning: The frame.append method is deprecated and will be removed from pandas in a future version. Use pandas.concat instead.\n",
            "  kolom_inventory = kolom_inventory.append({\"Inventory\": i.X}, ignore_index=True)\n",
            "<ipython-input-21-1ba78b7ccb62>:11: FutureWarning: The frame.append method is deprecated and will be removed from pandas in a future version. Use pandas.concat instead.\n",
            "  kolom_inventory = kolom_inventory.append({\"Inventory\": i.X}, ignore_index=True)\n",
            "<ipython-input-21-1ba78b7ccb62>:11: FutureWarning: The frame.append method is deprecated and will be removed from pandas in a future version. Use pandas.concat instead.\n",
            "  kolom_inventory = kolom_inventory.append({\"Inventory\": i.X}, ignore_index=True)\n"
          ]
        },
        {
          "output_type": "execute_result",
          "data": {
            "text/plain": [
              "   Order  Quantity  Inventory  Demand\n",
              "0    1.0     600.0      200.0     400\n",
              "1    0.0       0.0      400.0     400\n",
              "2    1.0    1600.0        0.0     800\n",
              "3    0.0       0.0      800.0     800\n",
              "4    1.0    1200.0       -0.0    1200\n",
              "5    1.0    1200.0       -0.0    1200\n",
              "6    1.0    1200.0       -0.0    1200\n",
              "7    1.0    1200.0        0.0    1200"
            ],
            "text/html": [
              "\n",
              "  <div id=\"df-f1888192-61af-470d-a41c-19b8abe41841\">\n",
              "    <div class=\"colab-df-container\">\n",
              "      <div>\n",
              "<style scoped>\n",
              "    .dataframe tbody tr th:only-of-type {\n",
              "        vertical-align: middle;\n",
              "    }\n",
              "\n",
              "    .dataframe tbody tr th {\n",
              "        vertical-align: top;\n",
              "    }\n",
              "\n",
              "    .dataframe thead th {\n",
              "        text-align: right;\n",
              "    }\n",
              "</style>\n",
              "<table border=\"1\" class=\"dataframe\">\n",
              "  <thead>\n",
              "    <tr style=\"text-align: right;\">\n",
              "      <th></th>\n",
              "      <th>Order</th>\n",
              "      <th>Quantity</th>\n",
              "      <th>Inventory</th>\n",
              "      <th>Demand</th>\n",
              "    </tr>\n",
              "  </thead>\n",
              "  <tbody>\n",
              "    <tr>\n",
              "      <th>0</th>\n",
              "      <td>1.0</td>\n",
              "      <td>600.0</td>\n",
              "      <td>200.0</td>\n",
              "      <td>400</td>\n",
              "    </tr>\n",
              "    <tr>\n",
              "      <th>1</th>\n",
              "      <td>0.0</td>\n",
              "      <td>0.0</td>\n",
              "      <td>400.0</td>\n",
              "      <td>400</td>\n",
              "    </tr>\n",
              "    <tr>\n",
              "      <th>2</th>\n",
              "      <td>1.0</td>\n",
              "      <td>1600.0</td>\n",
              "      <td>0.0</td>\n",
              "      <td>800</td>\n",
              "    </tr>\n",
              "    <tr>\n",
              "      <th>3</th>\n",
              "      <td>0.0</td>\n",
              "      <td>0.0</td>\n",
              "      <td>800.0</td>\n",
              "      <td>800</td>\n",
              "    </tr>\n",
              "    <tr>\n",
              "      <th>4</th>\n",
              "      <td>1.0</td>\n",
              "      <td>1200.0</td>\n",
              "      <td>-0.0</td>\n",
              "      <td>1200</td>\n",
              "    </tr>\n",
              "    <tr>\n",
              "      <th>5</th>\n",
              "      <td>1.0</td>\n",
              "      <td>1200.0</td>\n",
              "      <td>-0.0</td>\n",
              "      <td>1200</td>\n",
              "    </tr>\n",
              "    <tr>\n",
              "      <th>6</th>\n",
              "      <td>1.0</td>\n",
              "      <td>1200.0</td>\n",
              "      <td>-0.0</td>\n",
              "      <td>1200</td>\n",
              "    </tr>\n",
              "    <tr>\n",
              "      <th>7</th>\n",
              "      <td>1.0</td>\n",
              "      <td>1200.0</td>\n",
              "      <td>0.0</td>\n",
              "      <td>1200</td>\n",
              "    </tr>\n",
              "  </tbody>\n",
              "</table>\n",
              "</div>\n",
              "      <button class=\"colab-df-convert\" onclick=\"convertToInteractive('df-f1888192-61af-470d-a41c-19b8abe41841')\"\n",
              "              title=\"Convert this dataframe to an interactive table.\"\n",
              "              style=\"display:none;\">\n",
              "        \n",
              "  <svg xmlns=\"http://www.w3.org/2000/svg\" height=\"24px\"viewBox=\"0 0 24 24\"\n",
              "       width=\"24px\">\n",
              "    <path d=\"M0 0h24v24H0V0z\" fill=\"none\"/>\n",
              "    <path d=\"M18.56 5.44l.94 2.06.94-2.06 2.06-.94-2.06-.94-.94-2.06-.94 2.06-2.06.94zm-11 1L8.5 8.5l.94-2.06 2.06-.94-2.06-.94L8.5 2.5l-.94 2.06-2.06.94zm10 10l.94 2.06.94-2.06 2.06-.94-2.06-.94-.94-2.06-.94 2.06-2.06.94z\"/><path d=\"M17.41 7.96l-1.37-1.37c-.4-.4-.92-.59-1.43-.59-.52 0-1.04.2-1.43.59L10.3 9.45l-7.72 7.72c-.78.78-.78 2.05 0 2.83L4 21.41c.39.39.9.59 1.41.59.51 0 1.02-.2 1.41-.59l7.78-7.78 2.81-2.81c.8-.78.8-2.07 0-2.86zM5.41 20L4 18.59l7.72-7.72 1.47 1.35L5.41 20z\"/>\n",
              "  </svg>\n",
              "      </button>\n",
              "      \n",
              "  <style>\n",
              "    .colab-df-container {\n",
              "      display:flex;\n",
              "      flex-wrap:wrap;\n",
              "      gap: 12px;\n",
              "    }\n",
              "\n",
              "    .colab-df-convert {\n",
              "      background-color: #E8F0FE;\n",
              "      border: none;\n",
              "      border-radius: 50%;\n",
              "      cursor: pointer;\n",
              "      display: none;\n",
              "      fill: #1967D2;\n",
              "      height: 32px;\n",
              "      padding: 0 0 0 0;\n",
              "      width: 32px;\n",
              "    }\n",
              "\n",
              "    .colab-df-convert:hover {\n",
              "      background-color: #E2EBFA;\n",
              "      box-shadow: 0px 1px 2px rgba(60, 64, 67, 0.3), 0px 1px 3px 1px rgba(60, 64, 67, 0.15);\n",
              "      fill: #174EA6;\n",
              "    }\n",
              "\n",
              "    [theme=dark] .colab-df-convert {\n",
              "      background-color: #3B4455;\n",
              "      fill: #D2E3FC;\n",
              "    }\n",
              "\n",
              "    [theme=dark] .colab-df-convert:hover {\n",
              "      background-color: #434B5C;\n",
              "      box-shadow: 0px 1px 3px 1px rgba(0, 0, 0, 0.15);\n",
              "      filter: drop-shadow(0px 1px 2px rgba(0, 0, 0, 0.3));\n",
              "      fill: #FFFFFF;\n",
              "    }\n",
              "  </style>\n",
              "\n",
              "      <script>\n",
              "        const buttonEl =\n",
              "          document.querySelector('#df-f1888192-61af-470d-a41c-19b8abe41841 button.colab-df-convert');\n",
              "        buttonEl.style.display =\n",
              "          google.colab.kernel.accessAllowed ? 'block' : 'none';\n",
              "\n",
              "        async function convertToInteractive(key) {\n",
              "          const element = document.querySelector('#df-f1888192-61af-470d-a41c-19b8abe41841');\n",
              "          const dataTable =\n",
              "            await google.colab.kernel.invokeFunction('convertToInteractive',\n",
              "                                                     [key], {});\n",
              "          if (!dataTable) return;\n",
              "\n",
              "          const docLinkHtml = 'Like what you see? Visit the ' +\n",
              "            '<a target=\"_blank\" href=https://colab.research.google.com/notebooks/data_table.ipynb>data table notebook</a>'\n",
              "            + ' to learn more about interactive tables.';\n",
              "          element.innerHTML = '';\n",
              "          dataTable['output_type'] = 'display_data';\n",
              "          await google.colab.output.renderOutput(dataTable, element);\n",
              "          const docLink = document.createElement('div');\n",
              "          docLink.innerHTML = docLinkHtml;\n",
              "          element.appendChild(docLink);\n",
              "        }\n",
              "      </script>\n",
              "    </div>\n",
              "  </div>\n",
              "  "
            ]
          },
          "metadata": {},
          "execution_count": 21
        }
      ]
    },
    {
      "cell_type": "code",
      "source": [
        "ind = np.arange(t)\n",
        "width = 0.25\n",
        "\n",
        "xvals = table.Quantity\n",
        "bar1 = plt.bar(ind, xvals, width, color = 'b')\n",
        "\n",
        "yvals = table.Demand\n",
        "bar2 = plt.bar(ind+width, yvals, width, color='r')\n",
        "\n",
        "zvals = table.Inventory\n",
        "bar3 = plt.bar(ind+width*2, zvals, width, color = 'g')\n",
        "\n",
        "plt.xlabel(\"Periode\")\n",
        "plt.ylabel('Kuantitas')\n",
        "plt.title(\"Perencanaan Optimal (Biaya Minimum)\")\n",
        "\n",
        "plt.xticks(ind+width,ind)\n",
        "plt.legend((bar1, bar2, bar3), ('Pesan', 'Demand', 'Inventory'))\n",
        "plt.show()"
      ],
      "metadata": {
        "colab": {
          "base_uri": "https://localhost:8080/",
          "height": 295
        },
        "id": "ODZyVlWyaIbz",
        "outputId": "5260291c-93d1-493d-eddb-1375f5e00e70"
      },
      "execution_count": null,
      "outputs": [
        {
          "output_type": "display_data",
          "data": {
            "text/plain": [
              "<Figure size 432x288 with 1 Axes>"
            ],
            "image/png": "[encoded data removed]"
          },
          "metadata": {
            "needs_background": "light"
          }
        }
      ]
    },
    {
      "cell_type": "code",
      "source": [
        "# 9. Analisis\n",
        "status = model.status\n",
        "if status == GRB.Status.OPTIMAL:\n",
        "    print('[model sudah optimal]')\n",
        "if status == GRB.Status.INF_OR_UNBD or status == GRB.Status.INFEASIBLE  or status == GRB.Status.UNBOUNDED:\n",
        "    print('[model infeasible atau unbounded]')\n",
        "if status != GRB.Status.OPTIMAL:\n",
        "    print('Optimasi belum optimal')"
      ],
      "metadata": {
        "colab": {
          "base_uri": "https://localhost:8080/"
        },
        "id": "L8aNEvJEoKdE",
        "outputId": "5851dd77-1f5d-4fee-8643-5133adee1d48"
      },
      "execution_count": null,
      "outputs": [
        {
          "output_type": "stream",
          "name": "stdout",
          "text": [
            "[model sudah optimal]\n"
          ]
        }
      ]
    },
    {
      "cell_type": "markdown",
      "source": [
        "Output Solution"
      ],
      "metadata": {
        "id": "WccAVIPEO3fR"
      }
    },
    {
      "cell_type": "code",
      "source": [
        "#10. Download\n",
        "m.write(\"perencanaan-bahan-baku-output.sol\")"
      ],
      "metadata": {
        "id": "A89pS295O1rL"
      },
      "execution_count": null,
      "outputs": []
    }
  ]
}