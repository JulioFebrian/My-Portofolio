{
  "nbformat": 4,
  "nbformat_minor": 0,
  "metadata": {
    "colab": {
      "provenance": []
    },
    "kernelspec": {
      "name": "python3",
      "display_name": "Python 3"
    },
    "language_info": {
      "name": "python"
    }
  },
  "cells": [
    {
      "cell_type": "code",
      "execution_count": null,
      "metadata": {
        "id": "9araoNozlBYi"
      },
      "outputs": [],
      "source": [
        "# =============================================================================\n",
        "# PROBLEM C2\n",
        "#\n",
        "# Create a classifier for the MNIST Handwritten digit dataset.\n",
        "# The test will expect it to classify 10 classes.\n",
        "#\n",
        "# Don't use lambda layers in your model.\n",
        "#\n",
        "# Desired accuracy AND validation_accuracy > 91%\n",
        "# =============================================================================\n"
      ]
    },
    {
      "cell_type": "code",
      "source": [
        "import tensorflow as tf"
      ],
      "metadata": {
        "id": "byqe_N-9lFsN"
      },
      "execution_count": null,
      "outputs": []
    },
    {
      "cell_type": "code",
      "source": [
        "def solution_C2():\n",
        "    mnist = tf.keras.datasets.mnist\n",
        "    (training_images, training_labels), (test_images, test_labels) = mnist.load_data()\n",
        "    # NORMALIZE YOUR IMAGE HERE\n",
        "    training_images = training_images / 255.0\n",
        "    test_images = test_images / 255.0\n",
        "    # DEFINE YOUR MODEL HERE\n",
        "    model = tf.keras.models.Sequential([\n",
        "    tf.keras.layers.Conv2D(64, (3, 3), activation='relu', input_shape=(28, 28, 1)),\n",
        "    tf.keras.layers.MaxPooling2D(2, 2),\n",
        "    tf.keras.layers.Conv2D(64, (3, 3), activation='relu'),\n",
        "    tf.keras.layers.MaxPooling2D(2, 2),\n",
        "    tf.keras.layers.Flatten(),\n",
        "    tf.keras.layers.Dense(128, activation='relu'),\n",
        "    tf.keras.layers.Dense(10, activation='softmax')])\n",
        "    # End with 10 Neuron Dense, activated by softmax\n",
        "\n",
        "    # COMPILE MODEL HERE\n",
        "    model.compile(optimizer='adam',\n",
        "                  loss = 'sparse_categorical_crossentropy',\n",
        "                  metrics=['accuracy'])\n",
        "\n",
        "    # TRAIN YOUR MODEL HERE\n",
        "    model.fit(training_images,\n",
        "              training_labels,\n",
        "              batch_size=128,\n",
        "              epochs=5,\n",
        "              verbose=1,\n",
        "              validation_data=(test_images, test_labels))\n",
        "\n",
        "    return model\n"
      ],
      "metadata": {
        "id": "v3ERILIFlG8j"
      },
      "execution_count": null,
      "outputs": []
    },
    {
      "cell_type": "code",
      "source": [
        "# The code below is to save your model as a .h5 file.\n",
        "# It will be saved automatically in your Submission folder.\n",
        "if __name__ == '__main__':\n",
        "    # DO NOT CHANGE THIS CODE\n",
        "    model = solution_C2()\n",
        "    model.save(\"model_C2.h5\")\n"
      ],
      "metadata": {
        "colab": {
          "base_uri": "https://localhost:8080/"
        },
        "id": "WCx3H2rmlKLq",
        "outputId": "aec46ce5-d3cd-477b-ae9a-83e58f988e66"
      },
      "execution_count": null,
      "outputs": [
        {
          "output_type": "stream",
          "name": "stdout",
          "text": [
            "Epoch 1/5\n",
            "469/469 [==============================] - 85s 180ms/step - loss: 0.1939 - accuracy: 0.9415 - val_loss: 0.0558 - val_accuracy: 0.9815\n",
            "Epoch 2/5\n",
            "469/469 [==============================] - 83s 176ms/step - loss: 0.0546 - accuracy: 0.9828 - val_loss: 0.0387 - val_accuracy: 0.9872\n",
            "Epoch 3/5\n",
            "469/469 [==============================] - 83s 176ms/step - loss: 0.0370 - accuracy: 0.9891 - val_loss: 0.0290 - val_accuracy: 0.9902\n",
            "Epoch 4/5\n",
            "469/469 [==============================] - 84s 178ms/step - loss: 0.0280 - accuracy: 0.9910 - val_loss: 0.0312 - val_accuracy: 0.9895\n",
            "Epoch 5/5\n",
            "469/469 [==============================] - 82s 176ms/step - loss: 0.0224 - accuracy: 0.9928 - val_loss: 0.0283 - val_accuracy: 0.9900\n"
          ]
        }
      ]
    }
  ]
}