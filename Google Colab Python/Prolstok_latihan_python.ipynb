{
  "nbformat": 4,
  "nbformat_minor": 0,
  "metadata": {
    "colab": {
      "provenance": []
    },
    "kernelspec": {
      "name": "python3",
      "display_name": "Python 3"
    },
    "language_info": {
      "name": "python"
    }
  },
  "cells": [
    {
      "cell_type": "code",
      "source": [
        "%pip install -i https://pypi.gurobi.com gurobipy"
      ],
      "metadata": {
        "colab": {
          "base_uri": "https://localhost:8080/"
        },
        "id": "zt12ku3ahmQP",
        "outputId": "3fef1f31-fe15-43e1-dc5e-82b6945a0e61"
      },
      "execution_count": null,
      "outputs": [
        {
          "output_type": "stream",
          "name": "stdout",
          "text": [
            "Looking in indexes: https://pypi.gurobi.com, https://us-python.pkg.dev/colab-wheels/public/simple/\n",
            "Collecting gurobipy\n",
            "  Downloading gurobipy-9.5.2-cp37-cp37m-manylinux2014_x86_64.whl (11.5 MB)\n",
            "\u001b[K     |████████████████████████████████| 11.5 MB 4.3 MB/s \n",
            "\u001b[?25hInstalling collected packages: gurobipy\n",
            "Successfully installed gurobipy-9.5.2\n"
          ]
        }
      ]
    },
    {
      "cell_type": "code",
      "source": [
        "from gurobipy import*"
      ],
      "metadata": {
        "id": "D0XyGG3EiNlB"
      },
      "execution_count": null,
      "outputs": []
    },
    {
      "cell_type": "code",
      "execution_count": null,
      "metadata": {
        "colab": {
          "base_uri": "https://localhost:8080/"
        },
        "id": "SKeY-wwXhUpP",
        "outputId": "39346643-2138-44d8-83c4-1729e9ce5d2e"
      },
      "outputs": [
        {
          "output_type": "stream",
          "name": "stdout",
          "text": [
            "Restricted license - for non-production use only - expires 2023-10-25\n"
          ]
        }
      ],
      "source": [
        "m = Model()"
      ]
    },
    {
      "cell_type": "code",
      "source": [
        "x = m.addVar(vtype=GRB.BINARY, name=\"x\")\n",
        "y = m.addVar(vtype=GRB.BINARY, name=\"Y\")\n",
        "z = m.addVar(vtype=GRB.BINARY, name=\"z\")"
      ],
      "metadata": {
        "id": "W9RuixY3hak4"
      },
      "execution_count": null,
      "outputs": []
    },
    {
      "cell_type": "code",
      "source": [
        "m.setObjective( x + y + 2*z, GRB.MAXIMIZE)"
      ],
      "metadata": {
        "id": "YYeSE8Uaiusb"
      },
      "execution_count": null,
      "outputs": []
    },
    {
      "cell_type": "code",
      "source": [
        "c1 = m.addConstr(x + 2*y + 3*z <= 4)\n",
        "c2 = m.addConstr(x+y >= 1)"
      ],
      "metadata": {
        "id": "sbddQRL2jxlc"
      },
      "execution_count": null,
      "outputs": []
    },
    {
      "cell_type": "code",
      "source": [
        "m.optimize()"
      ],
      "metadata": {
        "colab": {
          "base_uri": "https://localhost:8080/"
        },
        "id": "wrDobVa0kEt4",
        "outputId": "c6bc9b7d-7c4b-4ff6-9496-b165f9f3de0a"
      },
      "execution_count": null,
      "outputs": [
        {
          "output_type": "stream",
          "name": "stdout",
          "text": [
            "Gurobi Optimizer version 9.5.2 build v9.5.2rc0 (linux64)\n",
            "Thread count: 1 physical cores, 2 logical processors, using up to 2 threads\n",
            "Optimize a model with 2 rows, 3 columns and 5 nonzeros\n",
            "Model fingerprint: 0x98886187\n",
            "Variable types: 0 continuous, 3 integer (3 binary)\n",
            "Coefficient statistics:\n",
            "  Matrix range     [1e+00, 3e+00]\n",
            "  Objective range  [1e+00, 2e+00]\n",
            "  Bounds range     [1e+00, 1e+00]\n",
            "  RHS range        [1e+00, 4e+00]\n",
            "Found heuristic solution: objective 2.0000000\n",
            "Presolve removed 2 rows and 3 columns\n",
            "Presolve time: 0.00s\n",
            "Presolve: All rows and columns removed\n",
            "\n",
            "Explored 0 nodes (0 simplex iterations) in 0.02 seconds (0.00 work units)\n",
            "Thread count was 1 (of 2 available processors)\n",
            "\n",
            "Solution count 2: 3 2 \n",
            "\n",
            "Optimal solution found (tolerance 1.00e-04)\n",
            "Best objective 3.000000000000e+00, best bound 3.000000000000e+00, gap 0.0000%\n"
          ]
        }
      ]
    },
    {
      "cell_type": "code",
      "source": [
        "for v in m.getVars():\n",
        "  print(v.varName, \";\", v.x)"
      ],
      "metadata": {
        "colab": {
          "base_uri": "https://localhost:8080/"
        },
        "id": "V4_0q53wmnuA",
        "outputId": "a5fa1419-f5bd-4e8d-c029-605c4db12e47"
      },
      "execution_count": null,
      "outputs": [
        {
          "output_type": "stream",
          "name": "stdout",
          "text": [
            "x ; 1.0\n",
            "Y ; 0.0\n",
            "z ; 1.0\n"
          ]
        }
      ]
    },
    {
      "cell_type": "code",
      "source": [
        "m.printAttr('x')"
      ],
      "metadata": {
        "colab": {
          "base_uri": "https://localhost:8080/"
        },
        "id": "G_E8OFSmm95q",
        "outputId": "0d942ec4-b045-46c6-cc28-8855a21af7c1"
      },
      "execution_count": null,
      "outputs": [
        {
          "output_type": "stream",
          "name": "stdout",
          "text": [
            "\n",
            "    Variable            x \n",
            "-------------------------\n",
            "           x            1 \n",
            "           z            1 \n"
          ]
        }
      ]
    },
    {
      "cell_type": "code",
      "source": [
        "ListA = [4,6,3,7,8]"
      ],
      "metadata": {
        "id": "U4MXaVXNtIku"
      },
      "execution_count": null,
      "outputs": []
    },
    {
      "cell_type": "code",
      "source": [
        "ListB = range(5)\n",
        "ListB"
      ],
      "metadata": {
        "colab": {
          "base_uri": "https://localhost:8080/"
        },
        "id": "DCJYn2YftMEj",
        "outputId": "7d7030c1-3177-4d01-9fc1-5f694572846a"
      },
      "execution_count": null,
      "outputs": [
        {
          "output_type": "execute_result",
          "data": {
            "text/plain": [
              "range(0, 5)"
            ]
          },
          "metadata": {},
          "execution_count": 16
        }
      ]
    },
    {
      "cell_type": "code",
      "source": [
        "ListC = list(range(2,4))\n",
        "ListC"
      ],
      "metadata": {
        "colab": {
          "base_uri": "https://localhost:8080/"
        },
        "id": "Oa_M3Bp4z1RU",
        "outputId": "3c705d3c-2e47-4823-9b6f-b8668a69031f"
      },
      "execution_count": null,
      "outputs": [
        {
          "output_type": "execute_result",
          "data": {
            "text/plain": [
              "[2, 3]"
            ]
          },
          "metadata": {},
          "execution_count": 17
        }
      ]
    },
    {
      "cell_type": "code",
      "source": [
        "ListD = list(range(5))\n",
        "ListD"
      ],
      "metadata": {
        "colab": {
          "base_uri": "https://localhost:8080/"
        },
        "id": "I3Hg2D-H0Cab",
        "outputId": "e9c0fd0b-d17a-401d-a48d-e8d2e3fe067e"
      },
      "execution_count": null,
      "outputs": [
        {
          "output_type": "execute_result",
          "data": {
            "text/plain": [
              "[0, 1, 2, 3, 4]"
            ]
          },
          "metadata": {},
          "execution_count": 19
        }
      ]
    },
    {
      "cell_type": "code",
      "source": [
        "ListE = list(range(5, 30, 2))\n",
        "ListE"
      ],
      "metadata": {
        "colab": {
          "base_uri": "https://localhost:8080/"
        },
        "id": "6HfJ--3t0k-b",
        "outputId": "b878ab69-47c7-4c38-9151-82e12556b1eb"
      },
      "execution_count": null,
      "outputs": [
        {
          "output_type": "execute_result",
          "data": {
            "text/plain": [
              "[5, 7, 9, 11, 13, 15, 17, 19, 21, 23, 25, 27, 29]"
            ]
          },
          "metadata": {},
          "execution_count": 21
        }
      ]
    },
    {
      "cell_type": "code",
      "source": [
        "jumlah = 0\n",
        "for i in range(5,30,2):\n",
        "  jumlah += i"
      ],
      "metadata": {
        "id": "XHq7tVUi0woZ"
      },
      "execution_count": null,
      "outputs": []
    },
    {
      "cell_type": "code",
      "source": [
        "jumlah"
      ],
      "metadata": {
        "colab": {
          "base_uri": "https://localhost:8080/"
        },
        "id": "ZdrlkfqV080p",
        "outputId": "5ca3d0f9-802c-4ccc-b04f-9c764116f04f"
      },
      "execution_count": null,
      "outputs": [
        {
          "output_type": "execute_result",
          "data": {
            "text/plain": [
              "221"
            ]
          },
          "metadata": {},
          "execution_count": 24
        }
      ]
    },
    {
      "cell_type": "code",
      "source": [
        "Squares = [i**2 for i in range(6)]\n",
        "Pairs = [(i,j) for j in range(2) for i in range(j)]\n",
        "Nonsquares = [i for i in range(10) if i not in Squares]"
      ],
      "metadata": {
        "id": "IjIUfSO-0_ST"
      },
      "execution_count": null,
      "outputs": []
    },
    {
      "cell_type": "code",
      "source": [
        "Pairs = []\n",
        "for j in range(4):\n",
        "  for i in range(j):\n",
        "    Pairs.append((i,j))\n",
        "SumSquares = sum(i**2 for i in range(6))"
      ],
      "metadata": {
        "id": "iqKzAuK91ZNw"
      },
      "execution_count": null,
      "outputs": []
    },
    {
      "cell_type": "code",
      "source": [
        "Pairs"
      ],
      "metadata": {
        "id": "XjpK2HAT2V0g",
        "outputId": "a040aa3f-7c59-439a-ae47-c05557aa796a",
        "colab": {
          "base_uri": "https://localhost:8080/"
        }
      },
      "execution_count": null,
      "outputs": [
        {
          "output_type": "execute_result",
          "data": {
            "text/plain": [
              "[(0, 1), (0, 2), (1, 2), (0, 3), (1, 3), (2, 3)]"
            ]
          },
          "metadata": {},
          "execution_count": 27
        }
      ]
    }
  ]
}