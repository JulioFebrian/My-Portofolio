{
  "nbformat": 4,
  "nbformat_minor": 0,
  "metadata": {
    "colab": {
      "provenance": []
    },
    "kernelspec": {
      "name": "python3",
      "display_name": "Python 3"
    },
    "language_info": {
      "name": "python"
    }
  },
  "cells": [
    {
      "cell_type": "code",
      "source": [
        "pip install pulp"
      ],
      "metadata": {
        "colab": {
          "base_uri": "https://localhost:8080/"
        },
        "id": "ggyWBS9QhF9n",
        "outputId": "e8af1a34-b80d-41a9-c6ee-8cc5ec82fc41"
      },
      "execution_count": null,
      "outputs": [
        {
          "output_type": "stream",
          "name": "stdout",
          "text": [
            "Looking in indexes: https://pypi.org/simple, https://us-python.pkg.dev/colab-wheels/public/simple/\n",
            "Collecting pulp\n",
            "  Downloading PuLP-2.7.0-py3-none-any.whl (14.3 MB)\n",
            "\u001b[2K     \u001b[90m━━━━━━━━━━━━━━━━━━━━━━━━━━━━━━━━━━━━━━━━\u001b[0m \u001b[32m14.3/14.3 MB\u001b[0m \u001b[31m50.2 MB/s\u001b[0m eta \u001b[36m0:00:00\u001b[0m\n",
            "\u001b[?25hInstalling collected packages: pulp\n",
            "Successfully installed pulp-2.7.0\n"
          ]
        }
      ]
    },
    {
      "cell_type": "code",
      "execution_count": null,
      "metadata": {
        "id": "zP1pRHcwgaRN"
      },
      "outputs": [],
      "source": [
        "import pulp\n",
        "from pulp import *"
      ]
    },
    {
      "cell_type": "code",
      "source": [
        "################################\n",
        "# Input parameters\n",
        "###############################\n",
        "\n",
        "nTime = 10  # number of planning horizons\n",
        "timeIndex = range(0,nTime)\n",
        "\n",
        "invInitial = 0  # initial inventory at the beginning\n",
        "demand = [50, 60, 90, 70, 30, 100, 60, 40, 80, 20]\n",
        "\n",
        "cap = 9999  # maximum lot size (capacity)\n",
        "setupCost = 300 # production setup cost\n",
        "holdingCost = 1 # unit holding cost"
      ],
      "metadata": {
        "id": "9vu0CI5YggnC"
      },
      "execution_count": null,
      "outputs": []
    },
    {
      "cell_type": "code",
      "source": [
        "# create model\n",
        "mod = LpProblem(\"Lotsizing\", LpMinimize)"
      ],
      "metadata": {
        "id": "677aypXogg1p"
      },
      "execution_count": null,
      "outputs": []
    },
    {
      "cell_type": "code",
      "source": [
        "################################\n",
        "# decision variable\n",
        "###############################\n",
        "\n",
        "# production quantity in each period\n",
        "Q = LpVariable.dicts(\"Qty\", timeIndex, lowBound = 0)\n",
        "\n",
        "# inventory level at end of each period\n",
        "IL = LpVariable.dicts(\"Inv\", timeIndex, lowBound = 0) # No shortage, so LB=0\n",
        "\n",
        "# binary for producing or not\n",
        "U = LpVariable.dicts(\"UBinary\", timeIndex, cat = LpBinary)"
      ],
      "metadata": {
        "id": "yk3kTOx4go1P"
      },
      "execution_count": null,
      "outputs": []
    },
    {
      "cell_type": "code",
      "source": [
        "################################\n",
        "# objective function\n",
        "###############################\n",
        "mod += lpSum( (setupCost*U[t] + holdingCost*IL[t]) for t in timeIndex), \"TotalCost\""
      ],
      "metadata": {
        "id": "tEr_3yu4gswK"
      },
      "execution_count": null,
      "outputs": []
    },
    {
      "cell_type": "code",
      "source": [
        "\n",
        "################################\n",
        "# constraints\n",
        "###############################\n",
        "\n",
        "# constraint: if there is production, then Ubinary must be 1\n",
        "for t in timeIndex:\n",
        "    mod += Q[t] <= cap*U[t]\n",
        "\n",
        "# inventory balance constraint\n",
        "for t in range(1,nTime):\n",
        "    mod += IL[t] == IL[t-1] + Q[t] - demand[t]\n",
        "\n",
        "# inventory balance constraint for 1st period\n",
        "mod += IL[0] == invInitial + Q[0] - demand[0]"
      ],
      "metadata": {
        "id": "ZzB8DteMgugY"
      },
      "execution_count": null,
      "outputs": []
    },
    {
      "cell_type": "code",
      "source": [
        "mod.solve()"
      ],
      "metadata": {
        "colab": {
          "base_uri": "https://localhost:8080/"
        },
        "id": "-OTIV-DqheXx",
        "outputId": "d6bf8cee-fe83-4ae3-9a4c-96f2384336f8"
      },
      "execution_count": null,
      "outputs": [
        {
          "output_type": "execute_result",
          "data": {
            "text/plain": [
              "1"
            ]
          },
          "metadata": {},
          "execution_count": 10
        }
      ]
    },
    {
      "cell_type": "code",
      "source": [
        "print(\"Status:\", LpStatus[mod.status])\n",
        "print(value(mod.objective))"
      ],
      "metadata": {
        "colab": {
          "base_uri": "https://localhost:8080/"
        },
        "id": "iMKrOtEghimO",
        "outputId": "25da3a59-45a7-40e4-cfbf-b83c6f9ea697"
      },
      "execution_count": null,
      "outputs": [
        {
          "output_type": "stream",
          "name": "stdout",
          "text": [
            "Status: Optimal\n",
            "1550.0\n"
          ]
        }
      ]
    },
    {
      "cell_type": "code",
      "source": [
        "for v in mod.variables():\n",
        "  if(v.varValue > 0):\n",
        "    print(v.name, \"=\", v.varValue)"
      ],
      "metadata": {
        "colab": {
          "base_uri": "https://localhost:8080/"
        },
        "id": "6VT_8yQtiFLh",
        "outputId": "e7a519d1-ad7a-4537-a906-37b8607a852c"
      },
      "execution_count": null,
      "outputs": [
        {
          "output_type": "stream",
          "name": "stdout",
          "text": [
            "Inv_0 = 60.0\n",
            "Inv_2 = 100.0\n",
            "Inv_3 = 30.0\n",
            "Inv_5 = 100.0\n",
            "Inv_6 = 40.0\n",
            "Inv_8 = 20.0\n",
            "Qty_0 = 110.0\n",
            "Qty_2 = 190.0\n",
            "Qty_5 = 200.0\n",
            "Qty_8 = 100.0\n",
            "UBinary_0 = 1.0\n",
            "UBinary_2 = 1.0\n",
            "UBinary_5 = 1.0\n",
            "UBinary_8 = 1.0\n"
          ]
        }
      ]
    },
    {
      "cell_type": "code",
      "source": [
        "for t in timeIndex:\n",
        "  if(Q[t].varValue > 0):\n",
        "    print(\"Period = \", t+1, \", Order Qyt =\", Q[t].varValue)"
      ],
      "metadata": {
        "colab": {
          "base_uri": "https://localhost:8080/"
        },
        "id": "Eq2-LuEDhwgs",
        "outputId": "150df8dc-76ca-44ae-f84e-cfed3c062096"
      },
      "execution_count": null,
      "outputs": [
        {
          "output_type": "stream",
          "name": "stdout",
          "text": [
            "Period =  1 , Order Qyt = 110.0\n",
            "Period =  3 , Order Qyt = 190.0\n",
            "Period =  6 , Order Qyt = 200.0\n",
            "Period =  9 , Order Qyt = 100.0\n"
          ]
        }
      ]
    },
    {
      "cell_type": "code",
      "source": [
        "############################################################\n",
        "# Input parameters\n",
        "############################################################\n",
        "\n",
        "nProd = 2   # number of products\n",
        "prodIndex = range(0, nProd)  # index set of products\n",
        "nTime = 10  # number of planning horizons\n",
        "timeIndex = range(0, nTime)  # index set of time periods\n",
        "\n",
        "# demands of the products\n",
        "demand = [[50, 60, 90, 70, 30, 100, 60, 40, 80, 20],\n",
        "          [134, 155, 194, 176, 130, 1100, 158, 140, 193, 100]]\n",
        "\n",
        "# initial inventories of the products\n",
        "invInitial = [0, 0]\n",
        "\n",
        "prodCap = 9999  # maximum lot size of each product\n",
        "budgetCap = 30000 # budget constraint in each time period\n",
        "\n",
        "setupCost = [300, 200] # production setup cost\n",
        "holdingCost = [1.0, 1.5] # unit holding cost\n",
        "prodCost = [50, 20] # unit production cost\n",
        "\n",
        "\n",
        "############################################################\n",
        "# Optimization models\n",
        "############################################################\n",
        "\n",
        "mod2 = LpProblem(\"LotsizingMultiprod\", LpMinimize)\n",
        "\n",
        "\n",
        "# decision variables\n",
        "Q = LpVariable.dicts(\"Qty\", ((i,t) for i in  prodIndex for t in timeIndex ), lowBound=0)\n",
        "IL = LpVariable.dicts(\"Inv\", ((i,t) for i in  prodIndex for t in timeIndex ), lowBound=0)\n",
        "U = LpVariable.dicts(\"UBinary\",  ((i,t) for i in  prodIndex for t in timeIndex ),  cat = LpBinary)\n",
        "\n",
        "\n",
        "# objective function\n",
        "mod2 += lpSum((setupCost[i]*U[i,t] + holdingCost[i]*IL[i,t]) for i in prodIndex for t in timeIndex )\n",
        "\n",
        "\n",
        "# constraint for defining binary variable\n",
        "for i in prodIndex:\n",
        "    for t in timeIndex:\n",
        "        mod2 += Q[i,t] <= prodCap*U[i,t]\n",
        "\n",
        "# inventory balance constraint\n",
        "for i in prodIndex:\n",
        "    for t in range(2,nTime):\n",
        "        mod2 += IL[i,t] == IL[i,t-1] + Q[i,t] - demand[i][t]\n",
        "\n",
        "# inventory balance constraint for 1st period\n",
        "for i in prodIndex:\n",
        "    mod2 += IL[i,0] == invInitial[i] + Q[i,0] - demand[i][0]\n",
        "\n",
        "\n",
        "# budget constraint\n",
        "for t in timeIndex:\n",
        "    mod2 += lpSum(prodCost[i]*Q[i,t] for i in prodIndex) <= budgetCap"
      ],
      "metadata": {
        "id": "wX6oAA153GPX"
      },
      "execution_count": null,
      "outputs": []
    },
    {
      "cell_type": "code",
      "source": [
        "mod2.solve()"
      ],
      "metadata": {
        "colab": {
          "base_uri": "https://localhost:8080/"
        },
        "id": "1Qn62btY3MTK",
        "outputId": "8cade689-401a-4218-bf04-ba1c92fa68dc"
      },
      "execution_count": null,
      "outputs": [
        {
          "output_type": "execute_result",
          "data": {
            "text/plain": [
              "1"
            ]
          },
          "metadata": {},
          "execution_count": 6
        }
      ]
    },
    {
      "cell_type": "code",
      "source": [
        "print(\"Status:\", LpStatus[mod2.status])\n",
        "print(value(mod2.objective))"
      ],
      "metadata": {
        "colab": {
          "base_uri": "https://localhost:8080/"
        },
        "id": "avucuawh3RPp",
        "outputId": "9602e372-867f-4920-d867-d76028271a45"
      },
      "execution_count": null,
      "outputs": [
        {
          "output_type": "stream",
          "name": "stdout",
          "text": [
            "Status: Optimal\n",
            "3145.0\n"
          ]
        }
      ]
    },
    {
      "cell_type": "code",
      "source": [
        "for v in mod2.variables():\n",
        "  if(v.varValue > 0):\n",
        "    print(v.name, \"=\", v.varValue)"
      ],
      "metadata": {
        "colab": {
          "base_uri": "https://localhost:8080/"
        },
        "id": "F9J4vPFR3g2C",
        "outputId": "4d7b82c2-9601-46b8-902d-7f764814fa93"
      },
      "execution_count": null,
      "outputs": [
        {
          "output_type": "stream",
          "name": "stdout",
          "text": [
            "Inv_(0,_1) = 190.0\n",
            "Inv_(0,_2) = 100.0\n",
            "Inv_(0,_3) = 30.0\n",
            "Inv_(0,_5) = 60.0\n",
            "Inv_(0,_7) = 100.0\n",
            "Inv_(0,_8) = 20.0\n",
            "Inv_(1,_3) = 130.0\n",
            "Inv_(1,_8) = 100.0\n",
            "Qty_(0,_0) = 50.0\n",
            "Qty_(0,_5) = 160.0\n",
            "Qty_(0,_7) = 140.0\n",
            "Qty_(1,_0) = 134.0\n",
            "Qty_(1,_2) = 194.0\n",
            "Qty_(1,_3) = 306.0\n",
            "Qty_(1,_5) = 1100.0\n",
            "Qty_(1,_6) = 158.0\n",
            "Qty_(1,_7) = 140.0\n",
            "Qty_(1,_8) = 293.0\n",
            "UBinary_(0,_0) = 1.0\n",
            "UBinary_(0,_5) = 1.0\n",
            "UBinary_(0,_7) = 1.0\n",
            "UBinary_(1,_0) = 1.0\n",
            "UBinary_(1,_2) = 1.0\n",
            "UBinary_(1,_3) = 1.0\n",
            "UBinary_(1,_5) = 1.0\n",
            "UBinary_(1,_6) = 1.0\n",
            "UBinary_(1,_7) = 1.0\n",
            "UBinary_(1,_8) = 1.0\n"
          ]
        }
      ]
    },
    {
      "cell_type": "code",
      "source": [
        "for t in timeIndex:\n",
        "  if(Q[i,t].varValue > 0):\n",
        "    print(\"Period = \", t+1, \", Order Qyt =\", Q[i,t].varValue)"
      ],
      "metadata": {
        "colab": {
          "base_uri": "https://localhost:8080/"
        },
        "id": "Shy3irh03j-X",
        "outputId": "8ed5a65c-5c76-4df3-8a79-d6f78dc87ac3"
      },
      "execution_count": null,
      "outputs": [
        {
          "output_type": "stream",
          "name": "stdout",
          "text": [
            "Period =  1 , Order Qyt = 134.0\n",
            "Period =  3 , Order Qyt = 194.0\n",
            "Period =  4 , Order Qyt = 306.0\n",
            "Period =  6 , Order Qyt = 1100.0\n",
            "Period =  7 , Order Qyt = 158.0\n",
            "Period =  8 , Order Qyt = 140.0\n",
            "Period =  9 , Order Qyt = 293.0\n"
          ]
        }
      ]
    }
  ]
}