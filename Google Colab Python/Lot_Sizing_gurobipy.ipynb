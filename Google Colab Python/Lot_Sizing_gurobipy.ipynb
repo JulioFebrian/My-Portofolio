{
  "nbformat": 4,
  "nbformat_minor": 0,
  "metadata": {
    "colab": {
      "provenance": []
    },
    "kernelspec": {
      "name": "python3",
      "display_name": "Python 3"
    },
    "language_info": {
      "name": "python"
    }
  },
  "cells": [
    {
      "cell_type": "code",
      "source": [
        "%pip install gurobipy"
      ],
      "metadata": {
        "colab": {
          "base_uri": "https://localhost:8080/"
        },
        "id": "8Ao6xL3N8Uc9",
        "outputId": "372b2500-fff6-40c8-9e51-0cdc27b87692"
      },
      "execution_count": null,
      "outputs": [
        {
          "output_type": "stream",
          "name": "stdout",
          "text": [
            "Looking in indexes: https://pypi.org/simple, https://us-python.pkg.dev/colab-wheels/public/simple/\n",
            "Collecting gurobipy\n",
            "  Downloading gurobipy-10.0.1-cp39-cp39-manylinux2014_x86_64.whl (12.8 MB)\n",
            "\u001b[2K     \u001b[90m━━━━━━━━━━━━━━━━━━━━━━━━━━━━━━━━━━━━━━━━\u001b[0m \u001b[32m12.8/12.8 MB\u001b[0m \u001b[31m46.5 MB/s\u001b[0m eta \u001b[36m0:00:00\u001b[0m\n",
            "\u001b[?25hInstalling collected packages: gurobipy\n",
            "Successfully installed gurobipy-10.0.1\n"
          ]
        }
      ]
    },
    {
      "cell_type": "code",
      "execution_count": null,
      "metadata": {
        "id": "6SyWLPwdyndS"
      },
      "outputs": [],
      "source": [
        "import gurobipy as gp\n",
        "from gurobipy import GRB"
      ]
    },
    {
      "cell_type": "code",
      "source": [
        "m = gp.Model(\"ls\")\n",
        "\n",
        "capacitated = False"
      ],
      "metadata": {
        "colab": {
          "base_uri": "https://localhost:8080/"
        },
        "id": "slABLTcd7uy2",
        "outputId": "bd36b708-42e9-4852-98c9-c9e710f7cdf1"
      },
      "execution_count": null,
      "outputs": [
        {
          "output_type": "stream",
          "name": "stdout",
          "text": [
            "Restricted license - for non-production use only - expires 2024-10-28\n"
          ]
        }
      ]
    },
    {
      "cell_type": "code",
      "source": [
        "# Time (e.g. months)\n",
        "n = 8\n",
        "t = range(0, n)\n",
        "\n",
        "# Costs for production of one product for each month\n",
        "p = [100 for i in t]\n",
        "\n",
        "# Costs for storing a product for each month\n",
        "h = [5 for i in t]\n",
        "\n",
        "# Costs for armoring the machines for each month (has to be done at most once for each month)\n",
        "q = [5000 for i in t]\n",
        "\n",
        "# Demand for products for each month\n",
        "d = [400, 400, 800, 800, 1200, 1200, 1200, 1200]\n",
        "\n",
        "# Production Amount for each month\n",
        "x = m.addVars(n, name=\"x\", vtype=GRB.INTEGER)\n",
        "\n",
        "# Storage Amount for each month\n",
        "s = m.addVars(n + 1, name=\"s\", vtype=GRB.INTEGER)\n",
        "\n",
        "# Production Preparation necessary for each month (0 or 1)\n",
        "y = m.addVars(n, name=\"y\", vtype=GRB.BINARY)\n",
        "\n",
        "# Production Capacity for each month (in this case unbounded -> LS-U)\n",
        "if capacitated:\n",
        "\tM = [7000, 0, 0, 0, 0, 0, 0, 0]\n",
        "else:\n",
        "\tM = m.addVars(n, name=\"M\", vtype=GRB.INTEGER)"
      ],
      "metadata": {
        "id": "v4zXkbuA7wk_"
      },
      "execution_count": null,
      "outputs": []
    },
    {
      "cell_type": "code",
      "source": [
        "m.setObjective(gp.quicksum(p[i] * x[i] + q[i] * y[i] + h[i] * s[i+1] for i in t), GRB.MINIMIZE)"
      ],
      "metadata": {
        "id": "tGreWY3a75Wk"
      },
      "execution_count": null,
      "outputs": []
    },
    {
      "cell_type": "code",
      "source": [
        "# Stored products from the previous month plus the number of products produced in the current\n",
        "# month must fulfill the demand while the rest of the products must be stored for the next month\n",
        "m.addConstrs((s[i-1] + x[i-1] == d[i-1] + s[i] for i in range(1, n+1)), \"c1\")\n",
        "m.addConstr((s[0] + x[0] == d[0] + s[1]), \"c2\")\n",
        "\n",
        "# The number of products stored in the first month must be equal to 200 (Initial stock)\n",
        "m.addConstr(s[0] == 200, \"c3\")\n",
        "\n",
        "# The number of products stored in the last month must be equal to 0 (Final stock)\n",
        "m.addConstr(s[n] == 0, \"c4\")\n",
        "\n",
        "# If products are being produced in the current month the machines must be prepared\n",
        "m.addConstrs((x[i] <= M[i]*y[i] for i in t), \"c5\")\n",
        "\n",
        "# There cant be a negative number of products stored in the warehouse or produced\n",
        "m.addConstrs((x[i] >= 0 for i in t), \"c6\")\n",
        "m.addConstrs((s[i] >= 0 for i in t), \"c7\")\n",
        "m.addConstrs((M[i] >= 0 for i in t), \"c8\");"
      ],
      "metadata": {
        "id": "qbUMQ12J8DuP"
      },
      "execution_count": null,
      "outputs": []
    },
    {
      "cell_type": "code",
      "source": [
        "m.optimize()"
      ],
      "metadata": {
        "colab": {
          "base_uri": "https://localhost:8080/"
        },
        "id": "h83eeOCQ8GD7",
        "outputId": "b201ab15-ccf3-4e3c-ee54-c72f2021fb0e"
      },
      "execution_count": null,
      "outputs": [
        {
          "output_type": "stream",
          "name": "stdout",
          "text": [
            "Gurobi Optimizer version 10.0.1 build v10.0.1rc0 (linux64)\n",
            "\n",
            "CPU model: Intel(R) Xeon(R) CPU @ 2.20GHz, instruction set [SSE2|AVX|AVX2]\n",
            "Thread count: 1 physical cores, 2 logical processors, using up to 2 threads\n",
            "\n",
            "Optimize a model with 35 rows, 33 columns and 53 nonzeros\n",
            "Model fingerprint: 0xa7ef1cf7\n",
            "Model has 8 quadratic constraints\n",
            "Variable types: 0 continuous, 33 integer (8 binary)\n",
            "Coefficient statistics:\n",
            "  Matrix range     [1e+00, 1e+00]\n",
            "  QMatrix range    [1e+00, 1e+00]\n",
            "  QLMatrix range   [1e+00, 1e+00]\n",
            "  Objective range  [5e+00, 5e+03]\n",
            "  Bounds range     [1e+00, 1e+00]\n",
            "  RHS range        [2e+02, 1e+03]\n",
            "Presolve removed 29 rows and 4 columns\n",
            "Presolve time: 0.00s\n",
            "Presolved: 30 rows, 53 columns, 74 nonzeros\n",
            "Presolved model has 16 SOS constraint(s)\n",
            "Variable types: 0 continuous, 53 integer (16 binary)\n",
            "Found heuristic solution: objective 859000.00000\n",
            "Found heuristic solution: objective 830000.00000\n",
            "Found heuristic solution: objective 822000.00000\n",
            "\n",
            "Root relaxation: objective 7.170501e+05, 13 iterations, 0.00 seconds (0.00 work units)\n",
            "\n",
            "    Nodes    |    Current Node    |     Objective Bounds      |     Work\n",
            " Expl Unexpl |  Obj  Depth IntInf | Incumbent    BestBd   Gap | It/Node Time\n",
            "\n",
            "     0     0 717050.070    0    6 822000.000 717050.070  12.8%     -    0s\n",
            "H    0     0                    737000.00000 717050.070  2.71%     -    0s\n",
            "     0     0 735497.549    0    5 737000.000 735497.549  0.20%     -    0s\n",
            "*    0     0               0    736000.00000 736000.000  0.00%     -    0s\n",
            "\n",
            "Cutting planes:\n",
            "  Implied bound: 7\n",
            "  Flow cover: 1\n",
            "\n",
            "Explored 1 nodes (21 simplex iterations) in 0.06 seconds (0.00 work units)\n",
            "Thread count was 2 (of 2 available processors)\n",
            "\n",
            "Solution count 5: 736000 737000 822000 ... 859000\n",
            "\n",
            "Optimal solution found (tolerance 1.00e-04)\n",
            "Best objective 7.360000000000e+05, best bound 7.360000000000e+05, gap 0.0000%\n"
          ]
        }
      ]
    },
    {
      "cell_type": "code",
      "source": [
        "for v in m.getVars():\n",
        "\n",
        "\tif v.varName.startswith(\"x\"):\n",
        "\t\tprint(\"Produce {} products in month {}\".format(v.x, v.varName[1:]))\n",
        "\n",
        "print(\"--------------------------------\")\n",
        "print(\"Total cost: {}\".format(m.objVal))"
      ],
      "metadata": {
        "colab": {
          "base_uri": "https://localhost:8080/"
        },
        "id": "qQf4rsQ-8Nb6",
        "outputId": "bedd2cd0-6890-45b0-da82-07e79c816096"
      },
      "execution_count": null,
      "outputs": [
        {
          "output_type": "stream",
          "name": "stdout",
          "text": [
            "Produce 600.0 products in month [0]\n",
            "Produce 0.0 products in month [1]\n",
            "Produce 1600.0 products in month [2]\n",
            "Produce 0.0 products in month [3]\n",
            "Produce 1200.0 products in month [4]\n",
            "Produce 1200.0 products in month [5]\n",
            "Produce 1200.0 products in month [6]\n",
            "Produce 1200.0 products in month [7]\n",
            "--------------------------------\n",
            "Total cost: 736000.0\n"
          ]
        }
      ]
    }
  ]
}