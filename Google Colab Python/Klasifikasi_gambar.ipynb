{
  "nbformat": 4,
  "nbformat_minor": 0,
  "metadata": {
    "colab": {
      "provenance": []
    },
    "kernelspec": {
      "name": "python3",
      "display_name": "Python 3"
    },
    "language_info": {
      "name": "python"
    }
  },
  "cells": [
    {
      "cell_type": "code",
      "execution_count": null,
      "metadata": {
        "id": "3afN4je6RZPn",
        "colab": {
          "base_uri": "https://localhost:8080/",
          "height": 130
        },
        "outputId": "6462d29b-a71e-4692-f456-ebbca55cc9da"
      },
      "outputs": [
        {
          "output_type": "error",
          "ename": "SyntaxError",
          "evalue": "ignored",
          "traceback": [
            "\u001b[0;36m  File \u001b[0;32m\"<ipython-input-8-dbc1d565733a>\"\u001b[0;36m, line \u001b[0;32m23\u001b[0m\n\u001b[0;31m    print(os.listdir('C:\\Users\\Yulius\\OneDrive\\Desktop\\computer-vision'))\u001b[0m\n\u001b[0m                    ^\u001b[0m\n\u001b[0;31mSyntaxError\u001b[0m\u001b[0;31m:\u001b[0m (unicode error) 'unicodeescape' codec can't decode bytes in position 2-3: truncated \\UXXXXXXXX escape\n"
          ]
        }
      ],
      "source": [
        "import numpy as np # linear algebra\n",
        "import pandas as pd # data processing, CSV file I/O (e.g. pd.read_csv)\n",
        "import os\n",
        "# Image processing\n",
        "import matplotlib.pyplot as plt\n",
        "import seaborn as sns\n",
        "import imageio\n",
        "import skimage\n",
        "import skimage.io\n",
        "import skimage.transform\n",
        "from imageio import imread\n",
        "\n",
        "from keras.preprocessing.image import ImageDataGenerator, array_to_img, img_to_array, load_img\n",
        "from keras.models import Sequential\n",
        "from keras.layers.convolutional import Conv2D\n",
        "from keras.layers.convolutional import MaxPooling2D\n",
        "from keras.layers.core import Activation\n",
        "from keras.layers.core import Flatten\n",
        "from keras.layers.core import Dropout\n",
        "from keras.layers.core import Dense\n",
        "from keras.callbacks import ModelCheckpoint, Callback, EarlyStopping, ReduceLROnPlateau\n",
        "\n",
        "print(os.listdir('C:\\Users\\Yulius\\OneDrive\\Desktop\\computer-vision'))"
      ]
    },
    {
      "cell_type": "code",
      "source": [
        "f, ax = plt.subplots(nrows=1,ncols=12, figsize=(20, 10))\n",
        "i=0\n",
        "for d in directory:\n",
        "    file='/content/NPK_asli.png'+d+'/1.png'\n",
        "    im=imageio.imread(file)\n",
        "    #print(im,imread(img_file).shape)\n",
        "    #f, ax = plt.subplots(figsize=(12,5))\n",
        "    ax[i].imshow(im,resample=True)\n",
        "    ax[i].set_title(d, fontsize=8)\n",
        "    i+=1"
      ],
      "metadata": {
        "id": "05Nnh9WhRy8_"
      },
      "execution_count": null,
      "outputs": []
    },
    {
      "cell_type": "code",
      "source": [
        "train_datagen = ImageDataGenerator(\n",
        "        rescale=1./255,\n",
        "        shear_range=0.2,\n",
        "        zoom_range=0.2,\n",
        "        horizontal_flip=True,\n",
        "        validation_split=0.2)\n",
        "\n",
        "train_generator = train_datagen.flow_from_directory(\n",
        "        '../input/nonsegmentedv2/',\n",
        "        target_size=(64,64),\n",
        "        batch_size=32,\n",
        "        class_mode='categorical',\n",
        "        subset='training')\n",
        "\n",
        "validation_generator = train_datagen.flow_from_directory(\n",
        "        '../input/nonsegmentedv2/',\n",
        "        target_size=(64, 64),\n",
        "        batch_size=32,\n",
        "        class_mode='categorical',\n",
        "        subset='validation')\n",
        "\n",
        "input_shape=(64,64,3)\n",
        "num_classes=12"
      ],
      "metadata": {
        "id": "ZICfc6zoRzWo"
      },
      "execution_count": null,
      "outputs": []
    },
    {
      "cell_type": "code",
      "source": [
        "model = Sequential()\n",
        "model.add(Conv2D(32,(3, 3),\n",
        "                 activation='relu',\n",
        "                 input_shape=input_shape))\n",
        "#model.add(MaxPooling2D(pool_size=(3, 3)))\n",
        "model.add(BatchNormalization())\n",
        "model.add(Dropout(0.25))\n",
        "\n",
        "model.add(Conv2D(32, (3, 3), activation='relu'))\n",
        "model.add(BatchNormalization())\n",
        "model.add(MaxPooling2D(pool_size=(3, 3)))\n",
        "model.add(Dropout(0.25))\n",
        "\n",
        "model.add(Flatten())\n",
        "\n",
        "model.add(Dense(128, activation='relu'))\n",
        "model.add(BatchNormalization())\n",
        "model.add(Dropout(0.25))\n",
        "model.add(Dense(num_classes, activation='softmax'))\n",
        "\n",
        "model.compile(loss='categorical_crossentropy',\n",
        "              optimizer='adam',\n",
        "              metrics=['accuracy'])"
      ],
      "metadata": {
        "id": "pdbybeAPR5N6"
      },
      "execution_count": null,
      "outputs": []
    },
    {
      "cell_type": "code",
      "source": [
        "# We'll stop training if no improvement after some epochs\n",
        "earlystopper1 = EarlyStopping(monitor='loss', patience=10, verbose=1)\n",
        "\n",
        "# Save the best model during the traning\n",
        "checkpointer1 = ModelCheckpoint('best_model1.h1'\n",
        "                                ,monitor='val_acc'\n",
        "                                ,verbose=1\n",
        "                                ,save_best_only=True\n",
        "                                ,save_weights_only=True)"
      ],
      "metadata": {
        "id": "SzolonSlR-A9"
      },
      "execution_count": null,
      "outputs": []
    },
    {
      "cell_type": "code",
      "source": [
        "training=model.fit_generator(\n",
        "        train_generator,\n",
        "        steps_per_epoch=100,\n",
        "        epochs=20,\n",
        "        validation_data = validation_generator,\n",
        "        validation_steps = 30,\n",
        "        callbacks=[earlystopper1, checkpointer1]\n",
        "       )"
      ],
      "metadata": {
        "id": "xw2jej99R_7p"
      },
      "execution_count": null,
      "outputs": []
    },
    {
      "cell_type": "code",
      "source": [
        "plt.rcParams['figure.figsize'] = (8, 8)\n",
        "\n",
        "plt.plot(training.history['loss'], label=\"Loss\")\n",
        "plt.plot(training.history['val_loss'], label=\"Validation loss\")\n",
        "plt.title('%s: loss')\n",
        "plt.xlabel('Epoch')\n",
        "plt.ylabel('Loss')\n",
        "plt.legend()"
      ],
      "metadata": {
        "id": "cuEi8iV4SCF8"
      },
      "execution_count": null,
      "outputs": []
    }
  ]
}