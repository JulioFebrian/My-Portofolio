{
  "nbformat": 4,
  "nbformat_minor": 0,
  "metadata": {
    "colab": {
      "provenance": []
    },
    "kernelspec": {
      "name": "python3",
      "display_name": "Python 3"
    },
    "language_info": {
      "name": "python"
    }
  },
  "cells": [
    {
      "cell_type": "code",
      "execution_count": null,
      "metadata": {
        "id": "v1T21-JS02qw"
      },
      "outputs": [],
      "source": [
        "# ========================================================================================\n",
        "# PROBLEM B3\n",
        "#\n",
        "# Build a CNN based classifier for Rock-Paper-Scissors dataset.\n",
        "# Your input layer should accept 150x150 with 3 bytes color as the input shape.\n",
        "# This is unlabeled data, use ImageDataGenerator to automatically label it.\n",
        "# Don't use lambda layers in your model.\n",
        "#\n",
        "# The dataset used in this problem is created by Laurence Moroney (laurencemoroney.com).\n",
        "#\n",
        "# Desired accuracy AND validation_accuracy > 83%\n",
        "# ========================================================================================"
      ]
    },
    {
      "cell_type": "code",
      "source": [
        "import urllib.request\n",
        "import zipfile\n",
        "import tensorflow as tf\n",
        "import os\n",
        "from keras_preprocessing.image import ImageDataGenerator"
      ],
      "metadata": {
        "id": "DHVjWf1c07xp"
      },
      "execution_count": null,
      "outputs": []
    },
    {
      "cell_type": "code",
      "source": [
        "def solution_B3():\n",
        "    data_url = 'https://github.com/dicodingacademy/assets/releases/download/release-rps/rps.zip'\n",
        "    urllib.request.urlretrieve(data_url, 'rps.zip')\n",
        "    local_file = 'rps.zip'\n",
        "    zip_ref = zipfile.ZipFile(local_file, 'r')\n",
        "    zip_ref.extractall('data/')\n",
        "    zip_ref.close()\n",
        "\n",
        "    TRAINING_DIR = \"data/rps/\"\n",
        "    training_datagen = ImageDataGenerator(rescale = 1/255,\n",
        "                                          horizontal_flip = True,\n",
        "                                          zoom_range = 0.2,\n",
        "                                          shear_range = 0.2,\n",
        "                                          validation_split = 0.2)\n",
        "        # YOUR CODE HERE)\n",
        "\n",
        "    # YOUR IMAGE SIZE SHOULD BE 150x150\n",
        "    # Make sure you used \"categorical\"\n",
        "    training_generator=training_datagen.flow_from_directory(directory=TRAINING_DIR,\n",
        "                                                         subset=\"training\",\n",
        "                                                         target_size=(150,150),\n",
        "                                                         class_mode=\"categorical\")\n",
        "    # YOUR CODE HERE\n",
        "    validation_generator=training_datagen.flow_from_directory(directory=TRAINING_DIR,\n",
        "                                                         subset=\"validation\",\n",
        "                                                         target_size=(150,150),\n",
        "                                                         class_mode=\"categorical\")\n",
        "\n",
        "    model=tf.keras.models.Sequential([\n",
        "        tf.keras.layers.Conv2D(16, (3,3), activation='relu', input_shape=(150, 150, 3)),\n",
        "        tf.keras.layers.MaxPooling2D(2, 2),\n",
        "        tf.keras.layers.Conv2D(32, (3,3), activation='relu'),\n",
        "        tf.keras.layers.MaxPooling2D(2,2),\n",
        "        tf.keras.layers.Conv2D(64, (3,3), activation='relu'),\n",
        "        tf.keras.layers.MaxPooling2D(2,2),\n",
        "        tf.keras.layers.Conv2D(128, (3,3), activation='relu'),\n",
        "        tf.keras.layers.MaxPooling2D(2,2),\n",
        "        tf.keras.layers.Conv2D(256, (3,3), activation='relu'),\n",
        "        tf.keras.layers.MaxPooling2D(2,2),\n",
        "        tf.keras.layers.Flatten(),\n",
        "        tf.keras.layers.Dropout(0.2),\n",
        "        tf.keras.layers.Dense(512, activation='relu'),\n",
        "    # YOUR CODE HERE, end with 3 Neuron Dense, activated by softmax\n",
        "        tf.keras.layers.Dense(3, activation='softmax')\n",
        "    ])\n",
        "    class myCallback(tf.keras.callbacks.Callback):\n",
        "      def on_epoch_end(self, epoch, logs={}):\n",
        "        print(logs.get('accuracy'))\n",
        "        if((logs.get('accuracy') > 0.83) and (logs.get('val_accuracy')>0.83)):\n",
        "          self.model.stop_training = True\n",
        "\n",
        "    callbacks = myCallback()\n",
        "    model.compile(loss='categorical_crossentropy', optimizer='adam', metrics=['accuracy'])\n",
        "    model.fit(\n",
        "        training_generator,\n",
        "        batch_size=128,\n",
        "        epochs=20,\n",
        "        verbose=1,\n",
        "        validation_data=validation_generator,\n",
        "        callbacks=[callbacks])\n",
        "\n",
        "    return model"
      ],
      "metadata": {
        "id": "eMLY7Sjs09sa"
      },
      "execution_count": null,
      "outputs": []
    },
    {
      "cell_type": "code",
      "source": [
        "# The code below is to save your model as a .h5 file.\n",
        "# It will be saved automatically in your Submission folder.\n",
        "if __name__ == '__main__':\n",
        "    # DO NOT CHANGE THIS CODE\n",
        "    model=solution_B3()\n",
        "    model.save(\"model_B3.h5\")"
      ],
      "metadata": {
        "id": "Maskzq7W1A6g",
        "colab": {
          "base_uri": "https://localhost:8080/"
        },
        "outputId": "47e7d6b2-70e4-4274-e102-470eab0122ad"
      },
      "execution_count": null,
      "outputs": [
        {
          "output_type": "stream",
          "name": "stdout",
          "text": [
            "Found 2016 images belonging to 3 classes.\n",
            "Found 504 images belonging to 3 classes.\n",
            "Epoch 1/20\n",
            "63/63 [==============================] - ETA: 0s - loss: 0.5979 - accuracy: 0.72870.7286706566810608\n",
            "63/63 [==============================] - 67s 1s/step - loss: 0.5979 - accuracy: 0.7287 - val_loss: 0.4344 - val_accuracy: 0.8234\n",
            "Epoch 2/20\n",
            "63/63 [==============================] - ETA: 0s - loss: 0.1147 - accuracy: 0.96630.966269850730896\n",
            "63/63 [==============================] - 66s 1s/step - loss: 0.1147 - accuracy: 0.9663 - val_loss: 0.5255 - val_accuracy: 0.7798\n",
            "Epoch 3/20\n",
            "63/63 [==============================] - ETA: 0s - loss: 0.0317 - accuracy: 0.98910.9890872836112976\n",
            "63/63 [==============================] - 66s 1s/step - loss: 0.0317 - accuracy: 0.9891 - val_loss: 0.2782 - val_accuracy: 0.9048\n"
          ]
        }
      ]
    }
  ]
}