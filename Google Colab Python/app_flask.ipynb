{
  "nbformat": 4,
  "nbformat_minor": 0,
  "metadata": {
    "colab": {
      "provenance": []
    },
    "kernelspec": {
      "name": "python3",
      "display_name": "Python 3"
    },
    "language_info": {
      "name": "python"
    }
  },
  "cells": [
    {
      "cell_type": "code",
      "execution_count": null,
      "metadata": {
        "id": "9KPBTwjZWa17"
      },
      "outputs": [],
      "source": [
        "from flask import Flask, render_template, request, Markup\n",
        "import numpy as np\n",
        "import pandas as pd\n",
        "from utils.disease import disease_dic\n",
        "from utils.fertilizer import fertilizer_dic\n",
        "import requests\n",
        "import config\n",
        "import pickle\n",
        "import io\n",
        "import torch\n",
        "from torchvision import transforms\n",
        "from PIL import Image\n",
        "from utils.model import ResNet9"
      ]
    },
    {
      "cell_type": "code",
      "source": [
        "rekomendasi_tanaman_model_path = '/RandomForestClassifier.pkl'\n",
        "rekomendasi_tanaman_model = pickle.load(\n",
        "    open(rekomendasi_tanaman_model_path, 'rb'))"
      ],
      "metadata": {
        "id": "yYo2NUzcW5N-"
      },
      "execution_count": null,
      "outputs": []
    },
    {
      "cell_type": "code",
      "source": [
        "# ------------------------------------ FLASK APP -------------------------------------------------\n",
        "\n",
        "\n",
        "app = Flask(__name__)\n",
        "\n",
        "# render home page\n",
        "\n",
        "\n",
        "@ app.route('/')\n",
        "def home():\n",
        "    title = 'BangTanI - Home'\n",
        "    return render_template('.html', title=title)\n",
        "\n",
        "# render crop recommendation form page\n",
        "\n",
        "@ app.route('/rekomendasi-tanaman')\n",
        "def rekomendasi_tanaman():\n",
        "    title = 'BangTanI - Rekomendasi Tanaman'\n",
        "    return render_template('.html', title=title)\n",
        "\n"
      ],
      "metadata": {
        "id": "UECxKhK1Xm4Y"
      },
      "execution_count": null,
      "outputs": []
    },
    {
      "cell_type": "code",
      "source": [
        "# render crop recommendation result page\n",
        "\n",
        "\n",
        "@ app.route('/prediksi-tanaman', methods=['POST'])\n",
        "def prediksi_tanaman():\n",
        "    title = 'BangTanI - Rekomendasi Tanaman'\n",
        "\n",
        "    if request.method == 'POST':\n",
        "        N = int(request.form['nitrogen'])\n",
        "        P = int(request.form['phosphorous'])\n",
        "        K = int(request.form['pottasium'])\n",
        "        ph = float(request.form['ph'])\n",
        "        curah hujan = float(request.form['curah hujan'])\n",
        "\n",
        "        # state = request.form.get(\"stt\")\n",
        "        city = request.form.get(\"city\")\n",
        "\n",
        "        if weather_fetch(city) != None:\n",
        "            temperature, humidity = weather_fetch(city)\n",
        "            data = np.array([[N, P, K, temperature, humidity, ph, rainfall]])\n",
        "            my_prediction = crop_recommendation_model.predict(data)\n",
        "            final_prediction = my_prediction[0]\n",
        "\n",
        "            return render_template('.html', prediction=final_prediction, title=title)\n",
        "\n",
        "        else:\n",
        "\n",
        "            return render_template('.html', title=title)\n"
      ],
      "metadata": {
        "id": "jyK9jxTJXuur"
      },
      "execution_count": null,
      "outputs": []
    },
    {
      "cell_type": "code",
      "source": [],
      "metadata": {
        "id": "xr_hLxpoXrrA"
      },
      "execution_count": null,
      "outputs": []
    }
  ]
}