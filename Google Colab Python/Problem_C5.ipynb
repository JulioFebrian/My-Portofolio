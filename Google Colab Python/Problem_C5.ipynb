{
  "nbformat": 4,
  "nbformat_minor": 0,
  "metadata": {
    "colab": {
      "provenance": []
    },
    "kernelspec": {
      "name": "python3",
      "display_name": "Python 3"
    },
    "language_info": {
      "name": "python"
    }
  },
  "cells": [
    {
      "cell_type": "code",
      "execution_count": null,
      "metadata": {
        "id": "AmTeVfZIltnR"
      },
      "outputs": [],
      "source": [
        "# ============================================================================================\n",
        "# PROBLEM C5\n",
        "#\n",
        "# Build and train a neural network model using the Daily Min Temperature.csv dataset.\n",
        "# Use MAE as the metrics of your neural network model.\n",
        "# We provided code for normalizing the data. Please do not change the code.\n",
        "# Do not use lambda layers in your model.\n",
        "#\n",
        "# The dataset used in this problem is downloaded from https://github.com/jbrownlee/Datasets\n",
        "#\n",
        "# Desired MAE < 0.19 on the normalized dataset.\n",
        "# ============================================================================================"
      ]
    },
    {
      "cell_type": "code",
      "source": [
        "import tensorflow as tf\n",
        "import numpy as np\n",
        "import matplotlib.pyplot as plt\n",
        "import csv\n",
        "import urllib"
      ],
      "metadata": {
        "id": "I7P0bHC2lxPl"
      },
      "execution_count": null,
      "outputs": []
    },
    {
      "cell_type": "code",
      "source": [
        "def windowed_dataset(series, window_size, batch_size, shuffle_buffer):\n",
        "    series = tf.expand_dims(series, axis=-1)\n",
        "    ds = tf.data.Dataset.from_tensor_slices(series)\n",
        "    ds = ds.window(window_size + 1, shift=1, drop_remainder=True)\n",
        "    ds = ds.flat_map(lambda w: w.batch(window_size + 1))\n",
        "    ds = ds.shuffle(shuffle_buffer)\n",
        "    ds = ds.map(lambda w: (w[:-1], w[1:]))\n",
        "    return ds.batch(batch_size).prefetch(1)"
      ],
      "metadata": {
        "id": "ltwL8euVlzLH"
      },
      "execution_count": null,
      "outputs": []
    },
    {
      "cell_type": "code",
      "source": [
        "def solution_C5():\n",
        "    data_url = 'https://raw.githubusercontent.com/jbrownlee/Datasets/master/daily-min-temperatures.csv'\n",
        "    urllib.request.urlretrieve(data_url, 'daily-min-temperatures.csv')\n",
        "\n",
        "    time_step = []\n",
        "    temps = []\n",
        "    with open('daily-min-temperatures.csv') as csvfile:\n",
        "        reader = csv.reader(csvfile, delimiter=',')\n",
        "        next(reader)\n",
        "        step = 0\n",
        "        for row in reader:\n",
        "            temps.append(float(row[1]))\n",
        "            time_step.append(str(row[0]))\n",
        "            step=step + 1\n",
        "\n",
        "    series= np.array(temps) # YOUR CODE HERE\n",
        "\n",
        "    # Normalization Function. DO NOT CHANGE THIS CODE\n",
        "    min=np.min(series)\n",
        "    max=np.max(series)\n",
        "    series -= min\n",
        "    series /= max\n",
        "    time=np.array(time_step)\n",
        "\n",
        "    # DO NOT CHANGE THIS CODE\n",
        "    split_time=2500\n",
        "\n",
        "    time_train= time[:split_time] # YOUR CODE HERE\n",
        "    x_train= series[:split_time] # YOUR CODE HERE\n",
        "    time_valid=time[split_time:]  # YOUR CODE HERE\n",
        "    x_valid=series[split_time:]  # YOUR CODE HERE\n",
        "\n",
        "    # DO NOT CHANGE THIS CODE\n",
        "    window_size=64\n",
        "    batch_size=256\n",
        "    shuffle_buffer_size=1000\n",
        "\n",
        "    train_set=windowed_dataset(\n",
        "        x_train, window_size, batch_size, shuffle_buffer_size)\n",
        "    print(train_set)\n",
        "    print(x_train.shape)\n",
        "\n",
        "    model=tf.keras.models.Sequential([\n",
        "        tf.keras.layers.Conv1D(filters=32, kernel_size=5,\n",
        "                               strides=1, padding=\"causal\",\n",
        "                               activation=\"relu\",\n",
        "                               input_shape=[None, 1]),\n",
        "        tf.keras.layers.LSTM(64, return_sequences=True),\n",
        "        tf.keras.layers.LSTM(64, return_sequences=True),\n",
        "        tf.keras.layers.Dense(30, activation=\"relu\"),\n",
        "        tf.keras.layers.Dense(10, activation=\"relu\"),\n",
        "        # YOUR CODE HERE.\n",
        "        tf.keras.layers.Dense(1),\n",
        "    ])\n",
        "\n",
        "    # YOUR CODE HERE\n",
        "    model.compile(loss=\"mae\", optimizer=\"adam\", metrics=[\"MAE\"])\n",
        "    model.fit(train_set, batch_size=256, epochs=5)\n",
        "    return model"
      ],
      "metadata": {
        "id": "0AQ4DzZVl0gT"
      },
      "execution_count": null,
      "outputs": []
    },
    {
      "cell_type": "code",
      "source": [
        "# The code below is to save your model as a .h5 file.\n",
        "# It will be saved automatically in your Submission folder.\n",
        "if __name__ == '__main__':\n",
        "    # DO NOT CHANGE THIS CODE\n",
        "    model=solution_C5()\n",
        "    model.save(\"model_C5.h5\")"
      ],
      "metadata": {
        "id": "vTccEvyrl25i",
        "colab": {
          "base_uri": "https://localhost:8080/"
        },
        "outputId": "b5044575-166e-4cb6-bd33-52171dd50cc8"
      },
      "execution_count": null,
      "outputs": [
        {
          "output_type": "stream",
          "name": "stdout",
          "text": [
            "<PrefetchDataset element_spec=(TensorSpec(shape=(None, None, 1), dtype=tf.float64, name=None), TensorSpec(shape=(None, None, 1), dtype=tf.float64, name=None))>\n",
            "(2500,)\n",
            "Epoch 1/5\n",
            "10/10 [==============================] - 7s 325ms/step - loss: 0.3856 - MAE: 0.3856\n",
            "Epoch 2/5\n",
            "10/10 [==============================] - 3s 288ms/step - loss: 0.1879 - MAE: 0.1879\n",
            "Epoch 3/5\n",
            "10/10 [==============================] - 3s 281ms/step - loss: 0.1382 - MAE: 0.1382\n",
            "Epoch 4/5\n",
            "10/10 [==============================] - 3s 290ms/step - loss: 0.1244 - MAE: 0.1244\n",
            "Epoch 5/5\n",
            "10/10 [==============================] - 3s 291ms/step - loss: 0.1175 - MAE: 0.1175\n"
          ]
        }
      ]
    }
  ]
}