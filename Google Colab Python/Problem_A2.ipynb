{
  "nbformat": 4,
  "nbformat_minor": 0,
  "metadata": {
    "colab": {
      "provenance": []
    },
    "kernelspec": {
      "name": "python3",
      "display_name": "Python 3"
    },
    "language_info": {
      "name": "python"
    }
  },
  "cells": [
    {
      "cell_type": "code",
      "execution_count": null,
      "metadata": {
        "id": "MliqTztpOjHW"
      },
      "outputs": [],
      "source": [
        "import urllib.request\n",
        "import zipfile\n",
        "import tensorflow as tf\n",
        "import os\n",
        "from keras_preprocessing.image import ImageDataGenerator\n",
        "from tensorflow.keras.optimizers import RMSprop"
      ]
    },
    {
      "cell_type": "code",
      "source": [
        "def solution_A2():\n",
        "    data_url_1 = 'https://github.com/dicodingacademy/assets/releases/download/release-horse-or-human/horse-or-human.zip'\n",
        "    urllib.request.urlretrieve(data_url_1, 'horse-or-human.zip')\n",
        "    local_file = 'horse-or-human.zip'\n",
        "    zip_ref = zipfile.ZipFile(local_file, 'r')\n",
        "    zip_ref.extractall('data/horse-or-human')\n",
        "\n",
        "    data_url_2 = 'https://github.com/dicodingacademy/assets/raw/main/Simulation/machine_learning/validation-horse-or-human.zip'\n",
        "    urllib.request.urlretrieve(data_url_2, 'validation-horse-or-human.zip')\n",
        "    local_file = 'validation-horse-or-human.zip'\n",
        "    zip_ref = zipfile.ZipFile(local_file, 'r')\n",
        "    zip_ref.extractall('data/validation-horse-or-human')\n",
        "    zip_ref.close()\n",
        "\n",
        "    TRAINING_DIR = 'data/horse-or-human'\n",
        "    train_datagen = ImageDataGenerator(rescale = 1./255)\n",
        "    train_generator=train_datagen.flow_from_directory(TRAINING_DIR,\n",
        "                                                    batch_size = 100,\n",
        "                                                    class_mode = 'binary',\n",
        "                                                    target_size = (150, 150))\n",
        "\n",
        "    VALIDATION_DIR = 'data/validation-horse-or-human'\n",
        "    validation_datagen = ImageDataGenerator(rescale=1./255)\n",
        "    validation_generator = validation_datagen.flow_from_directory(VALIDATION_DIR,\n",
        "                                                              batch_size=100,\n",
        "                                                              class_mode='binary',\n",
        "                                                              target_size=(150, 150))\n",
        "    model=tf.keras.models.Sequential([\n",
        "        tf.keras.layers.Conv2D(16, (3, 3), activation='relu', input_shape=(150, 150, 3)),\n",
        "        tf.keras.layers.MaxPooling2D(2, 2),\n",
        "        tf.keras.layers.Conv2D(32, (3, 3), activation='relu'),\n",
        "        tf.keras.layers.MaxPooling2D(2, 2),\n",
        "        tf.keras.layers.Conv2D(64, (3, 3), activation='relu'),\n",
        "        tf.keras.layers.MaxPooling2D(2, 2),\n",
        "        tf.keras.layers.Flatten(),\n",
        "        tf.keras.layers.Dense(512, activation='relu'),\n",
        "        tf.keras.layers.Dense(1, activation='sigmoid')\n",
        "    ])\n",
        "    model.compile(optimizer=RMSprop(lr=0.001), loss='binary_crossentropy', metrics=['acc'])\n",
        "    history = model.fit_generator(train_generator,\n",
        "                              epochs=10,\n",
        "                              verbose=1,\n",
        "                              validation_data=validation_generator)\n",
        "    return model"
      ],
      "metadata": {
        "id": "63qeAZaqRBYS"
      },
      "execution_count": null,
      "outputs": []
    },
    {
      "cell_type": "code",
      "source": [
        "if __name__ == '__main__':\n",
        "    # DO NOT CHANGE THIS CODE\n",
        "    model=solution_A2()\n",
        "    model.save(\"model_A2.h5\")"
      ],
      "metadata": {
        "id": "JnFAhfXFja7R",
        "colab": {
          "base_uri": "https://localhost:8080/"
        },
        "outputId": "5a8dfb37-97a8-4872-bb3d-b4149ec8a3c1"
      },
      "execution_count": null,
      "outputs": [
        {
          "output_type": "stream",
          "name": "stdout",
          "text": [
            "Found 1027 images belonging to 2 classes.\n",
            "Found 256 images belonging to 2 classes.\n"
          ]
        },
        {
          "output_type": "stream",
          "name": "stderr",
          "text": [
            "/usr/local/lib/python3.7/dist-packages/keras/optimizer_v2/rmsprop.py:130: UserWarning: The `lr` argument is deprecated, use `learning_rate` instead.\n",
            "  super(RMSprop, self).__init__(name, **kwargs)\n",
            "/usr/local/lib/python3.7/dist-packages/ipykernel_launcher.py:43: UserWarning: `Model.fit_generator` is deprecated and will be removed in a future version. Please use `Model.fit`, which supports generators.\n"
          ]
        },
        {
          "output_type": "stream",
          "name": "stdout",
          "text": [
            "Epoch 1/10\n",
            "11/11 [==============================] - 28s 2s/step - loss: 1.9406 - acc: 0.5871 - val_loss: 0.5938 - val_acc: 0.5664\n",
            "Epoch 2/10\n",
            "11/11 [==============================] - 27s 2s/step - loss: 0.6588 - acc: 0.7760 - val_loss: 0.3255 - val_acc: 0.8945\n",
            "Epoch 3/10\n",
            "11/11 [==============================] - 27s 2s/step - loss: 0.2080 - acc: 0.9143 - val_loss: 2.6384 - val_acc: 0.5430\n",
            "Epoch 4/10\n",
            "11/11 [==============================] - 27s 2s/step - loss: 0.1673 - acc: 0.9426 - val_loss: 1.2618 - val_acc: 0.8281\n",
            "Epoch 5/10\n",
            "11/11 [==============================] - 27s 2s/step - loss: 0.1507 - acc: 0.9396 - val_loss: 3.8740 - val_acc: 0.6055\n",
            "Epoch 6/10\n",
            "11/11 [==============================] - 27s 2s/step - loss: 0.1448 - acc: 0.9523 - val_loss: 1.0556 - val_acc: 0.8477\n",
            "Epoch 7/10\n",
            "11/11 [==============================] - 27s 2s/step - loss: 0.0242 - acc: 0.9912 - val_loss: 1.3993 - val_acc: 0.8516\n",
            "Epoch 8/10\n",
            "11/11 [==============================] - 27s 2s/step - loss: 0.0798 - acc: 0.9640 - val_loss: 1.0659 - val_acc: 0.8789\n",
            "Epoch 9/10\n",
            "11/11 [==============================] - 27s 2s/step - loss: 0.1669 - acc: 0.9484 - val_loss: 1.1827 - val_acc: 0.8594\n",
            "Epoch 10/10\n",
            "11/11 [==============================] - 27s 2s/step - loss: 0.0111 - acc: 0.9971 - val_loss: 1.6268 - val_acc: 0.8398\n"
          ]
        }
      ]
    }
  ]
}