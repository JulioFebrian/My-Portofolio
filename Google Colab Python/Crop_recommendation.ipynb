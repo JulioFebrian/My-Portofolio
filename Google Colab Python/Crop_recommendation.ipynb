{
  "nbformat": 4,
  "nbformat_minor": 0,
  "metadata": {
    "colab": {
      "provenance": []
    },
    "kernelspec": {
      "name": "python3",
      "display_name": "Python 3"
    },
    "language_info": {
      "name": "python"
    }
  },
  "cells": [
    {
      "cell_type": "code",
      "execution_count": null,
      "metadata": {
        "id": "yaCAbRjAmiRu"
      },
      "outputs": [],
      "source": [
        "# Importing libraries\n",
        "\n",
        "from __future__ import print_function\n",
        "import pandas as pd\n",
        "import numpy as np\n",
        "import matplotlib.pyplot as plt\n",
        "import seaborn as sns\n",
        "from sklearn.metrics import classification_report\n",
        "from sklearn import metrics\n",
        "from sklearn import tree\n",
        "import warnings\n",
        "warnings.filterwarnings('ignore')"
      ]
    },
    {
      "cell_type": "code",
      "source": [
        "df = pd.read_csv('/content/Dataset_Rekomendasi_Tanaman.csv')"
      ],
      "metadata": {
        "id": "yziHpaOyne9G"
      },
      "execution_count": null,
      "outputs": []
    },
    {
      "cell_type": "code",
      "source": [
        "df.head()"
      ],
      "metadata": {
        "colab": {
          "base_uri": "https://localhost:8080/",
          "height": 206
        },
        "id": "sYcsrvO7n_Qx",
        "outputId": "e014617c-b86a-4d51-a139-291504988781"
      },
      "execution_count": null,
      "outputs": [
        {
          "output_type": "execute_result",
          "data": {
            "text/plain": [
              "   Nitrogen (N)  Fosforus (P)  Kalium (K)       Suhu  Kelembaban        pH  \\\n",
              "0            90            42          43  20.879744   82.002744  6.502985   \n",
              "1            85            58          41  21.770462   80.319644  7.038096   \n",
              "2            60            55          44  23.004459   82.320763  7.840207   \n",
              "3            74            35          40  26.491096   80.158363  6.980401   \n",
              "4            78            42          42  20.130175   81.604873  7.628473   \n",
              "\n",
              "   Curah Hujan Label  \n",
              "0   202.935536  padi  \n",
              "1   226.655537  padi  \n",
              "2   263.964248  padi  \n",
              "3   242.864034  padi  \n",
              "4   262.717340  padi  "
            ],
            "text/html": [
              "\n",
              "  <div id=\"df-0e8a53ee-28fc-4d5a-aca0-31cb02bee1d4\">\n",
              "    <div class=\"colab-df-container\">\n",
              "      <div>\n",
              "<style scoped>\n",
              "    .dataframe tbody tr th:only-of-type {\n",
              "        vertical-align: middle;\n",
              "    }\n",
              "\n",
              "    .dataframe tbody tr th {\n",
              "        vertical-align: top;\n",
              "    }\n",
              "\n",
              "    .dataframe thead th {\n",
              "        text-align: right;\n",
              "    }\n",
              "</style>\n",
              "<table border=\"1\" class=\"dataframe\">\n",
              "  <thead>\n",
              "    <tr style=\"text-align: right;\">\n",
              "      <th></th>\n",
              "      <th>Nitrogen (N)</th>\n",
              "      <th>Fosforus (P)</th>\n",
              "      <th>Kalium (K)</th>\n",
              "      <th>Suhu</th>\n",
              "      <th>Kelembaban</th>\n",
              "      <th>pH</th>\n",
              "      <th>Curah Hujan</th>\n",
              "      <th>Label</th>\n",
              "    </tr>\n",
              "  </thead>\n",
              "  <tbody>\n",
              "    <tr>\n",
              "      <th>0</th>\n",
              "      <td>90</td>\n",
              "      <td>42</td>\n",
              "      <td>43</td>\n",
              "      <td>20.879744</td>\n",
              "      <td>82.002744</td>\n",
              "      <td>6.502985</td>\n",
              "      <td>202.935536</td>\n",
              "      <td>padi</td>\n",
              "    </tr>\n",
              "    <tr>\n",
              "      <th>1</th>\n",
              "      <td>85</td>\n",
              "      <td>58</td>\n",
              "      <td>41</td>\n",
              "      <td>21.770462</td>\n",
              "      <td>80.319644</td>\n",
              "      <td>7.038096</td>\n",
              "      <td>226.655537</td>\n",
              "      <td>padi</td>\n",
              "    </tr>\n",
              "    <tr>\n",
              "      <th>2</th>\n",
              "      <td>60</td>\n",
              "      <td>55</td>\n",
              "      <td>44</td>\n",
              "      <td>23.004459</td>\n",
              "      <td>82.320763</td>\n",
              "      <td>7.840207</td>\n",
              "      <td>263.964248</td>\n",
              "      <td>padi</td>\n",
              "    </tr>\n",
              "    <tr>\n",
              "      <th>3</th>\n",
              "      <td>74</td>\n",
              "      <td>35</td>\n",
              "      <td>40</td>\n",
              "      <td>26.491096</td>\n",
              "      <td>80.158363</td>\n",
              "      <td>6.980401</td>\n",
              "      <td>242.864034</td>\n",
              "      <td>padi</td>\n",
              "    </tr>\n",
              "    <tr>\n",
              "      <th>4</th>\n",
              "      <td>78</td>\n",
              "      <td>42</td>\n",
              "      <td>42</td>\n",
              "      <td>20.130175</td>\n",
              "      <td>81.604873</td>\n",
              "      <td>7.628473</td>\n",
              "      <td>262.717340</td>\n",
              "      <td>padi</td>\n",
              "    </tr>\n",
              "  </tbody>\n",
              "</table>\n",
              "</div>\n",
              "      <button class=\"colab-df-convert\" onclick=\"convertToInteractive('df-0e8a53ee-28fc-4d5a-aca0-31cb02bee1d4')\"\n",
              "              title=\"Convert this dataframe to an interactive table.\"\n",
              "              style=\"display:none;\">\n",
              "        \n",
              "  <svg xmlns=\"http://www.w3.org/2000/svg\" height=\"24px\"viewBox=\"0 0 24 24\"\n",
              "       width=\"24px\">\n",
              "    <path d=\"M0 0h24v24H0V0z\" fill=\"none\"/>\n",
              "    <path d=\"M18.56 5.44l.94 2.06.94-2.06 2.06-.94-2.06-.94-.94-2.06-.94 2.06-2.06.94zm-11 1L8.5 8.5l.94-2.06 2.06-.94-2.06-.94L8.5 2.5l-.94 2.06-2.06.94zm10 10l.94 2.06.94-2.06 2.06-.94-2.06-.94-.94-2.06-.94 2.06-2.06.94z\"/><path d=\"M17.41 7.96l-1.37-1.37c-.4-.4-.92-.59-1.43-.59-.52 0-1.04.2-1.43.59L10.3 9.45l-7.72 7.72c-.78.78-.78 2.05 0 2.83L4 21.41c.39.39.9.59 1.41.59.51 0 1.02-.2 1.41-.59l7.78-7.78 2.81-2.81c.8-.78.8-2.07 0-2.86zM5.41 20L4 18.59l7.72-7.72 1.47 1.35L5.41 20z\"/>\n",
              "  </svg>\n",
              "      </button>\n",
              "      \n",
              "  <style>\n",
              "    .colab-df-container {\n",
              "      display:flex;\n",
              "      flex-wrap:wrap;\n",
              "      gap: 12px;\n",
              "    }\n",
              "\n",
              "    .colab-df-convert {\n",
              "      background-color: #E8F0FE;\n",
              "      border: none;\n",
              "      border-radius: 50%;\n",
              "      cursor: pointer;\n",
              "      display: none;\n",
              "      fill: #1967D2;\n",
              "      height: 32px;\n",
              "      padding: 0 0 0 0;\n",
              "      width: 32px;\n",
              "    }\n",
              "\n",
              "    .colab-df-convert:hover {\n",
              "      background-color: #E2EBFA;\n",
              "      box-shadow: 0px 1px 2px rgba(60, 64, 67, 0.3), 0px 1px 3px 1px rgba(60, 64, 67, 0.15);\n",
              "      fill: #174EA6;\n",
              "    }\n",
              "\n",
              "    [theme=dark] .colab-df-convert {\n",
              "      background-color: #3B4455;\n",
              "      fill: #D2E3FC;\n",
              "    }\n",
              "\n",
              "    [theme=dark] .colab-df-convert:hover {\n",
              "      background-color: #434B5C;\n",
              "      box-shadow: 0px 1px 3px 1px rgba(0, 0, 0, 0.15);\n",
              "      filter: drop-shadow(0px 1px 2px rgba(0, 0, 0, 0.3));\n",
              "      fill: #FFFFFF;\n",
              "    }\n",
              "  </style>\n",
              "\n",
              "      <script>\n",
              "        const buttonEl =\n",
              "          document.querySelector('#df-0e8a53ee-28fc-4d5a-aca0-31cb02bee1d4 button.colab-df-convert');\n",
              "        buttonEl.style.display =\n",
              "          google.colab.kernel.accessAllowed ? 'block' : 'none';\n",
              "\n",
              "        async function convertToInteractive(key) {\n",
              "          const element = document.querySelector('#df-0e8a53ee-28fc-4d5a-aca0-31cb02bee1d4');\n",
              "          const dataTable =\n",
              "            await google.colab.kernel.invokeFunction('convertToInteractive',\n",
              "                                                     [key], {});\n",
              "          if (!dataTable) return;\n",
              "\n",
              "          const docLinkHtml = 'Like what you see? Visit the ' +\n",
              "            '<a target=\"_blank\" href=https://colab.research.google.com/notebooks/data_table.ipynb>data table notebook</a>'\n",
              "            + ' to learn more about interactive tables.';\n",
              "          element.innerHTML = '';\n",
              "          dataTable['output_type'] = 'display_data';\n",
              "          await google.colab.output.renderOutput(dataTable, element);\n",
              "          const docLink = document.createElement('div');\n",
              "          docLink.innerHTML = docLinkHtml;\n",
              "          element.appendChild(docLink);\n",
              "        }\n",
              "      </script>\n",
              "    </div>\n",
              "  </div>\n",
              "  "
            ]
          },
          "metadata": {},
          "execution_count": 4
        }
      ]
    },
    {
      "cell_type": "code",
      "source": [
        "df.tail()"
      ],
      "metadata": {
        "colab": {
          "base_uri": "https://localhost:8080/",
          "height": 206
        },
        "id": "K4ZKQck7oHHu",
        "outputId": "42ad9f84-7a42-4dc2-ed4a-42dfcadb691d"
      },
      "execution_count": null,
      "outputs": [
        {
          "output_type": "execute_result",
          "data": {
            "text/plain": [
              "      Nitrogen (N)  Fosforus (P)  Kalium (K)       Suhu  Kelembaban        pH  \\\n",
              "2195           107            34          32  26.774637   66.413269  6.780064   \n",
              "2196            99            15          27  27.417112   56.636362  6.086922   \n",
              "2197           118            33          30  24.131797   67.225123  6.362608   \n",
              "2198           117            32          34  26.272418   52.127394  6.758793   \n",
              "2199           104            18          30  23.603016   60.396475  6.779833   \n",
              "\n",
              "      Curah Hujan Label  \n",
              "2195   177.774507  kopi  \n",
              "2196   127.924610  kopi  \n",
              "2197   173.322839  kopi  \n",
              "2198   127.175293  kopi  \n",
              "2199   140.937041  kopi  "
            ],
            "text/html": [
              "\n",
              "  <div id=\"df-cd680d41-c829-43c5-adb1-bf3fe5ed6dae\">\n",
              "    <div class=\"colab-df-container\">\n",
              "      <div>\n",
              "<style scoped>\n",
              "    .dataframe tbody tr th:only-of-type {\n",
              "        vertical-align: middle;\n",
              "    }\n",
              "\n",
              "    .dataframe tbody tr th {\n",
              "        vertical-align: top;\n",
              "    }\n",
              "\n",
              "    .dataframe thead th {\n",
              "        text-align: right;\n",
              "    }\n",
              "</style>\n",
              "<table border=\"1\" class=\"dataframe\">\n",
              "  <thead>\n",
              "    <tr style=\"text-align: right;\">\n",
              "      <th></th>\n",
              "      <th>Nitrogen (N)</th>\n",
              "      <th>Fosforus (P)</th>\n",
              "      <th>Kalium (K)</th>\n",
              "      <th>Suhu</th>\n",
              "      <th>Kelembaban</th>\n",
              "      <th>pH</th>\n",
              "      <th>Curah Hujan</th>\n",
              "      <th>Label</th>\n",
              "    </tr>\n",
              "  </thead>\n",
              "  <tbody>\n",
              "    <tr>\n",
              "      <th>2195</th>\n",
              "      <td>107</td>\n",
              "      <td>34</td>\n",
              "      <td>32</td>\n",
              "      <td>26.774637</td>\n",
              "      <td>66.413269</td>\n",
              "      <td>6.780064</td>\n",
              "      <td>177.774507</td>\n",
              "      <td>kopi</td>\n",
              "    </tr>\n",
              "    <tr>\n",
              "      <th>2196</th>\n",
              "      <td>99</td>\n",
              "      <td>15</td>\n",
              "      <td>27</td>\n",
              "      <td>27.417112</td>\n",
              "      <td>56.636362</td>\n",
              "      <td>6.086922</td>\n",
              "      <td>127.924610</td>\n",
              "      <td>kopi</td>\n",
              "    </tr>\n",
              "    <tr>\n",
              "      <th>2197</th>\n",
              "      <td>118</td>\n",
              "      <td>33</td>\n",
              "      <td>30</td>\n",
              "      <td>24.131797</td>\n",
              "      <td>67.225123</td>\n",
              "      <td>6.362608</td>\n",
              "      <td>173.322839</td>\n",
              "      <td>kopi</td>\n",
              "    </tr>\n",
              "    <tr>\n",
              "      <th>2198</th>\n",
              "      <td>117</td>\n",
              "      <td>32</td>\n",
              "      <td>34</td>\n",
              "      <td>26.272418</td>\n",
              "      <td>52.127394</td>\n",
              "      <td>6.758793</td>\n",
              "      <td>127.175293</td>\n",
              "      <td>kopi</td>\n",
              "    </tr>\n",
              "    <tr>\n",
              "      <th>2199</th>\n",
              "      <td>104</td>\n",
              "      <td>18</td>\n",
              "      <td>30</td>\n",
              "      <td>23.603016</td>\n",
              "      <td>60.396475</td>\n",
              "      <td>6.779833</td>\n",
              "      <td>140.937041</td>\n",
              "      <td>kopi</td>\n",
              "    </tr>\n",
              "  </tbody>\n",
              "</table>\n",
              "</div>\n",
              "      <button class=\"colab-df-convert\" onclick=\"convertToInteractive('df-cd680d41-c829-43c5-adb1-bf3fe5ed6dae')\"\n",
              "              title=\"Convert this dataframe to an interactive table.\"\n",
              "              style=\"display:none;\">\n",
              "        \n",
              "  <svg xmlns=\"http://www.w3.org/2000/svg\" height=\"24px\"viewBox=\"0 0 24 24\"\n",
              "       width=\"24px\">\n",
              "    <path d=\"M0 0h24v24H0V0z\" fill=\"none\"/>\n",
              "    <path d=\"M18.56 5.44l.94 2.06.94-2.06 2.06-.94-2.06-.94-.94-2.06-.94 2.06-2.06.94zm-11 1L8.5 8.5l.94-2.06 2.06-.94-2.06-.94L8.5 2.5l-.94 2.06-2.06.94zm10 10l.94 2.06.94-2.06 2.06-.94-2.06-.94-.94-2.06-.94 2.06-2.06.94z\"/><path d=\"M17.41 7.96l-1.37-1.37c-.4-.4-.92-.59-1.43-.59-.52 0-1.04.2-1.43.59L10.3 9.45l-7.72 7.72c-.78.78-.78 2.05 0 2.83L4 21.41c.39.39.9.59 1.41.59.51 0 1.02-.2 1.41-.59l7.78-7.78 2.81-2.81c.8-.78.8-2.07 0-2.86zM5.41 20L4 18.59l7.72-7.72 1.47 1.35L5.41 20z\"/>\n",
              "  </svg>\n",
              "      </button>\n",
              "      \n",
              "  <style>\n",
              "    .colab-df-container {\n",
              "      display:flex;\n",
              "      flex-wrap:wrap;\n",
              "      gap: 12px;\n",
              "    }\n",
              "\n",
              "    .colab-df-convert {\n",
              "      background-color: #E8F0FE;\n",
              "      border: none;\n",
              "      border-radius: 50%;\n",
              "      cursor: pointer;\n",
              "      display: none;\n",
              "      fill: #1967D2;\n",
              "      height: 32px;\n",
              "      padding: 0 0 0 0;\n",
              "      width: 32px;\n",
              "    }\n",
              "\n",
              "    .colab-df-convert:hover {\n",
              "      background-color: #E2EBFA;\n",
              "      box-shadow: 0px 1px 2px rgba(60, 64, 67, 0.3), 0px 1px 3px 1px rgba(60, 64, 67, 0.15);\n",
              "      fill: #174EA6;\n",
              "    }\n",
              "\n",
              "    [theme=dark] .colab-df-convert {\n",
              "      background-color: #3B4455;\n",
              "      fill: #D2E3FC;\n",
              "    }\n",
              "\n",
              "    [theme=dark] .colab-df-convert:hover {\n",
              "      background-color: #434B5C;\n",
              "      box-shadow: 0px 1px 3px 1px rgba(0, 0, 0, 0.15);\n",
              "      filter: drop-shadow(0px 1px 2px rgba(0, 0, 0, 0.3));\n",
              "      fill: #FFFFFF;\n",
              "    }\n",
              "  </style>\n",
              "\n",
              "      <script>\n",
              "        const buttonEl =\n",
              "          document.querySelector('#df-cd680d41-c829-43c5-adb1-bf3fe5ed6dae button.colab-df-convert');\n",
              "        buttonEl.style.display =\n",
              "          google.colab.kernel.accessAllowed ? 'block' : 'none';\n",
              "\n",
              "        async function convertToInteractive(key) {\n",
              "          const element = document.querySelector('#df-cd680d41-c829-43c5-adb1-bf3fe5ed6dae');\n",
              "          const dataTable =\n",
              "            await google.colab.kernel.invokeFunction('convertToInteractive',\n",
              "                                                     [key], {});\n",
              "          if (!dataTable) return;\n",
              "\n",
              "          const docLinkHtml = 'Like what you see? Visit the ' +\n",
              "            '<a target=\"_blank\" href=https://colab.research.google.com/notebooks/data_table.ipynb>data table notebook</a>'\n",
              "            + ' to learn more about interactive tables.';\n",
              "          element.innerHTML = '';\n",
              "          dataTable['output_type'] = 'display_data';\n",
              "          await google.colab.output.renderOutput(dataTable, element);\n",
              "          const docLink = document.createElement('div');\n",
              "          docLink.innerHTML = docLinkHtml;\n",
              "          element.appendChild(docLink);\n",
              "        }\n",
              "      </script>\n",
              "    </div>\n",
              "  </div>\n",
              "  "
            ]
          },
          "metadata": {},
          "execution_count": 7
        }
      ]
    },
    {
      "cell_type": "code",
      "source": [
        "df.size"
      ],
      "metadata": {
        "colab": {
          "base_uri": "https://localhost:8080/"
        },
        "id": "oK6lhnP2oRO6",
        "outputId": "02aac64d-79c1-4e4d-ca29-3ca4650ecc13"
      },
      "execution_count": null,
      "outputs": [
        {
          "output_type": "execute_result",
          "data": {
            "text/plain": [
              "17600"
            ]
          },
          "metadata": {},
          "execution_count": 8
        }
      ]
    },
    {
      "cell_type": "code",
      "source": [
        "df.shape"
      ],
      "metadata": {
        "colab": {
          "base_uri": "https://localhost:8080/"
        },
        "id": "4sdV0NQCoTNe",
        "outputId": "8b80dc82-84b7-4061-9492-d0d6626f8d15"
      },
      "execution_count": null,
      "outputs": [
        {
          "output_type": "execute_result",
          "data": {
            "text/plain": [
              "(2200, 8)"
            ]
          },
          "metadata": {},
          "execution_count": 9
        }
      ]
    },
    {
      "cell_type": "code",
      "source": [
        "df.columns"
      ],
      "metadata": {
        "colab": {
          "base_uri": "https://localhost:8080/"
        },
        "id": "0wh17fm3oW-y",
        "outputId": "28eb95de-af24-4743-9c75-cf37f91a2173"
      },
      "execution_count": null,
      "outputs": [
        {
          "output_type": "execute_result",
          "data": {
            "text/plain": [
              "Index(['Nitrogen (N)', 'Fosforus (P)', 'Kalium (K)', 'Suhu', 'Kelembaban',\n",
              "       'pH', 'Curah Hujan', 'Label'],\n",
              "      dtype='object')"
            ]
          },
          "metadata": {},
          "execution_count": 10
        }
      ]
    },
    {
      "cell_type": "code",
      "source": [
        "df['Label'].unique()"
      ],
      "metadata": {
        "colab": {
          "base_uri": "https://localhost:8080/"
        },
        "id": "7HqKS4MyoZvw",
        "outputId": "06180211-bf55-436d-a195-b9a3c2fbd8df"
      },
      "execution_count": null,
      "outputs": [
        {
          "output_type": "execute_result",
          "data": {
            "text/plain": [
              "array(['padi', 'jagung', 'buncis', 'kacang merah', 'kacang polong',\n",
              "       'kacang ngengat', 'kacang hijau', 'kacang lentil hitam', 'lentil',\n",
              "       'delima', 'pisang', 'mangga', 'anggur', 'semangka',\n",
              "       'melon kesturi', 'apel', 'jeruk', 'pepaya', 'kelapa', 'kapas',\n",
              "       'yute', 'kopi'], dtype=object)"
            ]
          },
          "metadata": {},
          "execution_count": 11
        }
      ]
    },
    {
      "cell_type": "code",
      "source": [
        "df.dtypes"
      ],
      "metadata": {
        "colab": {
          "base_uri": "https://localhost:8080/"
        },
        "id": "nKJnw7HMofPP",
        "outputId": "b26d679e-9885-42e6-cb70-cb8e48facf40"
      },
      "execution_count": null,
      "outputs": [
        {
          "output_type": "execute_result",
          "data": {
            "text/plain": [
              "Nitrogen (N)      int64\n",
              "Fosforus (P)      int64\n",
              "Kalium (K)        int64\n",
              "Suhu            float64\n",
              "Kelembaban      float64\n",
              "pH              float64\n",
              "Curah Hujan     float64\n",
              "Label            object\n",
              "dtype: object"
            ]
          },
          "metadata": {},
          "execution_count": 12
        }
      ]
    },
    {
      "cell_type": "code",
      "source": [
        "df['Label'].value_counts()"
      ],
      "metadata": {
        "colab": {
          "base_uri": "https://localhost:8080/"
        },
        "id": "GSwf3cGSoiQw",
        "outputId": "d744d2ef-9b37-49b7-b0a3-bf6c3d48bf11"
      },
      "execution_count": null,
      "outputs": [
        {
          "output_type": "execute_result",
          "data": {
            "text/plain": [
              "padi                   100\n",
              "jagung                 100\n",
              "yute                   100\n",
              "kapas                  100\n",
              "kelapa                 100\n",
              "pepaya                 100\n",
              "jeruk                  100\n",
              "apel                   100\n",
              "melon kesturi          100\n",
              "semangka               100\n",
              "anggur                 100\n",
              "mangga                 100\n",
              "pisang                 100\n",
              "delima                 100\n",
              "lentil                 100\n",
              "kacang lentil hitam    100\n",
              "kacang hijau           100\n",
              "kacang ngengat         100\n",
              "kacang polong          100\n",
              "kacang merah           100\n",
              "buncis                 100\n",
              "kopi                   100\n",
              "Name: Label, dtype: int64"
            ]
          },
          "metadata": {},
          "execution_count": 13
        }
      ]
    },
    {
      "cell_type": "code",
      "source": [
        "sns.heatmap(df.corr(),annot=True)"
      ],
      "metadata": {
        "colab": {
          "base_uri": "https://localhost:8080/",
          "height": 339
        },
        "id": "8FyarL3dolXm",
        "outputId": "d59cbf40-22a6-461b-add7-d848a4fd974e"
      },
      "execution_count": null,
      "outputs": [
        {
          "output_type": "execute_result",
          "data": {
            "text/plain": [
              "<matplotlib.axes._subplots.AxesSubplot at 0x7fc3a9d05690>"
            ]
          },
          "metadata": {},
          "execution_count": 14
        },
        {
          "output_type": "display_data",
          "data": {
            "text/plain": [
              "<Figure size 432x288 with 2 Axes>"
            ],
            "image/png": "[encoded data removed]"
          },
          "metadata": {
            "needs_background": "light"
          }
        }
      ]
    },
    {
      "cell_type": "markdown",
      "source": [
        "**Memisahkan fitur dan label target**"
      ],
      "metadata": {
        "id": "PE6l3iLpppAr"
      }
    },
    {
      "cell_type": "code",
      "source": [
        "features = df[['Nitrogen (N)', 'Fosforus (P)','Kalium (K)','Suhu', 'Kelembaban', 'pH', 'Curah Hujan']]\n",
        "target = df['Label']\n",
        "#features = df[['Suhu', 'Kelembaban', 'pH', 'Curah Hujan']]\n",
        "labels = df['Label']"
      ],
      "metadata": {
        "id": "_GlJDvMroog8"
      },
      "execution_count": null,
      "outputs": []
    },
    {
      "cell_type": "code",
      "source": [
        "# Inisialisasi list kosong untuk menambahkan semua nama model dan nama yang sesuai\n",
        "acc = []\n",
        "model = []"
      ],
      "metadata": {
        "id": "nljysnSfpLRK"
      },
      "execution_count": null,
      "outputs": []
    },
    {
      "cell_type": "code",
      "source": [
        "from sklearn.model_selection import train_test_split\n",
        "Xtrain, Xtest, Ytrain, Ytest = train_test_split(features,target,test_size = 0.2,random_state =2)"
      ],
      "metadata": {
        "id": "g_2znIsLpQhY"
      },
      "execution_count": null,
      "outputs": []
    },
    {
      "cell_type": "markdown",
      "source": [
        "**Decision Tree**"
      ],
      "metadata": {
        "id": "PigaQYDDpxcQ"
      }
    },
    {
      "cell_type": "code",
      "source": [
        "from sklearn.tree import DecisionTreeClassifier\n",
        "\n",
        "DecisionTree = DecisionTreeClassifier(criterion=\"entropy\",random_state=2,max_depth=5)\n",
        "\n",
        "DecisionTree.fit(Xtrain,Ytrain)\n",
        "\n",
        "nilai_prediksi = DecisionTree.predict(Xtest)\n",
        "x = metrics.accuracy_score(Ytest, nilai_prediksi)\n",
        "acc.append(x)\n",
        "model.append('Decision Tree')\n",
        "print(\"Akurasi Decision Tree: \", x*100)\n",
        "\n",
        "print(classification_report(Ytest,nilai_prediksi))"
      ],
      "metadata": {
        "colab": {
          "base_uri": "https://localhost:8080/"
        },
        "id": "OQCHOZU0pwmP",
        "outputId": "b68e084b-1c6a-45c3-9ed7-9365a76e6d16"
      },
      "execution_count": null,
      "outputs": [
        {
          "output_type": "stream",
          "name": "stdout",
          "text": [
            "Akurasi Decision Tree:  90.0\n",
            "                     precision    recall  f1-score   support\n",
            "\n",
            "             anggur       1.00      1.00      1.00        18\n",
            "               apel       1.00      1.00      1.00        13\n",
            "             buncis       1.00      1.00      1.00        21\n",
            "             delima       1.00      1.00      1.00        17\n",
            "             jagung       1.00      1.00      1.00        21\n",
            "              jeruk       1.00      1.00      1.00        29\n",
            "       kacang hijau       1.00      1.00      1.00        24\n",
            "kacang lentil hitam       0.59      1.00      0.74        16\n",
            "       kacang merah       0.00      0.00      0.00        14\n",
            "     kacang ngengat       0.00      0.00      0.00        19\n",
            "      kacang polong       0.62      1.00      0.77        18\n",
            "              kapas       1.00      1.00      1.00        20\n",
            "             kelapa       0.91      1.00      0.95        21\n",
            "               kopi       1.00      1.00      1.00        22\n",
            "             lentil       0.68      1.00      0.81        23\n",
            "             mangga       1.00      1.00      1.00        26\n",
            "      melon kesturi       1.00      1.00      1.00        23\n",
            "               padi       1.00      0.62      0.77        16\n",
            "             pepaya       1.00      0.84      0.91        19\n",
            "             pisang       1.00      1.00      1.00        17\n",
            "           semangka       1.00      1.00      1.00        15\n",
            "               yute       0.74      0.93      0.83        28\n",
            "\n",
            "           accuracy                           0.90       440\n",
            "          macro avg       0.84      0.88      0.85       440\n",
            "       weighted avg       0.86      0.90      0.87       440\n",
            "\n"
          ]
        }
      ]
    },
    {
      "cell_type": "code",
      "source": [
        "from sklearn.model_selection import cross_val_score"
      ],
      "metadata": {
        "id": "CmusubiIqeZk"
      },
      "execution_count": null,
      "outputs": []
    },
    {
      "cell_type": "code",
      "source": [
        "# Nilai cross validation (Decision Tree)\n",
        "score = cross_val_score(DecisionTree, features, target,cv=5)\n",
        "score"
      ],
      "metadata": {
        "colab": {
          "base_uri": "https://localhost:8080/"
        },
        "id": "g9rXSGSpqhcm",
        "outputId": "bf655178-63c3-4bfa-e6fb-eb381883d2ba"
      },
      "execution_count": null,
      "outputs": [
        {
          "output_type": "execute_result",
          "data": {
            "text/plain": [
              "array([0.93636364, 0.90909091, 0.91818182, 0.85909091, 0.93636364])"
            ]
          },
          "metadata": {},
          "execution_count": 21
        }
      ]
    },
    {
      "cell_type": "markdown",
      "source": [
        "Menyimpan trained model dari Decision Tree"
      ],
      "metadata": {
        "id": "DN5P8mcJq7rJ"
      }
    },
    {
      "cell_type": "code",
      "source": [
        "import pickle\n",
        "# Dump the trained Naive Bayes classifier with Pickle\n",
        "DT_pkl_filename = '/content/DecisionTree.pkl'\n",
        "# Open the file to save as pkl file\n",
        "DT_Model_pkl = open(DT_pkl_filename, 'wb')\n",
        "pickle.dump(DecisionTree, DT_Model_pkl)\n",
        "# Close the pickle instances\n",
        "DT_Model_pkl.close()"
      ],
      "metadata": {
        "id": "EgUxYYkZqlzF"
      },
      "execution_count": null,
      "outputs": []
    },
    {
      "cell_type": "markdown",
      "source": [
        "Gaussian Naive Bayes"
      ],
      "metadata": {
        "id": "JHrn7xS2rgAT"
      }
    },
    {
      "cell_type": "code",
      "source": [
        "from sklearn.naive_bayes import GaussianNB\n",
        "\n",
        "NaiveBayes = GaussianNB()\n",
        "\n",
        "NaiveBayes.fit(Xtrain,Ytrain)\n",
        "\n",
        "nilai_prediksi = NaiveBayes.predict(Xtest)\n",
        "x = metrics.accuracy_score(Ytest, nilai_prediksi)\n",
        "acc.append(x)\n",
        "model.append('Naive Bayes')\n",
        "print(\"Akurasi Naive Bayes: \", x*100)\n",
        "\n",
        "print(classification_report(Ytest,nilai_prediksi))"
      ],
      "metadata": {
        "colab": {
          "base_uri": "https://localhost:8080/"
        },
        "id": "ZXgeviiErhih",
        "outputId": "c2f30c99-2104-4dba-ed77-9d9a8ac0a4c6"
      },
      "execution_count": null,
      "outputs": [
        {
          "output_type": "stream",
          "name": "stdout",
          "text": [
            "Akurasi Naive Bayes:  99.0909090909091\n",
            "                     precision    recall  f1-score   support\n",
            "\n",
            "             anggur       1.00      1.00      1.00        18\n",
            "               apel       1.00      1.00      1.00        13\n",
            "             buncis       1.00      1.00      1.00        21\n",
            "             delima       1.00      1.00      1.00        17\n",
            "             jagung       1.00      1.00      1.00        21\n",
            "              jeruk       1.00      1.00      1.00        29\n",
            "       kacang hijau       1.00      1.00      1.00        24\n",
            "kacang lentil hitam       1.00      1.00      1.00        16\n",
            "       kacang merah       1.00      1.00      1.00        14\n",
            "     kacang ngengat       1.00      1.00      1.00        19\n",
            "      kacang polong       1.00      1.00      1.00        18\n",
            "              kapas       1.00      1.00      1.00        20\n",
            "             kelapa       1.00      1.00      1.00        21\n",
            "               kopi       1.00      1.00      1.00        22\n",
            "             lentil       1.00      1.00      1.00        23\n",
            "             mangga       1.00      1.00      1.00        26\n",
            "      melon kesturi       1.00      1.00      1.00        23\n",
            "               padi       1.00      0.75      0.86        16\n",
            "             pepaya       1.00      1.00      1.00        19\n",
            "             pisang       1.00      1.00      1.00        17\n",
            "           semangka       1.00      1.00      1.00        15\n",
            "               yute       0.88      1.00      0.93        28\n",
            "\n",
            "           accuracy                           0.99       440\n",
            "          macro avg       0.99      0.99      0.99       440\n",
            "       weighted avg       0.99      0.99      0.99       440\n",
            "\n"
          ]
        }
      ]
    },
    {
      "cell_type": "code",
      "source": [
        "# Cross validation score (NaiveBayes)\n",
        "score = cross_val_score(NaiveBayes,features,target,cv=5)\n",
        "score"
      ],
      "metadata": {
        "colab": {
          "base_uri": "https://localhost:8080/"
        },
        "id": "I3gS9f2_sJ9-",
        "outputId": "b105f7df-e214-4d54-d7a3-0a7c8955254b"
      },
      "execution_count": null,
      "outputs": [
        {
          "output_type": "execute_result",
          "data": {
            "text/plain": [
              "array([0.99772727, 0.99545455, 0.99545455, 0.99545455, 0.99090909])"
            ]
          },
          "metadata": {},
          "execution_count": 24
        }
      ]
    },
    {
      "cell_type": "code",
      "source": [
        "import pickle\n",
        "# Dump the trained Naive Bayes classifier with Pickle\n",
        "NB_pkl_filename = '/content/NaiveBayes.pkl'\n",
        "# Open the file to save as pkl file\n",
        "NB_Model_pkl = open(NB_pkl_filename, 'wb')\n",
        "pickle.dump(NaiveBayes, NB_Model_pkl)\n",
        "# Close the pickle instances\n",
        "NB_Model_pkl.close()"
      ],
      "metadata": {
        "id": "k6oCdl0jsM0l"
      },
      "execution_count": null,
      "outputs": []
    },
    {
      "cell_type": "markdown",
      "source": [
        "**Support Vector Machine (SVM)**"
      ],
      "metadata": {
        "id": "sKsWB7NZsb-6"
      }
    },
    {
      "cell_type": "code",
      "source": [
        "from sklearn.svm import SVC\n",
        "# data normalization with sklearn\n",
        "from sklearn.preprocessing import MinMaxScaler\n",
        "# fit scaler on training data\n",
        "norm = MinMaxScaler().fit(Xtrain)\n",
        "X_train_norm = norm.transform(Xtrain)\n",
        "# transform testing dataabs\n",
        "X_test_norm = norm.transform(Xtest)\n",
        "SVM = SVC(kernel='poly', degree=3, C=1)\n",
        "SVM.fit(X_train_norm,Ytrain)\n",
        "nilai_prediksi = SVM.predict(X_test_norm)\n",
        "x = metrics.accuracy_score(Ytest, nilai_prediksi)\n",
        "acc.append(x)\n",
        "model.append('SVM')\n",
        "print(\"Akurasi SVM: \", x*100)\n",
        "\n",
        "print(classification_report(Ytest,nilai_prediksi))"
      ],
      "metadata": {
        "colab": {
          "base_uri": "https://localhost:8080/"
        },
        "id": "plovS_aDsdEp",
        "outputId": "5a6d3922-46ed-4425-d809-1c5eba8c4761"
      },
      "execution_count": null,
      "outputs": [
        {
          "output_type": "stream",
          "name": "stdout",
          "text": [
            "Akurasi SVM:  97.72727272727273\n",
            "                     precision    recall  f1-score   support\n",
            "\n",
            "             anggur       1.00      1.00      1.00        18\n",
            "               apel       1.00      1.00      1.00        13\n",
            "             buncis       1.00      1.00      1.00        21\n",
            "             delima       1.00      1.00      1.00        17\n",
            "             jagung       1.00      0.95      0.98        21\n",
            "              jeruk       1.00      1.00      1.00        29\n",
            "       kacang hijau       1.00      1.00      1.00        24\n",
            "kacang lentil hitam       1.00      1.00      1.00        16\n",
            "       kacang merah       1.00      1.00      1.00        14\n",
            "     kacang ngengat       1.00      1.00      1.00        19\n",
            "      kacang polong       1.00      1.00      1.00        18\n",
            "              kapas       0.95      1.00      0.98        20\n",
            "             kelapa       1.00      1.00      1.00        21\n",
            "               kopi       1.00      0.95      0.98        22\n",
            "             lentil       1.00      1.00      1.00        23\n",
            "             mangga       1.00      1.00      1.00        26\n",
            "      melon kesturi       1.00      1.00      1.00        23\n",
            "               padi       0.75      0.75      0.75        16\n",
            "             pepaya       1.00      1.00      1.00        19\n",
            "             pisang       1.00      1.00      1.00        17\n",
            "           semangka       1.00      1.00      1.00        15\n",
            "               yute       0.83      0.86      0.84        28\n",
            "\n",
            "           accuracy                           0.98       440\n",
            "          macro avg       0.98      0.98      0.98       440\n",
            "       weighted avg       0.98      0.98      0.98       440\n",
            "\n"
          ]
        }
      ]
    },
    {
      "cell_type": "code",
      "source": [
        "# Cross validation score (SVM)\n",
        "score = cross_val_score(SVM,features,target,cv=5)\n",
        "score"
      ],
      "metadata": {
        "colab": {
          "base_uri": "https://localhost:8080/"
        },
        "id": "virfp9yQsvRw",
        "outputId": "b8d2cbde-314d-49c5-df15-cea3544dfdde"
      },
      "execution_count": null,
      "outputs": [
        {
          "output_type": "execute_result",
          "data": {
            "text/plain": [
              "array([0.97954545, 0.97727273, 0.98863636, 0.98863636, 0.98181818])"
            ]
          },
          "metadata": {},
          "execution_count": 37
        }
      ]
    },
    {
      "cell_type": "code",
      "source": [
        "#Saving trained SVM model\n",
        "import pickle\n",
        "# Dump the trained SVM classifier with Pickle\n",
        "SVM_pkl_filename = '/content/SVM.pkl'\n",
        "# Open the file to save as pkl file\n",
        "SVM_Model_pkl = open(SVM_pkl_filename, 'wb')\n",
        "pickle.dump(SVM, SVM_Model_pkl)\n",
        "# Close the pickle instances\n",
        "SVM_Model_pkl.close()"
      ],
      "metadata": {
        "id": "tMZEMqBxsytr"
      },
      "execution_count": null,
      "outputs": []
    },
    {
      "cell_type": "markdown",
      "source": [
        "**Logistic Regression**"
      ],
      "metadata": {
        "id": "s3NZNOMSs9W3"
      }
    },
    {
      "cell_type": "code",
      "source": [
        "from sklearn.linear_model import LogisticRegression\n",
        "\n",
        "LogReg = LogisticRegression(random_state=2)\n",
        "\n",
        "LogReg.fit(Xtrain,Ytrain)\n",
        "\n",
        "nilai_prediksi = LogReg.predict(Xtest)\n",
        "\n",
        "x = metrics.accuracy_score(Ytest, nilai_prediksi)\n",
        "acc.append(x)\n",
        "model.append('Logistic Regression')\n",
        "print(\"Akurasi Logistic Regression: \", x*100)\n",
        "\n",
        "print(classification_report(Ytest,nilai_prediksi))"
      ],
      "metadata": {
        "colab": {
          "base_uri": "https://localhost:8080/"
        },
        "id": "czbAmYzMs8MR",
        "outputId": "6fb3a606-8d4c-406d-aca5-eafcbe70a40e"
      },
      "execution_count": null,
      "outputs": [
        {
          "output_type": "stream",
          "name": "stdout",
          "text": [
            "Akurasi Logistic Regression:  95.22727272727273\n",
            "                     precision    recall  f1-score   support\n",
            "\n",
            "             anggur       1.00      1.00      1.00        18\n",
            "               apel       1.00      1.00      1.00        13\n",
            "             buncis       1.00      1.00      1.00        21\n",
            "             delima       1.00      1.00      1.00        17\n",
            "             jagung       0.90      0.86      0.88        21\n",
            "              jeruk       1.00      1.00      1.00        29\n",
            "       kacang hijau       1.00      0.96      0.98        24\n",
            "kacang lentil hitam       0.86      0.75      0.80        16\n",
            "       kacang merah       1.00      1.00      1.00        14\n",
            "     kacang ngengat       0.84      0.84      0.84        19\n",
            "      kacang polong       1.00      1.00      1.00        18\n",
            "              kapas       0.86      0.90      0.88        20\n",
            "             kelapa       1.00      1.00      1.00        21\n",
            "               kopi       1.00      1.00      1.00        22\n",
            "             lentil       0.88      1.00      0.94        23\n",
            "             mangga       0.96      1.00      0.98        26\n",
            "      melon kesturi       1.00      1.00      1.00        23\n",
            "               padi       0.85      0.69      0.76        16\n",
            "             pepaya       1.00      0.95      0.97        19\n",
            "             pisang       1.00      1.00      1.00        17\n",
            "           semangka       1.00      1.00      1.00        15\n",
            "               yute       0.84      0.93      0.88        28\n",
            "\n",
            "           accuracy                           0.95       440\n",
            "          macro avg       0.95      0.95      0.95       440\n",
            "       weighted avg       0.95      0.95      0.95       440\n",
            "\n"
          ]
        }
      ]
    },
    {
      "cell_type": "code",
      "source": [
        "# Cross validation score (Logistic Regression)\n",
        "score = cross_val_score(LogReg,features,target,cv=5)\n",
        "score"
      ],
      "metadata": {
        "colab": {
          "base_uri": "https://localhost:8080/"
        },
        "id": "yIy2aadItMnm",
        "outputId": "5f2ea75b-df88-4f42-c18f-d252d9448d98"
      },
      "execution_count": null,
      "outputs": [
        {
          "output_type": "execute_result",
          "data": {
            "text/plain": [
              "array([0.95      , 0.96590909, 0.94772727, 0.96818182, 0.94318182])"
            ]
          },
          "metadata": {},
          "execution_count": 41
        }
      ]
    },
    {
      "cell_type": "code",
      "source": [
        "import pickle\n",
        "# Dump the trained Logistic Regression classifier with Pickle\n",
        "LR_pkl_filename = '/content/LogisticRegression.pkl'\n",
        "# Open the file to save as pkl file\n",
        "LR_Model_pkl = open(LR_pkl_filename, 'wb')\n",
        "pickle.dump(LogReg, LR_Model_pkl)\n",
        "# Close the pickle instances\n",
        "LR_Model_pkl.close()"
      ],
      "metadata": {
        "id": "_fVrontVtQK2"
      },
      "execution_count": null,
      "outputs": []
    },
    {
      "cell_type": "markdown",
      "source": [
        "**Random Forest**"
      ],
      "metadata": {
        "id": "RrDb55jvuRaw"
      }
    },
    {
      "cell_type": "code",
      "source": [
        "from sklearn.ensemble import RandomForestClassifier\n",
        "\n",
        "RF = RandomForestClassifier(n_estimators=20, random_state=0)\n",
        "RF.fit(Xtrain,Ytrain)\n",
        "\n",
        "nilai_prediksi = RF.predict(Xtest)\n",
        "\n",
        "x = metrics.accuracy_score(Ytest, nilai_prediksi)\n",
        "acc.append(x)\n",
        "model.append('RF')\n",
        "print(\"Akurasi Random Forest: \", x*100)\n",
        "\n",
        "print(classification_report(Ytest,nilai_prediksi))"
      ],
      "metadata": {
        "colab": {
          "base_uri": "https://localhost:8080/"
        },
        "id": "dim9tbG0toSc",
        "outputId": "49b3b432-8313-4a64-ace4-81021f3e0d50"
      },
      "execution_count": null,
      "outputs": [
        {
          "output_type": "stream",
          "name": "stdout",
          "text": [
            "Akurasi Random Forest:  99.0909090909091\n",
            "                     precision    recall  f1-score   support\n",
            "\n",
            "             anggur       1.00      1.00      1.00        18\n",
            "               apel       1.00      1.00      1.00        13\n",
            "             buncis       1.00      1.00      1.00        21\n",
            "             delima       1.00      1.00      1.00        17\n",
            "             jagung       1.00      1.00      1.00        21\n",
            "              jeruk       1.00      1.00      1.00        29\n",
            "       kacang hijau       1.00      1.00      1.00        24\n",
            "kacang lentil hitam       0.94      1.00      0.97        16\n",
            "       kacang merah       1.00      1.00      1.00        14\n",
            "     kacang ngengat       1.00      0.95      0.97        19\n",
            "      kacang polong       1.00      1.00      1.00        18\n",
            "              kapas       1.00      1.00      1.00        20\n",
            "             kelapa       1.00      1.00      1.00        21\n",
            "               kopi       1.00      1.00      1.00        22\n",
            "             lentil       1.00      1.00      1.00        23\n",
            "             mangga       1.00      1.00      1.00        26\n",
            "      melon kesturi       1.00      1.00      1.00        23\n",
            "               padi       1.00      0.81      0.90        16\n",
            "             pepaya       1.00      1.00      1.00        19\n",
            "             pisang       1.00      1.00      1.00        17\n",
            "           semangka       1.00      1.00      1.00        15\n",
            "               yute       0.90      1.00      0.95        28\n",
            "\n",
            "           accuracy                           0.99       440\n",
            "          macro avg       0.99      0.99      0.99       440\n",
            "       weighted avg       0.99      0.99      0.99       440\n",
            "\n"
          ]
        }
      ]
    },
    {
      "cell_type": "code",
      "source": [
        "# Cross validation score (Random Forest)\n",
        "score = cross_val_score(RF,features,target,cv=5)\n",
        "score"
      ],
      "metadata": {
        "colab": {
          "base_uri": "https://localhost:8080/"
        },
        "id": "aRiOEQdNvOcG",
        "outputId": "b58cc99b-2f72-4af7-fa99-2e6dc6c32148"
      },
      "execution_count": null,
      "outputs": [
        {
          "output_type": "execute_result",
          "data": {
            "text/plain": [
              "array([0.99545455, 0.99545455, 0.99545455, 0.99318182, 0.98863636])"
            ]
          },
          "metadata": {},
          "execution_count": 50
        }
      ]
    },
    {
      "cell_type": "code",
      "source": [
        "import pickle\n",
        "# Dump the trained Naive Bayes classifier with Pickle\n",
        "RF_pkl_filename = '/content/RandomForest.pkl'\n",
        "# Open the file to save as pkl file\n",
        "RF_Model_pkl = open(RF_pkl_filename, 'wb')\n",
        "pickle.dump(RF, RF_Model_pkl)\n",
        "# Close the pickle instances\n",
        "RF_Model_pkl.close()"
      ],
      "metadata": {
        "id": "w4d9galYvPnf"
      },
      "execution_count": null,
      "outputs": []
    },
    {
      "cell_type": "markdown",
      "source": [
        "**XGBoost**"
      ],
      "metadata": {
        "id": "qmM92-uIvgst"
      }
    },
    {
      "cell_type": "code",
      "source": [
        "import xgboost as xgb\n",
        "XB = xgb.XGBClassifier()\n",
        "XB.fit(Xtrain,Ytrain)\n",
        "\n",
        "nilai_prediksi = XB.predict(Xtest)\n",
        "\n",
        "x = metrics.accuracy_score(Ytest, nilai_prediksi)\n",
        "acc.append(x)\n",
        "model.append('XGBoost')\n",
        "print(\"Akurasi XGBoost: \", x*100)\n",
        "\n",
        "print(classification_report(Ytest,nilai_prediksi))"
      ],
      "metadata": {
        "colab": {
          "base_uri": "https://localhost:8080/"
        },
        "id": "EyH2KQBPviEU",
        "outputId": "46ec421c-a8b3-439a-8dd1-85e843c9b8a0"
      },
      "execution_count": null,
      "outputs": [
        {
          "output_type": "stream",
          "name": "stdout",
          "text": [
            "Akurasi XGBoost:  99.31818181818181\n",
            "                     precision    recall  f1-score   support\n",
            "\n",
            "             anggur       1.00      1.00      1.00        18\n",
            "               apel       1.00      1.00      1.00        13\n",
            "             buncis       1.00      1.00      1.00        21\n",
            "             delima       1.00      1.00      1.00        17\n",
            "             jagung       1.00      1.00      1.00        21\n",
            "              jeruk       1.00      1.00      1.00        29\n",
            "       kacang hijau       1.00      1.00      1.00        24\n",
            "kacang lentil hitam       1.00      1.00      1.00        16\n",
            "       kacang merah       1.00      1.00      1.00        14\n",
            "     kacang ngengat       1.00      1.00      1.00        19\n",
            "      kacang polong       1.00      1.00      1.00        18\n",
            "              kapas       1.00      1.00      1.00        20\n",
            "             kelapa       1.00      1.00      1.00        21\n",
            "               kopi       1.00      1.00      1.00        22\n",
            "             lentil       1.00      1.00      1.00        23\n",
            "             mangga       1.00      1.00      1.00        26\n",
            "      melon kesturi       1.00      1.00      1.00        23\n",
            "               padi       0.88      0.94      0.91        16\n",
            "             pepaya       1.00      1.00      1.00        19\n",
            "             pisang       1.00      1.00      1.00        17\n",
            "           semangka       1.00      1.00      1.00        15\n",
            "               yute       0.96      0.93      0.95        28\n",
            "\n",
            "           accuracy                           0.99       440\n",
            "          macro avg       0.99      0.99      0.99       440\n",
            "       weighted avg       0.99      0.99      0.99       440\n",
            "\n"
          ]
        }
      ]
    },
    {
      "cell_type": "code",
      "source": [
        "# Cross validation score (XGBoost)\n",
        "score = cross_val_score(XB,features,target,cv=5)\n",
        "score"
      ],
      "metadata": {
        "colab": {
          "base_uri": "https://localhost:8080/"
        },
        "id": "2qkHwetvvumX",
        "outputId": "91c981c0-d5a4-489b-a786-1156b4f7e890"
      },
      "execution_count": null,
      "outputs": [
        {
          "output_type": "execute_result",
          "data": {
            "text/plain": [
              "array([0.98636364, 0.99318182, 0.99545455, 0.99090909, 0.98409091])"
            ]
          },
          "metadata": {},
          "execution_count": 54
        }
      ]
    },
    {
      "cell_type": "code",
      "source": [
        "import pickle\n",
        "# Dump the trained Naive Bayes classifier with Pickle\n",
        "XB_pkl_filename = '/content/XGBoost.pkl'\n",
        "# Open the file to save as pkl file\n",
        "XB_Model_pkl = open(XB_pkl_filename, 'wb')\n",
        "pickle.dump(XB, XB_Model_pkl)\n",
        "# Close the pickle instances\n",
        "XB_Model_pkl.close()"
      ],
      "metadata": {
        "id": "QZt2FqECvyaK"
      },
      "execution_count": null,
      "outputs": []
    },
    {
      "cell_type": "markdown",
      "source": [
        "**Accuracy Comparison**"
      ],
      "metadata": {
        "id": "dBsEoSQBv7vx"
      }
    },
    {
      "cell_type": "code",
      "source": [
        "plt.figure(figsize=[10,5],dpi = 100)\n",
        "plt.title('Accuracy Comparison')\n",
        "plt.xlabel('Accuracy')\n",
        "plt.ylabel('Algorithm')\n",
        "sns.barplot(x = acc ,y = model,palette='dark')"
      ],
      "metadata": {
        "colab": {
          "base_uri": "https://localhost:8080/",
          "height": 488
        },
        "id": "MWWN3yaEv9L0",
        "outputId": "25803f99-4cc0-4050-b7a6-2e4cdaf5458e"
      },
      "execution_count": null,
      "outputs": [
        {
          "output_type": "execute_result",
          "data": {
            "text/plain": [
              "<matplotlib.axes._subplots.AxesSubplot at 0x7f2e10460750>"
            ]
          },
          "metadata": {},
          "execution_count": 66
        },
        {
          "output_type": "display_data",
          "data": {
            "text/plain": [
              "<Figure size 1000x500 with 1 Axes>"
            ],
            "image/png": "[encoded data removed]"
          },
          "metadata": {
            "needs_background": "light"
          }
        }
      ]
    },
    {
      "cell_type": "code",
      "source": [
        "accuracy_models = dict(zip(model, acc))\n",
        "for k, v in accuracy_models.items():\n",
        "    print (k, '-->', v)"
      ],
      "metadata": {
        "colab": {
          "base_uri": "https://localhost:8080/"
        },
        "id": "IwIddz1rx0P8",
        "outputId": "41f6214b-216e-4793-e29a-97e9a3a2978d"
      },
      "execution_count": null,
      "outputs": [
        {
          "output_type": "stream",
          "name": "stdout",
          "text": [
            "Decision Tree --> 0.9\n",
            "Naive Bayes --> 0.990909090909091\n",
            "SVM --> 0.9772727272727273\n",
            "Logistic Regression --> 0.9522727272727273\n",
            "RF --> 0.990909090909091\n",
            "XGBoost --> 0.9931818181818182\n"
          ]
        }
      ]
    },
    {
      "cell_type": "markdown",
      "source": [
        "**Making a prediction**"
      ],
      "metadata": {
        "id": "iXujXAztx4cM"
      }
    },
    {
      "cell_type": "code",
      "source": [
        "data = np.array([[104,18, 30, 23.603016, 60.3, 6.7, 140.91]])\n",
        "prediction = NaiveBayes.predict(data)\n",
        "print(prediction)"
      ],
      "metadata": {
        "colab": {
          "base_uri": "https://localhost:8080/"
        },
        "id": "MMpUC680x5gF",
        "outputId": "67da682a-5cd0-4164-c442-b0dd39f8a38d"
      },
      "execution_count": null,
      "outputs": [
        {
          "output_type": "stream",
          "name": "stdout",
          "text": [
            "['kopi']\n"
          ]
        }
      ]
    },
    {
      "cell_type": "code",
      "source": [
        "data = np.array([[83, 45, 60, 28, 70.3, 7.0, 150.9]])\n",
        "prediction = LogReg.predict(data)\n",
        "print(prediction)"
      ],
      "metadata": {
        "colab": {
          "base_uri": "https://localhost:8080/"
        },
        "id": "Hc4q47SAx808",
        "outputId": "055c49a8-a1ed-4aec-f765-0c09715cf051"
      },
      "execution_count": null,
      "outputs": [
        {
          "output_type": "stream",
          "name": "stdout",
          "text": [
            "['yute']\n"
          ]
        }
      ]
    }
  ]
}