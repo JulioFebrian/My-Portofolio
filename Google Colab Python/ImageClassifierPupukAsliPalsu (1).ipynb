{
  "nbformat": 4,
  "nbformat_minor": 0,
  "metadata": {
    "colab": {
      "provenance": []
    },
    "kernelspec": {
      "name": "python3",
      "display_name": "Python 3"
    },
    "language_info": {
      "name": "python"
    }
  },
  "cells": [
    {
      "cell_type": "code",
      "execution_count": null,
      "metadata": {
        "colab": {
          "base_uri": "https://localhost:8080/"
        },
        "id": "KPbQ1lNIujwI",
        "outputId": "84b8c845-aeee-44f5-9a39-de6c953b3fbb"
      },
      "outputs": [
        {
          "output_type": "stream",
          "name": "stdout",
          "text": [
            "2.8.2\n"
          ]
        }
      ],
      "source": [
        "import tensorflow as tf\n",
        "print(tf.__version__)"
      ]
    },
    {
      "cell_type": "code",
      "source": [
        "# Define Input Parameters\n",
        "input_size = (150, 150)\n",
        "channel = (3, )\n",
        "input_shape = input_size + channel\n",
        "\n",
        "#batch size\n",
        "batch_size = 16\n",
        "\n",
        "#Epoch\n",
        "epoch = 10"
      ],
      "metadata": {
        "id": "a4ZkL2Mz00e0"
      },
      "execution_count": null,
      "outputs": []
    },
    {
      "cell_type": "code",
      "source": [
        "from tensorflow.keras.preprocessing.image import ImageDataGenerator"
      ],
      "metadata": {
        "id": "P37APji500mJ"
      },
      "execution_count": null,
      "outputs": []
    },
    {
      "cell_type": "code",
      "source": [
        "train_datagen = ImageDataGenerator(rescale=1. / 255,\n",
        "                                   shear_range=0.2,\n",
        "                                   zoom_range=0.2,\n",
        "                                   horizontal_flip=True)\n",
        "\n",
        "val_datagen = ImageDataGenerator(rescale=1. / 255,\n",
        "                                 shear_range=0.2,\n",
        "                                 zoom_range=0.2,\n",
        "                                 horizontal_flip=True)\n",
        "\n",
        "test_datagen = ImageDataGenerator(rescale=1. / 255,\n",
        "                                  shear_range=0.2,\n",
        "                                  zoom_range=0.2,\n",
        "                                  horizontal_flip=True)"
      ],
      "metadata": {
        "id": "nr8vNi3y04oK"
      },
      "execution_count": null,
      "outputs": []
    },
    {
      "cell_type": "code",
      "source": [
        "train_generator = train_datagen.flow_from_directory('/content/drive/MyDrive/basedata/Train',\n",
        "                                                    target_size=input_size,\n",
        "                                                    batch_size=batch_size,\n",
        "                                                    class_mode='categorical',\n",
        "                                                    shuffle=True)\n",
        "\n",
        "val_generator = val_datagen.flow_from_directory('/content/drive/MyDrive/basedata/Test',\n",
        "                                                target_size=input_size,\n",
        "                                                batch_size=batch_size,\n",
        "                                                class_mode='categorical',\n",
        "                                                shuffle=True)\n",
        "\n",
        "test_generator = test_datagen.flow_from_directory('/content/drive/MyDrive/basedata/Validation',\n",
        "                                                  target_size=input_size,\n",
        "                                                  batch_size=batch_size,\n",
        "                                                  class_mode='categorical',\n",
        "                                                  shuffle=True)\n",
        "num_class = test_generator.num_classes\n",
        "labels = train_generator.class_indices.keys()"
      ],
      "metadata": {
        "colab": {
          "base_uri": "https://localhost:8080/"
        },
        "id": "azH8lItI07Nv",
        "outputId": "a934d4dc-23a4-4e2e-d46a-df23196ef804"
      },
      "execution_count": null,
      "outputs": [
        {
          "output_type": "stream",
          "name": "stdout",
          "text": [
            "Found 12 images belonging to 2 classes.\n",
            "Found 6 images belonging to 2 classes.\n",
            "Found 4 images belonging to 2 classes.\n"
          ]
        }
      ]
    },
    {
      "cell_type": "code",
      "source": [
        "print(labels)"
      ],
      "metadata": {
        "colab": {
          "base_uri": "https://localhost:8080/"
        },
        "id": "Gma--EHX1BRH",
        "outputId": "8aab8527-2c12-4c46-d43a-5943fc743624"
      },
      "execution_count": null,
      "outputs": [
        {
          "output_type": "stream",
          "name": "stdout",
          "text": [
            "dict_keys(['Asli', 'Palsu'])\n"
          ]
        }
      ]
    },
    {
      "cell_type": "code",
      "source": [
        "def tf_data_generator(generator, input_shape):\n",
        "    num_class = generator.num_classes\n",
        "    tf_generator = tf.data.Dataset.from_generator(\n",
        "        lambda: generator,\n",
        "        output_types=(tf.float32, tf.float32),\n",
        "        output_shapes=([None\n",
        "                        , input_shape[0]\n",
        "                        , input_shape[1]\n",
        "                        , input_shape[2]]\n",
        "                       ,[None, num_class])\n",
        "    )\n",
        "    return tf_generator"
      ],
      "metadata": {
        "id": "BkeFjrdG1aoq"
      },
      "execution_count": null,
      "outputs": []
    },
    {
      "cell_type": "code",
      "source": [
        "train_data = tf_data_generator(train_generator, input_shape)\n",
        "test_data = tf_data_generator(test_generator, input_shape)\n",
        "val_data = tf_data_generator(val_generator, input_shape)"
      ],
      "metadata": {
        "id": "S3Vx-tEA1f-R"
      },
      "execution_count": null,
      "outputs": []
    },
    {
      "cell_type": "code",
      "source": [
        "from tensorflow.keras import layers, Sequential\n",
        "from tensorflow.keras.models import Model\n",
        "from tensorflow.keras.layers import Conv2D, Activation, MaxPooling2D, Dropout, Flatten, Dense"
      ],
      "metadata": {
        "id": "NzcvRjUU1j_X"
      },
      "execution_count": null,
      "outputs": []
    },
    {
      "cell_type": "code",
      "source": [
        "model = Sequential()\n",
        "model.add(Conv2D(128, (3, 3), padding='same', input_shape=input_shape))\n",
        "\n",
        "model.add(Activation('relu'))\n",
        "model.add(Conv2D(32, (3, 3)))\n",
        "model.add(Activation('relu'))\n",
        "model.add(MaxPooling2D(pool_size=(2, 2)))\n",
        "model.add(Dropout(0.25))\n",
        "\n",
        "model.add(Conv2D(64, (3, 3), padding='same'))\n",
        "model.add(Activation('relu'))\n",
        "model.add(Conv2D(64, (3, 3)))\n",
        "model.add(Activation('relu'))\n",
        "model.add(MaxPooling2D(pool_size=(2, 2)))\n",
        "model.add(Dropout(0.25))\n",
        "\n",
        "model.add(Flatten())\n",
        "model.add(Dense(512))\n",
        "model.add(Activation('relu'))\n",
        "model.add(Dropout(0.5))\n",
        "model.add(Dense(num_class))\n",
        "model.add(Activation('softmax'))\n",
        "\n",
        "# Compile the model\n",
        "print('Compiling Model.......OK MANTAP')\n",
        "model.compile(optimizer='adam',\n",
        "              loss='binary_crossentropy',\n",
        "              metrics=['accuracy'])"
      ],
      "metadata": {
        "colab": {
          "base_uri": "https://localhost:8080/"
        },
        "id": "ynkYSqf_1oQ0",
        "outputId": "959bc597-06e0-49e2-f542-deda3afd0371"
      },
      "execution_count": null,
      "outputs": [
        {
          "output_type": "stream",
          "name": "stdout",
          "text": [
            "Compiling Model.......OK MANTAP\n"
          ]
        }
      ]
    },
    {
      "cell_type": "code",
      "source": [
        "model.summary()"
      ],
      "metadata": {
        "colab": {
          "base_uri": "https://localhost:8080/"
        },
        "id": "VLZt3NwK1uEJ",
        "outputId": "a6e2e3f8-b610-458e-de50-2f4a3cd5c450"
      },
      "execution_count": null,
      "outputs": [
        {
          "output_type": "stream",
          "name": "stdout",
          "text": [
            "Model: \"sequential_1\"\n",
            "_________________________________________________________________\n",
            " Layer (type)                Output Shape              Param #   \n",
            "=================================================================\n",
            " conv2d_4 (Conv2D)           (None, 150, 150, 128)     3584      \n",
            "                                                                 \n",
            " activation_6 (Activation)   (None, 150, 150, 128)     0         \n",
            "                                                                 \n",
            " conv2d_5 (Conv2D)           (None, 148, 148, 32)      36896     \n",
            "                                                                 \n",
            " activation_7 (Activation)   (None, 148, 148, 32)      0         \n",
            "                                                                 \n",
            " max_pooling2d_2 (MaxPooling  (None, 74, 74, 32)       0         \n",
            " 2D)                                                             \n",
            "                                                                 \n",
            " dropout_3 (Dropout)         (None, 74, 74, 32)        0         \n",
            "                                                                 \n",
            " conv2d_6 (Conv2D)           (None, 74, 74, 64)        18496     \n",
            "                                                                 \n",
            " activation_8 (Activation)   (None, 74, 74, 64)        0         \n",
            "                                                                 \n",
            " conv2d_7 (Conv2D)           (None, 72, 72, 64)        36928     \n",
            "                                                                 \n",
            " activation_9 (Activation)   (None, 72, 72, 64)        0         \n",
            "                                                                 \n",
            " max_pooling2d_3 (MaxPooling  (None, 36, 36, 64)       0         \n",
            " 2D)                                                             \n",
            "                                                                 \n",
            " dropout_4 (Dropout)         (None, 36, 36, 64)        0         \n",
            "                                                                 \n",
            " flatten_1 (Flatten)         (None, 82944)             0         \n",
            "                                                                 \n",
            " dense_2 (Dense)             (None, 512)               42467840  \n",
            "                                                                 \n",
            " activation_10 (Activation)  (None, 512)               0         \n",
            "                                                                 \n",
            " dropout_5 (Dropout)         (None, 512)               0         \n",
            "                                                                 \n",
            " dense_3 (Dense)             (None, 2)                 1026      \n",
            "                                                                 \n",
            " activation_11 (Activation)  (None, 2)                 0         \n",
            "                                                                 \n",
            "=================================================================\n",
            "Total params: 42,564,770\n",
            "Trainable params: 42,564,770\n",
            "Non-trainable params: 0\n",
            "_________________________________________________________________\n"
          ]
        }
      ]
    },
    {
      "cell_type": "markdown",
      "source": [
        "Train Model"
      ],
      "metadata": {
        "id": "Is2_0tA4175v"
      }
    },
    {
      "cell_type": "code",
      "source": [
        "EPOCH = 20"
      ],
      "metadata": {
        "id": "NhuYkiHq18aK"
      },
      "execution_count": null,
      "outputs": []
    },
    {
      "cell_type": "code",
      "source": [
        "history = model.fit(x=train_data,\n",
        "        steps_per_epoch=len(train_generator),\n",
        "        epochs=EPOCH,\n",
        "        validation_data=val_data,\n",
        "        validation_steps=len(val_generator),\n",
        "        shuffle=True,\n",
        "        verbose = 1)"
      ],
      "metadata": {
        "colab": {
          "base_uri": "https://localhost:8080/"
        },
        "id": "dH8nu5El18fo",
        "outputId": "68a17809-a0fa-4871-e0ce-150086945c5d"
      },
      "execution_count": null,
      "outputs": [
        {
          "output_type": "stream",
          "name": "stdout",
          "text": [
            "Epoch 1/20\n",
            "1/1 [==============================] - 11s 11s/step - loss: 0.7152 - accuracy: 0.5000 - val_loss: 1.0643 - val_accuracy: 0.5000\n",
            "Epoch 2/20\n",
            "1/1 [==============================] - 4s 4s/step - loss: 1.6335 - accuracy: 0.5000 - val_loss: 1.1542 - val_accuracy: 0.5000\n",
            "Epoch 3/20\n",
            "1/1 [==============================] - 4s 4s/step - loss: 1.8510 - accuracy: 0.5833 - val_loss: 0.7308 - val_accuracy: 0.5000\n",
            "Epoch 4/20\n",
            "1/1 [==============================] - 4s 4s/step - loss: 0.8428 - accuracy: 0.5000 - val_loss: 0.6925 - val_accuracy: 0.6667\n",
            "Epoch 5/20\n",
            "1/1 [==============================] - 4s 4s/step - loss: 0.6822 - accuracy: 0.8333 - val_loss: 0.6926 - val_accuracy: 0.5000\n",
            "Epoch 6/20\n",
            "1/1 [==============================] - 4s 4s/step - loss: 0.6873 - accuracy: 0.5000 - val_loss: 0.6927 - val_accuracy: 0.5000\n",
            "Epoch 7/20\n",
            "1/1 [==============================] - 4s 4s/step - loss: 0.7024 - accuracy: 0.4167 - val_loss: 0.6931 - val_accuracy: 0.5000\n",
            "Epoch 8/20\n",
            "1/1 [==============================] - 4s 4s/step - loss: 0.6917 - accuracy: 0.5000 - val_loss: 0.6929 - val_accuracy: 0.5000\n",
            "Epoch 9/20\n",
            "1/1 [==============================] - 4s 4s/step - loss: 0.6872 - accuracy: 0.5833 - val_loss: 0.6928 - val_accuracy: 0.5000\n",
            "Epoch 10/20\n",
            "1/1 [==============================] - 4s 4s/step - loss: 0.6956 - accuracy: 0.4167 - val_loss: 0.6927 - val_accuracy: 0.5000\n",
            "Epoch 11/20\n",
            "1/1 [==============================] - 4s 4s/step - loss: 0.6987 - accuracy: 0.5833 - val_loss: 0.6926 - val_accuracy: 0.5000\n",
            "Epoch 12/20\n",
            "1/1 [==============================] - 4s 4s/step - loss: 0.6931 - accuracy: 0.4167 - val_loss: 0.6926 - val_accuracy: 0.6667\n",
            "Epoch 13/20\n",
            "1/1 [==============================] - 4s 4s/step - loss: 0.6960 - accuracy: 0.4167 - val_loss: 0.6926 - val_accuracy: 0.6667\n",
            "Epoch 14/20\n",
            "1/1 [==============================] - 4s 4s/step - loss: 0.6958 - accuracy: 0.5000 - val_loss: 0.6926 - val_accuracy: 0.6667\n",
            "Epoch 15/20\n",
            "1/1 [==============================] - 4s 4s/step - loss: 0.6911 - accuracy: 0.5000 - val_loss: 0.6927 - val_accuracy: 0.5000\n",
            "Epoch 16/20\n",
            "1/1 [==============================] - 5s 5s/step - loss: 0.6953 - accuracy: 0.2500 - val_loss: 0.6927 - val_accuracy: 0.5000\n",
            "Epoch 17/20\n",
            "1/1 [==============================] - 4s 4s/step - loss: 0.6925 - accuracy: 0.5833 - val_loss: 0.6926 - val_accuracy: 0.6667\n",
            "Epoch 18/20\n",
            "1/1 [==============================] - 4s 4s/step - loss: 0.6938 - accuracy: 0.4167 - val_loss: 0.6928 - val_accuracy: 0.6667\n",
            "Epoch 19/20\n",
            "1/1 [==============================] - 4s 4s/step - loss: 0.6934 - accuracy: 0.5833 - val_loss: 0.6920 - val_accuracy: 0.6667\n",
            "Epoch 20/20\n",
            "1/1 [==============================] - 4s 4s/step - loss: 0.6933 - accuracy: 0.5000 - val_loss: 0.6923 - val_accuracy: 0.5000\n"
          ]
        }
      ]
    },
    {
      "cell_type": "code",
      "source": [
        "history.history['loss']"
      ],
      "metadata": {
        "colab": {
          "base_uri": "https://localhost:8080/"
        },
        "id": "6AZFisH02Y56",
        "outputId": "9e1f66a7-d45b-45a5-f633-70b5a40f74d3"
      },
      "execution_count": null,
      "outputs": [
        {
          "output_type": "execute_result",
          "data": {
            "text/plain": [
              "[0.7152073979377747,\n",
              " 1.6334620714187622,\n",
              " 1.8510141372680664,\n",
              " 0.842764139175415,\n",
              " 0.6821532845497131,\n",
              " 0.6872556805610657,\n",
              " 0.7023975849151611,\n",
              " 0.69170743227005,\n",
              " 0.6871716380119324,\n",
              " 0.6956165432929993,\n",
              " 0.6987385749816895,\n",
              " 0.6930517554283142,\n",
              " 0.695950984954834,\n",
              " 0.695807158946991,\n",
              " 0.6911490559577942,\n",
              " 0.6953168511390686,\n",
              " 0.6924500465393066,\n",
              " 0.6937904357910156,\n",
              " 0.6933606266975403,\n",
              " 0.6932888627052307]"
            ]
          },
          "metadata": {},
          "execution_count": 26
        }
      ]
    },
    {
      "cell_type": "code",
      "source": [
        "history.history['accuracy']"
      ],
      "metadata": {
        "colab": {
          "base_uri": "https://localhost:8080/"
        },
        "id": "cociCRJU2byV",
        "outputId": "4b682174-0b3f-413a-d4b3-2600ddd2d394"
      },
      "execution_count": null,
      "outputs": [
        {
          "output_type": "execute_result",
          "data": {
            "text/plain": [
              "[0.5,\n",
              " 0.5,\n",
              " 0.5833333134651184,\n",
              " 0.5,\n",
              " 0.8333333134651184,\n",
              " 0.5,\n",
              " 0.4166666567325592,\n",
              " 0.5,\n",
              " 0.5833333134651184,\n",
              " 0.4166666567325592,\n",
              " 0.5833333134651184,\n",
              " 0.4166666567325592,\n",
              " 0.4166666567325592,\n",
              " 0.5,\n",
              " 0.5,\n",
              " 0.25,\n",
              " 0.5833333134651184,\n",
              " 0.4166666567325592,\n",
              " 0.5833333134651184,\n",
              " 0.5]"
            ]
          },
          "metadata": {},
          "execution_count": 27
        }
      ]
    },
    {
      "cell_type": "markdown",
      "source": [
        "Plot the training"
      ],
      "metadata": {
        "id": "VLfVeD_w2fQ7"
      }
    },
    {
      "cell_type": "code",
      "source": [
        "from matplotlib import pyplot as plt"
      ],
      "metadata": {
        "id": "QGdUUdn_2f2m"
      },
      "execution_count": null,
      "outputs": []
    },
    {
      "cell_type": "code",
      "source": [
        "# Plot history: MAE\n",
        "plt.plot(history.history['loss'], label='Training Loss')\n",
        "plt.plot(history.history['val_loss'], label='Validation Loss')\n",
        "plt.title('Training and Validation Loss')\n",
        "plt.ylabel('value')\n",
        "plt.xlabel('No. epoch')\n",
        "plt.legend(loc=\"upper left\")\n",
        "plt.show()"
      ],
      "metadata": {
        "colab": {
          "base_uri": "https://localhost:8080/",
          "height": 295
        },
        "id": "A3Xq6nZH2iUW",
        "outputId": "71e3cfc9-b8bb-4d40-85bd-f24bf757e6bc"
      },
      "execution_count": null,
      "outputs": [
        {
          "output_type": "display_data",
          "data": {
            "text/plain": [
              "<Figure size 432x288 with 1 Axes>"
            ],
            "image/png": "[encoded data removed]"
          },
          "metadata": {
            "needs_background": "light"
          }
        }
      ]
    },
    {
      "cell_type": "code",
      "source": [
        "# Plot history: MSE\n",
        "plt.plot(history.history['accuracy'], label='Training Accuracy')\n",
        "plt.plot(history.history['val_accuracy'], label='Validation Accuracy')\n",
        "plt.title('Training and Validation Accuracy')\n",
        "plt.ylabel('value')\n",
        "plt.xlabel('No. epoch')\n",
        "plt.legend(loc=\"upper left\")\n",
        "plt.show()"
      ],
      "metadata": {
        "colab": {
          "base_uri": "https://localhost:8080/",
          "height": 295
        },
        "id": "X5eWrlAD2kzW",
        "outputId": "cf571ba4-da42-4074-98e1-704786c80333"
      },
      "execution_count": null,
      "outputs": [
        {
          "output_type": "display_data",
          "data": {
            "text/plain": [
              "<Figure size 432x288 with 1 Axes>"
            ],
            "image/png": "[encoded data removed]"
          },
          "metadata": {
            "needs_background": "light"
          }
        }
      ]
    },
    {
      "cell_type": "code",
      "source": [
        "import os"
      ],
      "metadata": {
        "id": "1lHwUFJ72n3Q"
      },
      "execution_count": null,
      "outputs": []
    },
    {
      "cell_type": "code",
      "source": [
        "import pathlib"
      ],
      "metadata": {
        "id": "3Usc7GEpDkkI"
      },
      "execution_count": null,
      "outputs": []
    },
    {
      "cell_type": "code",
      "source": [
        "import tensorflow_datasets as tfds\n",
        "tfds.disable_progress_bar()"
      ],
      "metadata": {
        "id": "WWyb8GKsA5ZB"
      },
      "execution_count": null,
      "outputs": []
    },
    {
      "cell_type": "code",
      "source": [
        "export_dir = 'saved_model/1'\n",
        "tf.saved_model.save(model, export_dir)"
      ],
      "metadata": {
        "colab": {
          "base_uri": "https://localhost:8080/"
        },
        "id": "32v-qlDAA-En",
        "outputId": "6a469ba8-9f99-4007-dbdd-b39544c816c9"
      },
      "execution_count": null,
      "outputs": [
        {
          "output_type": "stream",
          "name": "stdout",
          "text": [
            "INFO:tensorflow:Assets written to: saved_model/1/assets\n"
          ]
        }
      ]
    },
    {
      "cell_type": "code",
      "source": [
        "mode = \"Speed\"\n",
        "\n",
        "if mode == 'Storage':\n",
        "    optimization = tf.lite.Optimize.OPTIMIZE_FOR_SIZE\n",
        "elif mode == 'Speed':\n",
        "    optimization = tf.lite.Optimize.OPTIMIZE_FOR_LATENCY\n",
        "else:\n",
        "    optimization = tf.lite.Optimize.DEFAULT"
      ],
      "metadata": {
        "id": "2ydiyieWCfX1"
      },
      "execution_count": null,
      "outputs": []
    },
    {
      "cell_type": "code",
      "source": [
        "converter = tf.lite.TFLiteConverter.from_saved_model(export_dir)\n",
        "\n",
        "# Set the optimzations\n",
        "converter.optimizations = [optimization]\n",
        "\n",
        "# Invoke the converter to finally generate the TFLite model\n",
        "tflite_model = converter.convert()"
      ],
      "metadata": {
        "colab": {
          "base_uri": "https://localhost:8080/"
        },
        "id": "08g8my41ChZy",
        "outputId": "455fd65e-0ae2-463d-c063-8bdd824dcbee"
      },
      "execution_count": null,
      "outputs": [
        {
          "output_type": "stream",
          "name": "stderr",
          "text": [
            "WARNING:absl:Optimization option OPTIMIZE_FOR_LATENCY is deprecated, please use optimizations=[Optimize.DEFAULT] instead.\n",
            "WARNING:absl:Optimization option OPTIMIZE_FOR_LATENCY is deprecated, please use optimizations=[Optimize.DEFAULT] instead.\n",
            "WARNING:absl:Optimization option OPTIMIZE_FOR_LATENCY is deprecated, please use optimizations=[Optimize.DEFAULT] instead.\n",
            "WARNING:absl:Buffer deduplication procedure will be skipped when flatbuffer library is not properly loaded\n"
          ]
        }
      ]
    },
    {
      "cell_type": "code",
      "source": [
        "tflite_model_file = pathlib.Path('./model.tflite')\n",
        "tflite_model_file.write_bytes(tflite_model)"
      ],
      "metadata": {
        "colab": {
          "base_uri": "https://localhost:8080/"
        },
        "id": "TUy-8qKyDLsx",
        "outputId": "7eabf390-d2e1-449d-ddc1-2839cb542368"
      },
      "execution_count": null,
      "outputs": [
        {
          "output_type": "execute_result",
          "data": {
            "text/plain": [
              "42577424"
            ]
          },
          "metadata": {},
          "execution_count": 39
        }
      ]
    },
    {
      "cell_type": "code",
      "source": [
        "MODEL_BASE_PATH = \"model\"\n",
        "PROJECT_NAME = \"BangTanI_project\"\n",
        "SAVE_MODEL_NAME = \"model.h5\"\n",
        "save_model_path = os.path.join(MODEL_BASE_PATH, PROJECT_NAME, SAVE_MODEL_NAME)\n",
        "\n",
        "if os.path.exists(os.path.join(MODEL_BASE_PATH, PROJECT_NAME)) == False:\n",
        "    os.makedirs(os.path.join(MODEL_BASE_PATH, PROJECT_NAME))\n",
        "\n",
        "print('Saving Model At {}...'.format(save_model_path))\n",
        "model.save(save_model_path,include_optimizer=False)"
      ],
      "metadata": {
        "colab": {
          "base_uri": "https://localhost:8080/"
        },
        "id": "wR3FlRSw2prB",
        "outputId": "5cd0f4cc-9090-4b98-bbe3-b643b95abcde"
      },
      "execution_count": null,
      "outputs": [
        {
          "output_type": "stream",
          "name": "stdout",
          "text": [
            "Saving Model At model/BangTanI_project/model.h5...\n"
          ]
        }
      ]
    },
    {
      "cell_type": "markdown",
      "source": [
        "Evaluate Models"
      ],
      "metadata": {
        "id": "JpxwdDeS2wJK"
      }
    },
    {
      "cell_type": "code",
      "source": [
        "loss, acc = model.evaluate(test_data,steps=len(test_generator),verbose=0)\n",
        "print('Accuracy on training data: {:.4f} \\nLoss on training data: {:.4f}'.format(acc,loss),'\\n')\n",
        "\n",
        "loss, acc = model.evaluate(test_data,steps=len(test_generator),verbose=0)\n",
        "print('Accuracy on test data: {:.4f} \\nLoss on test data: {:.4f}'.format(acc,loss),'\\n')"
      ],
      "metadata": {
        "colab": {
          "base_uri": "https://localhost:8080/"
        },
        "id": "an133E6Y2win",
        "outputId": "6a68762d-a118-4235-a439-d3eb7dc6eba7"
      },
      "execution_count": null,
      "outputs": [
        {
          "output_type": "stream",
          "name": "stdout",
          "text": [
            "Accuracy on training data: 0.7500 \n",
            "Loss on training data: 0.6872 \n",
            "\n",
            "Accuracy on test data: 0.7500 \n",
            "Loss on test data: 0.6872 \n",
            "\n"
          ]
        }
      ]
    },
    {
      "cell_type": "code",
      "source": [
        "model_json = model.to_json()\n",
        "with open(\"model.json\", \"w\") as json_file:\n",
        "    json_file.write(model_json)\n",
        "# serialize weights to HDF5\n",
        "model.save_weights(\"model.h5\")"
      ],
      "metadata": {
        "id": "-UCxiNJN4jX8"
      },
      "execution_count": null,
      "outputs": []
    },
    {
      "cell_type": "code",
      "source": [
        "import requests\n",
        "from io import BytesIO\n",
        "\n",
        "from PIL import Image\n",
        "import numpy as np"
      ],
      "metadata": {
        "id": "ZWEyMu5W8bIa"
      },
      "execution_count": null,
      "outputs": []
    },
    {
      "cell_type": "code",
      "source": [
        "labels = ['Asli', 'Palsu']"
      ],
      "metadata": {
        "id": "uGAO1GoV-0Am"
      },
      "execution_count": null,
      "outputs": []
    },
    {
      "cell_type": "code",
      "source": [
        "def preprocess(img,input_size):\n",
        "    nimg = img.convert('RGB').resize(input_size, resample= 0)\n",
        "    img_arr = (np.array(nimg))/255\n",
        "    return img_arr\n",
        "\n",
        "def reshape(imgs_arr):\n",
        "    return np.stack(imgs_arr, axis=0)"
      ],
      "metadata": {
        "id": "QGPG4XhU8iMI"
      },
      "execution_count": null,
      "outputs": []
    },
    {
      "cell_type": "code",
      "source": [
        "im = Image.open('/content/drive/MyDrive/basedata/Test/Asli/NPK_asli.png')\n",
        "X = preprocess(im,input_size)\n",
        "X = reshape([X])\n",
        "y = model.predict(X)\n",
        "\n",
        "print(labels[np.argmax(y)], np.max(y))"
      ],
      "metadata": {
        "colab": {
          "base_uri": "https://localhost:8080/"
        },
        "id": "noho8R738PqD",
        "outputId": "89add1b3-b1f9-4d2d-a892-cf098ba0f5e3"
      },
      "execution_count": null,
      "outputs": [
        {
          "output_type": "stream",
          "name": "stdout",
          "text": [
            "Asli 0.5050157\n"
          ]
        }
      ]
    },
    {
      "cell_type": "code",
      "source": [
        "im = Image.open('/content/drive/MyDrive/basedata/Test/Palsu/NPK_palsu.png')\n",
        "X = preprocess(im,input_size)\n",
        "X = reshape([X])\n",
        "y = model.predict(X)\n",
        "\n",
        "print(labels[np.argmax(y)], np.max(y))"
      ],
      "metadata": {
        "colab": {
          "base_uri": "https://localhost:8080/"
        },
        "id": "MfR5btQI-t7n",
        "outputId": "2ae6e318-1a6e-4a0f-c963-ce5251b44ede"
      },
      "execution_count": null,
      "outputs": [
        {
          "output_type": "stream",
          "name": "stdout",
          "text": [
            "Palsu 0.5039077\n"
          ]
        }
      ]
    },
    {
      "cell_type": "code",
      "source": [
        "from google.colab import drive\n",
        "drive.mount('/content/drive')"
      ],
      "metadata": {
        "id": "igOyEfbfvcL2"
      },
      "execution_count": null,
      "outputs": []
    }
  ]
}