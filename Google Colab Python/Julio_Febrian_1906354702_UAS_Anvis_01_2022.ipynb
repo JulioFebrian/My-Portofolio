{
  "nbformat": 4,
  "nbformat_minor": 0,
  "metadata": {
    "colab": {
      "provenance": []
    },
    "kernelspec": {
      "name": "python3",
      "display_name": "Python 3"
    },
    "language_info": {
      "name": "python"
    }
  },
  "cells": [
    {
      "cell_type": "markdown",
      "source": [
        "**1. Load data ke python**"
      ],
      "metadata": {
        "id": "_E1cvMEFQkDw"
      }
    },
    {
      "cell_type": "code",
      "source": [
        "import numpy as np\n",
        "import pandas as pd\n",
        "import matplotlib.pyplot as plt\n",
        "import seaborn as sns\n",
        "import statsmodels.api as sm"
      ],
      "metadata": {
        "colab": {
          "base_uri": "https://localhost:8080/"
        },
        "id": "60Zk8IKmoDAk",
        "outputId": "243c79aa-b54c-4098-cd33-858aa7057718"
      },
      "execution_count": null,
      "outputs": [
        {
          "output_type": "stream",
          "name": "stderr",
          "text": [
            "/usr/local/lib/python3.7/dist-packages/statsmodels/tools/_testing.py:19: FutureWarning: pandas.util.testing is deprecated. Use the functions in the public API at pandas.testing instead.\n",
            "  import pandas.util.testing as tm\n"
          ]
        }
      ]
    },
    {
      "cell_type": "code",
      "source": [
        "data = pd.read_csv(\"/content/no_show_appointments.csv\")\n",
        "data"
      ],
      "metadata": {
        "colab": {
          "base_uri": "https://localhost:8080/",
          "height": 696
        },
        "id": "KUZiG-YCo0Hp",
        "outputId": "4f39cb46-d549-4911-fae9-425f0872df00"
      },
      "execution_count": null,
      "outputs": [
        {
          "output_type": "execute_result",
          "data": {
            "text/plain": [
              "         NomorPasien  NomorAppointment JenisKelamin      TanggalPembuatan  \\\n",
              "0       2.143110e+13           5611376            F  2016-04-25T07:08:41Z   \n",
              "1       2.839350e+13           5629135            M  2016-04-27T12:50:39Z   \n",
              "2       3.487580e+13           5686183            M  2016-05-11T12:18:24Z   \n",
              "3       8.356730e+13           5729853            F  2016-05-24T07:54:37Z   \n",
              "4       9.186880e+14           5690145            F  2016-05-12T09:34:57Z   \n",
              "...              ...               ...          ...                   ...   \n",
              "110522  8.963580e+12           5640115            F  2016-04-29T10:08:27Z   \n",
              "110523  4.122330e+11           5565723            F  2016-04-11T09:18:53Z   \n",
              "110524  4.542430e+12           5694002            F  2016-05-13T07:58:37Z   \n",
              "110525  3.726330e+11           5682927            F  2016-05-11T07:01:23Z   \n",
              "110526  7.925870e+11           5693324            F  2016-05-13T07:05:58Z   \n",
              "\n",
              "          TanggalAppointment  Umur                   Daerah  Beasiswa  \\\n",
              "0       2016-05-25T00:00:00Z    43              Bidara Cina         0   \n",
              "1       2016-04-29T00:00:00Z    78          Harapan Mulia           0   \n",
              "2       2016-05-17T00:00:00Z    58                Cililitan         0   \n",
              "3       2016-05-24T00:00:00Z    22             Cempaka Baru         0   \n",
              "4       2016-05-12T00:00:00Z    30                Cijantung         0   \n",
              "...                      ...   ...                      ...       ...   \n",
              "110522  2016-05-03T00:00:00Z    87                  Cipedak         0   \n",
              "110523  2016-05-13T00:00:00Z    33           Cilandak Barat         0   \n",
              "110524  2016-05-18T00:00:00Z    29   Cipinang Besar Selatan         0   \n",
              "110525  2016-05-13T00:00:00Z    50                    Angke         0   \n",
              "110526  2016-05-13T00:00:00Z     6                Cilangkap         0   \n",
              "\n",
              "        DarahTinggi  Diabetes  Alkohol  Disabled  SMS_received No-show  \n",
              "0                 0         0        0         0             1      No  \n",
              "1                 1         1        0         0             0      No  \n",
              "2                 1         0        0         0             0      No  \n",
              "3                 0         0        0         0             0      No  \n",
              "4                 0         0        0         0             0      No  \n",
              "...             ...       ...      ...       ...           ...     ...  \n",
              "110522            0         0        0         0             1      No  \n",
              "110523            0         0        0         0             0     Yes  \n",
              "110524            0         0        0         0             0      No  \n",
              "110525            0         0        0         0             0      No  \n",
              "110526            0         0        0         0             0      No  \n",
              "\n",
              "[110527 rows x 14 columns]"
            ],
            "text/html": [
              "\n",
              "  <div id=\"df-11c902ae-3ac6-498f-9fb8-9c06f69c26c4\">\n",
              "    <div class=\"colab-df-container\">\n",
              "      <div>\n",
              "<style scoped>\n",
              "    .dataframe tbody tr th:only-of-type {\n",
              "        vertical-align: middle;\n",
              "    }\n",
              "\n",
              "    .dataframe tbody tr th {\n",
              "        vertical-align: top;\n",
              "    }\n",
              "\n",
              "    .dataframe thead th {\n",
              "        text-align: right;\n",
              "    }\n",
              "</style>\n",
              "<table border=\"1\" class=\"dataframe\">\n",
              "  <thead>\n",
              "    <tr style=\"text-align: right;\">\n",
              "      <th></th>\n",
              "      <th>NomorPasien</th>\n",
              "      <th>NomorAppointment</th>\n",
              "      <th>JenisKelamin</th>\n",
              "      <th>TanggalPembuatan</th>\n",
              "      <th>TanggalAppointment</th>\n",
              "      <th>Umur</th>\n",
              "      <th>Daerah</th>\n",
              "      <th>Beasiswa</th>\n",
              "      <th>DarahTinggi</th>\n",
              "      <th>Diabetes</th>\n",
              "      <th>Alkohol</th>\n",
              "      <th>Disabled</th>\n",
              "      <th>SMS_received</th>\n",
              "      <th>No-show</th>\n",
              "    </tr>\n",
              "  </thead>\n",
              "  <tbody>\n",
              "    <tr>\n",
              "      <th>0</th>\n",
              "      <td>2.143110e+13</td>\n",
              "      <td>5611376</td>\n",
              "      <td>F</td>\n",
              "      <td>2016-04-25T07:08:41Z</td>\n",
              "      <td>2016-05-25T00:00:00Z</td>\n",
              "      <td>43</td>\n",
              "      <td>Bidara Cina</td>\n",
              "      <td>0</td>\n",
              "      <td>0</td>\n",
              "      <td>0</td>\n",
              "      <td>0</td>\n",
              "      <td>0</td>\n",
              "      <td>1</td>\n",
              "      <td>No</td>\n",
              "    </tr>\n",
              "    <tr>\n",
              "      <th>1</th>\n",
              "      <td>2.839350e+13</td>\n",
              "      <td>5629135</td>\n",
              "      <td>M</td>\n",
              "      <td>2016-04-27T12:50:39Z</td>\n",
              "      <td>2016-04-29T00:00:00Z</td>\n",
              "      <td>78</td>\n",
              "      <td>Harapan Mulia</td>\n",
              "      <td>0</td>\n",
              "      <td>1</td>\n",
              "      <td>1</td>\n",
              "      <td>0</td>\n",
              "      <td>0</td>\n",
              "      <td>0</td>\n",
              "      <td>No</td>\n",
              "    </tr>\n",
              "    <tr>\n",
              "      <th>2</th>\n",
              "      <td>3.487580e+13</td>\n",
              "      <td>5686183</td>\n",
              "      <td>M</td>\n",
              "      <td>2016-05-11T12:18:24Z</td>\n",
              "      <td>2016-05-17T00:00:00Z</td>\n",
              "      <td>58</td>\n",
              "      <td>Cililitan</td>\n",
              "      <td>0</td>\n",
              "      <td>1</td>\n",
              "      <td>0</td>\n",
              "      <td>0</td>\n",
              "      <td>0</td>\n",
              "      <td>0</td>\n",
              "      <td>No</td>\n",
              "    </tr>\n",
              "    <tr>\n",
              "      <th>3</th>\n",
              "      <td>8.356730e+13</td>\n",
              "      <td>5729853</td>\n",
              "      <td>F</td>\n",
              "      <td>2016-05-24T07:54:37Z</td>\n",
              "      <td>2016-05-24T00:00:00Z</td>\n",
              "      <td>22</td>\n",
              "      <td>Cempaka Baru</td>\n",
              "      <td>0</td>\n",
              "      <td>0</td>\n",
              "      <td>0</td>\n",
              "      <td>0</td>\n",
              "      <td>0</td>\n",
              "      <td>0</td>\n",
              "      <td>No</td>\n",
              "    </tr>\n",
              "    <tr>\n",
              "      <th>4</th>\n",
              "      <td>9.186880e+14</td>\n",
              "      <td>5690145</td>\n",
              "      <td>F</td>\n",
              "      <td>2016-05-12T09:34:57Z</td>\n",
              "      <td>2016-05-12T00:00:00Z</td>\n",
              "      <td>30</td>\n",
              "      <td>Cijantung</td>\n",
              "      <td>0</td>\n",
              "      <td>0</td>\n",
              "      <td>0</td>\n",
              "      <td>0</td>\n",
              "      <td>0</td>\n",
              "      <td>0</td>\n",
              "      <td>No</td>\n",
              "    </tr>\n",
              "    <tr>\n",
              "      <th>...</th>\n",
              "      <td>...</td>\n",
              "      <td>...</td>\n",
              "      <td>...</td>\n",
              "      <td>...</td>\n",
              "      <td>...</td>\n",
              "      <td>...</td>\n",
              "      <td>...</td>\n",
              "      <td>...</td>\n",
              "      <td>...</td>\n",
              "      <td>...</td>\n",
              "      <td>...</td>\n",
              "      <td>...</td>\n",
              "      <td>...</td>\n",
              "      <td>...</td>\n",
              "    </tr>\n",
              "    <tr>\n",
              "      <th>110522</th>\n",
              "      <td>8.963580e+12</td>\n",
              "      <td>5640115</td>\n",
              "      <td>F</td>\n",
              "      <td>2016-04-29T10:08:27Z</td>\n",
              "      <td>2016-05-03T00:00:00Z</td>\n",
              "      <td>87</td>\n",
              "      <td>Cipedak</td>\n",
              "      <td>0</td>\n",
              "      <td>0</td>\n",
              "      <td>0</td>\n",
              "      <td>0</td>\n",
              "      <td>0</td>\n",
              "      <td>1</td>\n",
              "      <td>No</td>\n",
              "    </tr>\n",
              "    <tr>\n",
              "      <th>110523</th>\n",
              "      <td>4.122330e+11</td>\n",
              "      <td>5565723</td>\n",
              "      <td>F</td>\n",
              "      <td>2016-04-11T09:18:53Z</td>\n",
              "      <td>2016-05-13T00:00:00Z</td>\n",
              "      <td>33</td>\n",
              "      <td>Cilandak Barat</td>\n",
              "      <td>0</td>\n",
              "      <td>0</td>\n",
              "      <td>0</td>\n",
              "      <td>0</td>\n",
              "      <td>0</td>\n",
              "      <td>0</td>\n",
              "      <td>Yes</td>\n",
              "    </tr>\n",
              "    <tr>\n",
              "      <th>110524</th>\n",
              "      <td>4.542430e+12</td>\n",
              "      <td>5694002</td>\n",
              "      <td>F</td>\n",
              "      <td>2016-05-13T07:58:37Z</td>\n",
              "      <td>2016-05-18T00:00:00Z</td>\n",
              "      <td>29</td>\n",
              "      <td>Cipinang Besar Selatan</td>\n",
              "      <td>0</td>\n",
              "      <td>0</td>\n",
              "      <td>0</td>\n",
              "      <td>0</td>\n",
              "      <td>0</td>\n",
              "      <td>0</td>\n",
              "      <td>No</td>\n",
              "    </tr>\n",
              "    <tr>\n",
              "      <th>110525</th>\n",
              "      <td>3.726330e+11</td>\n",
              "      <td>5682927</td>\n",
              "      <td>F</td>\n",
              "      <td>2016-05-11T07:01:23Z</td>\n",
              "      <td>2016-05-13T00:00:00Z</td>\n",
              "      <td>50</td>\n",
              "      <td>Angke</td>\n",
              "      <td>0</td>\n",
              "      <td>0</td>\n",
              "      <td>0</td>\n",
              "      <td>0</td>\n",
              "      <td>0</td>\n",
              "      <td>0</td>\n",
              "      <td>No</td>\n",
              "    </tr>\n",
              "    <tr>\n",
              "      <th>110526</th>\n",
              "      <td>7.925870e+11</td>\n",
              "      <td>5693324</td>\n",
              "      <td>F</td>\n",
              "      <td>2016-05-13T07:05:58Z</td>\n",
              "      <td>2016-05-13T00:00:00Z</td>\n",
              "      <td>6</td>\n",
              "      <td>Cilangkap</td>\n",
              "      <td>0</td>\n",
              "      <td>0</td>\n",
              "      <td>0</td>\n",
              "      <td>0</td>\n",
              "      <td>0</td>\n",
              "      <td>0</td>\n",
              "      <td>No</td>\n",
              "    </tr>\n",
              "  </tbody>\n",
              "</table>\n",
              "<p>110527 rows × 14 columns</p>\n",
              "</div>\n",
              "      <button class=\"colab-df-convert\" onclick=\"convertToInteractive('df-11c902ae-3ac6-498f-9fb8-9c06f69c26c4')\"\n",
              "              title=\"Convert this dataframe to an interactive table.\"\n",
              "              style=\"display:none;\">\n",
              "        \n",
              "  <svg xmlns=\"http://www.w3.org/2000/svg\" height=\"24px\"viewBox=\"0 0 24 24\"\n",
              "       width=\"24px\">\n",
              "    <path d=\"M0 0h24v24H0V0z\" fill=\"none\"/>\n",
              "    <path d=\"M18.56 5.44l.94 2.06.94-2.06 2.06-.94-2.06-.94-.94-2.06-.94 2.06-2.06.94zm-11 1L8.5 8.5l.94-2.06 2.06-.94-2.06-.94L8.5 2.5l-.94 2.06-2.06.94zm10 10l.94 2.06.94-2.06 2.06-.94-2.06-.94-.94-2.06-.94 2.06-2.06.94z\"/><path d=\"M17.41 7.96l-1.37-1.37c-.4-.4-.92-.59-1.43-.59-.52 0-1.04.2-1.43.59L10.3 9.45l-7.72 7.72c-.78.78-.78 2.05 0 2.83L4 21.41c.39.39.9.59 1.41.59.51 0 1.02-.2 1.41-.59l7.78-7.78 2.81-2.81c.8-.78.8-2.07 0-2.86zM5.41 20L4 18.59l7.72-7.72 1.47 1.35L5.41 20z\"/>\n",
              "  </svg>\n",
              "      </button>\n",
              "      \n",
              "  <style>\n",
              "    .colab-df-container {\n",
              "      display:flex;\n",
              "      flex-wrap:wrap;\n",
              "      gap: 12px;\n",
              "    }\n",
              "\n",
              "    .colab-df-convert {\n",
              "      background-color: #E8F0FE;\n",
              "      border: none;\n",
              "      border-radius: 50%;\n",
              "      cursor: pointer;\n",
              "      display: none;\n",
              "      fill: #1967D2;\n",
              "      height: 32px;\n",
              "      padding: 0 0 0 0;\n",
              "      width: 32px;\n",
              "    }\n",
              "\n",
              "    .colab-df-convert:hover {\n",
              "      background-color: #E2EBFA;\n",
              "      box-shadow: 0px 1px 2px rgba(60, 64, 67, 0.3), 0px 1px 3px 1px rgba(60, 64, 67, 0.15);\n",
              "      fill: #174EA6;\n",
              "    }\n",
              "\n",
              "    [theme=dark] .colab-df-convert {\n",
              "      background-color: #3B4455;\n",
              "      fill: #D2E3FC;\n",
              "    }\n",
              "\n",
              "    [theme=dark] .colab-df-convert:hover {\n",
              "      background-color: #434B5C;\n",
              "      box-shadow: 0px 1px 3px 1px rgba(0, 0, 0, 0.15);\n",
              "      filter: drop-shadow(0px 1px 2px rgba(0, 0, 0, 0.3));\n",
              "      fill: #FFFFFF;\n",
              "    }\n",
              "  </style>\n",
              "\n",
              "      <script>\n",
              "        const buttonEl =\n",
              "          document.querySelector('#df-11c902ae-3ac6-498f-9fb8-9c06f69c26c4 button.colab-df-convert');\n",
              "        buttonEl.style.display =\n",
              "          google.colab.kernel.accessAllowed ? 'block' : 'none';\n",
              "\n",
              "        async function convertToInteractive(key) {\n",
              "          const element = document.querySelector('#df-11c902ae-3ac6-498f-9fb8-9c06f69c26c4');\n",
              "          const dataTable =\n",
              "            await google.colab.kernel.invokeFunction('convertToInteractive',\n",
              "                                                     [key], {});\n",
              "          if (!dataTable) return;\n",
              "\n",
              "          const docLinkHtml = 'Like what you see? Visit the ' +\n",
              "            '<a target=\"_blank\" href=https://colab.research.google.com/notebooks/data_table.ipynb>data table notebook</a>'\n",
              "            + ' to learn more about interactive tables.';\n",
              "          element.innerHTML = '';\n",
              "          dataTable['output_type'] = 'display_data';\n",
              "          await google.colab.output.renderOutput(dataTable, element);\n",
              "          const docLink = document.createElement('div');\n",
              "          docLink.innerHTML = docLinkHtml;\n",
              "          element.appendChild(docLink);\n",
              "        }\n",
              "      </script>\n",
              "    </div>\n",
              "  </div>\n",
              "  "
            ]
          },
          "metadata": {},
          "execution_count": 3
        }
      ]
    },
    {
      "cell_type": "code",
      "source": [
        "data.info()"
      ],
      "metadata": {
        "colab": {
          "base_uri": "https://localhost:8080/"
        },
        "id": "Ddz5FveGo_D-",
        "outputId": "18b308e9-6a84-49b2-906c-bc66a7417b6f"
      },
      "execution_count": null,
      "outputs": [
        {
          "output_type": "stream",
          "name": "stdout",
          "text": [
            "<class 'pandas.core.frame.DataFrame'>\n",
            "RangeIndex: 110527 entries, 0 to 110526\n",
            "Data columns (total 14 columns):\n",
            " #   Column              Non-Null Count   Dtype  \n",
            "---  ------              --------------   -----  \n",
            " 0   NomorPasien         110527 non-null  float64\n",
            " 1   NomorAppointment    110527 non-null  int64  \n",
            " 2   JenisKelamin        110527 non-null  object \n",
            " 3   TanggalPembuatan    110527 non-null  object \n",
            " 4   TanggalAppointment  110527 non-null  object \n",
            " 5   Umur                110527 non-null  int64  \n",
            " 6   Daerah              110527 non-null  object \n",
            " 7   Beasiswa            110527 non-null  int64  \n",
            " 8   DarahTinggi         110527 non-null  int64  \n",
            " 9   Diabetes            110527 non-null  int64  \n",
            " 10  Alkohol             110527 non-null  int64  \n",
            " 11  Disabled            110527 non-null  int64  \n",
            " 12  SMS_received        110527 non-null  int64  \n",
            " 13  No-show             110527 non-null  object \n",
            "dtypes: float64(1), int64(8), object(5)\n",
            "memory usage: 11.8+ MB\n"
          ]
        }
      ]
    },
    {
      "cell_type": "code",
      "source": [
        "data.columns = [c.strip().lower().replace('-','_') for c in data.columns]\n",
        "data['jeniskelamin'].replace(['M', 'F'], [0,1], inplace = True)\n",
        "data['no_show'].replace(['No', 'Yes'], [0,1], inplace = True)"
      ],
      "metadata": {
        "id": "pqOaKUy6pMHC"
      },
      "execution_count": null,
      "outputs": []
    },
    {
      "cell_type": "code",
      "source": [
        "data.info()"
      ],
      "metadata": {
        "colab": {
          "base_uri": "https://localhost:8080/"
        },
        "id": "coItvfDlpkdM",
        "outputId": "ea42d5ff-cee1-4a04-ac10-f764465fceeb"
      },
      "execution_count": null,
      "outputs": [
        {
          "output_type": "stream",
          "name": "stdout",
          "text": [
            "<class 'pandas.core.frame.DataFrame'>\n",
            "RangeIndex: 110527 entries, 0 to 110526\n",
            "Data columns (total 14 columns):\n",
            " #   Column              Non-Null Count   Dtype  \n",
            "---  ------              --------------   -----  \n",
            " 0   nomorpasien         110527 non-null  float64\n",
            " 1   nomorappointment    110527 non-null  int64  \n",
            " 2   jeniskelamin        110527 non-null  int64  \n",
            " 3   tanggalpembuatan    110527 non-null  object \n",
            " 4   tanggalappointment  110527 non-null  object \n",
            " 5   umur                110527 non-null  int64  \n",
            " 6   daerah              110527 non-null  object \n",
            " 7   beasiswa            110527 non-null  int64  \n",
            " 8   darahtinggi         110527 non-null  int64  \n",
            " 9   diabetes            110527 non-null  int64  \n",
            " 10  alkohol             110527 non-null  int64  \n",
            " 11  disabled            110527 non-null  int64  \n",
            " 12  sms_received        110527 non-null  int64  \n",
            " 13  no_show             110527 non-null  int64  \n",
            "dtypes: float64(1), int64(10), object(3)\n",
            "memory usage: 11.8+ MB\n"
          ]
        }
      ]
    },
    {
      "cell_type": "code",
      "source": [
        "data.head()"
      ],
      "metadata": {
        "colab": {
          "base_uri": "https://localhost:8080/",
          "height": 357
        },
        "id": "QfQo0Cm-po5m",
        "outputId": "5c280884-a441-466f-d6a2-98934bcdb353"
      },
      "execution_count": null,
      "outputs": [
        {
          "output_type": "execute_result",
          "data": {
            "text/plain": [
              "    nomorpasien  nomorappointment  jeniskelamin      tanggalpembuatan  \\\n",
              "0  2.143110e+13           5611376             1  2016-04-25T07:08:41Z   \n",
              "1  2.839350e+13           5629135             0  2016-04-27T12:50:39Z   \n",
              "2  3.487580e+13           5686183             0  2016-05-11T12:18:24Z   \n",
              "3  8.356730e+13           5729853             1  2016-05-24T07:54:37Z   \n",
              "4  9.186880e+14           5690145             1  2016-05-12T09:34:57Z   \n",
              "\n",
              "     tanggalappointment  umur            daerah  beasiswa  darahtinggi  \\\n",
              "0  2016-05-25T00:00:00Z    43       Bidara Cina         0            0   \n",
              "1  2016-04-29T00:00:00Z    78   Harapan Mulia           0            1   \n",
              "2  2016-05-17T00:00:00Z    58         Cililitan         0            1   \n",
              "3  2016-05-24T00:00:00Z    22      Cempaka Baru         0            0   \n",
              "4  2016-05-12T00:00:00Z    30         Cijantung         0            0   \n",
              "\n",
              "   diabetes  alkohol  disabled  sms_received  no_show  \n",
              "0         0        0         0             1        0  \n",
              "1         1        0         0             0        0  \n",
              "2         0        0         0             0        0  \n",
              "3         0        0         0             0        0  \n",
              "4         0        0         0             0        0  "
            ],
            "text/html": [
              "\n",
              "  <div id=\"df-598efc4b-c502-4463-a5d3-5ec821f98cfc\">\n",
              "    <div class=\"colab-df-container\">\n",
              "      <div>\n",
              "<style scoped>\n",
              "    .dataframe tbody tr th:only-of-type {\n",
              "        vertical-align: middle;\n",
              "    }\n",
              "\n",
              "    .dataframe tbody tr th {\n",
              "        vertical-align: top;\n",
              "    }\n",
              "\n",
              "    .dataframe thead th {\n",
              "        text-align: right;\n",
              "    }\n",
              "</style>\n",
              "<table border=\"1\" class=\"dataframe\">\n",
              "  <thead>\n",
              "    <tr style=\"text-align: right;\">\n",
              "      <th></th>\n",
              "      <th>nomorpasien</th>\n",
              "      <th>nomorappointment</th>\n",
              "      <th>jeniskelamin</th>\n",
              "      <th>tanggalpembuatan</th>\n",
              "      <th>tanggalappointment</th>\n",
              "      <th>umur</th>\n",
              "      <th>daerah</th>\n",
              "      <th>beasiswa</th>\n",
              "      <th>darahtinggi</th>\n",
              "      <th>diabetes</th>\n",
              "      <th>alkohol</th>\n",
              "      <th>disabled</th>\n",
              "      <th>sms_received</th>\n",
              "      <th>no_show</th>\n",
              "    </tr>\n",
              "  </thead>\n",
              "  <tbody>\n",
              "    <tr>\n",
              "      <th>0</th>\n",
              "      <td>2.143110e+13</td>\n",
              "      <td>5611376</td>\n",
              "      <td>1</td>\n",
              "      <td>2016-04-25T07:08:41Z</td>\n",
              "      <td>2016-05-25T00:00:00Z</td>\n",
              "      <td>43</td>\n",
              "      <td>Bidara Cina</td>\n",
              "      <td>0</td>\n",
              "      <td>0</td>\n",
              "      <td>0</td>\n",
              "      <td>0</td>\n",
              "      <td>0</td>\n",
              "      <td>1</td>\n",
              "      <td>0</td>\n",
              "    </tr>\n",
              "    <tr>\n",
              "      <th>1</th>\n",
              "      <td>2.839350e+13</td>\n",
              "      <td>5629135</td>\n",
              "      <td>0</td>\n",
              "      <td>2016-04-27T12:50:39Z</td>\n",
              "      <td>2016-04-29T00:00:00Z</td>\n",
              "      <td>78</td>\n",
              "      <td>Harapan Mulia</td>\n",
              "      <td>0</td>\n",
              "      <td>1</td>\n",
              "      <td>1</td>\n",
              "      <td>0</td>\n",
              "      <td>0</td>\n",
              "      <td>0</td>\n",
              "      <td>0</td>\n",
              "    </tr>\n",
              "    <tr>\n",
              "      <th>2</th>\n",
              "      <td>3.487580e+13</td>\n",
              "      <td>5686183</td>\n",
              "      <td>0</td>\n",
              "      <td>2016-05-11T12:18:24Z</td>\n",
              "      <td>2016-05-17T00:00:00Z</td>\n",
              "      <td>58</td>\n",
              "      <td>Cililitan</td>\n",
              "      <td>0</td>\n",
              "      <td>1</td>\n",
              "      <td>0</td>\n",
              "      <td>0</td>\n",
              "      <td>0</td>\n",
              "      <td>0</td>\n",
              "      <td>0</td>\n",
              "    </tr>\n",
              "    <tr>\n",
              "      <th>3</th>\n",
              "      <td>8.356730e+13</td>\n",
              "      <td>5729853</td>\n",
              "      <td>1</td>\n",
              "      <td>2016-05-24T07:54:37Z</td>\n",
              "      <td>2016-05-24T00:00:00Z</td>\n",
              "      <td>22</td>\n",
              "      <td>Cempaka Baru</td>\n",
              "      <td>0</td>\n",
              "      <td>0</td>\n",
              "      <td>0</td>\n",
              "      <td>0</td>\n",
              "      <td>0</td>\n",
              "      <td>0</td>\n",
              "      <td>0</td>\n",
              "    </tr>\n",
              "    <tr>\n",
              "      <th>4</th>\n",
              "      <td>9.186880e+14</td>\n",
              "      <td>5690145</td>\n",
              "      <td>1</td>\n",
              "      <td>2016-05-12T09:34:57Z</td>\n",
              "      <td>2016-05-12T00:00:00Z</td>\n",
              "      <td>30</td>\n",
              "      <td>Cijantung</td>\n",
              "      <td>0</td>\n",
              "      <td>0</td>\n",
              "      <td>0</td>\n",
              "      <td>0</td>\n",
              "      <td>0</td>\n",
              "      <td>0</td>\n",
              "      <td>0</td>\n",
              "    </tr>\n",
              "  </tbody>\n",
              "</table>\n",
              "</div>\n",
              "      <button class=\"colab-df-convert\" onclick=\"convertToInteractive('df-598efc4b-c502-4463-a5d3-5ec821f98cfc')\"\n",
              "              title=\"Convert this dataframe to an interactive table.\"\n",
              "              style=\"display:none;\">\n",
              "        \n",
              "  <svg xmlns=\"http://www.w3.org/2000/svg\" height=\"24px\"viewBox=\"0 0 24 24\"\n",
              "       width=\"24px\">\n",
              "    <path d=\"M0 0h24v24H0V0z\" fill=\"none\"/>\n",
              "    <path d=\"M18.56 5.44l.94 2.06.94-2.06 2.06-.94-2.06-.94-.94-2.06-.94 2.06-2.06.94zm-11 1L8.5 8.5l.94-2.06 2.06-.94-2.06-.94L8.5 2.5l-.94 2.06-2.06.94zm10 10l.94 2.06.94-2.06 2.06-.94-2.06-.94-.94-2.06-.94 2.06-2.06.94z\"/><path d=\"M17.41 7.96l-1.37-1.37c-.4-.4-.92-.59-1.43-.59-.52 0-1.04.2-1.43.59L10.3 9.45l-7.72 7.72c-.78.78-.78 2.05 0 2.83L4 21.41c.39.39.9.59 1.41.59.51 0 1.02-.2 1.41-.59l7.78-7.78 2.81-2.81c.8-.78.8-2.07 0-2.86zM5.41 20L4 18.59l7.72-7.72 1.47 1.35L5.41 20z\"/>\n",
              "  </svg>\n",
              "      </button>\n",
              "      \n",
              "  <style>\n",
              "    .colab-df-container {\n",
              "      display:flex;\n",
              "      flex-wrap:wrap;\n",
              "      gap: 12px;\n",
              "    }\n",
              "\n",
              "    .colab-df-convert {\n",
              "      background-color: #E8F0FE;\n",
              "      border: none;\n",
              "      border-radius: 50%;\n",
              "      cursor: pointer;\n",
              "      display: none;\n",
              "      fill: #1967D2;\n",
              "      height: 32px;\n",
              "      padding: 0 0 0 0;\n",
              "      width: 32px;\n",
              "    }\n",
              "\n",
              "    .colab-df-convert:hover {\n",
              "      background-color: #E2EBFA;\n",
              "      box-shadow: 0px 1px 2px rgba(60, 64, 67, 0.3), 0px 1px 3px 1px rgba(60, 64, 67, 0.15);\n",
              "      fill: #174EA6;\n",
              "    }\n",
              "\n",
              "    [theme=dark] .colab-df-convert {\n",
              "      background-color: #3B4455;\n",
              "      fill: #D2E3FC;\n",
              "    }\n",
              "\n",
              "    [theme=dark] .colab-df-convert:hover {\n",
              "      background-color: #434B5C;\n",
              "      box-shadow: 0px 1px 3px 1px rgba(0, 0, 0, 0.15);\n",
              "      filter: drop-shadow(0px 1px 2px rgba(0, 0, 0, 0.3));\n",
              "      fill: #FFFFFF;\n",
              "    }\n",
              "  </style>\n",
              "\n",
              "      <script>\n",
              "        const buttonEl =\n",
              "          document.querySelector('#df-598efc4b-c502-4463-a5d3-5ec821f98cfc button.colab-df-convert');\n",
              "        buttonEl.style.display =\n",
              "          google.colab.kernel.accessAllowed ? 'block' : 'none';\n",
              "\n",
              "        async function convertToInteractive(key) {\n",
              "          const element = document.querySelector('#df-598efc4b-c502-4463-a5d3-5ec821f98cfc');\n",
              "          const dataTable =\n",
              "            await google.colab.kernel.invokeFunction('convertToInteractive',\n",
              "                                                     [key], {});\n",
              "          if (!dataTable) return;\n",
              "\n",
              "          const docLinkHtml = 'Like what you see? Visit the ' +\n",
              "            '<a target=\"_blank\" href=https://colab.research.google.com/notebooks/data_table.ipynb>data table notebook</a>'\n",
              "            + ' to learn more about interactive tables.';\n",
              "          element.innerHTML = '';\n",
              "          dataTable['output_type'] = 'display_data';\n",
              "          await google.colab.output.renderOutput(dataTable, element);\n",
              "          const docLink = document.createElement('div');\n",
              "          docLink.innerHTML = docLinkHtml;\n",
              "          element.appendChild(docLink);\n",
              "        }\n",
              "      </script>\n",
              "    </div>\n",
              "  </div>\n",
              "  "
            ]
          },
          "metadata": {},
          "execution_count": 7
        }
      ]
    },
    {
      "cell_type": "code",
      "source": [
        "data.describe()"
      ],
      "metadata": {
        "colab": {
          "base_uri": "https://localhost:8080/",
          "height": 364
        },
        "id": "e-3zXytoptaO",
        "outputId": "d0253b3b-4305-4edf-8073-fd72c8b0b898"
      },
      "execution_count": null,
      "outputs": [
        {
          "output_type": "execute_result",
          "data": {
            "text/plain": [
              "        nomorpasien  nomorappointment   jeniskelamin           umur  \\\n",
              "count  1.105270e+05      1.105270e+05  110527.000000  110527.000000   \n",
              "mean   1.474963e+14      5.675305e+06       0.649977      37.088874   \n",
              "std    2.560949e+14      7.129575e+04       0.476979      23.110205   \n",
              "min    3.920000e+04      5.030230e+06       0.000000      -1.000000   \n",
              "25%    4.172615e+12      5.640286e+06       0.000000      18.000000   \n",
              "50%    3.173180e+13      5.680573e+06       1.000000      37.000000   \n",
              "75%    9.439170e+13      5.725524e+06       1.000000      55.000000   \n",
              "max    9.999820e+14      5.790484e+06       1.000000     115.000000   \n",
              "\n",
              "            beasiswa    darahtinggi       diabetes        alkohol  \\\n",
              "count  110527.000000  110527.000000  110527.000000  110527.000000   \n",
              "mean        0.098266       0.197246       0.071865       0.030400   \n",
              "std         0.297675       0.397921       0.258265       0.171686   \n",
              "min         0.000000       0.000000       0.000000       0.000000   \n",
              "25%         0.000000       0.000000       0.000000       0.000000   \n",
              "50%         0.000000       0.000000       0.000000       0.000000   \n",
              "75%         0.000000       0.000000       0.000000       0.000000   \n",
              "max         1.000000       1.000000       1.000000       1.000000   \n",
              "\n",
              "            disabled   sms_received        no_show  \n",
              "count  110527.000000  110527.000000  110527.000000  \n",
              "mean        0.022248       0.321026       0.201933  \n",
              "std         0.161543       0.466873       0.401444  \n",
              "min         0.000000       0.000000       0.000000  \n",
              "25%         0.000000       0.000000       0.000000  \n",
              "50%         0.000000       0.000000       0.000000  \n",
              "75%         0.000000       1.000000       0.000000  \n",
              "max         4.000000       1.000000       1.000000  "
            ],
            "text/html": [
              "\n",
              "  <div id=\"df-fbc15ca6-b601-4fc7-a036-a907b47f41a8\">\n",
              "    <div class=\"colab-df-container\">\n",
              "      <div>\n",
              "<style scoped>\n",
              "    .dataframe tbody tr th:only-of-type {\n",
              "        vertical-align: middle;\n",
              "    }\n",
              "\n",
              "    .dataframe tbody tr th {\n",
              "        vertical-align: top;\n",
              "    }\n",
              "\n",
              "    .dataframe thead th {\n",
              "        text-align: right;\n",
              "    }\n",
              "</style>\n",
              "<table border=\"1\" class=\"dataframe\">\n",
              "  <thead>\n",
              "    <tr style=\"text-align: right;\">\n",
              "      <th></th>\n",
              "      <th>nomorpasien</th>\n",
              "      <th>nomorappointment</th>\n",
              "      <th>jeniskelamin</th>\n",
              "      <th>umur</th>\n",
              "      <th>beasiswa</th>\n",
              "      <th>darahtinggi</th>\n",
              "      <th>diabetes</th>\n",
              "      <th>alkohol</th>\n",
              "      <th>disabled</th>\n",
              "      <th>sms_received</th>\n",
              "      <th>no_show</th>\n",
              "    </tr>\n",
              "  </thead>\n",
              "  <tbody>\n",
              "    <tr>\n",
              "      <th>count</th>\n",
              "      <td>1.105270e+05</td>\n",
              "      <td>1.105270e+05</td>\n",
              "      <td>110527.000000</td>\n",
              "      <td>110527.000000</td>\n",
              "      <td>110527.000000</td>\n",
              "      <td>110527.000000</td>\n",
              "      <td>110527.000000</td>\n",
              "      <td>110527.000000</td>\n",
              "      <td>110527.000000</td>\n",
              "      <td>110527.000000</td>\n",
              "      <td>110527.000000</td>\n",
              "    </tr>\n",
              "    <tr>\n",
              "      <th>mean</th>\n",
              "      <td>1.474963e+14</td>\n",
              "      <td>5.675305e+06</td>\n",
              "      <td>0.649977</td>\n",
              "      <td>37.088874</td>\n",
              "      <td>0.098266</td>\n",
              "      <td>0.197246</td>\n",
              "      <td>0.071865</td>\n",
              "      <td>0.030400</td>\n",
              "      <td>0.022248</td>\n",
              "      <td>0.321026</td>\n",
              "      <td>0.201933</td>\n",
              "    </tr>\n",
              "    <tr>\n",
              "      <th>std</th>\n",
              "      <td>2.560949e+14</td>\n",
              "      <td>7.129575e+04</td>\n",
              "      <td>0.476979</td>\n",
              "      <td>23.110205</td>\n",
              "      <td>0.297675</td>\n",
              "      <td>0.397921</td>\n",
              "      <td>0.258265</td>\n",
              "      <td>0.171686</td>\n",
              "      <td>0.161543</td>\n",
              "      <td>0.466873</td>\n",
              "      <td>0.401444</td>\n",
              "    </tr>\n",
              "    <tr>\n",
              "      <th>min</th>\n",
              "      <td>3.920000e+04</td>\n",
              "      <td>5.030230e+06</td>\n",
              "      <td>0.000000</td>\n",
              "      <td>-1.000000</td>\n",
              "      <td>0.000000</td>\n",
              "      <td>0.000000</td>\n",
              "      <td>0.000000</td>\n",
              "      <td>0.000000</td>\n",
              "      <td>0.000000</td>\n",
              "      <td>0.000000</td>\n",
              "      <td>0.000000</td>\n",
              "    </tr>\n",
              "    <tr>\n",
              "      <th>25%</th>\n",
              "      <td>4.172615e+12</td>\n",
              "      <td>5.640286e+06</td>\n",
              "      <td>0.000000</td>\n",
              "      <td>18.000000</td>\n",
              "      <td>0.000000</td>\n",
              "      <td>0.000000</td>\n",
              "      <td>0.000000</td>\n",
              "      <td>0.000000</td>\n",
              "      <td>0.000000</td>\n",
              "      <td>0.000000</td>\n",
              "      <td>0.000000</td>\n",
              "    </tr>\n",
              "    <tr>\n",
              "      <th>50%</th>\n",
              "      <td>3.173180e+13</td>\n",
              "      <td>5.680573e+06</td>\n",
              "      <td>1.000000</td>\n",
              "      <td>37.000000</td>\n",
              "      <td>0.000000</td>\n",
              "      <td>0.000000</td>\n",
              "      <td>0.000000</td>\n",
              "      <td>0.000000</td>\n",
              "      <td>0.000000</td>\n",
              "      <td>0.000000</td>\n",
              "      <td>0.000000</td>\n",
              "    </tr>\n",
              "    <tr>\n",
              "      <th>75%</th>\n",
              "      <td>9.439170e+13</td>\n",
              "      <td>5.725524e+06</td>\n",
              "      <td>1.000000</td>\n",
              "      <td>55.000000</td>\n",
              "      <td>0.000000</td>\n",
              "      <td>0.000000</td>\n",
              "      <td>0.000000</td>\n",
              "      <td>0.000000</td>\n",
              "      <td>0.000000</td>\n",
              "      <td>1.000000</td>\n",
              "      <td>0.000000</td>\n",
              "    </tr>\n",
              "    <tr>\n",
              "      <th>max</th>\n",
              "      <td>9.999820e+14</td>\n",
              "      <td>5.790484e+06</td>\n",
              "      <td>1.000000</td>\n",
              "      <td>115.000000</td>\n",
              "      <td>1.000000</td>\n",
              "      <td>1.000000</td>\n",
              "      <td>1.000000</td>\n",
              "      <td>1.000000</td>\n",
              "      <td>4.000000</td>\n",
              "      <td>1.000000</td>\n",
              "      <td>1.000000</td>\n",
              "    </tr>\n",
              "  </tbody>\n",
              "</table>\n",
              "</div>\n",
              "      <button class=\"colab-df-convert\" onclick=\"convertToInteractive('df-fbc15ca6-b601-4fc7-a036-a907b47f41a8')\"\n",
              "              title=\"Convert this dataframe to an interactive table.\"\n",
              "              style=\"display:none;\">\n",
              "        \n",
              "  <svg xmlns=\"http://www.w3.org/2000/svg\" height=\"24px\"viewBox=\"0 0 24 24\"\n",
              "       width=\"24px\">\n",
              "    <path d=\"M0 0h24v24H0V0z\" fill=\"none\"/>\n",
              "    <path d=\"M18.56 5.44l.94 2.06.94-2.06 2.06-.94-2.06-.94-.94-2.06-.94 2.06-2.06.94zm-11 1L8.5 8.5l.94-2.06 2.06-.94-2.06-.94L8.5 2.5l-.94 2.06-2.06.94zm10 10l.94 2.06.94-2.06 2.06-.94-2.06-.94-.94-2.06-.94 2.06-2.06.94z\"/><path d=\"M17.41 7.96l-1.37-1.37c-.4-.4-.92-.59-1.43-.59-.52 0-1.04.2-1.43.59L10.3 9.45l-7.72 7.72c-.78.78-.78 2.05 0 2.83L4 21.41c.39.39.9.59 1.41.59.51 0 1.02-.2 1.41-.59l7.78-7.78 2.81-2.81c.8-.78.8-2.07 0-2.86zM5.41 20L4 18.59l7.72-7.72 1.47 1.35L5.41 20z\"/>\n",
              "  </svg>\n",
              "      </button>\n",
              "      \n",
              "  <style>\n",
              "    .colab-df-container {\n",
              "      display:flex;\n",
              "      flex-wrap:wrap;\n",
              "      gap: 12px;\n",
              "    }\n",
              "\n",
              "    .colab-df-convert {\n",
              "      background-color: #E8F0FE;\n",
              "      border: none;\n",
              "      border-radius: 50%;\n",
              "      cursor: pointer;\n",
              "      display: none;\n",
              "      fill: #1967D2;\n",
              "      height: 32px;\n",
              "      padding: 0 0 0 0;\n",
              "      width: 32px;\n",
              "    }\n",
              "\n",
              "    .colab-df-convert:hover {\n",
              "      background-color: #E2EBFA;\n",
              "      box-shadow: 0px 1px 2px rgba(60, 64, 67, 0.3), 0px 1px 3px 1px rgba(60, 64, 67, 0.15);\n",
              "      fill: #174EA6;\n",
              "    }\n",
              "\n",
              "    [theme=dark] .colab-df-convert {\n",
              "      background-color: #3B4455;\n",
              "      fill: #D2E3FC;\n",
              "    }\n",
              "\n",
              "    [theme=dark] .colab-df-convert:hover {\n",
              "      background-color: #434B5C;\n",
              "      box-shadow: 0px 1px 3px 1px rgba(0, 0, 0, 0.15);\n",
              "      filter: drop-shadow(0px 1px 2px rgba(0, 0, 0, 0.3));\n",
              "      fill: #FFFFFF;\n",
              "    }\n",
              "  </style>\n",
              "\n",
              "      <script>\n",
              "        const buttonEl =\n",
              "          document.querySelector('#df-fbc15ca6-b601-4fc7-a036-a907b47f41a8 button.colab-df-convert');\n",
              "        buttonEl.style.display =\n",
              "          google.colab.kernel.accessAllowed ? 'block' : 'none';\n",
              "\n",
              "        async function convertToInteractive(key) {\n",
              "          const element = document.querySelector('#df-fbc15ca6-b601-4fc7-a036-a907b47f41a8');\n",
              "          const dataTable =\n",
              "            await google.colab.kernel.invokeFunction('convertToInteractive',\n",
              "                                                     [key], {});\n",
              "          if (!dataTable) return;\n",
              "\n",
              "          const docLinkHtml = 'Like what you see? Visit the ' +\n",
              "            '<a target=\"_blank\" href=https://colab.research.google.com/notebooks/data_table.ipynb>data table notebook</a>'\n",
              "            + ' to learn more about interactive tables.';\n",
              "          element.innerHTML = '';\n",
              "          dataTable['output_type'] = 'display_data';\n",
              "          await google.colab.output.renderOutput(dataTable, element);\n",
              "          const docLink = document.createElement('div');\n",
              "          docLink.innerHTML = docLinkHtml;\n",
              "          element.appendChild(docLink);\n",
              "        }\n",
              "      </script>\n",
              "    </div>\n",
              "  </div>\n",
              "  "
            ]
          },
          "metadata": {},
          "execution_count": 8
        }
      ]
    },
    {
      "cell_type": "code",
      "source": [
        "data.hist(figsize=(20,20));"
      ],
      "metadata": {
        "colab": {
          "base_uri": "https://localhost:8080/",
          "height": 1000
        },
        "id": "jsuR83b3p1zO",
        "outputId": "07e0411a-0339-476b-f791-cf21142101a0"
      },
      "execution_count": null,
      "outputs": [
        {
          "output_type": "display_data",
          "data": {
            "text/plain": [
              "<Figure size 1440x1440 with 12 Axes>"
            ],
            "image/png": "[encoded data removed]"
          },
          "metadata": {
            "needs_background": "light"
          }
        }
      ]
    },
    {
      "cell_type": "markdown",
      "source": [
        "**2. Cek data tidak lengkap dan outlier, dan sisihkan**"
      ],
      "metadata": {
        "id": "FwhKs2Ikc0lL"
      }
    },
    {
      "cell_type": "code",
      "source": [
        "data.isna().sum()"
      ],
      "metadata": {
        "colab": {
          "base_uri": "https://localhost:8080/"
        },
        "id": "Ixpu2T4mqCAK",
        "outputId": "9e25d173-ef56-4f12-afb1-95191e949faa"
      },
      "execution_count": null,
      "outputs": [
        {
          "output_type": "execute_result",
          "data": {
            "text/plain": [
              "nomorpasien           0\n",
              "nomorappointment      0\n",
              "jeniskelamin          0\n",
              "tanggalpembuatan      0\n",
              "tanggalappointment    0\n",
              "umur                  0\n",
              "daerah                0\n",
              "beasiswa              0\n",
              "darahtinggi           0\n",
              "diabetes              0\n",
              "alkohol               0\n",
              "disabled              0\n",
              "sms_received          0\n",
              "no_show               0\n",
              "dtype: int64"
            ]
          },
          "metadata": {},
          "execution_count": 10
        }
      ]
    },
    {
      "cell_type": "code",
      "source": [
        "sns.boxplot(x=data[\"umur\"])"
      ],
      "metadata": {
        "colab": {
          "base_uri": "https://localhost:8080/",
          "height": 297
        },
        "id": "GBwzMI3qqHBT",
        "outputId": "0c7cbccd-5ee1-42d5-8a65-de3100ef2c7a"
      },
      "execution_count": null,
      "outputs": [
        {
          "output_type": "execute_result",
          "data": {
            "text/plain": [
              "<matplotlib.axes._subplots.AxesSubplot at 0x7fec05379550>"
            ]
          },
          "metadata": {},
          "execution_count": 11
        },
        {
          "output_type": "display_data",
          "data": {
            "text/plain": [
              "<Figure size 432x288 with 1 Axes>"
            ],
            "image/png": "[encoded data removed]"
          },
          "metadata": {
            "needs_background": "light"
          }
        }
      ]
    },
    {
      "cell_type": "code",
      "source": [
        "data = data.drop(data[(data[\"umur\"]<0)].index)\n",
        "data = data.drop(data[(data[\"umur\"]>100)].index)"
      ],
      "metadata": {
        "id": "_42DFQ-2qPqo"
      },
      "execution_count": null,
      "outputs": []
    },
    {
      "cell_type": "code",
      "source": [
        "q1=data['umur'].quantile(0.25)\n",
        "q3=data['umur'].quantile(0.75)\n",
        "iqr = q3-q1\n",
        "ul = q3+1.5*iqr\n",
        "ll = q3-1.5*iqr\n",
        "data = data.drop(data[(data[\"umur\"]<ll)].index)\n",
        "data = data.drop(data[(data[\"umur\"]>ul)].index)"
      ],
      "metadata": {
        "id": "6gR9LFeVqeAx"
      },
      "execution_count": null,
      "outputs": []
    },
    {
      "cell_type": "code",
      "source": [
        "sns.boxplot(x=data[\"umur\"])"
      ],
      "metadata": {
        "colab": {
          "base_uri": "https://localhost:8080/",
          "height": 297
        },
        "id": "UFVFwjRkqyLb",
        "outputId": "03a3a5bb-b952-480c-87aa-0ea119814354"
      },
      "execution_count": null,
      "outputs": [
        {
          "output_type": "execute_result",
          "data": {
            "text/plain": [
              "<matplotlib.axes._subplots.AxesSubplot at 0x7fec03509d50>"
            ]
          },
          "metadata": {},
          "execution_count": 15
        },
        {
          "output_type": "display_data",
          "data": {
            "text/plain": [
              "<Figure size 432x288 with 1 Axes>"
            ],
            "image/png": "[encoded data removed]"
          },
          "metadata": {
            "needs_background": "light"
          }
        }
      ]
    },
    {
      "cell_type": "code",
      "source": [
        "data.describe()"
      ],
      "metadata": {
        "colab": {
          "base_uri": "https://localhost:8080/",
          "height": 364
        },
        "id": "4vcU_8qHq4SP",
        "outputId": "be91bd61-731e-4645-b10d-c4daea22feb4"
      },
      "execution_count": null,
      "outputs": [
        {
          "output_type": "execute_result",
          "data": {
            "text/plain": [
              "        nomorpasien  nomorappointment   jeniskelamin           umur  \\\n",
              "count  1.105190e+05      1.105190e+05  110519.000000  110519.000000   \n",
              "mean   1.474860e+14      5.675303e+06       0.649952      37.084519   \n",
              "std    2.560826e+14      7.129600e+04       0.476987      23.103165   \n",
              "min    3.920000e+04      5.030230e+06       0.000000       0.000000   \n",
              "25%    4.172460e+12      5.640284e+06       0.000000      18.000000   \n",
              "50%    3.172600e+13      5.680569e+06       1.000000      37.000000   \n",
              "75%    9.438960e+13      5.725522e+06       1.000000      55.000000   \n",
              "max    9.999820e+14      5.790484e+06       1.000000     100.000000   \n",
              "\n",
              "            beasiswa    darahtinggi       diabetes        alkohol  \\\n",
              "count  110519.000000  110519.000000  110519.000000  110519.000000   \n",
              "mean        0.098273       0.197251       0.071870       0.030402   \n",
              "std         0.297684       0.397925       0.258274       0.171692   \n",
              "min         0.000000       0.000000       0.000000       0.000000   \n",
              "25%         0.000000       0.000000       0.000000       0.000000   \n",
              "50%         0.000000       0.000000       0.000000       0.000000   \n",
              "75%         0.000000       0.000000       0.000000       0.000000   \n",
              "max         1.000000       1.000000       1.000000       1.000000   \n",
              "\n",
              "            disabled   sms_received        no_show  \n",
              "count  110519.000000  110519.000000  110519.000000  \n",
              "mean        0.022213       0.321040       0.201920  \n",
              "std         0.161441       0.466878       0.401435  \n",
              "min         0.000000       0.000000       0.000000  \n",
              "25%         0.000000       0.000000       0.000000  \n",
              "50%         0.000000       0.000000       0.000000  \n",
              "75%         0.000000       1.000000       0.000000  \n",
              "max         4.000000       1.000000       1.000000  "
            ],
            "text/html": [
              "\n",
              "  <div id=\"df-2ea9fa31-eb9d-4701-a5af-c4c1571181dd\">\n",
              "    <div class=\"colab-df-container\">\n",
              "      <div>\n",
              "<style scoped>\n",
              "    .dataframe tbody tr th:only-of-type {\n",
              "        vertical-align: middle;\n",
              "    }\n",
              "\n",
              "    .dataframe tbody tr th {\n",
              "        vertical-align: top;\n",
              "    }\n",
              "\n",
              "    .dataframe thead th {\n",
              "        text-align: right;\n",
              "    }\n",
              "</style>\n",
              "<table border=\"1\" class=\"dataframe\">\n",
              "  <thead>\n",
              "    <tr style=\"text-align: right;\">\n",
              "      <th></th>\n",
              "      <th>nomorpasien</th>\n",
              "      <th>nomorappointment</th>\n",
              "      <th>jeniskelamin</th>\n",
              "      <th>umur</th>\n",
              "      <th>beasiswa</th>\n",
              "      <th>darahtinggi</th>\n",
              "      <th>diabetes</th>\n",
              "      <th>alkohol</th>\n",
              "      <th>disabled</th>\n",
              "      <th>sms_received</th>\n",
              "      <th>no_show</th>\n",
              "    </tr>\n",
              "  </thead>\n",
              "  <tbody>\n",
              "    <tr>\n",
              "      <th>count</th>\n",
              "      <td>1.105190e+05</td>\n",
              "      <td>1.105190e+05</td>\n",
              "      <td>110519.000000</td>\n",
              "      <td>110519.000000</td>\n",
              "      <td>110519.000000</td>\n",
              "      <td>110519.000000</td>\n",
              "      <td>110519.000000</td>\n",
              "      <td>110519.000000</td>\n",
              "      <td>110519.000000</td>\n",
              "      <td>110519.000000</td>\n",
              "      <td>110519.000000</td>\n",
              "    </tr>\n",
              "    <tr>\n",
              "      <th>mean</th>\n",
              "      <td>1.474860e+14</td>\n",
              "      <td>5.675303e+06</td>\n",
              "      <td>0.649952</td>\n",
              "      <td>37.084519</td>\n",
              "      <td>0.098273</td>\n",
              "      <td>0.197251</td>\n",
              "      <td>0.071870</td>\n",
              "      <td>0.030402</td>\n",
              "      <td>0.022213</td>\n",
              "      <td>0.321040</td>\n",
              "      <td>0.201920</td>\n",
              "    </tr>\n",
              "    <tr>\n",
              "      <th>std</th>\n",
              "      <td>2.560826e+14</td>\n",
              "      <td>7.129600e+04</td>\n",
              "      <td>0.476987</td>\n",
              "      <td>23.103165</td>\n",
              "      <td>0.297684</td>\n",
              "      <td>0.397925</td>\n",
              "      <td>0.258274</td>\n",
              "      <td>0.171692</td>\n",
              "      <td>0.161441</td>\n",
              "      <td>0.466878</td>\n",
              "      <td>0.401435</td>\n",
              "    </tr>\n",
              "    <tr>\n",
              "      <th>min</th>\n",
              "      <td>3.920000e+04</td>\n",
              "      <td>5.030230e+06</td>\n",
              "      <td>0.000000</td>\n",
              "      <td>0.000000</td>\n",
              "      <td>0.000000</td>\n",
              "      <td>0.000000</td>\n",
              "      <td>0.000000</td>\n",
              "      <td>0.000000</td>\n",
              "      <td>0.000000</td>\n",
              "      <td>0.000000</td>\n",
              "      <td>0.000000</td>\n",
              "    </tr>\n",
              "    <tr>\n",
              "      <th>25%</th>\n",
              "      <td>4.172460e+12</td>\n",
              "      <td>5.640284e+06</td>\n",
              "      <td>0.000000</td>\n",
              "      <td>18.000000</td>\n",
              "      <td>0.000000</td>\n",
              "      <td>0.000000</td>\n",
              "      <td>0.000000</td>\n",
              "      <td>0.000000</td>\n",
              "      <td>0.000000</td>\n",
              "      <td>0.000000</td>\n",
              "      <td>0.000000</td>\n",
              "    </tr>\n",
              "    <tr>\n",
              "      <th>50%</th>\n",
              "      <td>3.172600e+13</td>\n",
              "      <td>5.680569e+06</td>\n",
              "      <td>1.000000</td>\n",
              "      <td>37.000000</td>\n",
              "      <td>0.000000</td>\n",
              "      <td>0.000000</td>\n",
              "      <td>0.000000</td>\n",
              "      <td>0.000000</td>\n",
              "      <td>0.000000</td>\n",
              "      <td>0.000000</td>\n",
              "      <td>0.000000</td>\n",
              "    </tr>\n",
              "    <tr>\n",
              "      <th>75%</th>\n",
              "      <td>9.438960e+13</td>\n",
              "      <td>5.725522e+06</td>\n",
              "      <td>1.000000</td>\n",
              "      <td>55.000000</td>\n",
              "      <td>0.000000</td>\n",
              "      <td>0.000000</td>\n",
              "      <td>0.000000</td>\n",
              "      <td>0.000000</td>\n",
              "      <td>0.000000</td>\n",
              "      <td>1.000000</td>\n",
              "      <td>0.000000</td>\n",
              "    </tr>\n",
              "    <tr>\n",
              "      <th>max</th>\n",
              "      <td>9.999820e+14</td>\n",
              "      <td>5.790484e+06</td>\n",
              "      <td>1.000000</td>\n",
              "      <td>100.000000</td>\n",
              "      <td>1.000000</td>\n",
              "      <td>1.000000</td>\n",
              "      <td>1.000000</td>\n",
              "      <td>1.000000</td>\n",
              "      <td>4.000000</td>\n",
              "      <td>1.000000</td>\n",
              "      <td>1.000000</td>\n",
              "    </tr>\n",
              "  </tbody>\n",
              "</table>\n",
              "</div>\n",
              "      <button class=\"colab-df-convert\" onclick=\"convertToInteractive('df-2ea9fa31-eb9d-4701-a5af-c4c1571181dd')\"\n",
              "              title=\"Convert this dataframe to an interactive table.\"\n",
              "              style=\"display:none;\">\n",
              "        \n",
              "  <svg xmlns=\"http://www.w3.org/2000/svg\" height=\"24px\"viewBox=\"0 0 24 24\"\n",
              "       width=\"24px\">\n",
              "    <path d=\"M0 0h24v24H0V0z\" fill=\"none\"/>\n",
              "    <path d=\"M18.56 5.44l.94 2.06.94-2.06 2.06-.94-2.06-.94-.94-2.06-.94 2.06-2.06.94zm-11 1L8.5 8.5l.94-2.06 2.06-.94-2.06-.94L8.5 2.5l-.94 2.06-2.06.94zm10 10l.94 2.06.94-2.06 2.06-.94-2.06-.94-.94-2.06-.94 2.06-2.06.94z\"/><path d=\"M17.41 7.96l-1.37-1.37c-.4-.4-.92-.59-1.43-.59-.52 0-1.04.2-1.43.59L10.3 9.45l-7.72 7.72c-.78.78-.78 2.05 0 2.83L4 21.41c.39.39.9.59 1.41.59.51 0 1.02-.2 1.41-.59l7.78-7.78 2.81-2.81c.8-.78.8-2.07 0-2.86zM5.41 20L4 18.59l7.72-7.72 1.47 1.35L5.41 20z\"/>\n",
              "  </svg>\n",
              "      </button>\n",
              "      \n",
              "  <style>\n",
              "    .colab-df-container {\n",
              "      display:flex;\n",
              "      flex-wrap:wrap;\n",
              "      gap: 12px;\n",
              "    }\n",
              "\n",
              "    .colab-df-convert {\n",
              "      background-color: #E8F0FE;\n",
              "      border: none;\n",
              "      border-radius: 50%;\n",
              "      cursor: pointer;\n",
              "      display: none;\n",
              "      fill: #1967D2;\n",
              "      height: 32px;\n",
              "      padding: 0 0 0 0;\n",
              "      width: 32px;\n",
              "    }\n",
              "\n",
              "    .colab-df-convert:hover {\n",
              "      background-color: #E2EBFA;\n",
              "      box-shadow: 0px 1px 2px rgba(60, 64, 67, 0.3), 0px 1px 3px 1px rgba(60, 64, 67, 0.15);\n",
              "      fill: #174EA6;\n",
              "    }\n",
              "\n",
              "    [theme=dark] .colab-df-convert {\n",
              "      background-color: #3B4455;\n",
              "      fill: #D2E3FC;\n",
              "    }\n",
              "\n",
              "    [theme=dark] .colab-df-convert:hover {\n",
              "      background-color: #434B5C;\n",
              "      box-shadow: 0px 1px 3px 1px rgba(0, 0, 0, 0.15);\n",
              "      filter: drop-shadow(0px 1px 2px rgba(0, 0, 0, 0.3));\n",
              "      fill: #FFFFFF;\n",
              "    }\n",
              "  </style>\n",
              "\n",
              "      <script>\n",
              "        const buttonEl =\n",
              "          document.querySelector('#df-2ea9fa31-eb9d-4701-a5af-c4c1571181dd button.colab-df-convert');\n",
              "        buttonEl.style.display =\n",
              "          google.colab.kernel.accessAllowed ? 'block' : 'none';\n",
              "\n",
              "        async function convertToInteractive(key) {\n",
              "          const element = document.querySelector('#df-2ea9fa31-eb9d-4701-a5af-c4c1571181dd');\n",
              "          const dataTable =\n",
              "            await google.colab.kernel.invokeFunction('convertToInteractive',\n",
              "                                                     [key], {});\n",
              "          if (!dataTable) return;\n",
              "\n",
              "          const docLinkHtml = 'Like what you see? Visit the ' +\n",
              "            '<a target=\"_blank\" href=https://colab.research.google.com/notebooks/data_table.ipynb>data table notebook</a>'\n",
              "            + ' to learn more about interactive tables.';\n",
              "          element.innerHTML = '';\n",
              "          dataTable['output_type'] = 'display_data';\n",
              "          await google.colab.output.renderOutput(dataTable, element);\n",
              "          const docLink = document.createElement('div');\n",
              "          docLink.innerHTML = docLinkHtml;\n",
              "          element.appendChild(docLink);\n",
              "        }\n",
              "      </script>\n",
              "    </div>\n",
              "  </div>\n",
              "  "
            ]
          },
          "metadata": {},
          "execution_count": 16
        }
      ]
    },
    {
      "cell_type": "markdown",
      "source": [
        "**3. Buat summary data berdasarkan daerah dan perlihatkan lima daerah dengan no-show terendah dan tertinggi**"
      ],
      "metadata": {
        "id": "m7YxV_mXc4vx"
      }
    },
    {
      "cell_type": "code",
      "source": [
        "data.groupby([\"daerah\"]).agg({\"no_show\":['count']}).plot(kind='bar',figsize=(20,5))\n",
        "plt.ylabel(\"no_show\")\n",
        "plt.show"
      ],
      "metadata": {
        "colab": {
          "base_uri": "https://localhost:8080/",
          "height": 436
        },
        "id": "X-TwbTwYq_fF",
        "outputId": "c6e2b4e1-aed4-4278-947c-d5d59dc4afea"
      },
      "execution_count": null,
      "outputs": [
        {
          "output_type": "execute_result",
          "data": {
            "text/plain": [
              "<function matplotlib.pyplot.show>"
            ]
          },
          "metadata": {},
          "execution_count": 20
        },
        {
          "output_type": "display_data",
          "data": {
            "text/plain": [
              "<Figure size 1440x360 with 1 Axes>"
            ],
            "image/png": "[encoded data removed]"
          },
          "metadata": {
            "needs_background": "light"
          }
        }
      ]
    },
    {
      "cell_type": "code",
      "source": [
        "summary = data.groupby([\"daerah\"])[\"no_show\"].count()\n",
        "summary.nlargest(5)"
      ],
      "metadata": {
        "colab": {
          "base_uri": "https://localhost:8080/"
        },
        "id": "be7ezyMzr4RQ",
        "outputId": "1b2b72d1-a93a-4dbf-faa8-8900179e0b28"
      },
      "execution_count": null,
      "outputs": [
        {
          "output_type": "execute_result",
          "data": {
            "text/plain": [
              "daerah\n",
              " Cengkareng Timur    7717\n",
              " Cibubur             5804\n",
              " Cijantung           4431\n",
              " Ancol               3877\n",
              " Cipedak             3514\n",
              "Name: no_show, dtype: int64"
            ]
          },
          "metadata": {},
          "execution_count": 21
        }
      ]
    },
    {
      "cell_type": "code",
      "source": [
        "data.groupby([\"daerah\"])[\"no_show\"].count().nlargest(5).sort_values(ascending=False).plot(kind=\"barh\", figsize=(10,5))\n",
        "plt.ylabel(\"Jumlah no_show\")\n",
        "plt.show"
      ],
      "metadata": {
        "colab": {
          "base_uri": "https://localhost:8080/",
          "height": 338
        },
        "id": "aGQdlXjYsCMK",
        "outputId": "4922655d-e7c4-43d2-cf09-f3de74af518b"
      },
      "execution_count": null,
      "outputs": [
        {
          "output_type": "execute_result",
          "data": {
            "text/plain": [
              "<function matplotlib.pyplot.show>"
            ]
          },
          "metadata": {},
          "execution_count": 22
        },
        {
          "output_type": "display_data",
          "data": {
            "text/plain": [
              "<Figure size 720x360 with 1 Axes>"
            ],
            "image/png": "[encoded data removed]"
          },
          "metadata": {
            "needs_background": "light"
          }
        }
      ]
    },
    {
      "cell_type": "code",
      "source": [
        "summary = data.groupby([\"daerah\"])[\"no_show\"].count()\n",
        "summary.nsmallest(5)"
      ],
      "metadata": {
        "colab": {
          "base_uri": "https://localhost:8080/"
        },
        "id": "gv1q1riKsZHE",
        "outputId": "bbf5bcc5-2937-428e-f172-3262e03a9022"
      },
      "execution_count": null,
      "outputs": [
        {
          "output_type": "execute_result",
          "data": {
            "text/plain": [
              "daerah\n",
              " Joglo             1\n",
              " Jembatan Lima     2\n",
              " Jembatan Besi     8\n",
              " Duren Sawit      10\n",
              " Jatipadang       35\n",
              "Name: no_show, dtype: int64"
            ]
          },
          "metadata": {},
          "execution_count": 23
        }
      ]
    },
    {
      "cell_type": "code",
      "source": [
        "data.groupby([\"daerah\"])[\"no_show\"].count().nsmallest(5).sort_values(ascending=False).plot(kind=\"barh\", figsize=(10,5))\n",
        "plt.ylabel(\"Jumlah no_show\")\n",
        "plt.show"
      ],
      "metadata": {
        "colab": {
          "base_uri": "https://localhost:8080/",
          "height": 338
        },
        "id": "oOkoy-hEskME",
        "outputId": "f1eafa41-5c9d-417d-a508-6017156919ed"
      },
      "execution_count": null,
      "outputs": [
        {
          "output_type": "execute_result",
          "data": {
            "text/plain": [
              "<function matplotlib.pyplot.show>"
            ]
          },
          "metadata": {},
          "execution_count": 24
        },
        {
          "output_type": "display_data",
          "data": {
            "text/plain": [
              "<Figure size 720x360 with 1 Axes>"
            ],
            "image/png": "[encoded data removed]"
          },
          "metadata": {
            "needs_background": "light"
          }
        }
      ]
    },
    {
      "cell_type": "markdown",
      "source": [
        "**4. Buat summary data berdasarkan selisih tanggal appointment dan janji dan perlihatkan apakah ada tren tertentu**"
      ],
      "metadata": {
        "id": "oWvzMBFpc-3S"
      }
    },
    {
      "cell_type": "code",
      "source": [
        "data.info()"
      ],
      "metadata": {
        "colab": {
          "base_uri": "https://localhost:8080/"
        },
        "id": "d6pIbVi5so7O",
        "outputId": "e3fcbda2-b8a1-4871-989f-e7b020c61d60"
      },
      "execution_count": null,
      "outputs": [
        {
          "output_type": "stream",
          "name": "stdout",
          "text": [
            "<class 'pandas.core.frame.DataFrame'>\n",
            "Int64Index: 110519 entries, 0 to 110526\n",
            "Data columns (total 14 columns):\n",
            " #   Column              Non-Null Count   Dtype  \n",
            "---  ------              --------------   -----  \n",
            " 0   nomorpasien         110519 non-null  float64\n",
            " 1   nomorappointment    110519 non-null  int64  \n",
            " 2   jeniskelamin        110519 non-null  int64  \n",
            " 3   tanggalpembuatan    110519 non-null  object \n",
            " 4   tanggalappointment  110519 non-null  object \n",
            " 5   umur                110519 non-null  int64  \n",
            " 6   daerah              110519 non-null  object \n",
            " 7   beasiswa            110519 non-null  int64  \n",
            " 8   darahtinggi         110519 non-null  int64  \n",
            " 9   diabetes            110519 non-null  int64  \n",
            " 10  alkohol             110519 non-null  int64  \n",
            " 11  disabled            110519 non-null  int64  \n",
            " 12  sms_received        110519 non-null  int64  \n",
            " 13  no_show             110519 non-null  int64  \n",
            "dtypes: float64(1), int64(10), object(3)\n",
            "memory usage: 16.7+ MB\n"
          ]
        }
      ]
    },
    {
      "cell_type": "code",
      "source": [
        "data[\"tanggalappointment\"] = pd.to_datetime(data[\"tanggalappointment\"], format = '%Y-%m-%d',)\n",
        "data[\"tanggalpembuatan\"] = pd.to_datetime(data[\"tanggalpembuatan\"], format = '%Y-%m-%d',)"
      ],
      "metadata": {
        "id": "ZGGJeWeJstyA"
      },
      "execution_count": null,
      "outputs": []
    },
    {
      "cell_type": "code",
      "source": [
        "data.info()"
      ],
      "metadata": {
        "colab": {
          "base_uri": "https://localhost:8080/"
        },
        "id": "72hXS9MDtEjC",
        "outputId": "c65471a9-085e-46b7-f5aa-1d8cd78d5827"
      },
      "execution_count": null,
      "outputs": [
        {
          "output_type": "stream",
          "name": "stdout",
          "text": [
            "<class 'pandas.core.frame.DataFrame'>\n",
            "Int64Index: 110519 entries, 0 to 110526\n",
            "Data columns (total 14 columns):\n",
            " #   Column              Non-Null Count   Dtype              \n",
            "---  ------              --------------   -----              \n",
            " 0   nomorpasien         110519 non-null  float64            \n",
            " 1   nomorappointment    110519 non-null  int64              \n",
            " 2   jeniskelamin        110519 non-null  int64              \n",
            " 3   tanggalpembuatan    110519 non-null  datetime64[ns, UTC]\n",
            " 4   tanggalappointment  110519 non-null  datetime64[ns, UTC]\n",
            " 5   umur                110519 non-null  int64              \n",
            " 6   daerah              110519 non-null  object             \n",
            " 7   beasiswa            110519 non-null  int64              \n",
            " 8   darahtinggi         110519 non-null  int64              \n",
            " 9   diabetes            110519 non-null  int64              \n",
            " 10  alkohol             110519 non-null  int64              \n",
            " 11  disabled            110519 non-null  int64              \n",
            " 12  sms_received        110519 non-null  int64              \n",
            " 13  no_show             110519 non-null  int64              \n",
            "dtypes: datetime64[ns, UTC](2), float64(1), int64(10), object(1)\n",
            "memory usage: 16.7+ MB\n"
          ]
        }
      ]
    },
    {
      "cell_type": "code",
      "source": [
        "data[\"selisih_waktu\"] = (data[\"tanggalappointment\"] - data[\"tanggalpembuatan\"]).dt.days"
      ],
      "metadata": {
        "id": "EPJXdcyetgsb"
      },
      "execution_count": null,
      "outputs": []
    },
    {
      "cell_type": "code",
      "source": [
        "data[\"selisih_waktu\"].hist(figsize=(12,5))\n",
        "plt.xlabel(\"Selisih waktu\")\n",
        "plt.ylabel(\"Jumlah\")\n",
        "plt.show"
      ],
      "metadata": {
        "colab": {
          "base_uri": "https://localhost:8080/",
          "height": 352
        },
        "id": "9K4JoaePtrZ0",
        "outputId": "275a46d9-6611-4211-9add-9d321f1bee36"
      },
      "execution_count": null,
      "outputs": [
        {
          "output_type": "execute_result",
          "data": {
            "text/plain": [
              "<function matplotlib.pyplot.show>"
            ]
          },
          "metadata": {},
          "execution_count": 33
        },
        {
          "output_type": "display_data",
          "data": {
            "text/plain": [
              "<Figure size 864x360 with 1 Axes>"
            ],
            "image/png": "[encoded data removed]"
          },
          "metadata": {
            "needs_background": "light"
          }
        }
      ]
    },
    {
      "cell_type": "code",
      "source": [
        "plt.plot(data[\"tanggalpembuatan\"], data[\"selisih_waktu\"], color='red', marker='o')\n",
        "plt.title(\"tanggalpembuatan terhadap selisih waktu\", fontsize=14)\n",
        "plt.xlabel('tanggalpembuatan', fontsize=14)\n",
        "plt.ylabel('selisih waktu', fontsize=14)\n",
        "plt.grid(True)\n",
        "plt.show()"
      ],
      "metadata": {
        "colab": {
          "base_uri": "https://localhost:8080/",
          "height": 300
        },
        "id": "yVl8MV4It9Xi",
        "outputId": "afb1ddda-62ec-4028-cce2-56e4f623a1c3"
      },
      "execution_count": null,
      "outputs": [
        {
          "output_type": "display_data",
          "data": {
            "text/plain": [
              "<Figure size 432x288 with 1 Axes>"
            ],
            "image/png": "[encoded data removed]"
          },
          "metadata": {
            "needs_background": "light"
          }
        }
      ]
    },
    {
      "cell_type": "markdown",
      "source": [
        "**5. Cek apakah ada korelasi kuat antara feature ke variable No-show**"
      ],
      "metadata": {
        "id": "ptERMNGedBYw"
      }
    },
    {
      "cell_type": "code",
      "source": [
        "data.corr()"
      ],
      "metadata": {
        "colab": {
          "base_uri": "https://localhost:8080/",
          "height": 489
        },
        "id": "tn47vb8Juiac",
        "outputId": "22ba0d1f-9140-48bc-e9fa-80b5aba59aab"
      },
      "execution_count": null,
      "outputs": [
        {
          "output_type": "execute_result",
          "data": {
            "text/plain": [
              "                  nomorpasien  nomorappointment  jeniskelamin      umur  \\\n",
              "nomorpasien          1.000000          0.004026     -0.007920 -0.004207   \n",
              "nomorappointment     0.004026          1.000000     -0.018516 -0.019152   \n",
              "jeniskelamin        -0.007920         -0.018516      1.000000  0.106340   \n",
              "umur                -0.004207         -0.019152      0.106340  1.000000   \n",
              "beasiswa            -0.002867          0.022624      0.114313 -0.092427   \n",
              "darahtinggi         -0.006475          0.012752      0.055731  0.504788   \n",
              "diabetes             0.001617          0.022636      0.032569  0.292544   \n",
              "alkohol              0.011020          0.032950     -0.106160  0.095877   \n",
              "disabled            -0.007815          0.014114     -0.022987  0.077382   \n",
              "sms_received        -0.009768         -0.256627      0.046322  0.012712   \n",
              "no_show             -0.001411         -0.162585      0.004096 -0.060476   \n",
              "selisih_waktu       -0.001449         -0.771830      0.028416  0.034838   \n",
              "\n",
              "                  beasiswa  darahtinggi  diabetes   alkohol  disabled  \\\n",
              "nomorpasien      -0.002867    -0.006475  0.001617  0.011020 -0.007815   \n",
              "nomorappointment  0.022624     0.012752  0.022636  0.032950  0.014114   \n",
              "jeniskelamin      0.114313     0.055731  0.032569 -0.106160 -0.022987   \n",
              "umur             -0.092427     0.504788  0.292544  0.095877  0.077382   \n",
              "beasiswa          1.000000    -0.019734 -0.024900  0.035018 -0.008521   \n",
              "darahtinggi      -0.019734     1.000000  0.433095  0.087971  0.080248   \n",
              "diabetes         -0.024900     0.433095  1.000000  0.018470  0.057628   \n",
              "alkohol           0.035018     0.087971  0.018470  1.000000  0.004689   \n",
              "disabled         -0.008521     0.080248  0.057628  0.004689  1.000000   \n",
              "sms_received      0.001184    -0.006315 -0.014559 -0.026153 -0.024028   \n",
              "no_show           0.029147    -0.035677 -0.015172 -0.000191 -0.006382   \n",
              "selisih_waktu    -0.030426    -0.017229 -0.027192 -0.038522 -0.019870   \n",
              "\n",
              "                  sms_received   no_show  selisih_waktu  \n",
              "nomorpasien          -0.009768 -0.001411      -0.001449  \n",
              "nomorappointment     -0.256627 -0.162585      -0.771830  \n",
              "jeniskelamin          0.046322  0.004096       0.028416  \n",
              "umur                  0.012712 -0.060476       0.034838  \n",
              "beasiswa              0.001184  0.029147      -0.030426  \n",
              "darahtinggi          -0.006315 -0.035677      -0.017229  \n",
              "diabetes             -0.014559 -0.015172      -0.027192  \n",
              "alkohol              -0.026153 -0.000191      -0.038522  \n",
              "disabled             -0.024028 -0.006382      -0.019870  \n",
              "sms_received          1.000000  0.126472       0.398151  \n",
              "no_show               0.126472  1.000000       0.186221  \n",
              "selisih_waktu         0.398151  0.186221       1.000000  "
            ],
            "text/html": [
              "\n",
              "  <div id=\"df-dff45b19-803d-42c8-86d8-3da3ab530c1d\">\n",
              "    <div class=\"colab-df-container\">\n",
              "      <div>\n",
              "<style scoped>\n",
              "    .dataframe tbody tr th:only-of-type {\n",
              "        vertical-align: middle;\n",
              "    }\n",
              "\n",
              "    .dataframe tbody tr th {\n",
              "        vertical-align: top;\n",
              "    }\n",
              "\n",
              "    .dataframe thead th {\n",
              "        text-align: right;\n",
              "    }\n",
              "</style>\n",
              "<table border=\"1\" class=\"dataframe\">\n",
              "  <thead>\n",
              "    <tr style=\"text-align: right;\">\n",
              "      <th></th>\n",
              "      <th>nomorpasien</th>\n",
              "      <th>nomorappointment</th>\n",
              "      <th>jeniskelamin</th>\n",
              "      <th>umur</th>\n",
              "      <th>beasiswa</th>\n",
              "      <th>darahtinggi</th>\n",
              "      <th>diabetes</th>\n",
              "      <th>alkohol</th>\n",
              "      <th>disabled</th>\n",
              "      <th>sms_received</th>\n",
              "      <th>no_show</th>\n",
              "      <th>selisih_waktu</th>\n",
              "    </tr>\n",
              "  </thead>\n",
              "  <tbody>\n",
              "    <tr>\n",
              "      <th>nomorpasien</th>\n",
              "      <td>1.000000</td>\n",
              "      <td>0.004026</td>\n",
              "      <td>-0.007920</td>\n",
              "      <td>-0.004207</td>\n",
              "      <td>-0.002867</td>\n",
              "      <td>-0.006475</td>\n",
              "      <td>0.001617</td>\n",
              "      <td>0.011020</td>\n",
              "      <td>-0.007815</td>\n",
              "      <td>-0.009768</td>\n",
              "      <td>-0.001411</td>\n",
              "      <td>-0.001449</td>\n",
              "    </tr>\n",
              "    <tr>\n",
              "      <th>nomorappointment</th>\n",
              "      <td>0.004026</td>\n",
              "      <td>1.000000</td>\n",
              "      <td>-0.018516</td>\n",
              "      <td>-0.019152</td>\n",
              "      <td>0.022624</td>\n",
              "      <td>0.012752</td>\n",
              "      <td>0.022636</td>\n",
              "      <td>0.032950</td>\n",
              "      <td>0.014114</td>\n",
              "      <td>-0.256627</td>\n",
              "      <td>-0.162585</td>\n",
              "      <td>-0.771830</td>\n",
              "    </tr>\n",
              "    <tr>\n",
              "      <th>jeniskelamin</th>\n",
              "      <td>-0.007920</td>\n",
              "      <td>-0.018516</td>\n",
              "      <td>1.000000</td>\n",
              "      <td>0.106340</td>\n",
              "      <td>0.114313</td>\n",
              "      <td>0.055731</td>\n",
              "      <td>0.032569</td>\n",
              "      <td>-0.106160</td>\n",
              "      <td>-0.022987</td>\n",
              "      <td>0.046322</td>\n",
              "      <td>0.004096</td>\n",
              "      <td>0.028416</td>\n",
              "    </tr>\n",
              "    <tr>\n",
              "      <th>umur</th>\n",
              "      <td>-0.004207</td>\n",
              "      <td>-0.019152</td>\n",
              "      <td>0.106340</td>\n",
              "      <td>1.000000</td>\n",
              "      <td>-0.092427</td>\n",
              "      <td>0.504788</td>\n",
              "      <td>0.292544</td>\n",
              "      <td>0.095877</td>\n",
              "      <td>0.077382</td>\n",
              "      <td>0.012712</td>\n",
              "      <td>-0.060476</td>\n",
              "      <td>0.034838</td>\n",
              "    </tr>\n",
              "    <tr>\n",
              "      <th>beasiswa</th>\n",
              "      <td>-0.002867</td>\n",
              "      <td>0.022624</td>\n",
              "      <td>0.114313</td>\n",
              "      <td>-0.092427</td>\n",
              "      <td>1.000000</td>\n",
              "      <td>-0.019734</td>\n",
              "      <td>-0.024900</td>\n",
              "      <td>0.035018</td>\n",
              "      <td>-0.008521</td>\n",
              "      <td>0.001184</td>\n",
              "      <td>0.029147</td>\n",
              "      <td>-0.030426</td>\n",
              "    </tr>\n",
              "    <tr>\n",
              "      <th>darahtinggi</th>\n",
              "      <td>-0.006475</td>\n",
              "      <td>0.012752</td>\n",
              "      <td>0.055731</td>\n",
              "      <td>0.504788</td>\n",
              "      <td>-0.019734</td>\n",
              "      <td>1.000000</td>\n",
              "      <td>0.433095</td>\n",
              "      <td>0.087971</td>\n",
              "      <td>0.080248</td>\n",
              "      <td>-0.006315</td>\n",
              "      <td>-0.035677</td>\n",
              "      <td>-0.017229</td>\n",
              "    </tr>\n",
              "    <tr>\n",
              "      <th>diabetes</th>\n",
              "      <td>0.001617</td>\n",
              "      <td>0.022636</td>\n",
              "      <td>0.032569</td>\n",
              "      <td>0.292544</td>\n",
              "      <td>-0.024900</td>\n",
              "      <td>0.433095</td>\n",
              "      <td>1.000000</td>\n",
              "      <td>0.018470</td>\n",
              "      <td>0.057628</td>\n",
              "      <td>-0.014559</td>\n",
              "      <td>-0.015172</td>\n",
              "      <td>-0.027192</td>\n",
              "    </tr>\n",
              "    <tr>\n",
              "      <th>alkohol</th>\n",
              "      <td>0.011020</td>\n",
              "      <td>0.032950</td>\n",
              "      <td>-0.106160</td>\n",
              "      <td>0.095877</td>\n",
              "      <td>0.035018</td>\n",
              "      <td>0.087971</td>\n",
              "      <td>0.018470</td>\n",
              "      <td>1.000000</td>\n",
              "      <td>0.004689</td>\n",
              "      <td>-0.026153</td>\n",
              "      <td>-0.000191</td>\n",
              "      <td>-0.038522</td>\n",
              "    </tr>\n",
              "    <tr>\n",
              "      <th>disabled</th>\n",
              "      <td>-0.007815</td>\n",
              "      <td>0.014114</td>\n",
              "      <td>-0.022987</td>\n",
              "      <td>0.077382</td>\n",
              "      <td>-0.008521</td>\n",
              "      <td>0.080248</td>\n",
              "      <td>0.057628</td>\n",
              "      <td>0.004689</td>\n",
              "      <td>1.000000</td>\n",
              "      <td>-0.024028</td>\n",
              "      <td>-0.006382</td>\n",
              "      <td>-0.019870</td>\n",
              "    </tr>\n",
              "    <tr>\n",
              "      <th>sms_received</th>\n",
              "      <td>-0.009768</td>\n",
              "      <td>-0.256627</td>\n",
              "      <td>0.046322</td>\n",
              "      <td>0.012712</td>\n",
              "      <td>0.001184</td>\n",
              "      <td>-0.006315</td>\n",
              "      <td>-0.014559</td>\n",
              "      <td>-0.026153</td>\n",
              "      <td>-0.024028</td>\n",
              "      <td>1.000000</td>\n",
              "      <td>0.126472</td>\n",
              "      <td>0.398151</td>\n",
              "    </tr>\n",
              "    <tr>\n",
              "      <th>no_show</th>\n",
              "      <td>-0.001411</td>\n",
              "      <td>-0.162585</td>\n",
              "      <td>0.004096</td>\n",
              "      <td>-0.060476</td>\n",
              "      <td>0.029147</td>\n",
              "      <td>-0.035677</td>\n",
              "      <td>-0.015172</td>\n",
              "      <td>-0.000191</td>\n",
              "      <td>-0.006382</td>\n",
              "      <td>0.126472</td>\n",
              "      <td>1.000000</td>\n",
              "      <td>0.186221</td>\n",
              "    </tr>\n",
              "    <tr>\n",
              "      <th>selisih_waktu</th>\n",
              "      <td>-0.001449</td>\n",
              "      <td>-0.771830</td>\n",
              "      <td>0.028416</td>\n",
              "      <td>0.034838</td>\n",
              "      <td>-0.030426</td>\n",
              "      <td>-0.017229</td>\n",
              "      <td>-0.027192</td>\n",
              "      <td>-0.038522</td>\n",
              "      <td>-0.019870</td>\n",
              "      <td>0.398151</td>\n",
              "      <td>0.186221</td>\n",
              "      <td>1.000000</td>\n",
              "    </tr>\n",
              "  </tbody>\n",
              "</table>\n",
              "</div>\n",
              "      <button class=\"colab-df-convert\" onclick=\"convertToInteractive('df-dff45b19-803d-42c8-86d8-3da3ab530c1d')\"\n",
              "              title=\"Convert this dataframe to an interactive table.\"\n",
              "              style=\"display:none;\">\n",
              "        \n",
              "  <svg xmlns=\"http://www.w3.org/2000/svg\" height=\"24px\"viewBox=\"0 0 24 24\"\n",
              "       width=\"24px\">\n",
              "    <path d=\"M0 0h24v24H0V0z\" fill=\"none\"/>\n",
              "    <path d=\"M18.56 5.44l.94 2.06.94-2.06 2.06-.94-2.06-.94-.94-2.06-.94 2.06-2.06.94zm-11 1L8.5 8.5l.94-2.06 2.06-.94-2.06-.94L8.5 2.5l-.94 2.06-2.06.94zm10 10l.94 2.06.94-2.06 2.06-.94-2.06-.94-.94-2.06-.94 2.06-2.06.94z\"/><path d=\"M17.41 7.96l-1.37-1.37c-.4-.4-.92-.59-1.43-.59-.52 0-1.04.2-1.43.59L10.3 9.45l-7.72 7.72c-.78.78-.78 2.05 0 2.83L4 21.41c.39.39.9.59 1.41.59.51 0 1.02-.2 1.41-.59l7.78-7.78 2.81-2.81c.8-.78.8-2.07 0-2.86zM5.41 20L4 18.59l7.72-7.72 1.47 1.35L5.41 20z\"/>\n",
              "  </svg>\n",
              "      </button>\n",
              "      \n",
              "  <style>\n",
              "    .colab-df-container {\n",
              "      display:flex;\n",
              "      flex-wrap:wrap;\n",
              "      gap: 12px;\n",
              "    }\n",
              "\n",
              "    .colab-df-convert {\n",
              "      background-color: #E8F0FE;\n",
              "      border: none;\n",
              "      border-radius: 50%;\n",
              "      cursor: pointer;\n",
              "      display: none;\n",
              "      fill: #1967D2;\n",
              "      height: 32px;\n",
              "      padding: 0 0 0 0;\n",
              "      width: 32px;\n",
              "    }\n",
              "\n",
              "    .colab-df-convert:hover {\n",
              "      background-color: #E2EBFA;\n",
              "      box-shadow: 0px 1px 2px rgba(60, 64, 67, 0.3), 0px 1px 3px 1px rgba(60, 64, 67, 0.15);\n",
              "      fill: #174EA6;\n",
              "    }\n",
              "\n",
              "    [theme=dark] .colab-df-convert {\n",
              "      background-color: #3B4455;\n",
              "      fill: #D2E3FC;\n",
              "    }\n",
              "\n",
              "    [theme=dark] .colab-df-convert:hover {\n",
              "      background-color: #434B5C;\n",
              "      box-shadow: 0px 1px 3px 1px rgba(0, 0, 0, 0.15);\n",
              "      filter: drop-shadow(0px 1px 2px rgba(0, 0, 0, 0.3));\n",
              "      fill: #FFFFFF;\n",
              "    }\n",
              "  </style>\n",
              "\n",
              "      <script>\n",
              "        const buttonEl =\n",
              "          document.querySelector('#df-dff45b19-803d-42c8-86d8-3da3ab530c1d button.colab-df-convert');\n",
              "        buttonEl.style.display =\n",
              "          google.colab.kernel.accessAllowed ? 'block' : 'none';\n",
              "\n",
              "        async function convertToInteractive(key) {\n",
              "          const element = document.querySelector('#df-dff45b19-803d-42c8-86d8-3da3ab530c1d');\n",
              "          const dataTable =\n",
              "            await google.colab.kernel.invokeFunction('convertToInteractive',\n",
              "                                                     [key], {});\n",
              "          if (!dataTable) return;\n",
              "\n",
              "          const docLinkHtml = 'Like what you see? Visit the ' +\n",
              "            '<a target=\"_blank\" href=https://colab.research.google.com/notebooks/data_table.ipynb>data table notebook</a>'\n",
              "            + ' to learn more about interactive tables.';\n",
              "          element.innerHTML = '';\n",
              "          dataTable['output_type'] = 'display_data';\n",
              "          await google.colab.output.renderOutput(dataTable, element);\n",
              "          const docLink = document.createElement('div');\n",
              "          docLink.innerHTML = docLinkHtml;\n",
              "          element.appendChild(docLink);\n",
              "        }\n",
              "      </script>\n",
              "    </div>\n",
              "  </div>\n",
              "  "
            ]
          },
          "metadata": {},
          "execution_count": 37
        }
      ]
    },
    {
      "cell_type": "code",
      "source": [
        "cr = data.corr()\n",
        "plt.figure(figsize=(15,15), dpi = 80)\n",
        "sns.heatmap(cr[(cr>=0.5)|(cr<=-0.5)], annot = True, cmap = 'coolwarm')"
      ],
      "metadata": {
        "colab": {
          "base_uri": "https://localhost:8080/",
          "height": 1000
        },
        "id": "C9cVFJtHurEz",
        "outputId": "cc9a3acc-653a-4bf0-adbf-675f39cabca8"
      },
      "execution_count": null,
      "outputs": [
        {
          "output_type": "execute_result",
          "data": {
            "text/plain": [
              "<matplotlib.axes._subplots.AxesSubplot at 0x7fec03384ad0>"
            ]
          },
          "metadata": {},
          "execution_count": 38
        },
        {
          "output_type": "display_data",
          "data": {
            "text/plain": [
              "<Figure size 1200x1200 with 2 Axes>"
            ],
            "image/png": "[encoded data removed]"
          },
          "metadata": {
            "needs_background": "light"
          }
        }
      ]
    },
    {
      "cell_type": "markdown",
      "source": [
        "**6. Buat regresi linear/logistik untuk memprediksi No-show**"
      ],
      "metadata": {
        "id": "2gIfqyaCdEKq"
      }
    },
    {
      "cell_type": "code",
      "source": [
        "lm = sm.OLS.from_formula(\"no_show ~ jeniskelamin + umur + beasiswa + darahtinggi + diabetes + alkohol + disabled + sms_received + selisih_waktu\", data)\n",
        "result = lm.fit()\n",
        "result.summary()"
      ],
      "metadata": {
        "colab": {
          "base_uri": "https://localhost:8080/",
          "height": 597
        },
        "id": "9D55QAqmvIxg",
        "outputId": "fbd04f97-de0f-4a95-8949-1d0cae73fdb7"
      },
      "execution_count": null,
      "outputs": [
        {
          "output_type": "execute_result",
          "data": {
            "text/plain": [
              "<class 'statsmodels.iolib.summary.Summary'>\n",
              "\"\"\"\n",
              "                            OLS Regression Results                            \n",
              "==============================================================================\n",
              "Dep. Variable:                no_show   R-squared:                       0.044\n",
              "Model:                            OLS   Adj. R-squared:                  0.043\n",
              "Method:                 Least Squares   F-statistic:                     558.5\n",
              "Date:                Thu, 09 Jun 2022   Prob (F-statistic):               0.00\n",
              "Time:                        18:33:10   Log-Likelihood:                -53490.\n",
              "No. Observations:              110519   AIC:                         1.070e+05\n",
              "Df Residuals:                  110509   BIC:                         1.071e+05\n",
              "Df Model:                           9                                         \n",
              "Covariance Type:            nonrobust                                         \n",
              "=================================================================================\n",
              "                    coef    std err          t      P>|t|      [0.025      0.975]\n",
              "---------------------------------------------------------------------------------\n",
              "Intercept         0.1820      0.003     64.155      0.000       0.176       0.188\n",
              "jeniskelamin      0.0017      0.003      0.654      0.513      -0.003       0.007\n",
              "umur             -0.0012   6.04e-05    -19.415      0.000      -0.001      -0.001\n",
              "beasiswa          0.0370      0.004      9.179      0.000       0.029       0.045\n",
              "darahtinggi      -0.0047      0.004     -1.289      0.197      -0.012       0.002\n",
              "diabetes          0.0189      0.005      3.707      0.000       0.009       0.029\n",
              "alkohol           0.0320      0.007      4.584      0.000       0.018       0.046\n",
              "disabled          0.0087      0.007      1.185      0.236      -0.006       0.023\n",
              "sms_received      0.0532      0.003     19.275      0.000       0.048       0.059\n",
              "selisih_waktu     0.0044   8.46e-05     51.491      0.000       0.004       0.005\n",
              "==============================================================================\n",
              "Omnibus:                    20877.478   Durbin-Watson:                   2.007\n",
              "Prob(Omnibus):                  0.000   Jarque-Bera (JB):            35482.792\n",
              "Skew:                           1.383   Prob(JB):                         0.00\n",
              "Kurtosis:                       3.222   Cond. No.                         278.\n",
              "==============================================================================\n",
              "\n",
              "Warnings:\n",
              "[1] Standard Errors assume that the covariance matrix of the errors is correctly specified.\n",
              "\"\"\""
            ],
            "text/html": [
              "<table class=\"simpletable\">\n",
              "<caption>OLS Regression Results</caption>\n",
              "<tr>\n",
              "  <th>Dep. Variable:</th>         <td>no_show</td>     <th>  R-squared:         </th> <td>   0.044</td> \n",
              "</tr>\n",
              "<tr>\n",
              "  <th>Model:</th>                   <td>OLS</td>       <th>  Adj. R-squared:    </th> <td>   0.043</td> \n",
              "</tr>\n",
              "<tr>\n",
              "  <th>Method:</th>             <td>Least Squares</td>  <th>  F-statistic:       </th> <td>   558.5</td> \n",
              "</tr>\n",
              "<tr>\n",
              "  <th>Date:</th>             <td>Thu, 09 Jun 2022</td> <th>  Prob (F-statistic):</th>  <td>  0.00</td>  \n",
              "</tr>\n",
              "<tr>\n",
              "  <th>Time:</th>                 <td>18:33:10</td>     <th>  Log-Likelihood:    </th> <td> -53490.</td> \n",
              "</tr>\n",
              "<tr>\n",
              "  <th>No. Observations:</th>      <td>110519</td>      <th>  AIC:               </th> <td>1.070e+05</td>\n",
              "</tr>\n",
              "<tr>\n",
              "  <th>Df Residuals:</th>          <td>110509</td>      <th>  BIC:               </th> <td>1.071e+05</td>\n",
              "</tr>\n",
              "<tr>\n",
              "  <th>Df Model:</th>              <td>     9</td>      <th>                     </th>     <td> </td>    \n",
              "</tr>\n",
              "<tr>\n",
              "  <th>Covariance Type:</th>      <td>nonrobust</td>    <th>                     </th>     <td> </td>    \n",
              "</tr>\n",
              "</table>\n",
              "<table class=\"simpletable\">\n",
              "<tr>\n",
              "        <td></td>           <th>coef</th>     <th>std err</th>      <th>t</th>      <th>P>|t|</th>  <th>[0.025</th>    <th>0.975]</th>  \n",
              "</tr>\n",
              "<tr>\n",
              "  <th>Intercept</th>     <td>    0.1820</td> <td>    0.003</td> <td>   64.155</td> <td> 0.000</td> <td>    0.176</td> <td>    0.188</td>\n",
              "</tr>\n",
              "<tr>\n",
              "  <th>jeniskelamin</th>  <td>    0.0017</td> <td>    0.003</td> <td>    0.654</td> <td> 0.513</td> <td>   -0.003</td> <td>    0.007</td>\n",
              "</tr>\n",
              "<tr>\n",
              "  <th>umur</th>          <td>   -0.0012</td> <td> 6.04e-05</td> <td>  -19.415</td> <td> 0.000</td> <td>   -0.001</td> <td>   -0.001</td>\n",
              "</tr>\n",
              "<tr>\n",
              "  <th>beasiswa</th>      <td>    0.0370</td> <td>    0.004</td> <td>    9.179</td> <td> 0.000</td> <td>    0.029</td> <td>    0.045</td>\n",
              "</tr>\n",
              "<tr>\n",
              "  <th>darahtinggi</th>   <td>   -0.0047</td> <td>    0.004</td> <td>   -1.289</td> <td> 0.197</td> <td>   -0.012</td> <td>    0.002</td>\n",
              "</tr>\n",
              "<tr>\n",
              "  <th>diabetes</th>      <td>    0.0189</td> <td>    0.005</td> <td>    3.707</td> <td> 0.000</td> <td>    0.009</td> <td>    0.029</td>\n",
              "</tr>\n",
              "<tr>\n",
              "  <th>alkohol</th>       <td>    0.0320</td> <td>    0.007</td> <td>    4.584</td> <td> 0.000</td> <td>    0.018</td> <td>    0.046</td>\n",
              "</tr>\n",
              "<tr>\n",
              "  <th>disabled</th>      <td>    0.0087</td> <td>    0.007</td> <td>    1.185</td> <td> 0.236</td> <td>   -0.006</td> <td>    0.023</td>\n",
              "</tr>\n",
              "<tr>\n",
              "  <th>sms_received</th>  <td>    0.0532</td> <td>    0.003</td> <td>   19.275</td> <td> 0.000</td> <td>    0.048</td> <td>    0.059</td>\n",
              "</tr>\n",
              "<tr>\n",
              "  <th>selisih_waktu</th> <td>    0.0044</td> <td> 8.46e-05</td> <td>   51.491</td> <td> 0.000</td> <td>    0.004</td> <td>    0.005</td>\n",
              "</tr>\n",
              "</table>\n",
              "<table class=\"simpletable\">\n",
              "<tr>\n",
              "  <th>Omnibus:</th>       <td>20877.478</td> <th>  Durbin-Watson:     </th> <td>   2.007</td> \n",
              "</tr>\n",
              "<tr>\n",
              "  <th>Prob(Omnibus):</th>  <td> 0.000</td>   <th>  Jarque-Bera (JB):  </th> <td>35482.792</td>\n",
              "</tr>\n",
              "<tr>\n",
              "  <th>Skew:</th>           <td> 1.383</td>   <th>  Prob(JB):          </th> <td>    0.00</td> \n",
              "</tr>\n",
              "<tr>\n",
              "  <th>Kurtosis:</th>       <td> 3.222</td>   <th>  Cond. No.          </th> <td>    278.</td> \n",
              "</tr>\n",
              "</table><br/><br/>Warnings:<br/>[1] Standard Errors assume that the covariance matrix of the errors is correctly specified."
            ]
          },
          "metadata": {},
          "execution_count": 40
        }
      ]
    }
  ]
}