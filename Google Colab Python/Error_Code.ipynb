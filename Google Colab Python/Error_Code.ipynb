{
  "nbformat": 4,
  "nbformat_minor": 0,
  "metadata": {
    "colab": {
      "provenance": []
    },
    "kernelspec": {
      "name": "python3",
      "display_name": "Python 3"
    },
    "language_info": {
      "name": "python"
    }
  },
  "cells": [
    {
      "cell_type": "code",
      "execution_count": null,
      "metadata": {
        "id": "WkPfE-fUvZXp"
      },
      "outputs": [],
      "source": [
        "table = pd.DataFrame(columns=[\"Order\", \"Quantity\", \"Inventory\"])\n",
        "for o in order.values():\n",
        "  for q in kuantitas.values():\n",
        "    for i in inventory.values():\n",
        "        table = table.append({\"Order\": o.X, \"Quantity\": q.X, \"Inventory\": i.X}, ignore_index=True)\n",
        "table.index=[''] * len(table)\n",
        "table"
      ]
    },
    {
      "cell_type": "code",
      "source": [
        "table = pd.DataFrame(columns=[\"Order\", \"Quantity\", \"Inventory\"])\n",
        "for o in order.values():\n",
        "        table = table.append({\"Order\": o.X}, ignore_index=True)\n",
        "for q in kuantitas.values():\n",
        "        table = table.append({\"Quantity\": q.X}, ignore_index=True)\n",
        "for i in inventory.values():\n",
        "        table = table.append({\"Inventory\": i.X}, ignore_index=True)\n",
        "table.index=[''] * len(table)\n",
        "table"
      ],
      "metadata": {
        "id": "YPuTp-HZvgJd"
      },
      "execution_count": null,
      "outputs": []
    },
    {
      "cell_type": "code",
      "source": [
        "fig, ax = plt.subplots(figsize=[6, 3], dpi=100)\n",
        "x = table.index\n",
        "width = 0.25\n",
        "ax.bar(x - width, table.Quantity, width, color=\"navy\", label=\"pesan\")\n",
        "ax.bar(x, table.Demand, width, color=\"red\", label=\"demand\")\n",
        "ax.bar(x + width, table.Inventory, width, color=\"darkgreen\", label=\"inventory\")\n",
        "ax.set_xticks(x)\n",
        "ax.set_ylabel(\"Kuantitas\")\n",
        "ax.set_xlabel(\"Periode\")\n",
        "ax.legend()\n",
        "fig.tight_layout()\n",
        "plt.title(\"Perencanaan Optimal (Biaya Minimum)\")\n",
        "plt.show()"
      ],
      "metadata": {
        "id": "oH_XdpJtc5C1"
      },
      "execution_count": null,
      "outputs": []
    },
    {
      "cell_type": "code",
      "source": [
        "ind = np.arange(t)\n",
        "width = 0.25\n",
        "\n",
        "xvals = table.Quantity\n",
        "bar1 = plt.bar(ind, xvals, width, color = 'r')\n",
        "\n",
        "yvals = table.Demand\n",
        "bar2 = plt.bar(ind+width, yvals, width, color='g')\n",
        "\n",
        "zvals = table.Inventory\n",
        "bar3 = plt.bar(ind+width*2, zvals, width, color = 'b')\n",
        "\n",
        "plt.xlabel(\"Periode\")\n",
        "plt.ylabel('Kuantitas')\n",
        "plt.title(\"Perencanaan Optimal (Biaya Minimum)\")\n",
        "\n",
        "plt.xticks(ind+width,['2021Feb01', '2021Feb02', '2021Feb03'])\n",
        "plt.legend( (bar1, bar2, bar3), ('Player1', 'Player2', 'Player3') )\n",
        "plt.show()"
      ],
      "metadata": {
        "id": "OWyADltndGL6"
      },
      "execution_count": null,
      "outputs": []
    },
    {
      "cell_type": "code",
      "source": [
        "fig, ax = plt.subplots(figsize=[6, 3], dpi=100)\n",
        "x = table.index\n",
        "width = 0.35\n",
        "ax.bar(x - width/2, table.Inventory, width, color=\"darkgreen\", label=\"inventory\")\n",
        "ax.bar(x + width/2, table.Demand, width, color=\"navy\", label=\"demand\")\n",
        "ax.set_xticks(x)\n",
        "ax.set_ylabel(\"Kuantitas\")\n",
        "ax.set_xlabel(\"Periode\")\n",
        "ax.legend()\n",
        "fig.tight_layout()\n",
        "plt.show()"
      ],
      "metadata": {
        "id": "NXyY-_RkdMt7"
      },
      "execution_count": null,
      "outputs": []
    }
  ]
}