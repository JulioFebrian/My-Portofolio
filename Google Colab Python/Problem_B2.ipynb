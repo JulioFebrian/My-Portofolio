{
  "nbformat": 4,
  "nbformat_minor": 0,
  "metadata": {
    "colab": {
      "provenance": []
    },
    "kernelspec": {
      "name": "python3",
      "display_name": "Python 3"
    },
    "language_info": {
      "name": "python"
    }
  },
  "cells": [
    {
      "cell_type": "code",
      "execution_count": null,
      "metadata": {
        "id": "bYY4eQeC0W-b"
      },
      "outputs": [],
      "source": [
        "# =============================================================================\n",
        "# PROBLEM B2\n",
        "#\n",
        "# Build a classifier for the Fashion MNIST dataset.\n",
        "# The test will expect it to classify 10 classes.\n",
        "# The input shape should be 28x28 monochrome. Do not resize the data.\n",
        "# Your input layer should accept (28, 28) as the input shape.\n",
        "#\n",
        "# Don't use lambda layers in your model.\n",
        "#\n",
        "# Desired accuracy AND validation_accuracy > 83%\n",
        "# ============================================================================="
      ]
    },
    {
      "cell_type": "code",
      "source": [
        "import tensorflow as tf"
      ],
      "metadata": {
        "id": "YD9I_KIS0dkH"
      },
      "execution_count": null,
      "outputs": []
    },
    {
      "cell_type": "code",
      "source": [
        "def solution_B2():\n",
        "    fashion_mnist = tf.keras.datasets.fashion_mnist\n",
        "    (training_images, training_labels), (test_images, test_labels) = fashion_mnist.load_data()\n",
        "\n",
        "\n",
        "    # NORMALIZE YOUR IMAGE HERE\n",
        "    training_images = training_images / 255.0\n",
        "    test_images = test_images / 255.0\n",
        "    # DEFINE YOUR MODEL HERE\n",
        "    model = tf.keras.models.Sequential([\n",
        "        tf.keras.layers.Conv2D(64, (3, 3), activation = 'relu', input_shape=(28,28,1)),\n",
        "        tf.keras.layers.MaxPooling2D(2,2),\n",
        "        tf.keras.layers.Conv2D(64,(3,3), activation= 'relu'),\n",
        "        tf.keras.layers.MaxPooling2D(2,2),\n",
        "        tf.keras.layers.Flatten(),\n",
        "        tf.keras.layers.Dense(128, activation='relu'),\n",
        "    # End with 10 Neuron Dense, activated by softmax\n",
        "        tf.keras.layers.Dense(10, activation='softmax')])\n",
        "\n",
        "    class myCallback(tf.keras.callbacks.Callback):\n",
        "      def on_epoch_end(self, epoch, logs={}):\n",
        "        print(logs.get('accuracy'))\n",
        "        if((logs.get('accuracy') > 0.83) and (logs.get('val_accuracy')>0.83)):\n",
        "          self.model.stop_training = True\n",
        "\n",
        "    callbacks = myCallback()\n",
        "    # COMPILE MODEL HERE\n",
        "    model.compile(loss='sparse_categorical_crossentropy', optimizer='adam', metrics=['accuracy'])\n",
        "    # TRAIN YOUR MODEL HERE\n",
        "    model.fit(\n",
        "        training_images,\n",
        "        training_labels,\n",
        "        batch_size=128,\n",
        "        epochs=20,\n",
        "        verbose=1,\n",
        "        validation_data=(test_images, test_labels),\n",
        "        callbacks=[callbacks])\n",
        "    return model\n"
      ],
      "metadata": {
        "id": "GGoLXfXi0vzG"
      },
      "execution_count": null,
      "outputs": []
    },
    {
      "cell_type": "code",
      "source": [
        "# The code below is to save your model as a .h5 file.\n",
        "# It will be saved automatically in your Submission folder.\n",
        "if __name__ == '__main__':\n",
        "    # DO NOT CHANGE THIS CODE\n",
        "    model = solution_B2()\n",
        "    model.save(\"model_B2.h5\")"
      ],
      "metadata": {
        "id": "vE-nNg250yMl",
        "colab": {
          "base_uri": "https://localhost:8080/"
        },
        "outputId": "40e2a362-01d4-4cfa-9cce-adbcbee2b226"
      },
      "execution_count": null,
      "outputs": [
        {
          "output_type": "stream",
          "name": "stdout",
          "text": [
            "Epoch 1/20\n",
            "469/469 [==============================] - ETA: 0s - loss: 0.5322 - accuracy: 0.81080.8108333349227905\n",
            "469/469 [==============================] - 61s 130ms/step - loss: 0.5322 - accuracy: 0.8108 - val_loss: 0.3908 - val_accuracy: 0.8604\n",
            "Epoch 2/20\n",
            "469/469 [==============================] - ETA: 0s - loss: 0.3387 - accuracy: 0.87840.8783666491508484\n",
            "469/469 [==============================] - 61s 130ms/step - loss: 0.3387 - accuracy: 0.8784 - val_loss: 0.3308 - val_accuracy: 0.8809\n"
          ]
        }
      ]
    }
  ]
}