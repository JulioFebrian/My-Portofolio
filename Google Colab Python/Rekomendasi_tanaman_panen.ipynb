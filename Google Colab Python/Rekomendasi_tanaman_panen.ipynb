{
  "nbformat": 4,
  "nbformat_minor": 0,
  "metadata": {
    "colab": {
      "provenance": []
    },
    "kernelspec": {
      "name": "python3",
      "display_name": "Python 3"
    },
    "language_info": {
      "name": "python"
    }
  },
  "cells": [
    {
      "cell_type": "code",
      "execution_count": null,
      "metadata": {
        "id": "fAR2ygEpCdj1"
      },
      "outputs": [],
      "source": [
        "import pandas as pd\n",
        "import pandas_profiling as pp\n",
        "import numpy as np\n",
        "import seaborn as sns\n",
        "import matplotlib.pyplot as plt\n",
        "import warnings\n",
        "import os\n",
        "import plotly.graph_objects as go\n",
        "import plotly.io as pio\n",
        "import pickle\n",
        "from sklearn.utils import resample"
      ]
    },
    {
      "cell_type": "code",
      "source": [
        "# Metrics\n",
        "from sklearn.metrics import accuracy_score, classification_report, confusion_matrix, auc, roc_curve"
      ],
      "metadata": {
        "id": "5VvzS7G3PuuA"
      },
      "execution_count": null,
      "outputs": []
    },
    {
      "cell_type": "code",
      "source": [
        "# Validation\n",
        "from sklearn.model_selection import train_test_split, cross_val_score, KFold\n",
        "from sklearn.pipeline import Pipeline, make_pipeline"
      ],
      "metadata": {
        "id": "faBu5yHsPyV5"
      },
      "execution_count": null,
      "outputs": []
    },
    {
      "cell_type": "code",
      "source": [
        "# Tuning\n",
        "from sklearn.model_selection import GridSearchCV"
      ],
      "metadata": {
        "id": "t02GzkbnQDar"
      },
      "execution_count": null,
      "outputs": []
    },
    {
      "cell_type": "code",
      "source": [
        "# Feature Extraction\n",
        "from sklearn.feature_selection import RFE"
      ],
      "metadata": {
        "id": "lt9IZKMzQKF9"
      },
      "execution_count": null,
      "outputs": []
    },
    {
      "cell_type": "code",
      "source": [
        "# Preprocessing\n",
        "from sklearn.preprocessing import MinMaxScaler, StandardScaler, Normalizer, Binarizer, LabelEncoder"
      ],
      "metadata": {
        "id": "gMjVhWaaQNit"
      },
      "execution_count": null,
      "outputs": []
    },
    {
      "cell_type": "code",
      "source": [
        "# Models\n",
        "from sklearn.discriminant_analysis import LinearDiscriminantAnalysis\n",
        "from sklearn.linear_model import LogisticRegression\n",
        "from sklearn.naive_bayes import GaussianNB\n",
        "from sklearn.svm import SVC\n",
        "from sklearn.neighbors import KNeighborsClassifier\n",
        "from sklearn.tree import DecisionTreeClassifier"
      ],
      "metadata": {
        "id": "T5chRvntQV0P"
      },
      "execution_count": null,
      "outputs": []
    },
    {
      "cell_type": "code",
      "source": [
        "# Ensembles\n",
        "from sklearn.ensemble import RandomForestClassifier\n",
        "from sklearn.ensemble import BaggingClassifier\n",
        "from sklearn.ensemble import AdaBoostClassifier\n",
        "from sklearn.ensemble import GradientBoostingClassifier\n",
        "from sklearn.ensemble import ExtraTreesClassifier"
      ],
      "metadata": {
        "id": "PsG5U4diQYcy"
      },
      "execution_count": null,
      "outputs": []
    },
    {
      "cell_type": "code",
      "source": [
        "warnings.filterwarnings('ignore')\n"
      ],
      "metadata": {
        "id": "d1UkrHRjQe9c"
      },
      "execution_count": null,
      "outputs": []
    },
    {
      "cell_type": "code",
      "source": [
        "sns.set_style(\"whitegrid\", {'axes.grid' : False})\n",
        "pio.templates.default = \"plotly_white\"\n"
      ],
      "metadata": {
        "id": "UDMEwTL5Qhrw"
      },
      "execution_count": null,
      "outputs": []
    },
    {
      "cell_type": "code",
      "source": [
        "#Analyze data\n",
        "def explore_data(df):\n",
        "    print(\"Jumlah Instances and Attributes:\", df.shape)\n",
        "    print('\\n')\n",
        "    print('Kolom Dataset:',df.columns)\n",
        "    print('\\n')\n",
        "    print('Data types tiap kolom: ', df.info())"
      ],
      "metadata": {
        "id": "IbZUhpaNQ6ad"
      },
      "execution_count": null,
      "outputs": []
    },
    {
      "cell_type": "code",
      "source": [
        "#Checking for duplicates\n",
        "def checking_removing_duplicates(df):\n",
        "    count_duplikasi = df.duplicated().sum()\n",
        "    print(\"Jumlah duplikasi: \", count_duplikasi)\n",
        "    if count_duplikasi >= 1:\n",
        "        df.drop_duplicates(inplace=True)\n",
        "        print('Duplicate values telah dihapus!')\n",
        "    else:\n",
        "        print('Tidak ada duplicate values')"
      ],
      "metadata": {
        "id": "jX90cVmrRRtm"
      },
      "execution_count": null,
      "outputs": []
    },
    {
      "cell_type": "code",
      "source": [
        "# Split Data to Training and Validation set\n",
        "def read_in_and_split_data(data, target):\n",
        "    X = data.drop(target, axis=1)\n",
        "    y = data[target]\n",
        "    X_train, X_test, y_train, y_test = train_test_split(X,y,test_size=0.2, random_state=0)\n",
        "    return X_train, X_test, y_train, y_test"
      ],
      "metadata": {
        "id": "JOfbJxH-SJDB"
      },
      "execution_count": null,
      "outputs": []
    },
    {
      "cell_type": "code",
      "source": [
        "#Spot-Check Algorithms\n",
        "def GetModel():\n",
        "    Models = []\n",
        "    Models.append(('LR'   , LogisticRegression()))\n",
        "    Models.append(('LDA'  , LinearDiscriminantAnalysis()))\n",
        "    Models.append(('KNN'  , KNeighborsClassifier()))\n",
        "    Models.append(('CART' , DecisionTreeClassifier()))\n",
        "    Models.append(('NB'   , GaussianNB()))\n",
        "    Models.append(('SVM'  , SVC(probability=True)))\n",
        "    return Models"
      ],
      "metadata": {
        "id": "U7-eAtg6SO-J"
      },
      "execution_count": null,
      "outputs": []
    },
    {
      "cell_type": "code",
      "source": [
        "def ensemblemodels():\n",
        "    ensembles = []\n",
        "    ensembles.append(('AB'   , AdaBoostClassifier()))\n",
        "    ensembles.append(('GBM'  , GradientBoostingClassifier()))\n",
        "    ensembles.append(('RF'   , RandomForestClassifier()))\n",
        "    ensembles.append(( 'Bagging' , BaggingClassifier()))\n",
        "    ensembles.append(('ET', ExtraTreesClassifier()))\n",
        "    return ensembles"
      ],
      "metadata": {
        "id": "IuwZi3_vTTix"
      },
      "execution_count": null,
      "outputs": []
    },
    {
      "cell_type": "code",
      "source": [
        "# Spot-Check Normalized Models\n",
        "def NormalizedModel(namaScaler):\n",
        "\n",
        "    if namaScaler == 'standard':\n",
        "        scaler = StandardScaler()\n",
        "    elif namaScaler =='minmax':\n",
        "        scaler = MinMaxScaler()\n",
        "    elif namaScaler == 'normalizer':\n",
        "        scaler = Normalizer()\n",
        "    elif namaScaler == 'binarizer':\n",
        "        scaler = Binarizer()\n",
        "\n",
        "    pipelines = []\n",
        "    pipelines.append((namaScaler+'LR'  , Pipeline([('Scaler', scaler),('LR'  , LogisticRegression())])))\n",
        "    pipelines.append((namaScaler+'LDA' , Pipeline([('Scaler', scaler),('LDA' , LinearDiscriminantAnalysis())])))\n",
        "    pipelines.append((namaScaler+'KNN' , Pipeline([('Scaler', scaler),('KNN' , KNeighborsClassifier())])))\n",
        "    pipelines.append((namaScaler+'CART', Pipeline([('Scaler', scaler),('CART', DecisionTreeClassifier())])))\n",
        "    pipelines.append((namaScaler+'NB'  , Pipeline([('Scaler', scaler),('NB'  , GaussianNB())])))\n",
        "    pipelines.append((namaScaler+'SVM' , Pipeline([('Scaler', scaler),('SVM' , SVC())])))\n",
        "    pipelines.append((namaScaler+'AB'  , Pipeline([('Scaler', scaler),('AB'  , AdaBoostClassifier())])  ))\n",
        "    pipelines.append((namaScaler+'GBM' , Pipeline([('Scaler', scaler),('GMB' , GradientBoostingClassifier())])  ))\n",
        "    pipelines.append((namaScaler+'RF'  , Pipeline([('Scaler', scaler),('RF'  , RandomForestClassifier())])  ))\n",
        "    pipelines.append((namaScaler+'ET'  , Pipeline([('Scaler', scaler),('ET'  , ExtraTreesClassifier())])  ))\n",
        "\n",
        "    return pipelines"
      ],
      "metadata": {
        "id": "8SpcZsz-TXTL"
      },
      "execution_count": null,
      "outputs": []
    },
    {
      "cell_type": "code",
      "source": [
        "# Train Model\n",
        "def fit_model(X_train, y_train,models):\n",
        "    # Test options and evaluation metric\n",
        "    num_folds = 10\n",
        "    scoring = 'accuracy'\n",
        "\n",
        "    results = []\n",
        "    names = []\n",
        "    for name, model in models:\n",
        "        kfold = KFold(n_splits=num_folds, shuffle=True, random_state=0)\n",
        "        cv_results = cross_val_score(model, X_train, y_train, cv=kfold, scoring=scoring)\n",
        "        results.append(cv_results)\n",
        "        names.append(name)\n",
        "        msg = \"%s: %f (%f)\" % (name, cv_results.mean(), cv_results.std())\n",
        "        print(msg)\n",
        "\n",
        "    return names, results"
      ],
      "metadata": {
        "id": "VZUq5mgETi3g"
      },
      "execution_count": null,
      "outputs": []
    },
    {
      "cell_type": "code",
      "source": [
        "#  Save Trained Model\n",
        "def save_model(model,filename):\n",
        "    pickle.dump(model, open(filename, 'wb'))"
      ],
      "metadata": {
        "id": "gBRlWfZae58a"
      },
      "execution_count": null,
      "outputs": []
    },
    {
      "cell_type": "code",
      "source": [
        "#Performance Measure\n",
        "def classification_metrics(model, conf_matrix):\n",
        "    print(f\"Training Accuracy Score: {model.score(X_train, y_train) * 100:.1f}%\")\n",
        "    print(f\"Validation Accuracy Score: {model.score(X_test, y_test) * 100:.1f}%\")\n",
        "    fig,ax = plt.subplots(figsize=(8,6))\n",
        "    sns.heatmap(pd.DataFrame(conf_matrix), annot = True, cmap = 'YlGnBu',fmt = 'g')\n",
        "    ax.xaxis.set_label_position('top')\n",
        "    plt.tight_layout()\n",
        "    plt.title('Confusion Matrix', fontsize=20, y=1.1)\n",
        "    plt.ylabel('Actual label', fontsize=15)\n",
        "    plt.xlabel('Predicted label', fontsize=15)\n",
        "    plt.show()\n",
        "    print(classification_report(y_test, y_pred))\n",
        ""
      ],
      "metadata": {
        "id": "Ea3SWhC4fBYZ"
      },
      "execution_count": null,
      "outputs": []
    },
    {
      "cell_type": "code",
      "source": [
        "# Load Dataset\n",
        "df = pd.read_csv('/content/drive/MyDrive/Dataset_Rekomendasi_Tanaman.csv')\n",
        "\n",
        "# Remove Outliers\n",
        "Q1 = df.quantile(0.25)\n",
        "Q3 = df.quantile(0.75)\n",
        "IQR = Q3 - Q1\n",
        "df_out = df[~((df < (Q1 - 1.5 * IQR)) |(df > (Q3 + 1.5 * IQR))).any(axis=1)]"
      ],
      "metadata": {
        "id": "Sue28TbYfIZS"
      },
      "execution_count": null,
      "outputs": []
    },
    {
      "cell_type": "code",
      "source": [
        "# Split Data to Training and Validation set\n",
        "target ='Label'\n",
        "X_train, X_test, y_train, y_test = read_in_and_split_data(df, target)"
      ],
      "metadata": {
        "id": "qGLFQUFGfrj6"
      },
      "execution_count": null,
      "outputs": []
    },
    {
      "cell_type": "code",
      "source": [
        "# Train model\n",
        "pipeline = make_pipeline(StandardScaler(),  GaussianNB())\n",
        "model = pipeline.fit(X_train, y_train)\n",
        "y_pred = model.predict(X_test)\n",
        "conf_matrix = confusion_matrix(y_test,y_pred)\n",
        "classification_metrics(pipeline, conf_matrix)"
      ],
      "metadata": {
        "colab": {
          "base_uri": "https://localhost:8080/",
          "height": 1000
        },
        "id": "dROkOupMfsK7",
        "outputId": "bbb6f253-353c-412b-f9e3-2d3ee5550b41"
      },
      "execution_count": null,
      "outputs": [
        {
          "output_type": "stream",
          "name": "stdout",
          "text": [
            "Training Accuracy Score: 99.5%\n",
            "Validation Accuracy Score: 99.3%\n"
          ]
        },
        {
          "output_type": "display_data",
          "data": {
            "text/plain": [
              "<Figure size 576x432 with 2 Axes>"
            ],
            "image/png": "[encoded data removed]"
          },
          "metadata": {}
        },
        {
          "output_type": "stream",
          "name": "stdout",
          "text": [
            "                     precision    recall  f1-score   support\n",
            "\n",
            "             anggur       1.00      1.00      1.00        18\n",
            "               apel       1.00      1.00      1.00        18\n",
            "             buncis       1.00      1.00      1.00        23\n",
            "             delima       1.00      1.00      1.00        23\n",
            "             jagung       1.00      1.00      1.00        18\n",
            "              jeruk       1.00      1.00      1.00        23\n",
            "       kacang hijau       1.00      1.00      1.00        17\n",
            "kacang lentil hitam       1.00      1.00      1.00        22\n",
            "       kacang merah       1.00      1.00      1.00        20\n",
            "     kacang ngengat       1.00      1.00      1.00        25\n",
            "      kacang polong       1.00      1.00      1.00        22\n",
            "              kapas       1.00      1.00      1.00        16\n",
            "             kelapa       1.00      1.00      1.00        15\n",
            "               kopi       1.00      1.00      1.00        17\n",
            "             lentil       1.00      1.00      1.00        17\n",
            "             mangga       1.00      1.00      1.00        21\n",
            "      melon kesturi       1.00      1.00      1.00        23\n",
            "               padi       1.00      0.88      0.94        25\n",
            "             pepaya       1.00      1.00      1.00        21\n",
            "             pisang       1.00      1.00      1.00        18\n",
            "           semangka       1.00      1.00      1.00        17\n",
            "               yute       0.88      1.00      0.93        21\n",
            "\n",
            "           accuracy                           0.99       440\n",
            "          macro avg       0.99      0.99      0.99       440\n",
            "       weighted avg       0.99      0.99      0.99       440\n",
            "\n"
          ]
        }
      ]
    },
    {
      "cell_type": "code",
      "source": [
        "import tensorflow as tf\n",
        "import tensorflow_datasets as tfds\n",
        "tfds.disable_progress_bar()\n",
        "import os"
      ],
      "metadata": {
        "id": "OWfoFgMxG_qs"
      },
      "execution_count": null,
      "outputs": []
    },
    {
      "cell_type": "code",
      "source": [
        "export_dir = 'saved_model/1'\n",
        "tf.saved_model.save(model, export_dir)"
      ],
      "metadata": {
        "id": "oakmnYeNHW9W",
        "outputId": "090f03ea-ff6f-415e-bb1c-9159debb3908",
        "colab": {
          "base_uri": "https://localhost:8080/",
          "height": 363
        }
      },
      "execution_count": null,
      "outputs": [
        {
          "output_type": "error",
          "ename": "ValueError",
          "evalue": "ignored",
          "traceback": [
            "\u001b[0;31m---------------------------------------------------------------------------\u001b[0m",
            "\u001b[0;31mValueError\u001b[0m                                Traceback (most recent call last)",
            "\u001b[0;32m<ipython-input-25-22fbcb1e6962>\u001b[0m in \u001b[0;36m<module>\u001b[0;34m()\u001b[0m\n\u001b[1;32m      1\u001b[0m \u001b[0mexport_dir\u001b[0m \u001b[0;34m=\u001b[0m \u001b[0;34m'saved_model/1'\u001b[0m\u001b[0;34m\u001b[0m\u001b[0;34m\u001b[0m\u001b[0m\n\u001b[0;32m----> 2\u001b[0;31m \u001b[0mtf\u001b[0m\u001b[0;34m.\u001b[0m\u001b[0msaved_model\u001b[0m\u001b[0;34m.\u001b[0m\u001b[0msave\u001b[0m\u001b[0;34m(\u001b[0m\u001b[0mmodel\u001b[0m\u001b[0;34m,\u001b[0m \u001b[0mexport_dir\u001b[0m\u001b[0;34m)\u001b[0m\u001b[0;34m\u001b[0m\u001b[0;34m\u001b[0m\u001b[0m\n\u001b[0m",
            "\u001b[0;32m/usr/local/lib/python3.7/dist-packages/tensorflow/python/saved_model/save.py\u001b[0m in \u001b[0;36msave\u001b[0;34m(obj, export_dir, signatures, options)\u001b[0m\n\u001b[1;32m   1332\u001b[0m   \u001b[0;31m# pylint: enable=line-too-long\u001b[0m\u001b[0;34m\u001b[0m\u001b[0;34m\u001b[0m\u001b[0;34m\u001b[0m\u001b[0m\n\u001b[1;32m   1333\u001b[0m   \u001b[0mmetrics\u001b[0m\u001b[0;34m.\u001b[0m\u001b[0mIncrementWriteApi\u001b[0m\u001b[0;34m(\u001b[0m\u001b[0m_SAVE_V2_LABEL\u001b[0m\u001b[0;34m)\u001b[0m\u001b[0;34m\u001b[0m\u001b[0;34m\u001b[0m\u001b[0m\n\u001b[0;32m-> 1334\u001b[0;31m   \u001b[0msave_and_return_nodes\u001b[0m\u001b[0;34m(\u001b[0m\u001b[0mobj\u001b[0m\u001b[0;34m,\u001b[0m \u001b[0mexport_dir\u001b[0m\u001b[0;34m,\u001b[0m \u001b[0msignatures\u001b[0m\u001b[0;34m,\u001b[0m \u001b[0moptions\u001b[0m\u001b[0;34m)\u001b[0m\u001b[0;34m\u001b[0m\u001b[0;34m\u001b[0m\u001b[0m\n\u001b[0m\u001b[1;32m   1335\u001b[0m   \u001b[0mmetrics\u001b[0m\u001b[0;34m.\u001b[0m\u001b[0mIncrementWrite\u001b[0m\u001b[0;34m(\u001b[0m\u001b[0mwrite_version\u001b[0m\u001b[0;34m=\u001b[0m\u001b[0;34m\"2\"\u001b[0m\u001b[0;34m)\u001b[0m\u001b[0;34m\u001b[0m\u001b[0;34m\u001b[0m\u001b[0m\n\u001b[1;32m   1336\u001b[0m \u001b[0;34m\u001b[0m\u001b[0m\n",
            "\u001b[0;32m/usr/local/lib/python3.7/dist-packages/tensorflow/python/saved_model/save.py\u001b[0m in \u001b[0;36msave_and_return_nodes\u001b[0;34m(obj, export_dir, signatures, options, experimental_skip_checkpoint)\u001b[0m\n\u001b[1;32m   1367\u001b[0m \u001b[0;34m\u001b[0m\u001b[0m\n\u001b[1;32m   1368\u001b[0m   _, exported_graph, object_saver, asset_info, saved_nodes, node_paths = (\n\u001b[0;32m-> 1369\u001b[0;31m       _build_meta_graph(obj, signatures, options, meta_graph_def))\n\u001b[0m\u001b[1;32m   1370\u001b[0m   saved_model.saved_model_schema_version = (\n\u001b[1;32m   1371\u001b[0m       constants.SAVED_MODEL_SCHEMA_VERSION)\n",
            "\u001b[0;32m/usr/local/lib/python3.7/dist-packages/tensorflow/python/saved_model/save.py\u001b[0m in \u001b[0;36m_build_meta_graph\u001b[0;34m(obj, signatures, options, meta_graph_def)\u001b[0m\n\u001b[1;32m   1534\u001b[0m \u001b[0;34m\u001b[0m\u001b[0m\n\u001b[1;32m   1535\u001b[0m   \u001b[0;32mwith\u001b[0m \u001b[0msave_context\u001b[0m\u001b[0;34m.\u001b[0m\u001b[0msave_context\u001b[0m\u001b[0;34m(\u001b[0m\u001b[0moptions\u001b[0m\u001b[0;34m)\u001b[0m\u001b[0;34m:\u001b[0m\u001b[0;34m\u001b[0m\u001b[0;34m\u001b[0m\u001b[0m\n\u001b[0;32m-> 1536\u001b[0;31m     \u001b[0;32mreturn\u001b[0m \u001b[0m_build_meta_graph_impl\u001b[0m\u001b[0;34m(\u001b[0m\u001b[0mobj\u001b[0m\u001b[0;34m,\u001b[0m \u001b[0msignatures\u001b[0m\u001b[0;34m,\u001b[0m \u001b[0moptions\u001b[0m\u001b[0;34m,\u001b[0m \u001b[0mmeta_graph_def\u001b[0m\u001b[0;34m)\u001b[0m\u001b[0;34m\u001b[0m\u001b[0;34m\u001b[0m\u001b[0m\n\u001b[0m",
            "\u001b[0;32m/usr/local/lib/python3.7/dist-packages/tensorflow/python/saved_model/save.py\u001b[0m in \u001b[0;36m_build_meta_graph_impl\u001b[0;34m(obj, signatures, options, meta_graph_def)\u001b[0m\n\u001b[1;32m   1468\u001b[0m   \u001b[0;32mif\u001b[0m \u001b[0;32mnot\u001b[0m \u001b[0misinstance\u001b[0m\u001b[0;34m(\u001b[0m\u001b[0mobj\u001b[0m\u001b[0;34m,\u001b[0m \u001b[0mbase\u001b[0m\u001b[0;34m.\u001b[0m\u001b[0mTrackable\u001b[0m\u001b[0;34m)\u001b[0m\u001b[0;34m:\u001b[0m\u001b[0;34m\u001b[0m\u001b[0;34m\u001b[0m\u001b[0m\n\u001b[1;32m   1469\u001b[0m     raise ValueError(\n\u001b[0;32m-> 1470\u001b[0;31m         \u001b[0;34m\"Expected an object of type `Trackable`, such as `tf.Module` or a \"\u001b[0m\u001b[0;34m\u001b[0m\u001b[0;34m\u001b[0m\u001b[0m\n\u001b[0m\u001b[1;32m   1471\u001b[0m         \u001b[0;34mf\"subclass of the `Trackable` class, for export. Got {obj} \"\u001b[0m\u001b[0;34m\u001b[0m\u001b[0;34m\u001b[0m\u001b[0m\n\u001b[1;32m   1472\u001b[0m         f\"with type {type(obj)}.\")\n",
            "\u001b[0;31mValueError\u001b[0m: Expected an object of type `Trackable`, such as `tf.Module` or a subclass of the `Trackable` class, for export. Got Pipeline(steps=[('standardscaler', StandardScaler()),\n                ('gaussiannb', GaussianNB())]) with type <class 'sklearn.pipeline.Pipeline'>."
          ]
        }
      ]
    },
    {
      "cell_type": "code",
      "source": [
        "# save model\n",
        "save_model(model, 'model.pkl')"
      ],
      "metadata": {
        "id": "fJQxb6_qgClA"
      },
      "execution_count": null,
      "outputs": []
    }
  ]
}