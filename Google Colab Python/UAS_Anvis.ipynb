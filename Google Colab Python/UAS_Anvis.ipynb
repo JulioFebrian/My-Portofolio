{
  "cells": [
    {
      "cell_type": "markdown",
      "metadata": {
        "id": "jfpzipb8F6j_"
      },
      "source": [
        "**1. Load data ke python**"
      ]
    },
    {
      "cell_type": "markdown",
      "metadata": {
        "id": "DC0-yG31LxFV"
      },
      "source": [
        "**import libraries yang dibutuhkan**"
      ]
    },
    {
      "cell_type": "code",
      "execution_count": null,
      "metadata": {
        "colab": {
          "background_save": true
        },
        "id": "DZX26AwQAR-q"
      },
      "outputs": [],
      "source": [
        "import numpy as np\n",
        "import pandas as pd\n",
        "import matplotlib.pyplot as plt\n",
        "import seaborn as sns\n",
        "import statsmodels.api as sm"
      ]
    },
    {
      "cell_type": "markdown",
      "metadata": {
        "id": "utyHspjyL0d1"
      },
      "source": [
        "**Baca dataset format csv**"
      ]
    },
    {
      "cell_type": "code",
      "execution_count": null,
      "metadata": {
        "id": "0WF7XHiQCO1v"
      },
      "outputs": [],
      "source": [
        "data = pd.read_csv(\"/content/no_show_appointments.csv\")"
      ]
    },
    {
      "cell_type": "code",
      "execution_count": null,
      "metadata": {
        "colab": {
          "base_uri": "https://localhost:8080/"
        },
        "id": "x6Bxxx3iDc9x",
        "outputId": "648891a5-16d1-44c7-eb80-0eeac32595da"
      },
      "outputs": [
        {
          "name": "stdout",
          "output_type": "stream",
          "text": [
            "<class 'pandas.core.frame.DataFrame'>\n",
            "RangeIndex: 110527 entries, 0 to 110526\n",
            "Data columns (total 14 columns):\n",
            " #   Column              Non-Null Count   Dtype  \n",
            "---  ------              --------------   -----  \n",
            " 0   NomorPasien         110527 non-null  float64\n",
            " 1   NomorAppointment    110527 non-null  int64  \n",
            " 2   JenisKelamin        110527 non-null  object \n",
            " 3   TanggalPembuatan    110527 non-null  object \n",
            " 4   TanggalAppointment  110527 non-null  object \n",
            " 5   Umur                110527 non-null  int64  \n",
            " 6   Daerah              110527 non-null  object \n",
            " 7   Beasiswa            110527 non-null  int64  \n",
            " 8   DarahTinggi         110527 non-null  int64  \n",
            " 9   Diabetes            110527 non-null  int64  \n",
            " 10  Alkohol             110527 non-null  int64  \n",
            " 11  Disabled            110527 non-null  int64  \n",
            " 12  SMS_received        110527 non-null  int64  \n",
            " 13  No-show             110527 non-null  object \n",
            "dtypes: float64(1), int64(8), object(5)\n",
            "memory usage: 11.8+ MB\n"
          ]
        }
      ],
      "source": [
        "data.info()"
      ]
    },
    {
      "cell_type": "markdown",
      "metadata": {
        "id": "6NQzZJdPNbjZ"
      },
      "source": [
        "**melihat data asli 5 teratas**"
      ]
    },
    {
      "cell_type": "code",
      "execution_count": null,
      "metadata": {
        "colab": {
          "base_uri": "https://localhost:8080/",
          "height": 355
        },
        "id": "JBPZu45WNZ2A",
        "outputId": "907cd405-bb8c-4eeb-e95a-9a1b675046a7"
      },
      "outputs": [
        {
          "data": {
            "text/html": [
              "\n",
              "  <div id=\"df-d9d03f1d-662f-462f-a239-5f0400558429\">\n",
              "    <div class=\"colab-df-container\">\n",
              "      <div>\n",
              "<style scoped>\n",
              "    .dataframe tbody tr th:only-of-type {\n",
              "        vertical-align: middle;\n",
              "    }\n",
              "\n",
              "    .dataframe tbody tr th {\n",
              "        vertical-align: top;\n",
              "    }\n",
              "\n",
              "    .dataframe thead th {\n",
              "        text-align: right;\n",
              "    }\n",
              "</style>\n",
              "<table border=\"1\" class=\"dataframe\">\n",
              "  <thead>\n",
              "    <tr style=\"text-align: right;\">\n",
              "      <th></th>\n",
              "      <th>NomorPasien</th>\n",
              "      <th>NomorAppointment</th>\n",
              "      <th>JenisKelamin</th>\n",
              "      <th>TanggalPembuatan</th>\n",
              "      <th>TanggalAppointment</th>\n",
              "      <th>Umur</th>\n",
              "      <th>Daerah</th>\n",
              "      <th>Beasiswa</th>\n",
              "      <th>DarahTinggi</th>\n",
              "      <th>Diabetes</th>\n",
              "      <th>Alkohol</th>\n",
              "      <th>Disabled</th>\n",
              "      <th>SMS_received</th>\n",
              "      <th>No-show</th>\n",
              "    </tr>\n",
              "  </thead>\n",
              "  <tbody>\n",
              "    <tr>\n",
              "      <th>0</th>\n",
              "      <td>2.143110e+13</td>\n",
              "      <td>5611376</td>\n",
              "      <td>F</td>\n",
              "      <td>2016-04-25T07:08:41Z</td>\n",
              "      <td>2016-05-25T00:00:00Z</td>\n",
              "      <td>43</td>\n",
              "      <td>Bidara Cina</td>\n",
              "      <td>0</td>\n",
              "      <td>0</td>\n",
              "      <td>0</td>\n",
              "      <td>0</td>\n",
              "      <td>0</td>\n",
              "      <td>1</td>\n",
              "      <td>No</td>\n",
              "    </tr>\n",
              "    <tr>\n",
              "      <th>1</th>\n",
              "      <td>2.839350e+13</td>\n",
              "      <td>5629135</td>\n",
              "      <td>M</td>\n",
              "      <td>2016-04-27T12:50:39Z</td>\n",
              "      <td>2016-04-29T00:00:00Z</td>\n",
              "      <td>78</td>\n",
              "      <td>Harapan Mulia</td>\n",
              "      <td>0</td>\n",
              "      <td>1</td>\n",
              "      <td>1</td>\n",
              "      <td>0</td>\n",
              "      <td>0</td>\n",
              "      <td>0</td>\n",
              "      <td>No</td>\n",
              "    </tr>\n",
              "    <tr>\n",
              "      <th>2</th>\n",
              "      <td>3.487580e+13</td>\n",
              "      <td>5686183</td>\n",
              "      <td>M</td>\n",
              "      <td>2016-05-11T12:18:24Z</td>\n",
              "      <td>2016-05-17T00:00:00Z</td>\n",
              "      <td>58</td>\n",
              "      <td>Cililitan</td>\n",
              "      <td>0</td>\n",
              "      <td>1</td>\n",
              "      <td>0</td>\n",
              "      <td>0</td>\n",
              "      <td>0</td>\n",
              "      <td>0</td>\n",
              "      <td>No</td>\n",
              "    </tr>\n",
              "    <tr>\n",
              "      <th>3</th>\n",
              "      <td>8.356730e+13</td>\n",
              "      <td>5729853</td>\n",
              "      <td>F</td>\n",
              "      <td>2016-05-24T07:54:37Z</td>\n",
              "      <td>2016-05-24T00:00:00Z</td>\n",
              "      <td>22</td>\n",
              "      <td>Cempaka Baru</td>\n",
              "      <td>0</td>\n",
              "      <td>0</td>\n",
              "      <td>0</td>\n",
              "      <td>0</td>\n",
              "      <td>0</td>\n",
              "      <td>0</td>\n",
              "      <td>No</td>\n",
              "    </tr>\n",
              "    <tr>\n",
              "      <th>4</th>\n",
              "      <td>9.186880e+14</td>\n",
              "      <td>5690145</td>\n",
              "      <td>F</td>\n",
              "      <td>2016-05-12T09:34:57Z</td>\n",
              "      <td>2016-05-12T00:00:00Z</td>\n",
              "      <td>30</td>\n",
              "      <td>Cijantung</td>\n",
              "      <td>0</td>\n",
              "      <td>0</td>\n",
              "      <td>0</td>\n",
              "      <td>0</td>\n",
              "      <td>0</td>\n",
              "      <td>0</td>\n",
              "      <td>No</td>\n",
              "    </tr>\n",
              "  </tbody>\n",
              "</table>\n",
              "</div>\n",
              "      <button class=\"colab-df-convert\" onclick=\"convertToInteractive('df-d9d03f1d-662f-462f-a239-5f0400558429')\"\n",
              "              title=\"Convert this dataframe to an interactive table.\"\n",
              "              style=\"display:none;\">\n",
              "        \n",
              "  <svg xmlns=\"http://www.w3.org/2000/svg\" height=\"24px\"viewBox=\"0 0 24 24\"\n",
              "       width=\"24px\">\n",
              "    <path d=\"M0 0h24v24H0V0z\" fill=\"none\"/>\n",
              "    <path d=\"M18.56 5.44l.94 2.06.94-2.06 2.06-.94-2.06-.94-.94-2.06-.94 2.06-2.06.94zm-11 1L8.5 8.5l.94-2.06 2.06-.94-2.06-.94L8.5 2.5l-.94 2.06-2.06.94zm10 10l.94 2.06.94-2.06 2.06-.94-2.06-.94-.94-2.06-.94 2.06-2.06.94z\"/><path d=\"M17.41 7.96l-1.37-1.37c-.4-.4-.92-.59-1.43-.59-.52 0-1.04.2-1.43.59L10.3 9.45l-7.72 7.72c-.78.78-.78 2.05 0 2.83L4 21.41c.39.39.9.59 1.41.59.51 0 1.02-.2 1.41-.59l7.78-7.78 2.81-2.81c.8-.78.8-2.07 0-2.86zM5.41 20L4 18.59l7.72-7.72 1.47 1.35L5.41 20z\"/>\n",
              "  </svg>\n",
              "      </button>\n",
              "      \n",
              "  <style>\n",
              "    .colab-df-container {\n",
              "      display:flex;\n",
              "      flex-wrap:wrap;\n",
              "      gap: 12px;\n",
              "    }\n",
              "\n",
              "    .colab-df-convert {\n",
              "      background-color: #E8F0FE;\n",
              "      border: none;\n",
              "      border-radius: 50%;\n",
              "      cursor: pointer;\n",
              "      display: none;\n",
              "      fill: #1967D2;\n",
              "      height: 32px;\n",
              "      padding: 0 0 0 0;\n",
              "      width: 32px;\n",
              "    }\n",
              "\n",
              "    .colab-df-convert:hover {\n",
              "      background-color: #E2EBFA;\n",
              "      box-shadow: 0px 1px 2px rgba(60, 64, 67, 0.3), 0px 1px 3px 1px rgba(60, 64, 67, 0.15);\n",
              "      fill: #174EA6;\n",
              "    }\n",
              "\n",
              "    [theme=dark] .colab-df-convert {\n",
              "      background-color: #3B4455;\n",
              "      fill: #D2E3FC;\n",
              "    }\n",
              "\n",
              "    [theme=dark] .colab-df-convert:hover {\n",
              "      background-color: #434B5C;\n",
              "      box-shadow: 0px 1px 3px 1px rgba(0, 0, 0, 0.15);\n",
              "      filter: drop-shadow(0px 1px 2px rgba(0, 0, 0, 0.3));\n",
              "      fill: #FFFFFF;\n",
              "    }\n",
              "  </style>\n",
              "\n",
              "      <script>\n",
              "        const buttonEl =\n",
              "          document.querySelector('#df-d9d03f1d-662f-462f-a239-5f0400558429 button.colab-df-convert');\n",
              "        buttonEl.style.display =\n",
              "          google.colab.kernel.accessAllowed ? 'block' : 'none';\n",
              "\n",
              "        async function convertToInteractive(key) {\n",
              "          const element = document.querySelector('#df-d9d03f1d-662f-462f-a239-5f0400558429');\n",
              "          const dataTable =\n",
              "            await google.colab.kernel.invokeFunction('convertToInteractive',\n",
              "                                                     [key], {});\n",
              "          if (!dataTable) return;\n",
              "\n",
              "          const docLinkHtml = 'Like what you see? Visit the ' +\n",
              "            '<a target=\"_blank\" href=https://colab.research.google.com/notebooks/data_table.ipynb>data table notebook</a>'\n",
              "            + ' to learn more about interactive tables.';\n",
              "          element.innerHTML = '';\n",
              "          dataTable['output_type'] = 'display_data';\n",
              "          await google.colab.output.renderOutput(dataTable, element);\n",
              "          const docLink = document.createElement('div');\n",
              "          docLink.innerHTML = docLinkHtml;\n",
              "          element.appendChild(docLink);\n",
              "        }\n",
              "      </script>\n",
              "    </div>\n",
              "  </div>\n",
              "  "
            ],
            "text/plain": [
              "    NomorPasien  NomorAppointment JenisKelamin      TanggalPembuatan  \\\n",
              "0  2.143110e+13           5611376            F  2016-04-25T07:08:41Z   \n",
              "1  2.839350e+13           5629135            M  2016-04-27T12:50:39Z   \n",
              "2  3.487580e+13           5686183            M  2016-05-11T12:18:24Z   \n",
              "3  8.356730e+13           5729853            F  2016-05-24T07:54:37Z   \n",
              "4  9.186880e+14           5690145            F  2016-05-12T09:34:57Z   \n",
              "\n",
              "     TanggalAppointment  Umur            Daerah  Beasiswa  DarahTinggi  \\\n",
              "0  2016-05-25T00:00:00Z    43       Bidara Cina         0            0   \n",
              "1  2016-04-29T00:00:00Z    78   Harapan Mulia           0            1   \n",
              "2  2016-05-17T00:00:00Z    58         Cililitan         0            1   \n",
              "3  2016-05-24T00:00:00Z    22      Cempaka Baru         0            0   \n",
              "4  2016-05-12T00:00:00Z    30         Cijantung         0            0   \n",
              "\n",
              "   Diabetes  Alkohol  Disabled  SMS_received No-show  \n",
              "0         0        0         0             1      No  \n",
              "1         1        0         0             0      No  \n",
              "2         0        0         0             0      No  \n",
              "3         0        0         0             0      No  \n",
              "4         0        0         0             0      No  "
            ]
          },
          "execution_count": 125,
          "metadata": {},
          "output_type": "execute_result"
        }
      ],
      "source": [
        "data.head()"
      ]
    },
    {
      "cell_type": "markdown",
      "metadata": {
        "id": "gp6NQ6aNKHfw"
      },
      "source": [
        "**Ubah tipe data No-show dan Jenis Kelamin dari Object menjadi integer(biner/kategorikal 0/1) agar dapat dilakukan regresi dan terbaca saat mencari korelasi**\n",
        "\n",
        "**Ubah nama kolom menjadi huruf kecil semua**\n",
        "\n",
        "**Ubah strip menjadi underscore**\n",
        "\n",
        "**Untuk mempermudah dan menghindari error**"
      ]
    },
    {
      "cell_type": "code",
      "execution_count": null,
      "metadata": {
        "colab": {
          "base_uri": "https://localhost:8080/"
        },
        "id": "ItMwWXbtKQFv",
        "outputId": "a31db9f8-1900-44a9-b562-8f4eada8bf65"
      },
      "outputs": [
        {
          "name": "stdout",
          "output_type": "stream",
          "text": [
            "<class 'pandas.core.frame.DataFrame'>\n",
            "RangeIndex: 110527 entries, 0 to 110526\n",
            "Data columns (total 14 columns):\n",
            " #   Column              Non-Null Count   Dtype  \n",
            "---  ------              --------------   -----  \n",
            " 0   nomorpasien         110527 non-null  float64\n",
            " 1   nomorappointment    110527 non-null  int64  \n",
            " 2   jeniskelamin        110527 non-null  int64  \n",
            " 3   tanggalpembuatan    110527 non-null  object \n",
            " 4   tanggalappointment  110527 non-null  object \n",
            " 5   umur                110527 non-null  int64  \n",
            " 6   daerah              110527 non-null  object \n",
            " 7   beasiswa            110527 non-null  int64  \n",
            " 8   darahtinggi         110527 non-null  int64  \n",
            " 9   diabetes            110527 non-null  int64  \n",
            " 10  alkohol             110527 non-null  int64  \n",
            " 11  disabled            110527 non-null  int64  \n",
            " 12  sms_received        110527 non-null  int64  \n",
            " 13  no_show             110527 non-null  int64  \n",
            "dtypes: float64(1), int64(10), object(3)\n",
            "memory usage: 11.8+ MB\n"
          ]
        }
      ],
      "source": [
        "data.columns = [c.strip().lower().replace('-','_') for c in data.columns]\n",
        "data['no_show'].replace(['No', 'Yes'], [0,1], inplace = True)\n",
        "data['jeniskelamin'].replace(['M', 'F'], [0,1], inplace = True)\n",
        "data.info()"
      ]
    },
    {
      "cell_type": "markdown",
      "metadata": {
        "id": "1MljOaEtMHH8"
      },
      "source": [
        "**melihat data lima teratas yang sudah diubah**\n",
        "\n",
        "\n",
        "**perubahan terjadi pada nama kolom, jenis kelamin dan no_show menjadi 0 dan 1**"
      ]
    },
    {
      "cell_type": "code",
      "execution_count": null,
      "metadata": {
        "colab": {
          "base_uri": "https://localhost:8080/",
          "height": 337
        },
        "id": "I6EEcemLFDMI",
        "outputId": "d9772545-e3df-44eb-9d8e-a59a6b4103ad"
      },
      "outputs": [
        {
          "data": {
            "text/html": [
              "\n",
              "  <div id=\"df-323000a5-06ee-4647-a19a-f444cbce5ac0\">\n",
              "    <div class=\"colab-df-container\">\n",
              "      <div>\n",
              "<style scoped>\n",
              "    .dataframe tbody tr th:only-of-type {\n",
              "        vertical-align: middle;\n",
              "    }\n",
              "\n",
              "    .dataframe tbody tr th {\n",
              "        vertical-align: top;\n",
              "    }\n",
              "\n",
              "    .dataframe thead th {\n",
              "        text-align: right;\n",
              "    }\n",
              "</style>\n",
              "<table border=\"1\" class=\"dataframe\">\n",
              "  <thead>\n",
              "    <tr style=\"text-align: right;\">\n",
              "      <th></th>\n",
              "      <th>nomorpasien</th>\n",
              "      <th>nomorappointment</th>\n",
              "      <th>jeniskelamin</th>\n",
              "      <th>tanggalpembuatan</th>\n",
              "      <th>tanggalappointment</th>\n",
              "      <th>umur</th>\n",
              "      <th>daerah</th>\n",
              "      <th>beasiswa</th>\n",
              "      <th>darahtinggi</th>\n",
              "      <th>diabetes</th>\n",
              "      <th>alkohol</th>\n",
              "      <th>disabled</th>\n",
              "      <th>sms_received</th>\n",
              "      <th>no_show</th>\n",
              "    </tr>\n",
              "  </thead>\n",
              "  <tbody>\n",
              "    <tr>\n",
              "      <th>0</th>\n",
              "      <td>2.143110e+13</td>\n",
              "      <td>5611376</td>\n",
              "      <td>1</td>\n",
              "      <td>2016-04-25T07:08:41Z</td>\n",
              "      <td>2016-05-25T00:00:00Z</td>\n",
              "      <td>43</td>\n",
              "      <td>Bidara Cina</td>\n",
              "      <td>0</td>\n",
              "      <td>0</td>\n",
              "      <td>0</td>\n",
              "      <td>0</td>\n",
              "      <td>0</td>\n",
              "      <td>1</td>\n",
              "      <td>0</td>\n",
              "    </tr>\n",
              "    <tr>\n",
              "      <th>1</th>\n",
              "      <td>2.839350e+13</td>\n",
              "      <td>5629135</td>\n",
              "      <td>0</td>\n",
              "      <td>2016-04-27T12:50:39Z</td>\n",
              "      <td>2016-04-29T00:00:00Z</td>\n",
              "      <td>78</td>\n",
              "      <td>Harapan Mulia</td>\n",
              "      <td>0</td>\n",
              "      <td>1</td>\n",
              "      <td>1</td>\n",
              "      <td>0</td>\n",
              "      <td>0</td>\n",
              "      <td>0</td>\n",
              "      <td>0</td>\n",
              "    </tr>\n",
              "    <tr>\n",
              "      <th>2</th>\n",
              "      <td>3.487580e+13</td>\n",
              "      <td>5686183</td>\n",
              "      <td>0</td>\n",
              "      <td>2016-05-11T12:18:24Z</td>\n",
              "      <td>2016-05-17T00:00:00Z</td>\n",
              "      <td>58</td>\n",
              "      <td>Cililitan</td>\n",
              "      <td>0</td>\n",
              "      <td>1</td>\n",
              "      <td>0</td>\n",
              "      <td>0</td>\n",
              "      <td>0</td>\n",
              "      <td>0</td>\n",
              "      <td>0</td>\n",
              "    </tr>\n",
              "    <tr>\n",
              "      <th>3</th>\n",
              "      <td>8.356730e+13</td>\n",
              "      <td>5729853</td>\n",
              "      <td>1</td>\n",
              "      <td>2016-05-24T07:54:37Z</td>\n",
              "      <td>2016-05-24T00:00:00Z</td>\n",
              "      <td>22</td>\n",
              "      <td>Cempaka Baru</td>\n",
              "      <td>0</td>\n",
              "      <td>0</td>\n",
              "      <td>0</td>\n",
              "      <td>0</td>\n",
              "      <td>0</td>\n",
              "      <td>0</td>\n",
              "      <td>0</td>\n",
              "    </tr>\n",
              "    <tr>\n",
              "      <th>4</th>\n",
              "      <td>9.186880e+14</td>\n",
              "      <td>5690145</td>\n",
              "      <td>1</td>\n",
              "      <td>2016-05-12T09:34:57Z</td>\n",
              "      <td>2016-05-12T00:00:00Z</td>\n",
              "      <td>30</td>\n",
              "      <td>Cijantung</td>\n",
              "      <td>0</td>\n",
              "      <td>0</td>\n",
              "      <td>0</td>\n",
              "      <td>0</td>\n",
              "      <td>0</td>\n",
              "      <td>0</td>\n",
              "      <td>0</td>\n",
              "    </tr>\n",
              "  </tbody>\n",
              "</table>\n",
              "</div>\n",
              "      <button class=\"colab-df-convert\" onclick=\"convertToInteractive('df-323000a5-06ee-4647-a19a-f444cbce5ac0')\"\n",
              "              title=\"Convert this dataframe to an interactive table.\"\n",
              "              style=\"display:none;\">\n",
              "        \n",
              "  <svg xmlns=\"http://www.w3.org/2000/svg\" height=\"24px\"viewBox=\"0 0 24 24\"\n",
              "       width=\"24px\">\n",
              "    <path d=\"M0 0h24v24H0V0z\" fill=\"none\"/>\n",
              "    <path d=\"M18.56 5.44l.94 2.06.94-2.06 2.06-.94-2.06-.94-.94-2.06-.94 2.06-2.06.94zm-11 1L8.5 8.5l.94-2.06 2.06-.94-2.06-.94L8.5 2.5l-.94 2.06-2.06.94zm10 10l.94 2.06.94-2.06 2.06-.94-2.06-.94-.94-2.06-.94 2.06-2.06.94z\"/><path d=\"M17.41 7.96l-1.37-1.37c-.4-.4-.92-.59-1.43-.59-.52 0-1.04.2-1.43.59L10.3 9.45l-7.72 7.72c-.78.78-.78 2.05 0 2.83L4 21.41c.39.39.9.59 1.41.59.51 0 1.02-.2 1.41-.59l7.78-7.78 2.81-2.81c.8-.78.8-2.07 0-2.86zM5.41 20L4 18.59l7.72-7.72 1.47 1.35L5.41 20z\"/>\n",
              "  </svg>\n",
              "      </button>\n",
              "      \n",
              "  <style>\n",
              "    .colab-df-container {\n",
              "      display:flex;\n",
              "      flex-wrap:wrap;\n",
              "      gap: 12px;\n",
              "    }\n",
              "\n",
              "    .colab-df-convert {\n",
              "      background-color: #E8F0FE;\n",
              "      border: none;\n",
              "      border-radius: 50%;\n",
              "      cursor: pointer;\n",
              "      display: none;\n",
              "      fill: #1967D2;\n",
              "      height: 32px;\n",
              "      padding: 0 0 0 0;\n",
              "      width: 32px;\n",
              "    }\n",
              "\n",
              "    .colab-df-convert:hover {\n",
              "      background-color: #E2EBFA;\n",
              "      box-shadow: 0px 1px 2px rgba(60, 64, 67, 0.3), 0px 1px 3px 1px rgba(60, 64, 67, 0.15);\n",
              "      fill: #174EA6;\n",
              "    }\n",
              "\n",
              "    [theme=dark] .colab-df-convert {\n",
              "      background-color: #3B4455;\n",
              "      fill: #D2E3FC;\n",
              "    }\n",
              "\n",
              "    [theme=dark] .colab-df-convert:hover {\n",
              "      background-color: #434B5C;\n",
              "      box-shadow: 0px 1px 3px 1px rgba(0, 0, 0, 0.15);\n",
              "      filter: drop-shadow(0px 1px 2px rgba(0, 0, 0, 0.3));\n",
              "      fill: #FFFFFF;\n",
              "    }\n",
              "  </style>\n",
              "\n",
              "      <script>\n",
              "        const buttonEl =\n",
              "          document.querySelector('#df-323000a5-06ee-4647-a19a-f444cbce5ac0 button.colab-df-convert');\n",
              "        buttonEl.style.display =\n",
              "          google.colab.kernel.accessAllowed ? 'block' : 'none';\n",
              "\n",
              "        async function convertToInteractive(key) {\n",
              "          const element = document.querySelector('#df-323000a5-06ee-4647-a19a-f444cbce5ac0');\n",
              "          const dataTable =\n",
              "            await google.colab.kernel.invokeFunction('convertToInteractive',\n",
              "                                                     [key], {});\n",
              "          if (!dataTable) return;\n",
              "\n",
              "          const docLinkHtml = 'Like what you see? Visit the ' +\n",
              "            '<a target=\"_blank\" href=https://colab.research.google.com/notebooks/data_table.ipynb>data table notebook</a>'\n",
              "            + ' to learn more about interactive tables.';\n",
              "          element.innerHTML = '';\n",
              "          dataTable['output_type'] = 'display_data';\n",
              "          await google.colab.output.renderOutput(dataTable, element);\n",
              "          const docLink = document.createElement('div');\n",
              "          docLink.innerHTML = docLinkHtml;\n",
              "          element.appendChild(docLink);\n",
              "        }\n",
              "      </script>\n",
              "    </div>\n",
              "  </div>\n",
              "  "
            ],
            "text/plain": [
              "    nomorpasien  nomorappointment  jeniskelamin      tanggalpembuatan  \\\n",
              "0  2.143110e+13           5611376             1  2016-04-25T07:08:41Z   \n",
              "1  2.839350e+13           5629135             0  2016-04-27T12:50:39Z   \n",
              "2  3.487580e+13           5686183             0  2016-05-11T12:18:24Z   \n",
              "3  8.356730e+13           5729853             1  2016-05-24T07:54:37Z   \n",
              "4  9.186880e+14           5690145             1  2016-05-12T09:34:57Z   \n",
              "\n",
              "     tanggalappointment  umur            daerah  beasiswa  darahtinggi  \\\n",
              "0  2016-05-25T00:00:00Z    43       Bidara Cina         0            0   \n",
              "1  2016-04-29T00:00:00Z    78   Harapan Mulia           0            1   \n",
              "2  2016-05-17T00:00:00Z    58         Cililitan         0            1   \n",
              "3  2016-05-24T00:00:00Z    22      Cempaka Baru         0            0   \n",
              "4  2016-05-12T00:00:00Z    30         Cijantung         0            0   \n",
              "\n",
              "   diabetes  alkohol  disabled  sms_received  no_show  \n",
              "0         0        0         0             1        0  \n",
              "1         1        0         0             0        0  \n",
              "2         0        0         0             0        0  \n",
              "3         0        0         0             0        0  \n",
              "4         0        0         0             0        0  "
            ]
          },
          "execution_count": 127,
          "metadata": {},
          "output_type": "execute_result"
        }
      ],
      "source": [
        "data.head()"
      ]
    },
    {
      "cell_type": "markdown",
      "metadata": {
        "id": "0v4dwdsbMM4O"
      },
      "source": [
        "**Statistik deskriptif dari dataset**"
      ]
    },
    {
      "cell_type": "code",
      "execution_count": null,
      "metadata": {
        "colab": {
          "base_uri": "https://localhost:8080/",
          "height": 301
        },
        "id": "6Mv7MqPJDgPA",
        "outputId": "255e9f1c-8a25-4c4e-f08e-aeea9984856b"
      },
      "outputs": [
        {
          "data": {
            "text/html": [
              "\n",
              "  <div id=\"df-a5bc7585-f64b-47ac-bbb1-87b09cb60655\">\n",
              "    <div class=\"colab-df-container\">\n",
              "      <div>\n",
              "<style scoped>\n",
              "    .dataframe tbody tr th:only-of-type {\n",
              "        vertical-align: middle;\n",
              "    }\n",
              "\n",
              "    .dataframe tbody tr th {\n",
              "        vertical-align: top;\n",
              "    }\n",
              "\n",
              "    .dataframe thead th {\n",
              "        text-align: right;\n",
              "    }\n",
              "</style>\n",
              "<table border=\"1\" class=\"dataframe\">\n",
              "  <thead>\n",
              "    <tr style=\"text-align: right;\">\n",
              "      <th></th>\n",
              "      <th>nomorpasien</th>\n",
              "      <th>nomorappointment</th>\n",
              "      <th>jeniskelamin</th>\n",
              "      <th>umur</th>\n",
              "      <th>beasiswa</th>\n",
              "      <th>darahtinggi</th>\n",
              "      <th>diabetes</th>\n",
              "      <th>alkohol</th>\n",
              "      <th>disabled</th>\n",
              "      <th>sms_received</th>\n",
              "      <th>no_show</th>\n",
              "    </tr>\n",
              "  </thead>\n",
              "  <tbody>\n",
              "    <tr>\n",
              "      <th>count</th>\n",
              "      <td>1.105270e+05</td>\n",
              "      <td>1.105270e+05</td>\n",
              "      <td>110527.000000</td>\n",
              "      <td>110527.000000</td>\n",
              "      <td>110527.000000</td>\n",
              "      <td>110527.000000</td>\n",
              "      <td>110527.000000</td>\n",
              "      <td>110527.000000</td>\n",
              "      <td>110527.000000</td>\n",
              "      <td>110527.000000</td>\n",
              "      <td>110527.000000</td>\n",
              "    </tr>\n",
              "    <tr>\n",
              "      <th>mean</th>\n",
              "      <td>1.474963e+14</td>\n",
              "      <td>5.675305e+06</td>\n",
              "      <td>0.649977</td>\n",
              "      <td>37.088874</td>\n",
              "      <td>0.098266</td>\n",
              "      <td>0.197246</td>\n",
              "      <td>0.071865</td>\n",
              "      <td>0.030400</td>\n",
              "      <td>0.022248</td>\n",
              "      <td>0.321026</td>\n",
              "      <td>0.201933</td>\n",
              "    </tr>\n",
              "    <tr>\n",
              "      <th>std</th>\n",
              "      <td>2.560949e+14</td>\n",
              "      <td>7.129575e+04</td>\n",
              "      <td>0.476979</td>\n",
              "      <td>23.110205</td>\n",
              "      <td>0.297675</td>\n",
              "      <td>0.397921</td>\n",
              "      <td>0.258265</td>\n",
              "      <td>0.171686</td>\n",
              "      <td>0.161543</td>\n",
              "      <td>0.466873</td>\n",
              "      <td>0.401444</td>\n",
              "    </tr>\n",
              "    <tr>\n",
              "      <th>min</th>\n",
              "      <td>3.920000e+04</td>\n",
              "      <td>5.030230e+06</td>\n",
              "      <td>0.000000</td>\n",
              "      <td>-1.000000</td>\n",
              "      <td>0.000000</td>\n",
              "      <td>0.000000</td>\n",
              "      <td>0.000000</td>\n",
              "      <td>0.000000</td>\n",
              "      <td>0.000000</td>\n",
              "      <td>0.000000</td>\n",
              "      <td>0.000000</td>\n",
              "    </tr>\n",
              "    <tr>\n",
              "      <th>25%</th>\n",
              "      <td>4.172615e+12</td>\n",
              "      <td>5.640286e+06</td>\n",
              "      <td>0.000000</td>\n",
              "      <td>18.000000</td>\n",
              "      <td>0.000000</td>\n",
              "      <td>0.000000</td>\n",
              "      <td>0.000000</td>\n",
              "      <td>0.000000</td>\n",
              "      <td>0.000000</td>\n",
              "      <td>0.000000</td>\n",
              "      <td>0.000000</td>\n",
              "    </tr>\n",
              "    <tr>\n",
              "      <th>50%</th>\n",
              "      <td>3.173180e+13</td>\n",
              "      <td>5.680573e+06</td>\n",
              "      <td>1.000000</td>\n",
              "      <td>37.000000</td>\n",
              "      <td>0.000000</td>\n",
              "      <td>0.000000</td>\n",
              "      <td>0.000000</td>\n",
              "      <td>0.000000</td>\n",
              "      <td>0.000000</td>\n",
              "      <td>0.000000</td>\n",
              "      <td>0.000000</td>\n",
              "    </tr>\n",
              "    <tr>\n",
              "      <th>75%</th>\n",
              "      <td>9.439170e+13</td>\n",
              "      <td>5.725524e+06</td>\n",
              "      <td>1.000000</td>\n",
              "      <td>55.000000</td>\n",
              "      <td>0.000000</td>\n",
              "      <td>0.000000</td>\n",
              "      <td>0.000000</td>\n",
              "      <td>0.000000</td>\n",
              "      <td>0.000000</td>\n",
              "      <td>1.000000</td>\n",
              "      <td>0.000000</td>\n",
              "    </tr>\n",
              "    <tr>\n",
              "      <th>max</th>\n",
              "      <td>9.999820e+14</td>\n",
              "      <td>5.790484e+06</td>\n",
              "      <td>1.000000</td>\n",
              "      <td>115.000000</td>\n",
              "      <td>1.000000</td>\n",
              "      <td>1.000000</td>\n",
              "      <td>1.000000</td>\n",
              "      <td>1.000000</td>\n",
              "      <td>4.000000</td>\n",
              "      <td>1.000000</td>\n",
              "      <td>1.000000</td>\n",
              "    </tr>\n",
              "  </tbody>\n",
              "</table>\n",
              "</div>\n",
              "      <button class=\"colab-df-convert\" onclick=\"convertToInteractive('df-a5bc7585-f64b-47ac-bbb1-87b09cb60655')\"\n",
              "              title=\"Convert this dataframe to an interactive table.\"\n",
              "              style=\"display:none;\">\n",
              "        \n",
              "  <svg xmlns=\"http://www.w3.org/2000/svg\" height=\"24px\"viewBox=\"0 0 24 24\"\n",
              "       width=\"24px\">\n",
              "    <path d=\"M0 0h24v24H0V0z\" fill=\"none\"/>\n",
              "    <path d=\"M18.56 5.44l.94 2.06.94-2.06 2.06-.94-2.06-.94-.94-2.06-.94 2.06-2.06.94zm-11 1L8.5 8.5l.94-2.06 2.06-.94-2.06-.94L8.5 2.5l-.94 2.06-2.06.94zm10 10l.94 2.06.94-2.06 2.06-.94-2.06-.94-.94-2.06-.94 2.06-2.06.94z\"/><path d=\"M17.41 7.96l-1.37-1.37c-.4-.4-.92-.59-1.43-.59-.52 0-1.04.2-1.43.59L10.3 9.45l-7.72 7.72c-.78.78-.78 2.05 0 2.83L4 21.41c.39.39.9.59 1.41.59.51 0 1.02-.2 1.41-.59l7.78-7.78 2.81-2.81c.8-.78.8-2.07 0-2.86zM5.41 20L4 18.59l7.72-7.72 1.47 1.35L5.41 20z\"/>\n",
              "  </svg>\n",
              "      </button>\n",
              "      \n",
              "  <style>\n",
              "    .colab-df-container {\n",
              "      display:flex;\n",
              "      flex-wrap:wrap;\n",
              "      gap: 12px;\n",
              "    }\n",
              "\n",
              "    .colab-df-convert {\n",
              "      background-color: #E8F0FE;\n",
              "      border: none;\n",
              "      border-radius: 50%;\n",
              "      cursor: pointer;\n",
              "      display: none;\n",
              "      fill: #1967D2;\n",
              "      height: 32px;\n",
              "      padding: 0 0 0 0;\n",
              "      width: 32px;\n",
              "    }\n",
              "\n",
              "    .colab-df-convert:hover {\n",
              "      background-color: #E2EBFA;\n",
              "      box-shadow: 0px 1px 2px rgba(60, 64, 67, 0.3), 0px 1px 3px 1px rgba(60, 64, 67, 0.15);\n",
              "      fill: #174EA6;\n",
              "    }\n",
              "\n",
              "    [theme=dark] .colab-df-convert {\n",
              "      background-color: #3B4455;\n",
              "      fill: #D2E3FC;\n",
              "    }\n",
              "\n",
              "    [theme=dark] .colab-df-convert:hover {\n",
              "      background-color: #434B5C;\n",
              "      box-shadow: 0px 1px 3px 1px rgba(0, 0, 0, 0.15);\n",
              "      filter: drop-shadow(0px 1px 2px rgba(0, 0, 0, 0.3));\n",
              "      fill: #FFFFFF;\n",
              "    }\n",
              "  </style>\n",
              "\n",
              "      <script>\n",
              "        const buttonEl =\n",
              "          document.querySelector('#df-a5bc7585-f64b-47ac-bbb1-87b09cb60655 button.colab-df-convert');\n",
              "        buttonEl.style.display =\n",
              "          google.colab.kernel.accessAllowed ? 'block' : 'none';\n",
              "\n",
              "        async function convertToInteractive(key) {\n",
              "          const element = document.querySelector('#df-a5bc7585-f64b-47ac-bbb1-87b09cb60655');\n",
              "          const dataTable =\n",
              "            await google.colab.kernel.invokeFunction('convertToInteractive',\n",
              "                                                     [key], {});\n",
              "          if (!dataTable) return;\n",
              "\n",
              "          const docLinkHtml = 'Like what you see? Visit the ' +\n",
              "            '<a target=\"_blank\" href=https://colab.research.google.com/notebooks/data_table.ipynb>data table notebook</a>'\n",
              "            + ' to learn more about interactive tables.';\n",
              "          element.innerHTML = '';\n",
              "          dataTable['output_type'] = 'display_data';\n",
              "          await google.colab.output.renderOutput(dataTable, element);\n",
              "          const docLink = document.createElement('div');\n",
              "          docLink.innerHTML = docLinkHtml;\n",
              "          element.appendChild(docLink);\n",
              "        }\n",
              "      </script>\n",
              "    </div>\n",
              "  </div>\n",
              "  "
            ],
            "text/plain": [
              "        nomorpasien  nomorappointment   jeniskelamin           umur  \\\n",
              "count  1.105270e+05      1.105270e+05  110527.000000  110527.000000   \n",
              "mean   1.474963e+14      5.675305e+06       0.649977      37.088874   \n",
              "std    2.560949e+14      7.129575e+04       0.476979      23.110205   \n",
              "min    3.920000e+04      5.030230e+06       0.000000      -1.000000   \n",
              "25%    4.172615e+12      5.640286e+06       0.000000      18.000000   \n",
              "50%    3.173180e+13      5.680573e+06       1.000000      37.000000   \n",
              "75%    9.439170e+13      5.725524e+06       1.000000      55.000000   \n",
              "max    9.999820e+14      5.790484e+06       1.000000     115.000000   \n",
              "\n",
              "            beasiswa    darahtinggi       diabetes        alkohol  \\\n",
              "count  110527.000000  110527.000000  110527.000000  110527.000000   \n",
              "mean        0.098266       0.197246       0.071865       0.030400   \n",
              "std         0.297675       0.397921       0.258265       0.171686   \n",
              "min         0.000000       0.000000       0.000000       0.000000   \n",
              "25%         0.000000       0.000000       0.000000       0.000000   \n",
              "50%         0.000000       0.000000       0.000000       0.000000   \n",
              "75%         0.000000       0.000000       0.000000       0.000000   \n",
              "max         1.000000       1.000000       1.000000       1.000000   \n",
              "\n",
              "            disabled   sms_received        no_show  \n",
              "count  110527.000000  110527.000000  110527.000000  \n",
              "mean        0.022248       0.321026       0.201933  \n",
              "std         0.161543       0.466873       0.401444  \n",
              "min         0.000000       0.000000       0.000000  \n",
              "25%         0.000000       0.000000       0.000000  \n",
              "50%         0.000000       0.000000       0.000000  \n",
              "75%         0.000000       1.000000       0.000000  \n",
              "max         4.000000       1.000000       1.000000  "
            ]
          },
          "execution_count": 128,
          "metadata": {},
          "output_type": "execute_result"
        }
      ],
      "source": [
        "data.describe()"
      ]
    },
    {
      "cell_type": "markdown",
      "metadata": {
        "id": "R0Fvg2bfTSmZ"
      },
      "source": [
        "**Terlihat pada min dari umur -1 (tidak wajar)**"
      ]
    },
    {
      "cell_type": "markdown",
      "metadata": {
        "id": "Tyh3VHo5QIxV"
      },
      "source": [
        "**Melihat persebaran data dengan histogram**"
      ]
    },
    {
      "cell_type": "code",
      "execution_count": null,
      "metadata": {
        "colab": {
          "base_uri": "https://localhost:8080/",
          "height": 1000
        },
        "id": "PW2dv9P6J1-O",
        "outputId": "e9167955-2af8-4d6b-f751-ed7fd0406ec4"
      },
      "outputs": [
        {
          "data": {
            "image/png": "[encoded data removed]",
            "text/plain": [
              "<Figure size 1440x1440 with 12 Axes>"
            ]
          },
          "metadata": {},
          "output_type": "display_data"
        }
      ],
      "source": [
        "data.hist(figsize=(20,20));"
      ]
    },
    {
      "cell_type": "markdown",
      "metadata": {
        "id": "gUslG9-zF_lg"
      },
      "source": [
        "**2. Cek data tidak lengkap dan outlier, dan sisihkan**\n",
        "\n",
        "\n"
      ]
    },
    {
      "cell_type": "markdown",
      "metadata": {
        "id": "67Z_V08YMRWq"
      },
      "source": [
        "**Cek data tidak lengkap (missing value)**"
      ]
    },
    {
      "cell_type": "code",
      "execution_count": null,
      "metadata": {
        "colab": {
          "base_uri": "https://localhost:8080/"
        },
        "id": "CdlQ6kwbMUcJ",
        "outputId": "79f67440-d266-4cf5-b90c-7679c168e8f6"
      },
      "outputs": [
        {
          "data": {
            "text/plain": [
              "nomorpasien           0\n",
              "nomorappointment      0\n",
              "jeniskelamin          0\n",
              "tanggalpembuatan      0\n",
              "tanggalappointment    0\n",
              "umur                  0\n",
              "daerah                0\n",
              "beasiswa              0\n",
              "darahtinggi           0\n",
              "diabetes              0\n",
              "alkohol               0\n",
              "disabled              0\n",
              "sms_received          0\n",
              "no_show               0\n",
              "dtype: int64"
            ]
          },
          "execution_count": 130,
          "metadata": {},
          "output_type": "execute_result"
        }
      ],
      "source": [
        "data.isna().sum()"
      ]
    },
    {
      "cell_type": "markdown",
      "metadata": {
        "id": "G6fIqfHXMbsB"
      },
      "source": [
        "**Tidak ada missing value**, **lanjut...**"
      ]
    },
    {
      "cell_type": "markdown",
      "metadata": {
        "id": "hkhuTzJJMfHw"
      },
      "source": [
        "**Cek outlier dengan boxplot**\n",
        "\n"
      ]
    },
    {
      "cell_type": "code",
      "execution_count": null,
      "metadata": {
        "colab": {
          "base_uri": "https://localhost:8080/",
          "height": 296
        },
        "id": "QQKc4y2DFiga",
        "outputId": "1227750e-ff4a-4a28-a27d-40809a6300f4"
      },
      "outputs": [
        {
          "data": {
            "text/plain": [
              "<matplotlib.axes._subplots.AxesSubplot at 0x7f4528576390>"
            ]
          },
          "execution_count": 131,
          "metadata": {},
          "output_type": "execute_result"
        },
        {
          "data": {
            "image/png": "[encoded data removed]",
            "text/plain": [
              "<Figure size 432x288 with 1 Axes>"
            ]
          },
          "metadata": {},
          "output_type": "display_data"
        }
      ],
      "source": [
        "sns.boxplot(x=data[\"umur\"])"
      ]
    },
    {
      "cell_type": "markdown",
      "metadata": {
        "id": "EH7_1ipVMm8r"
      },
      "source": [
        "**Terdapat 1 outlier dan 1 data minus (umur tidak bisa minus). Sisihkan data tersebut**\n"
      ]
    },
    {
      "cell_type": "code",
      "execution_count": null,
      "metadata": {
        "id": "WpXHGEJtHAUi"
      },
      "outputs": [],
      "source": [
        "data = data.drop(data[(data[\"umur\"]<0)].index)"
      ]
    },
    {
      "cell_type": "code",
      "execution_count": null,
      "metadata": {
        "id": "mF9G51rLI1C0"
      },
      "outputs": [],
      "source": [
        "data = data.drop(data[(data[\"umur\"]>100)].index)"
      ]
    },
    {
      "cell_type": "markdown",
      "metadata": {
        "id": "c6RSjN8DF3Nf"
      },
      "source": [
        "**ATAU**"
      ]
    },
    {
      "cell_type": "code",
      "execution_count": null,
      "metadata": {
        "id": "S0yMWM1bGolk"
      },
      "outputs": [],
      "source": [
        "q1=data['umur'].quantile(0.25)\n",
        "q3=data['umur'].quantile(0.75)\n",
        "iqr=q3-q1\n",
        "ul=q3+1.5*iqr\n",
        "ll=q1-1.5*iqr"
      ]
    },
    {
      "cell_type": "code",
      "execution_count": null,
      "metadata": {
        "id": "8A_oD2MnKmPh"
      },
      "outputs": [],
      "source": [
        "data = data.drop(data[(data[\"umur\"]>ul)].index)"
      ]
    },
    {
      "cell_type": "code",
      "execution_count": null,
      "metadata": {
        "id": "WAHN1X1bLGHa"
      },
      "outputs": [],
      "source": [
        "data = data.drop(data[(data[\"umur\"]<ll)].index)"
      ]
    },
    {
      "cell_type": "markdown",
      "metadata": {
        "id": "9LPmd8AeLJHP"
      },
      "source": [
        "**Setelah disisihkan, perhatikan max dan min umur berubah**"
      ]
    },
    {
      "cell_type": "code",
      "execution_count": null,
      "metadata": {
        "colab": {
          "base_uri": "https://localhost:8080/",
          "height": 301
        },
        "id": "2DbqWyXTM809",
        "outputId": "17973c34-3ebc-459f-b34e-1e45c1991567"
      },
      "outputs": [
        {
          "data": {
            "text/html": [
              "\n",
              "  <div id=\"df-57e072e0-5c60-4833-a2f6-373f14d75279\">\n",
              "    <div class=\"colab-df-container\">\n",
              "      <div>\n",
              "<style scoped>\n",
              "    .dataframe tbody tr th:only-of-type {\n",
              "        vertical-align: middle;\n",
              "    }\n",
              "\n",
              "    .dataframe tbody tr th {\n",
              "        vertical-align: top;\n",
              "    }\n",
              "\n",
              "    .dataframe thead th {\n",
              "        text-align: right;\n",
              "    }\n",
              "</style>\n",
              "<table border=\"1\" class=\"dataframe\">\n",
              "  <thead>\n",
              "    <tr style=\"text-align: right;\">\n",
              "      <th></th>\n",
              "      <th>nomorpasien</th>\n",
              "      <th>nomorappointment</th>\n",
              "      <th>jeniskelamin</th>\n",
              "      <th>umur</th>\n",
              "      <th>beasiswa</th>\n",
              "      <th>darahtinggi</th>\n",
              "      <th>diabetes</th>\n",
              "      <th>alkohol</th>\n",
              "      <th>disabled</th>\n",
              "      <th>sms_received</th>\n",
              "      <th>no_show</th>\n",
              "    </tr>\n",
              "  </thead>\n",
              "  <tbody>\n",
              "    <tr>\n",
              "      <th>count</th>\n",
              "      <td>1.105190e+05</td>\n",
              "      <td>1.105190e+05</td>\n",
              "      <td>110519.000000</td>\n",
              "      <td>110519.000000</td>\n",
              "      <td>110519.000000</td>\n",
              "      <td>110519.000000</td>\n",
              "      <td>110519.000000</td>\n",
              "      <td>110519.000000</td>\n",
              "      <td>110519.000000</td>\n",
              "      <td>110519.000000</td>\n",
              "      <td>110519.000000</td>\n",
              "    </tr>\n",
              "    <tr>\n",
              "      <th>mean</th>\n",
              "      <td>1.474860e+14</td>\n",
              "      <td>5.675303e+06</td>\n",
              "      <td>0.649952</td>\n",
              "      <td>37.084519</td>\n",
              "      <td>0.098273</td>\n",
              "      <td>0.197251</td>\n",
              "      <td>0.071870</td>\n",
              "      <td>0.030402</td>\n",
              "      <td>0.022213</td>\n",
              "      <td>0.321040</td>\n",
              "      <td>0.201920</td>\n",
              "    </tr>\n",
              "    <tr>\n",
              "      <th>std</th>\n",
              "      <td>2.560826e+14</td>\n",
              "      <td>7.129600e+04</td>\n",
              "      <td>0.476987</td>\n",
              "      <td>23.103165</td>\n",
              "      <td>0.297684</td>\n",
              "      <td>0.397925</td>\n",
              "      <td>0.258274</td>\n",
              "      <td>0.171692</td>\n",
              "      <td>0.161441</td>\n",
              "      <td>0.466878</td>\n",
              "      <td>0.401435</td>\n",
              "    </tr>\n",
              "    <tr>\n",
              "      <th>min</th>\n",
              "      <td>3.920000e+04</td>\n",
              "      <td>5.030230e+06</td>\n",
              "      <td>0.000000</td>\n",
              "      <td>0.000000</td>\n",
              "      <td>0.000000</td>\n",
              "      <td>0.000000</td>\n",
              "      <td>0.000000</td>\n",
              "      <td>0.000000</td>\n",
              "      <td>0.000000</td>\n",
              "      <td>0.000000</td>\n",
              "      <td>0.000000</td>\n",
              "    </tr>\n",
              "    <tr>\n",
              "      <th>25%</th>\n",
              "      <td>4.172460e+12</td>\n",
              "      <td>5.640284e+06</td>\n",
              "      <td>0.000000</td>\n",
              "      <td>18.000000</td>\n",
              "      <td>0.000000</td>\n",
              "      <td>0.000000</td>\n",
              "      <td>0.000000</td>\n",
              "      <td>0.000000</td>\n",
              "      <td>0.000000</td>\n",
              "      <td>0.000000</td>\n",
              "      <td>0.000000</td>\n",
              "    </tr>\n",
              "    <tr>\n",
              "      <th>50%</th>\n",
              "      <td>3.172600e+13</td>\n",
              "      <td>5.680569e+06</td>\n",
              "      <td>1.000000</td>\n",
              "      <td>37.000000</td>\n",
              "      <td>0.000000</td>\n",
              "      <td>0.000000</td>\n",
              "      <td>0.000000</td>\n",
              "      <td>0.000000</td>\n",
              "      <td>0.000000</td>\n",
              "      <td>0.000000</td>\n",
              "      <td>0.000000</td>\n",
              "    </tr>\n",
              "    <tr>\n",
              "      <th>75%</th>\n",
              "      <td>9.438960e+13</td>\n",
              "      <td>5.725522e+06</td>\n",
              "      <td>1.000000</td>\n",
              "      <td>55.000000</td>\n",
              "      <td>0.000000</td>\n",
              "      <td>0.000000</td>\n",
              "      <td>0.000000</td>\n",
              "      <td>0.000000</td>\n",
              "      <td>0.000000</td>\n",
              "      <td>1.000000</td>\n",
              "      <td>0.000000</td>\n",
              "    </tr>\n",
              "    <tr>\n",
              "      <th>max</th>\n",
              "      <td>9.999820e+14</td>\n",
              "      <td>5.790484e+06</td>\n",
              "      <td>1.000000</td>\n",
              "      <td>100.000000</td>\n",
              "      <td>1.000000</td>\n",
              "      <td>1.000000</td>\n",
              "      <td>1.000000</td>\n",
              "      <td>1.000000</td>\n",
              "      <td>4.000000</td>\n",
              "      <td>1.000000</td>\n",
              "      <td>1.000000</td>\n",
              "    </tr>\n",
              "  </tbody>\n",
              "</table>\n",
              "</div>\n",
              "      <button class=\"colab-df-convert\" onclick=\"convertToInteractive('df-57e072e0-5c60-4833-a2f6-373f14d75279')\"\n",
              "              title=\"Convert this dataframe to an interactive table.\"\n",
              "              style=\"display:none;\">\n",
              "        \n",
              "  <svg xmlns=\"http://www.w3.org/2000/svg\" height=\"24px\"viewBox=\"0 0 24 24\"\n",
              "       width=\"24px\">\n",
              "    <path d=\"M0 0h24v24H0V0z\" fill=\"none\"/>\n",
              "    <path d=\"M18.56 5.44l.94 2.06.94-2.06 2.06-.94-2.06-.94-.94-2.06-.94 2.06-2.06.94zm-11 1L8.5 8.5l.94-2.06 2.06-.94-2.06-.94L8.5 2.5l-.94 2.06-2.06.94zm10 10l.94 2.06.94-2.06 2.06-.94-2.06-.94-.94-2.06-.94 2.06-2.06.94z\"/><path d=\"M17.41 7.96l-1.37-1.37c-.4-.4-.92-.59-1.43-.59-.52 0-1.04.2-1.43.59L10.3 9.45l-7.72 7.72c-.78.78-.78 2.05 0 2.83L4 21.41c.39.39.9.59 1.41.59.51 0 1.02-.2 1.41-.59l7.78-7.78 2.81-2.81c.8-.78.8-2.07 0-2.86zM5.41 20L4 18.59l7.72-7.72 1.47 1.35L5.41 20z\"/>\n",
              "  </svg>\n",
              "      </button>\n",
              "      \n",
              "  <style>\n",
              "    .colab-df-container {\n",
              "      display:flex;\n",
              "      flex-wrap:wrap;\n",
              "      gap: 12px;\n",
              "    }\n",
              "\n",
              "    .colab-df-convert {\n",
              "      background-color: #E8F0FE;\n",
              "      border: none;\n",
              "      border-radius: 50%;\n",
              "      cursor: pointer;\n",
              "      display: none;\n",
              "      fill: #1967D2;\n",
              "      height: 32px;\n",
              "      padding: 0 0 0 0;\n",
              "      width: 32px;\n",
              "    }\n",
              "\n",
              "    .colab-df-convert:hover {\n",
              "      background-color: #E2EBFA;\n",
              "      box-shadow: 0px 1px 2px rgba(60, 64, 67, 0.3), 0px 1px 3px 1px rgba(60, 64, 67, 0.15);\n",
              "      fill: #174EA6;\n",
              "    }\n",
              "\n",
              "    [theme=dark] .colab-df-convert {\n",
              "      background-color: #3B4455;\n",
              "      fill: #D2E3FC;\n",
              "    }\n",
              "\n",
              "    [theme=dark] .colab-df-convert:hover {\n",
              "      background-color: #434B5C;\n",
              "      box-shadow: 0px 1px 3px 1px rgba(0, 0, 0, 0.15);\n",
              "      filter: drop-shadow(0px 1px 2px rgba(0, 0, 0, 0.3));\n",
              "      fill: #FFFFFF;\n",
              "    }\n",
              "  </style>\n",
              "\n",
              "      <script>\n",
              "        const buttonEl =\n",
              "          document.querySelector('#df-57e072e0-5c60-4833-a2f6-373f14d75279 button.colab-df-convert');\n",
              "        buttonEl.style.display =\n",
              "          google.colab.kernel.accessAllowed ? 'block' : 'none';\n",
              "\n",
              "        async function convertToInteractive(key) {\n",
              "          const element = document.querySelector('#df-57e072e0-5c60-4833-a2f6-373f14d75279');\n",
              "          const dataTable =\n",
              "            await google.colab.kernel.invokeFunction('convertToInteractive',\n",
              "                                                     [key], {});\n",
              "          if (!dataTable) return;\n",
              "\n",
              "          const docLinkHtml = 'Like what you see? Visit the ' +\n",
              "            '<a target=\"_blank\" href=https://colab.research.google.com/notebooks/data_table.ipynb>data table notebook</a>'\n",
              "            + ' to learn more about interactive tables.';\n",
              "          element.innerHTML = '';\n",
              "          dataTable['output_type'] = 'display_data';\n",
              "          await google.colab.output.renderOutput(dataTable, element);\n",
              "          const docLink = document.createElement('div');\n",
              "          docLink.innerHTML = docLinkHtml;\n",
              "          element.appendChild(docLink);\n",
              "        }\n",
              "      </script>\n",
              "    </div>\n",
              "  </div>\n",
              "  "
            ],
            "text/plain": [
              "        nomorpasien  nomorappointment   jeniskelamin           umur  \\\n",
              "count  1.105190e+05      1.105190e+05  110519.000000  110519.000000   \n",
              "mean   1.474860e+14      5.675303e+06       0.649952      37.084519   \n",
              "std    2.560826e+14      7.129600e+04       0.476987      23.103165   \n",
              "min    3.920000e+04      5.030230e+06       0.000000       0.000000   \n",
              "25%    4.172460e+12      5.640284e+06       0.000000      18.000000   \n",
              "50%    3.172600e+13      5.680569e+06       1.000000      37.000000   \n",
              "75%    9.438960e+13      5.725522e+06       1.000000      55.000000   \n",
              "max    9.999820e+14      5.790484e+06       1.000000     100.000000   \n",
              "\n",
              "            beasiswa    darahtinggi       diabetes        alkohol  \\\n",
              "count  110519.000000  110519.000000  110519.000000  110519.000000   \n",
              "mean        0.098273       0.197251       0.071870       0.030402   \n",
              "std         0.297684       0.397925       0.258274       0.171692   \n",
              "min         0.000000       0.000000       0.000000       0.000000   \n",
              "25%         0.000000       0.000000       0.000000       0.000000   \n",
              "50%         0.000000       0.000000       0.000000       0.000000   \n",
              "75%         0.000000       0.000000       0.000000       0.000000   \n",
              "max         1.000000       1.000000       1.000000       1.000000   \n",
              "\n",
              "            disabled   sms_received        no_show  \n",
              "count  110519.000000  110519.000000  110519.000000  \n",
              "mean        0.022213       0.321040       0.201920  \n",
              "std         0.161441       0.466878       0.401435  \n",
              "min         0.000000       0.000000       0.000000  \n",
              "25%         0.000000       0.000000       0.000000  \n",
              "50%         0.000000       0.000000       0.000000  \n",
              "75%         0.000000       1.000000       0.000000  \n",
              "max         4.000000       1.000000       1.000000  "
            ]
          },
          "execution_count": 137,
          "metadata": {},
          "output_type": "execute_result"
        }
      ],
      "source": [
        "data.describe()"
      ]
    },
    {
      "cell_type": "code",
      "execution_count": null,
      "metadata": {
        "colab": {
          "base_uri": "https://localhost:8080/",
          "height": 296
        },
        "id": "JxLdG0U2LLbH",
        "outputId": "fcb27e45-d9ee-4fe6-d654-8f74e8386e35"
      },
      "outputs": [
        {
          "data": {
            "text/plain": [
              "<matplotlib.axes._subplots.AxesSubplot at 0x7f4528545350>"
            ]
          },
          "execution_count": 138,
          "metadata": {},
          "output_type": "execute_result"
        },
        {
          "data": {
            "image/png": "[encoded data removed]",
            "text/plain": [
              "<Figure size 432x288 with 1 Axes>"
            ]
          },
          "metadata": {},
          "output_type": "display_data"
        }
      ],
      "source": [
        "sns.boxplot(x=data[\"umur\"])"
      ]
    },
    {
      "cell_type": "markdown",
      "metadata": {
        "id": "deXbsg4vNFk6"
      },
      "source": [
        "**Data sudah tidak ada minus dan outlier**"
      ]
    },
    {
      "cell_type": "markdown",
      "metadata": {
        "id": "iSZ8Kfy2JB22"
      },
      "source": [
        "**3. Buat summary data berdasarkan daerah dan perlihatkan lima daerah dengan no-show terendah dan tertinggi**"
      ]
    },
    {
      "cell_type": "code",
      "execution_count": null,
      "metadata": {
        "colab": {
          "base_uri": "https://localhost:8080/",
          "height": 467
        },
        "id": "kDMat_UhJJ_k",
        "outputId": "d7fca045-95ec-4fa0-934c-b1401de64714"
      },
      "outputs": [
        {
          "data": {
            "text/plain": [
              "<function matplotlib.pyplot.show>"
            ]
          },
          "execution_count": 139,
          "metadata": {},
          "output_type": "execute_result"
        },
        {
          "data": {
            "image/png": "[encoded data removed]",
            "text/plain": [
              "<Figure size 1440x360 with 1 Axes>"
            ]
          },
          "metadata": {},
          "output_type": "display_data"
        }
      ],
      "source": [
        "data.groupby([\"daerah\"]).agg({\"no_show\":['count']}).plot(kind='bar', figsize=(20,5))\n",
        "plt.ylabel(\"no_show\")\n",
        "plt.show"
      ]
    },
    {
      "cell_type": "markdown",
      "metadata": {
        "id": "cNsklecyip6g"
      },
      "source": [
        "**lima daerah dengan no_show tertinggi**"
      ]
    },
    {
      "cell_type": "code",
      "execution_count": null,
      "metadata": {
        "colab": {
          "base_uri": "https://localhost:8080/"
        },
        "id": "Cjfj7BePbUjj",
        "outputId": "5a6e786a-3083-4a85-f9bd-fa793a508ff1"
      },
      "outputs": [
        {
          "data": {
            "text/plain": [
              "daerah\n",
              " Cengkareng Timur    7717\n",
              " Cibubur             5804\n",
              " Cijantung           4431\n",
              " Ancol               3877\n",
              " Cipedak             3514\n",
              "Name: no_show, dtype: int64"
            ]
          },
          "execution_count": 140,
          "metadata": {},
          "output_type": "execute_result"
        }
      ],
      "source": [
        "summary = data.groupby([\"daerah\"])[\"no_show\"].count()\n",
        "summary.nlargest(5)"
      ]
    },
    {
      "cell_type": "code",
      "execution_count": null,
      "metadata": {
        "colab": {
          "base_uri": "https://localhost:8080/",
          "height": 337
        },
        "id": "_9L0-f5WWxcq",
        "outputId": "43750600-0acc-4d97-e354-985a29d9162f"
      },
      "outputs": [
        {
          "data": {
            "text/plain": [
              "<function matplotlib.pyplot.show>"
            ]
          },
          "execution_count": 141,
          "metadata": {},
          "output_type": "execute_result"
        },
        {
          "data": {
            "image/png": "[encoded data removed]",
            "text/plain": [
              "<Figure size 720x360 with 1 Axes>"
            ]
          },
          "metadata": {},
          "output_type": "display_data"
        }
      ],
      "source": [
        "data.groupby([\"daerah\"])[\"no_show\"].count().nlargest(5).sort_values(ascending=False).plot(kind=\"barh\", figsize=(10,5))\n",
        "plt.ylabel(\"Jumlah no_show\")\n",
        "plt.show"
      ]
    },
    {
      "cell_type": "markdown",
      "metadata": {
        "id": "y7TszkJPiuMu"
      },
      "source": [
        "**lima daerah dengan no_show terendah**"
      ]
    },
    {
      "cell_type": "code",
      "execution_count": null,
      "metadata": {
        "colab": {
          "base_uri": "https://localhost:8080/"
        },
        "id": "EAEFZQgNfH7n",
        "outputId": "aecfbddc-eb00-4066-eb54-7817cb81877b"
      },
      "outputs": [
        {
          "data": {
            "text/plain": [
              "daerah\n",
              " Joglo             1\n",
              " Jembatan Lima     2\n",
              " Jembatan Besi     8\n",
              " Duren Sawit      10\n",
              " Jatipadang       35\n",
              "Name: no_show, dtype: int64"
            ]
          },
          "execution_count": 142,
          "metadata": {},
          "output_type": "execute_result"
        }
      ],
      "source": [
        "summary = data.groupby([\"daerah\"])[\"no_show\"].count()\n",
        "summary.nsmallest(5)"
      ]
    },
    {
      "cell_type": "code",
      "execution_count": null,
      "metadata": {
        "colab": {
          "base_uri": "https://localhost:8080/",
          "height": 337
        },
        "id": "HC19NajNfEIi",
        "outputId": "51a5c995-6cd1-4fba-ef00-95f7d51aff6b"
      },
      "outputs": [
        {
          "data": {
            "text/plain": [
              "<function matplotlib.pyplot.show>"
            ]
          },
          "execution_count": 143,
          "metadata": {},
          "output_type": "execute_result"
        },
        {
          "data": {
            "image/png": "[encoded data removed]",
            "text/plain": [
              "<Figure size 720x360 with 1 Axes>"
            ]
          },
          "metadata": {},
          "output_type": "display_data"
        }
      ],
      "source": [
        "data.groupby([\"daerah\"])[\"no_show\"].count().nsmallest(5).sort_values(ascending=True).plot(kind=\"barh\", figsize=(10,5))\n",
        "plt.ylabel(\"Jumlah no_show\")\n",
        "plt.show"
      ]
    },
    {
      "cell_type": "markdown",
      "metadata": {
        "id": "-VB03TDyO6J7"
      },
      "source": [
        "**vertical barchart ganti \"barh\" jadi \"bar\"**"
      ]
    },
    {
      "cell_type": "markdown",
      "metadata": {
        "id": "GEcMIpOhNwMv"
      },
      "source": [
        "**4. Buat summary data berdasarkan selisih tanggal appointment dan janji dan perlihatkan apakah ada tren tertentu**"
      ]
    },
    {
      "cell_type": "code",
      "execution_count": null,
      "metadata": {
        "id": "69hMwxJ68AzT"
      },
      "outputs": [],
      "source": [
        "data.tanggalappointment = pd.to_datetime(data.tanggalappointment)\n",
        "data.tanggalpembuatan = pd.to_datetime(data.tanggalpembuatan)"
      ]
    },
    {
      "cell_type": "markdown",
      "metadata": {
        "id": "xU9pDLdUPQOg"
      },
      "source": [
        "**ATAU**"
      ]
    },
    {
      "cell_type": "code",
      "execution_count": null,
      "metadata": {
        "id": "p4-9Cec0RRE_"
      },
      "outputs": [],
      "source": [
        "data[\"tanggalappointment\"] = pd.to_datetime(data[\"tanggalappointment\"],format='%Y-%m-%d',)"
      ]
    },
    {
      "cell_type": "code",
      "execution_count": null,
      "metadata": {
        "id": "luSmiyvBQvQu"
      },
      "outputs": [],
      "source": [
        "data[\"tanggalpembuatan\"] = pd.to_datetime(data[\"tanggalpembuatan\"],format='%Y-%m-%d',)"
      ]
    },
    {
      "cell_type": "markdown",
      "metadata": {
        "id": "hphc8iIcURVY"
      },
      "source": [
        "**tipe data tanggal menjadi datetime agar bisa diselisihkan**"
      ]
    },
    {
      "cell_type": "code",
      "execution_count": null,
      "metadata": {
        "colab": {
          "base_uri": "https://localhost:8080/"
        },
        "id": "zIVGESImj2TI",
        "outputId": "a383a16d-3e82-4612-8d8d-aefe3728be20"
      },
      "outputs": [
        {
          "name": "stdout",
          "output_type": "stream",
          "text": [
            "<class 'pandas.core.frame.DataFrame'>\n",
            "Int64Index: 110519 entries, 0 to 110526\n",
            "Data columns (total 15 columns):\n",
            " #   Column              Non-Null Count   Dtype              \n",
            "---  ------              --------------   -----              \n",
            " 0   nomorpasien         110519 non-null  float64            \n",
            " 1   nomorappointment    110519 non-null  int64              \n",
            " 2   jeniskelamin        110519 non-null  int64              \n",
            " 3   tanggalpembuatan    110519 non-null  datetime64[ns, UTC]\n",
            " 4   tanggalappointment  110519 non-null  datetime64[ns, UTC]\n",
            " 5   umur                110519 non-null  int64              \n",
            " 6   daerah              110519 non-null  object             \n",
            " 7   beasiswa            110519 non-null  int64              \n",
            " 8   darahtinggi         110519 non-null  int64              \n",
            " 9   diabetes            110519 non-null  int64              \n",
            " 10  alkohol             110519 non-null  int64              \n",
            " 11  disabled            110519 non-null  int64              \n",
            " 12  sms_received        110519 non-null  int64              \n",
            " 13  no_show             110519 non-null  int64              \n",
            " 14  selisih_waktu       110519 non-null  int64              \n",
            "dtypes: datetime64[ns, UTC](2), float64(1), int64(11), object(1)\n",
            "memory usage: 17.5+ MB\n"
          ]
        }
      ],
      "source": [
        "data.info()"
      ]
    },
    {
      "cell_type": "markdown",
      "metadata": {
        "id": "YgS-YSstUDGU"
      },
      "source": [
        "**buat kolom baru berisi selisih tanggal appointment dan janji**"
      ]
    },
    {
      "cell_type": "code",
      "execution_count": null,
      "metadata": {
        "id": "F-2TKi408VWO"
      },
      "outputs": [],
      "source": [
        "data[\"selisih_waktu\"] = (data[\"tanggalappointment\"] - data[\"tanggalpembuatan\"]).dt.days"
      ]
    },
    {
      "cell_type": "code",
      "execution_count": null,
      "metadata": {
        "colab": {
          "base_uri": "https://localhost:8080/",
          "height": 365
        },
        "id": "JJdCBtAw8OXc",
        "outputId": "6c3ff57b-a681-4a20-e777-71ff6455de64"
      },
      "outputs": [
        {
          "data": {
            "text/html": [
              "\n",
              "  <div id=\"df-f207932d-23a2-4085-a562-92ea75dd534a\">\n",
              "    <div class=\"colab-df-container\">\n",
              "      <div>\n",
              "<style scoped>\n",
              "    .dataframe tbody tr th:only-of-type {\n",
              "        vertical-align: middle;\n",
              "    }\n",
              "\n",
              "    .dataframe tbody tr th {\n",
              "        vertical-align: top;\n",
              "    }\n",
              "\n",
              "    .dataframe thead th {\n",
              "        text-align: right;\n",
              "    }\n",
              "</style>\n",
              "<table border=\"1\" class=\"dataframe\">\n",
              "  <thead>\n",
              "    <tr style=\"text-align: right;\">\n",
              "      <th></th>\n",
              "      <th>nomorpasien</th>\n",
              "      <th>nomorappointment</th>\n",
              "      <th>jeniskelamin</th>\n",
              "      <th>umur</th>\n",
              "      <th>beasiswa</th>\n",
              "      <th>darahtinggi</th>\n",
              "      <th>diabetes</th>\n",
              "      <th>alkohol</th>\n",
              "      <th>disabled</th>\n",
              "      <th>sms_received</th>\n",
              "      <th>no_show</th>\n",
              "      <th>selisih_waktu</th>\n",
              "    </tr>\n",
              "  </thead>\n",
              "  <tbody>\n",
              "    <tr>\n",
              "      <th>count</th>\n",
              "      <td>1.105190e+05</td>\n",
              "      <td>1.105190e+05</td>\n",
              "      <td>110519.000000</td>\n",
              "      <td>110519.000000</td>\n",
              "      <td>110519.000000</td>\n",
              "      <td>110519.000000</td>\n",
              "      <td>110519.000000</td>\n",
              "      <td>110519.000000</td>\n",
              "      <td>110519.000000</td>\n",
              "      <td>110519.000000</td>\n",
              "      <td>110519.000000</td>\n",
              "      <td>110519.000000</td>\n",
              "    </tr>\n",
              "    <tr>\n",
              "      <th>mean</th>\n",
              "      <td>1.474860e+14</td>\n",
              "      <td>5.675303e+06</td>\n",
              "      <td>0.649952</td>\n",
              "      <td>37.084519</td>\n",
              "      <td>0.098273</td>\n",
              "      <td>0.197251</td>\n",
              "      <td>0.071870</td>\n",
              "      <td>0.030402</td>\n",
              "      <td>0.022213</td>\n",
              "      <td>0.321040</td>\n",
              "      <td>0.201920</td>\n",
              "      <td>9.183887</td>\n",
              "    </tr>\n",
              "    <tr>\n",
              "      <th>std</th>\n",
              "      <td>2.560826e+14</td>\n",
              "      <td>7.129600e+04</td>\n",
              "      <td>0.476987</td>\n",
              "      <td>23.103165</td>\n",
              "      <td>0.297684</td>\n",
              "      <td>0.397925</td>\n",
              "      <td>0.258274</td>\n",
              "      <td>0.171692</td>\n",
              "      <td>0.161441</td>\n",
              "      <td>0.466878</td>\n",
              "      <td>0.401435</td>\n",
              "      <td>15.255169</td>\n",
              "    </tr>\n",
              "    <tr>\n",
              "      <th>min</th>\n",
              "      <td>3.920000e+04</td>\n",
              "      <td>5.030230e+06</td>\n",
              "      <td>0.000000</td>\n",
              "      <td>0.000000</td>\n",
              "      <td>0.000000</td>\n",
              "      <td>0.000000</td>\n",
              "      <td>0.000000</td>\n",
              "      <td>0.000000</td>\n",
              "      <td>0.000000</td>\n",
              "      <td>0.000000</td>\n",
              "      <td>0.000000</td>\n",
              "      <td>-7.000000</td>\n",
              "    </tr>\n",
              "    <tr>\n",
              "      <th>25%</th>\n",
              "      <td>4.172460e+12</td>\n",
              "      <td>5.640284e+06</td>\n",
              "      <td>0.000000</td>\n",
              "      <td>18.000000</td>\n",
              "      <td>0.000000</td>\n",
              "      <td>0.000000</td>\n",
              "      <td>0.000000</td>\n",
              "      <td>0.000000</td>\n",
              "      <td>0.000000</td>\n",
              "      <td>0.000000</td>\n",
              "      <td>0.000000</td>\n",
              "      <td>-1.000000</td>\n",
              "    </tr>\n",
              "    <tr>\n",
              "      <th>50%</th>\n",
              "      <td>3.172600e+13</td>\n",
              "      <td>5.680569e+06</td>\n",
              "      <td>1.000000</td>\n",
              "      <td>37.000000</td>\n",
              "      <td>0.000000</td>\n",
              "      <td>0.000000</td>\n",
              "      <td>0.000000</td>\n",
              "      <td>0.000000</td>\n",
              "      <td>0.000000</td>\n",
              "      <td>0.000000</td>\n",
              "      <td>0.000000</td>\n",
              "      <td>3.000000</td>\n",
              "    </tr>\n",
              "    <tr>\n",
              "      <th>75%</th>\n",
              "      <td>9.438960e+13</td>\n",
              "      <td>5.725522e+06</td>\n",
              "      <td>1.000000</td>\n",
              "      <td>55.000000</td>\n",
              "      <td>0.000000</td>\n",
              "      <td>0.000000</td>\n",
              "      <td>0.000000</td>\n",
              "      <td>0.000000</td>\n",
              "      <td>0.000000</td>\n",
              "      <td>1.000000</td>\n",
              "      <td>0.000000</td>\n",
              "      <td>14.000000</td>\n",
              "    </tr>\n",
              "    <tr>\n",
              "      <th>max</th>\n",
              "      <td>9.999820e+14</td>\n",
              "      <td>5.790484e+06</td>\n",
              "      <td>1.000000</td>\n",
              "      <td>100.000000</td>\n",
              "      <td>1.000000</td>\n",
              "      <td>1.000000</td>\n",
              "      <td>1.000000</td>\n",
              "      <td>1.000000</td>\n",
              "      <td>4.000000</td>\n",
              "      <td>1.000000</td>\n",
              "      <td>1.000000</td>\n",
              "      <td>178.000000</td>\n",
              "    </tr>\n",
              "  </tbody>\n",
              "</table>\n",
              "</div>\n",
              "      <button class=\"colab-df-convert\" onclick=\"convertToInteractive('df-f207932d-23a2-4085-a562-92ea75dd534a')\"\n",
              "              title=\"Convert this dataframe to an interactive table.\"\n",
              "              style=\"display:none;\">\n",
              "        \n",
              "  <svg xmlns=\"http://www.w3.org/2000/svg\" height=\"24px\"viewBox=\"0 0 24 24\"\n",
              "       width=\"24px\">\n",
              "    <path d=\"M0 0h24v24H0V0z\" fill=\"none\"/>\n",
              "    <path d=\"M18.56 5.44l.94 2.06.94-2.06 2.06-.94-2.06-.94-.94-2.06-.94 2.06-2.06.94zm-11 1L8.5 8.5l.94-2.06 2.06-.94-2.06-.94L8.5 2.5l-.94 2.06-2.06.94zm10 10l.94 2.06.94-2.06 2.06-.94-2.06-.94-.94-2.06-.94 2.06-2.06.94z\"/><path d=\"M17.41 7.96l-1.37-1.37c-.4-.4-.92-.59-1.43-.59-.52 0-1.04.2-1.43.59L10.3 9.45l-7.72 7.72c-.78.78-.78 2.05 0 2.83L4 21.41c.39.39.9.59 1.41.59.51 0 1.02-.2 1.41-.59l7.78-7.78 2.81-2.81c.8-.78.8-2.07 0-2.86zM5.41 20L4 18.59l7.72-7.72 1.47 1.35L5.41 20z\"/>\n",
              "  </svg>\n",
              "      </button>\n",
              "      \n",
              "  <style>\n",
              "    .colab-df-container {\n",
              "      display:flex;\n",
              "      flex-wrap:wrap;\n",
              "      gap: 12px;\n",
              "    }\n",
              "\n",
              "    .colab-df-convert {\n",
              "      background-color: #E8F0FE;\n",
              "      border: none;\n",
              "      border-radius: 50%;\n",
              "      cursor: pointer;\n",
              "      display: none;\n",
              "      fill: #1967D2;\n",
              "      height: 32px;\n",
              "      padding: 0 0 0 0;\n",
              "      width: 32px;\n",
              "    }\n",
              "\n",
              "    .colab-df-convert:hover {\n",
              "      background-color: #E2EBFA;\n",
              "      box-shadow: 0px 1px 2px rgba(60, 64, 67, 0.3), 0px 1px 3px 1px rgba(60, 64, 67, 0.15);\n",
              "      fill: #174EA6;\n",
              "    }\n",
              "\n",
              "    [theme=dark] .colab-df-convert {\n",
              "      background-color: #3B4455;\n",
              "      fill: #D2E3FC;\n",
              "    }\n",
              "\n",
              "    [theme=dark] .colab-df-convert:hover {\n",
              "      background-color: #434B5C;\n",
              "      box-shadow: 0px 1px 3px 1px rgba(0, 0, 0, 0.15);\n",
              "      filter: drop-shadow(0px 1px 2px rgba(0, 0, 0, 0.3));\n",
              "      fill: #FFFFFF;\n",
              "    }\n",
              "  </style>\n",
              "\n",
              "      <script>\n",
              "        const buttonEl =\n",
              "          document.querySelector('#df-f207932d-23a2-4085-a562-92ea75dd534a button.colab-df-convert');\n",
              "        buttonEl.style.display =\n",
              "          google.colab.kernel.accessAllowed ? 'block' : 'none';\n",
              "\n",
              "        async function convertToInteractive(key) {\n",
              "          const element = document.querySelector('#df-f207932d-23a2-4085-a562-92ea75dd534a');\n",
              "          const dataTable =\n",
              "            await google.colab.kernel.invokeFunction('convertToInteractive',\n",
              "                                                     [key], {});\n",
              "          if (!dataTable) return;\n",
              "\n",
              "          const docLinkHtml = 'Like what you see? Visit the ' +\n",
              "            '<a target=\"_blank\" href=https://colab.research.google.com/notebooks/data_table.ipynb>data table notebook</a>'\n",
              "            + ' to learn more about interactive tables.';\n",
              "          element.innerHTML = '';\n",
              "          dataTable['output_type'] = 'display_data';\n",
              "          await google.colab.output.renderOutput(dataTable, element);\n",
              "          const docLink = document.createElement('div');\n",
              "          docLink.innerHTML = docLinkHtml;\n",
              "          element.appendChild(docLink);\n",
              "        }\n",
              "      </script>\n",
              "    </div>\n",
              "  </div>\n",
              "  "
            ],
            "text/plain": [
              "        nomorpasien  nomorappointment   jeniskelamin           umur  \\\n",
              "count  1.105190e+05      1.105190e+05  110519.000000  110519.000000   \n",
              "mean   1.474860e+14      5.675303e+06       0.649952      37.084519   \n",
              "std    2.560826e+14      7.129600e+04       0.476987      23.103165   \n",
              "min    3.920000e+04      5.030230e+06       0.000000       0.000000   \n",
              "25%    4.172460e+12      5.640284e+06       0.000000      18.000000   \n",
              "50%    3.172600e+13      5.680569e+06       1.000000      37.000000   \n",
              "75%    9.438960e+13      5.725522e+06       1.000000      55.000000   \n",
              "max    9.999820e+14      5.790484e+06       1.000000     100.000000   \n",
              "\n",
              "            beasiswa    darahtinggi       diabetes        alkohol  \\\n",
              "count  110519.000000  110519.000000  110519.000000  110519.000000   \n",
              "mean        0.098273       0.197251       0.071870       0.030402   \n",
              "std         0.297684       0.397925       0.258274       0.171692   \n",
              "min         0.000000       0.000000       0.000000       0.000000   \n",
              "25%         0.000000       0.000000       0.000000       0.000000   \n",
              "50%         0.000000       0.000000       0.000000       0.000000   \n",
              "75%         0.000000       0.000000       0.000000       0.000000   \n",
              "max         1.000000       1.000000       1.000000       1.000000   \n",
              "\n",
              "            disabled   sms_received        no_show  selisih_waktu  \n",
              "count  110519.000000  110519.000000  110519.000000  110519.000000  \n",
              "mean        0.022213       0.321040       0.201920       9.183887  \n",
              "std         0.161441       0.466878       0.401435      15.255169  \n",
              "min         0.000000       0.000000       0.000000      -7.000000  \n",
              "25%         0.000000       0.000000       0.000000      -1.000000  \n",
              "50%         0.000000       0.000000       0.000000       3.000000  \n",
              "75%         0.000000       1.000000       0.000000      14.000000  \n",
              "max         4.000000       1.000000       1.000000     178.000000  "
            ]
          },
          "execution_count": 149,
          "metadata": {},
          "output_type": "execute_result"
        }
      ],
      "source": [
        "data.describe()"
      ]
    },
    {
      "cell_type": "markdown",
      "metadata": {
        "id": "LmVn8RJMPqty"
      },
      "source": [
        "**Muncul kolom baru bernama \"selisih_waktu\"**"
      ]
    },
    {
      "cell_type": "code",
      "execution_count": null,
      "metadata": {
        "colab": {
          "base_uri": "https://localhost:8080/",
          "height": 357
        },
        "id": "OXWLW8bqQ9yL",
        "outputId": "3f1f67f7-b481-4df0-e772-bf43bfa20a06"
      },
      "outputs": [
        {
          "data": {
            "text/html": [
              "\n",
              "  <div id=\"df-ecf59753-aa48-44ae-b186-801d40386286\">\n",
              "    <div class=\"colab-df-container\">\n",
              "      <div>\n",
              "<style scoped>\n",
              "    .dataframe tbody tr th:only-of-type {\n",
              "        vertical-align: middle;\n",
              "    }\n",
              "\n",
              "    .dataframe tbody tr th {\n",
              "        vertical-align: top;\n",
              "    }\n",
              "\n",
              "    .dataframe thead th {\n",
              "        text-align: right;\n",
              "    }\n",
              "</style>\n",
              "<table border=\"1\" class=\"dataframe\">\n",
              "  <thead>\n",
              "    <tr style=\"text-align: right;\">\n",
              "      <th></th>\n",
              "      <th>nomorpasien</th>\n",
              "      <th>nomorappointment</th>\n",
              "      <th>jeniskelamin</th>\n",
              "      <th>tanggalpembuatan</th>\n",
              "      <th>tanggalappointment</th>\n",
              "      <th>umur</th>\n",
              "      <th>daerah</th>\n",
              "      <th>beasiswa</th>\n",
              "      <th>darahtinggi</th>\n",
              "      <th>diabetes</th>\n",
              "      <th>alkohol</th>\n",
              "      <th>disabled</th>\n",
              "      <th>sms_received</th>\n",
              "      <th>no_show</th>\n",
              "      <th>selisih_waktu</th>\n",
              "    </tr>\n",
              "  </thead>\n",
              "  <tbody>\n",
              "    <tr>\n",
              "      <th>0</th>\n",
              "      <td>2.143110e+13</td>\n",
              "      <td>5611376</td>\n",
              "      <td>1</td>\n",
              "      <td>2016-04-25 07:08:41+00:00</td>\n",
              "      <td>2016-05-25 00:00:00+00:00</td>\n",
              "      <td>43</td>\n",
              "      <td>Bidara Cina</td>\n",
              "      <td>0</td>\n",
              "      <td>0</td>\n",
              "      <td>0</td>\n",
              "      <td>0</td>\n",
              "      <td>0</td>\n",
              "      <td>1</td>\n",
              "      <td>0</td>\n",
              "      <td>29</td>\n",
              "    </tr>\n",
              "    <tr>\n",
              "      <th>1</th>\n",
              "      <td>2.839350e+13</td>\n",
              "      <td>5629135</td>\n",
              "      <td>0</td>\n",
              "      <td>2016-04-27 12:50:39+00:00</td>\n",
              "      <td>2016-04-29 00:00:00+00:00</td>\n",
              "      <td>78</td>\n",
              "      <td>Harapan Mulia</td>\n",
              "      <td>0</td>\n",
              "      <td>1</td>\n",
              "      <td>1</td>\n",
              "      <td>0</td>\n",
              "      <td>0</td>\n",
              "      <td>0</td>\n",
              "      <td>0</td>\n",
              "      <td>1</td>\n",
              "    </tr>\n",
              "    <tr>\n",
              "      <th>2</th>\n",
              "      <td>3.487580e+13</td>\n",
              "      <td>5686183</td>\n",
              "      <td>0</td>\n",
              "      <td>2016-05-11 12:18:24+00:00</td>\n",
              "      <td>2016-05-17 00:00:00+00:00</td>\n",
              "      <td>58</td>\n",
              "      <td>Cililitan</td>\n",
              "      <td>0</td>\n",
              "      <td>1</td>\n",
              "      <td>0</td>\n",
              "      <td>0</td>\n",
              "      <td>0</td>\n",
              "      <td>0</td>\n",
              "      <td>0</td>\n",
              "      <td>5</td>\n",
              "    </tr>\n",
              "    <tr>\n",
              "      <th>3</th>\n",
              "      <td>8.356730e+13</td>\n",
              "      <td>5729853</td>\n",
              "      <td>1</td>\n",
              "      <td>2016-05-24 07:54:37+00:00</td>\n",
              "      <td>2016-05-24 00:00:00+00:00</td>\n",
              "      <td>22</td>\n",
              "      <td>Cempaka Baru</td>\n",
              "      <td>0</td>\n",
              "      <td>0</td>\n",
              "      <td>0</td>\n",
              "      <td>0</td>\n",
              "      <td>0</td>\n",
              "      <td>0</td>\n",
              "      <td>0</td>\n",
              "      <td>-1</td>\n",
              "    </tr>\n",
              "    <tr>\n",
              "      <th>4</th>\n",
              "      <td>9.186880e+14</td>\n",
              "      <td>5690145</td>\n",
              "      <td>1</td>\n",
              "      <td>2016-05-12 09:34:57+00:00</td>\n",
              "      <td>2016-05-12 00:00:00+00:00</td>\n",
              "      <td>30</td>\n",
              "      <td>Cijantung</td>\n",
              "      <td>0</td>\n",
              "      <td>0</td>\n",
              "      <td>0</td>\n",
              "      <td>0</td>\n",
              "      <td>0</td>\n",
              "      <td>0</td>\n",
              "      <td>0</td>\n",
              "      <td>-1</td>\n",
              "    </tr>\n",
              "  </tbody>\n",
              "</table>\n",
              "</div>\n",
              "      <button class=\"colab-df-convert\" onclick=\"convertToInteractive('df-ecf59753-aa48-44ae-b186-801d40386286')\"\n",
              "              title=\"Convert this dataframe to an interactive table.\"\n",
              "              style=\"display:none;\">\n",
              "        \n",
              "  <svg xmlns=\"http://www.w3.org/2000/svg\" height=\"24px\"viewBox=\"0 0 24 24\"\n",
              "       width=\"24px\">\n",
              "    <path d=\"M0 0h24v24H0V0z\" fill=\"none\"/>\n",
              "    <path d=\"M18.56 5.44l.94 2.06.94-2.06 2.06-.94-2.06-.94-.94-2.06-.94 2.06-2.06.94zm-11 1L8.5 8.5l.94-2.06 2.06-.94-2.06-.94L8.5 2.5l-.94 2.06-2.06.94zm10 10l.94 2.06.94-2.06 2.06-.94-2.06-.94-.94-2.06-.94 2.06-2.06.94z\"/><path d=\"M17.41 7.96l-1.37-1.37c-.4-.4-.92-.59-1.43-.59-.52 0-1.04.2-1.43.59L10.3 9.45l-7.72 7.72c-.78.78-.78 2.05 0 2.83L4 21.41c.39.39.9.59 1.41.59.51 0 1.02-.2 1.41-.59l7.78-7.78 2.81-2.81c.8-.78.8-2.07 0-2.86zM5.41 20L4 18.59l7.72-7.72 1.47 1.35L5.41 20z\"/>\n",
              "  </svg>\n",
              "      </button>\n",
              "      \n",
              "  <style>\n",
              "    .colab-df-container {\n",
              "      display:flex;\n",
              "      flex-wrap:wrap;\n",
              "      gap: 12px;\n",
              "    }\n",
              "\n",
              "    .colab-df-convert {\n",
              "      background-color: #E8F0FE;\n",
              "      border: none;\n",
              "      border-radius: 50%;\n",
              "      cursor: pointer;\n",
              "      display: none;\n",
              "      fill: #1967D2;\n",
              "      height: 32px;\n",
              "      padding: 0 0 0 0;\n",
              "      width: 32px;\n",
              "    }\n",
              "\n",
              "    .colab-df-convert:hover {\n",
              "      background-color: #E2EBFA;\n",
              "      box-shadow: 0px 1px 2px rgba(60, 64, 67, 0.3), 0px 1px 3px 1px rgba(60, 64, 67, 0.15);\n",
              "      fill: #174EA6;\n",
              "    }\n",
              "\n",
              "    [theme=dark] .colab-df-convert {\n",
              "      background-color: #3B4455;\n",
              "      fill: #D2E3FC;\n",
              "    }\n",
              "\n",
              "    [theme=dark] .colab-df-convert:hover {\n",
              "      background-color: #434B5C;\n",
              "      box-shadow: 0px 1px 3px 1px rgba(0, 0, 0, 0.15);\n",
              "      filter: drop-shadow(0px 1px 2px rgba(0, 0, 0, 0.3));\n",
              "      fill: #FFFFFF;\n",
              "    }\n",
              "  </style>\n",
              "\n",
              "      <script>\n",
              "        const buttonEl =\n",
              "          document.querySelector('#df-ecf59753-aa48-44ae-b186-801d40386286 button.colab-df-convert');\n",
              "        buttonEl.style.display =\n",
              "          google.colab.kernel.accessAllowed ? 'block' : 'none';\n",
              "\n",
              "        async function convertToInteractive(key) {\n",
              "          const element = document.querySelector('#df-ecf59753-aa48-44ae-b186-801d40386286');\n",
              "          const dataTable =\n",
              "            await google.colab.kernel.invokeFunction('convertToInteractive',\n",
              "                                                     [key], {});\n",
              "          if (!dataTable) return;\n",
              "\n",
              "          const docLinkHtml = 'Like what you see? Visit the ' +\n",
              "            '<a target=\"_blank\" href=https://colab.research.google.com/notebooks/data_table.ipynb>data table notebook</a>'\n",
              "            + ' to learn more about interactive tables.';\n",
              "          element.innerHTML = '';\n",
              "          dataTable['output_type'] = 'display_data';\n",
              "          await google.colab.output.renderOutput(dataTable, element);\n",
              "          const docLink = document.createElement('div');\n",
              "          docLink.innerHTML = docLinkHtml;\n",
              "          element.appendChild(docLink);\n",
              "        }\n",
              "      </script>\n",
              "    </div>\n",
              "  </div>\n",
              "  "
            ],
            "text/plain": [
              "    nomorpasien  nomorappointment  jeniskelamin          tanggalpembuatan  \\\n",
              "0  2.143110e+13           5611376             1 2016-04-25 07:08:41+00:00   \n",
              "1  2.839350e+13           5629135             0 2016-04-27 12:50:39+00:00   \n",
              "2  3.487580e+13           5686183             0 2016-05-11 12:18:24+00:00   \n",
              "3  8.356730e+13           5729853             1 2016-05-24 07:54:37+00:00   \n",
              "4  9.186880e+14           5690145             1 2016-05-12 09:34:57+00:00   \n",
              "\n",
              "         tanggalappointment  umur            daerah  beasiswa  darahtinggi  \\\n",
              "0 2016-05-25 00:00:00+00:00    43       Bidara Cina         0            0   \n",
              "1 2016-04-29 00:00:00+00:00    78   Harapan Mulia           0            1   \n",
              "2 2016-05-17 00:00:00+00:00    58         Cililitan         0            1   \n",
              "3 2016-05-24 00:00:00+00:00    22      Cempaka Baru         0            0   \n",
              "4 2016-05-12 00:00:00+00:00    30         Cijantung         0            0   \n",
              "\n",
              "   diabetes  alkohol  disabled  sms_received  no_show  selisih_waktu  \n",
              "0         0        0         0             1        0             29  \n",
              "1         1        0         0             0        0              1  \n",
              "2         0        0         0             0        0              5  \n",
              "3         0        0         0             0        0             -1  \n",
              "4         0        0         0             0        0             -1  "
            ]
          },
          "execution_count": 154,
          "metadata": {},
          "output_type": "execute_result"
        }
      ],
      "source": [
        "data.head()"
      ]
    },
    {
      "cell_type": "markdown",
      "metadata": {
        "id": "0h3-Lh-UUdZ8"
      },
      "source": [
        "**cari tren pake histogram atau line chart**"
      ]
    },
    {
      "cell_type": "code",
      "execution_count": null,
      "metadata": {
        "colab": {
          "base_uri": "https://localhost:8080/",
          "height": 351
        },
        "id": "8N64O3KBlL7W",
        "outputId": "57c610ab-cc46-413d-aaaa-0480aa8ac58d"
      },
      "outputs": [
        {
          "data": {
            "text/plain": [
              "<function matplotlib.pyplot.show>"
            ]
          },
          "execution_count": 155,
          "metadata": {},
          "output_type": "execute_result"
        },
        {
          "data": {
            "image/png": "[encoded data removed]",
            "text/plain": [
              "<Figure size 864x360 with 1 Axes>"
            ]
          },
          "metadata": {},
          "output_type": "display_data"
        }
      ],
      "source": [
        "data[\"selisih_waktu\"].hist(figsize=(12,5))\n",
        "plt.xlabel(\"Selisih Waktu\")\n",
        "plt.ylabel(\"Jumlah\")\n",
        "plt.show"
      ]
    },
    {
      "cell_type": "code",
      "execution_count": null,
      "metadata": {
        "colab": {
          "base_uri": "https://localhost:8080/",
          "height": 300
        },
        "id": "meN2Cl90VDVq",
        "outputId": "3b23d45e-5354-4e85-a0bc-58bc3a1efa78"
      },
      "outputs": [
        {
          "data": {
            "image/png": "[encoded data removed]",
            "text/plain": [
              "<Figure size 432x288 with 1 Axes>"
            ]
          },
          "metadata": {},
          "output_type": "display_data"
        }
      ],
      "source": [
        "plt.plot(data[\"tanggalpembuatan\"], data[\"selisih_waktu\"], color='red', marker='o')\n",
        "plt.title(\"tanggalpembuatan Vs selisih waktu\", fontsize=14)\n",
        "plt.xlabel('tanggalpembuatan', fontsize=14)\n",
        "plt.ylabel('selisih waktu', fontsize=14)\n",
        "plt.grid(True)\n",
        "plt.show()"
      ]
    },
    {
      "cell_type": "markdown",
      "metadata": {
        "id": "2GCgL5kKRJQ_"
      },
      "source": [
        "**Tren menurun**"
      ]
    },
    {
      "cell_type": "markdown",
      "metadata": {
        "id": "2H9Zp2KpNznl"
      },
      "source": [
        "**5. Cek apakah ada korelasi kuat antara feature ke variable No-show**"
      ]
    },
    {
      "cell_type": "code",
      "execution_count": null,
      "metadata": {
        "colab": {
          "base_uri": "https://localhost:8080/",
          "height": 426
        },
        "id": "SeKXXzw-N7YL",
        "outputId": "74bc3199-2ccd-4b72-cecc-5b2f001f1f4e"
      },
      "outputs": [
        {
          "data": {
            "text/html": [
              "\n",
              "  <div id=\"df-08e5268e-7c5b-4fe3-a900-cc1f84200b7c\">\n",
              "    <div class=\"colab-df-container\">\n",
              "      <div>\n",
              "<style scoped>\n",
              "    .dataframe tbody tr th:only-of-type {\n",
              "        vertical-align: middle;\n",
              "    }\n",
              "\n",
              "    .dataframe tbody tr th {\n",
              "        vertical-align: top;\n",
              "    }\n",
              "\n",
              "    .dataframe thead th {\n",
              "        text-align: right;\n",
              "    }\n",
              "</style>\n",
              "<table border=\"1\" class=\"dataframe\">\n",
              "  <thead>\n",
              "    <tr style=\"text-align: right;\">\n",
              "      <th></th>\n",
              "      <th>nomorpasien</th>\n",
              "      <th>nomorappointment</th>\n",
              "      <th>jeniskelamin</th>\n",
              "      <th>umur</th>\n",
              "      <th>beasiswa</th>\n",
              "      <th>darahtinggi</th>\n",
              "      <th>diabetes</th>\n",
              "      <th>alkohol</th>\n",
              "      <th>disabled</th>\n",
              "      <th>sms_received</th>\n",
              "      <th>no_show</th>\n",
              "      <th>selisih_waktu</th>\n",
              "    </tr>\n",
              "  </thead>\n",
              "  <tbody>\n",
              "    <tr>\n",
              "      <th>nomorpasien</th>\n",
              "      <td>1.000000</td>\n",
              "      <td>0.004026</td>\n",
              "      <td>-0.007920</td>\n",
              "      <td>-0.004207</td>\n",
              "      <td>-0.002867</td>\n",
              "      <td>-0.006475</td>\n",
              "      <td>0.001617</td>\n",
              "      <td>0.011020</td>\n",
              "      <td>-0.007815</td>\n",
              "      <td>-0.009768</td>\n",
              "      <td>-0.001411</td>\n",
              "      <td>-0.001449</td>\n",
              "    </tr>\n",
              "    <tr>\n",
              "      <th>nomorappointment</th>\n",
              "      <td>0.004026</td>\n",
              "      <td>1.000000</td>\n",
              "      <td>-0.018516</td>\n",
              "      <td>-0.019152</td>\n",
              "      <td>0.022624</td>\n",
              "      <td>0.012752</td>\n",
              "      <td>0.022636</td>\n",
              "      <td>0.032950</td>\n",
              "      <td>0.014114</td>\n",
              "      <td>-0.256627</td>\n",
              "      <td>-0.162585</td>\n",
              "      <td>-0.771830</td>\n",
              "    </tr>\n",
              "    <tr>\n",
              "      <th>jeniskelamin</th>\n",
              "      <td>-0.007920</td>\n",
              "      <td>-0.018516</td>\n",
              "      <td>1.000000</td>\n",
              "      <td>0.106340</td>\n",
              "      <td>0.114313</td>\n",
              "      <td>0.055731</td>\n",
              "      <td>0.032569</td>\n",
              "      <td>-0.106160</td>\n",
              "      <td>-0.022987</td>\n",
              "      <td>0.046322</td>\n",
              "      <td>0.004096</td>\n",
              "      <td>0.028416</td>\n",
              "    </tr>\n",
              "    <tr>\n",
              "      <th>umur</th>\n",
              "      <td>-0.004207</td>\n",
              "      <td>-0.019152</td>\n",
              "      <td>0.106340</td>\n",
              "      <td>1.000000</td>\n",
              "      <td>-0.092427</td>\n",
              "      <td>0.504788</td>\n",
              "      <td>0.292544</td>\n",
              "      <td>0.095877</td>\n",
              "      <td>0.077382</td>\n",
              "      <td>0.012712</td>\n",
              "      <td>-0.060476</td>\n",
              "      <td>0.034838</td>\n",
              "    </tr>\n",
              "    <tr>\n",
              "      <th>beasiswa</th>\n",
              "      <td>-0.002867</td>\n",
              "      <td>0.022624</td>\n",
              "      <td>0.114313</td>\n",
              "      <td>-0.092427</td>\n",
              "      <td>1.000000</td>\n",
              "      <td>-0.019734</td>\n",
              "      <td>-0.024900</td>\n",
              "      <td>0.035018</td>\n",
              "      <td>-0.008521</td>\n",
              "      <td>0.001184</td>\n",
              "      <td>0.029147</td>\n",
              "      <td>-0.030426</td>\n",
              "    </tr>\n",
              "    <tr>\n",
              "      <th>darahtinggi</th>\n",
              "      <td>-0.006475</td>\n",
              "      <td>0.012752</td>\n",
              "      <td>0.055731</td>\n",
              "      <td>0.504788</td>\n",
              "      <td>-0.019734</td>\n",
              "      <td>1.000000</td>\n",
              "      <td>0.433095</td>\n",
              "      <td>0.087971</td>\n",
              "      <td>0.080248</td>\n",
              "      <td>-0.006315</td>\n",
              "      <td>-0.035677</td>\n",
              "      <td>-0.017229</td>\n",
              "    </tr>\n",
              "    <tr>\n",
              "      <th>diabetes</th>\n",
              "      <td>0.001617</td>\n",
              "      <td>0.022636</td>\n",
              "      <td>0.032569</td>\n",
              "      <td>0.292544</td>\n",
              "      <td>-0.024900</td>\n",
              "      <td>0.433095</td>\n",
              "      <td>1.000000</td>\n",
              "      <td>0.018470</td>\n",
              "      <td>0.057628</td>\n",
              "      <td>-0.014559</td>\n",
              "      <td>-0.015172</td>\n",
              "      <td>-0.027192</td>\n",
              "    </tr>\n",
              "    <tr>\n",
              "      <th>alkohol</th>\n",
              "      <td>0.011020</td>\n",
              "      <td>0.032950</td>\n",
              "      <td>-0.106160</td>\n",
              "      <td>0.095877</td>\n",
              "      <td>0.035018</td>\n",
              "      <td>0.087971</td>\n",
              "      <td>0.018470</td>\n",
              "      <td>1.000000</td>\n",
              "      <td>0.004689</td>\n",
              "      <td>-0.026153</td>\n",
              "      <td>-0.000191</td>\n",
              "      <td>-0.038522</td>\n",
              "    </tr>\n",
              "    <tr>\n",
              "      <th>disabled</th>\n",
              "      <td>-0.007815</td>\n",
              "      <td>0.014114</td>\n",
              "      <td>-0.022987</td>\n",
              "      <td>0.077382</td>\n",
              "      <td>-0.008521</td>\n",
              "      <td>0.080248</td>\n",
              "      <td>0.057628</td>\n",
              "      <td>0.004689</td>\n",
              "      <td>1.000000</td>\n",
              "      <td>-0.024028</td>\n",
              "      <td>-0.006382</td>\n",
              "      <td>-0.019870</td>\n",
              "    </tr>\n",
              "    <tr>\n",
              "      <th>sms_received</th>\n",
              "      <td>-0.009768</td>\n",
              "      <td>-0.256627</td>\n",
              "      <td>0.046322</td>\n",
              "      <td>0.012712</td>\n",
              "      <td>0.001184</td>\n",
              "      <td>-0.006315</td>\n",
              "      <td>-0.014559</td>\n",
              "      <td>-0.026153</td>\n",
              "      <td>-0.024028</td>\n",
              "      <td>1.000000</td>\n",
              "      <td>0.126472</td>\n",
              "      <td>0.398151</td>\n",
              "    </tr>\n",
              "    <tr>\n",
              "      <th>no_show</th>\n",
              "      <td>-0.001411</td>\n",
              "      <td>-0.162585</td>\n",
              "      <td>0.004096</td>\n",
              "      <td>-0.060476</td>\n",
              "      <td>0.029147</td>\n",
              "      <td>-0.035677</td>\n",
              "      <td>-0.015172</td>\n",
              "      <td>-0.000191</td>\n",
              "      <td>-0.006382</td>\n",
              "      <td>0.126472</td>\n",
              "      <td>1.000000</td>\n",
              "      <td>0.186221</td>\n",
              "    </tr>\n",
              "    <tr>\n",
              "      <th>selisih_waktu</th>\n",
              "      <td>-0.001449</td>\n",
              "      <td>-0.771830</td>\n",
              "      <td>0.028416</td>\n",
              "      <td>0.034838</td>\n",
              "      <td>-0.030426</td>\n",
              "      <td>-0.017229</td>\n",
              "      <td>-0.027192</td>\n",
              "      <td>-0.038522</td>\n",
              "      <td>-0.019870</td>\n",
              "      <td>0.398151</td>\n",
              "      <td>0.186221</td>\n",
              "      <td>1.000000</td>\n",
              "    </tr>\n",
              "  </tbody>\n",
              "</table>\n",
              "</div>\n",
              "      <button class=\"colab-df-convert\" onclick=\"convertToInteractive('df-08e5268e-7c5b-4fe3-a900-cc1f84200b7c')\"\n",
              "              title=\"Convert this dataframe to an interactive table.\"\n",
              "              style=\"display:none;\">\n",
              "        \n",
              "  <svg xmlns=\"http://www.w3.org/2000/svg\" height=\"24px\"viewBox=\"0 0 24 24\"\n",
              "       width=\"24px\">\n",
              "    <path d=\"M0 0h24v24H0V0z\" fill=\"none\"/>\n",
              "    <path d=\"M18.56 5.44l.94 2.06.94-2.06 2.06-.94-2.06-.94-.94-2.06-.94 2.06-2.06.94zm-11 1L8.5 8.5l.94-2.06 2.06-.94-2.06-.94L8.5 2.5l-.94 2.06-2.06.94zm10 10l.94 2.06.94-2.06 2.06-.94-2.06-.94-.94-2.06-.94 2.06-2.06.94z\"/><path d=\"M17.41 7.96l-1.37-1.37c-.4-.4-.92-.59-1.43-.59-.52 0-1.04.2-1.43.59L10.3 9.45l-7.72 7.72c-.78.78-.78 2.05 0 2.83L4 21.41c.39.39.9.59 1.41.59.51 0 1.02-.2 1.41-.59l7.78-7.78 2.81-2.81c.8-.78.8-2.07 0-2.86zM5.41 20L4 18.59l7.72-7.72 1.47 1.35L5.41 20z\"/>\n",
              "  </svg>\n",
              "      </button>\n",
              "      \n",
              "  <style>\n",
              "    .colab-df-container {\n",
              "      display:flex;\n",
              "      flex-wrap:wrap;\n",
              "      gap: 12px;\n",
              "    }\n",
              "\n",
              "    .colab-df-convert {\n",
              "      background-color: #E8F0FE;\n",
              "      border: none;\n",
              "      border-radius: 50%;\n",
              "      cursor: pointer;\n",
              "      display: none;\n",
              "      fill: #1967D2;\n",
              "      height: 32px;\n",
              "      padding: 0 0 0 0;\n",
              "      width: 32px;\n",
              "    }\n",
              "\n",
              "    .colab-df-convert:hover {\n",
              "      background-color: #E2EBFA;\n",
              "      box-shadow: 0px 1px 2px rgba(60, 64, 67, 0.3), 0px 1px 3px 1px rgba(60, 64, 67, 0.15);\n",
              "      fill: #174EA6;\n",
              "    }\n",
              "\n",
              "    [theme=dark] .colab-df-convert {\n",
              "      background-color: #3B4455;\n",
              "      fill: #D2E3FC;\n",
              "    }\n",
              "\n",
              "    [theme=dark] .colab-df-convert:hover {\n",
              "      background-color: #434B5C;\n",
              "      box-shadow: 0px 1px 3px 1px rgba(0, 0, 0, 0.15);\n",
              "      filter: drop-shadow(0px 1px 2px rgba(0, 0, 0, 0.3));\n",
              "      fill: #FFFFFF;\n",
              "    }\n",
              "  </style>\n",
              "\n",
              "      <script>\n",
              "        const buttonEl =\n",
              "          document.querySelector('#df-08e5268e-7c5b-4fe3-a900-cc1f84200b7c button.colab-df-convert');\n",
              "        buttonEl.style.display =\n",
              "          google.colab.kernel.accessAllowed ? 'block' : 'none';\n",
              "\n",
              "        async function convertToInteractive(key) {\n",
              "          const element = document.querySelector('#df-08e5268e-7c5b-4fe3-a900-cc1f84200b7c');\n",
              "          const dataTable =\n",
              "            await google.colab.kernel.invokeFunction('convertToInteractive',\n",
              "                                                     [key], {});\n",
              "          if (!dataTable) return;\n",
              "\n",
              "          const docLinkHtml = 'Like what you see? Visit the ' +\n",
              "            '<a target=\"_blank\" href=https://colab.research.google.com/notebooks/data_table.ipynb>data table notebook</a>'\n",
              "            + ' to learn more about interactive tables.';\n",
              "          element.innerHTML = '';\n",
              "          dataTable['output_type'] = 'display_data';\n",
              "          await google.colab.output.renderOutput(dataTable, element);\n",
              "          const docLink = document.createElement('div');\n",
              "          docLink.innerHTML = docLinkHtml;\n",
              "          element.appendChild(docLink);\n",
              "        }\n",
              "      </script>\n",
              "    </div>\n",
              "  </div>\n",
              "  "
            ],
            "text/plain": [
              "                  nomorpasien  nomorappointment  jeniskelamin      umur  \\\n",
              "nomorpasien          1.000000          0.004026     -0.007920 -0.004207   \n",
              "nomorappointment     0.004026          1.000000     -0.018516 -0.019152   \n",
              "jeniskelamin        -0.007920         -0.018516      1.000000  0.106340   \n",
              "umur                -0.004207         -0.019152      0.106340  1.000000   \n",
              "beasiswa            -0.002867          0.022624      0.114313 -0.092427   \n",
              "darahtinggi         -0.006475          0.012752      0.055731  0.504788   \n",
              "diabetes             0.001617          0.022636      0.032569  0.292544   \n",
              "alkohol              0.011020          0.032950     -0.106160  0.095877   \n",
              "disabled            -0.007815          0.014114     -0.022987  0.077382   \n",
              "sms_received        -0.009768         -0.256627      0.046322  0.012712   \n",
              "no_show             -0.001411         -0.162585      0.004096 -0.060476   \n",
              "selisih_waktu       -0.001449         -0.771830      0.028416  0.034838   \n",
              "\n",
              "                  beasiswa  darahtinggi  diabetes   alkohol  disabled  \\\n",
              "nomorpasien      -0.002867    -0.006475  0.001617  0.011020 -0.007815   \n",
              "nomorappointment  0.022624     0.012752  0.022636  0.032950  0.014114   \n",
              "jeniskelamin      0.114313     0.055731  0.032569 -0.106160 -0.022987   \n",
              "umur             -0.092427     0.504788  0.292544  0.095877  0.077382   \n",
              "beasiswa          1.000000    -0.019734 -0.024900  0.035018 -0.008521   \n",
              "darahtinggi      -0.019734     1.000000  0.433095  0.087971  0.080248   \n",
              "diabetes         -0.024900     0.433095  1.000000  0.018470  0.057628   \n",
              "alkohol           0.035018     0.087971  0.018470  1.000000  0.004689   \n",
              "disabled         -0.008521     0.080248  0.057628  0.004689  1.000000   \n",
              "sms_received      0.001184    -0.006315 -0.014559 -0.026153 -0.024028   \n",
              "no_show           0.029147    -0.035677 -0.015172 -0.000191 -0.006382   \n",
              "selisih_waktu    -0.030426    -0.017229 -0.027192 -0.038522 -0.019870   \n",
              "\n",
              "                  sms_received   no_show  selisih_waktu  \n",
              "nomorpasien          -0.009768 -0.001411      -0.001449  \n",
              "nomorappointment     -0.256627 -0.162585      -0.771830  \n",
              "jeniskelamin          0.046322  0.004096       0.028416  \n",
              "umur                  0.012712 -0.060476       0.034838  \n",
              "beasiswa              0.001184  0.029147      -0.030426  \n",
              "darahtinggi          -0.006315 -0.035677      -0.017229  \n",
              "diabetes             -0.014559 -0.015172      -0.027192  \n",
              "alkohol              -0.026153 -0.000191      -0.038522  \n",
              "disabled             -0.024028 -0.006382      -0.019870  \n",
              "sms_received          1.000000  0.126472       0.398151  \n",
              "no_show               0.126472  1.000000       0.186221  \n",
              "selisih_waktu         0.398151  0.186221       1.000000  "
            ]
          },
          "execution_count": 156,
          "metadata": {},
          "output_type": "execute_result"
        }
      ],
      "source": [
        "data.corr()"
      ]
    },
    {
      "cell_type": "markdown",
      "metadata": {
        "id": "h0Cu5v9DE8nM"
      },
      "source": [
        "**Visualisasi korelasi pake heatmap agar lebih mudah dilihat**"
      ]
    },
    {
      "cell_type": "code",
      "execution_count": null,
      "metadata": {
        "colab": {
          "base_uri": "https://localhost:8080/",
          "height": 200
        },
        "id": "upKOCXYvOGMa",
        "outputId": "531b84f6-c658-4366-b510-93168e8d932e"
      },
      "outputs": [
        {
          "output_type": "error",
          "ename": "NameError",
          "evalue": "ignored",
          "traceback": [
            "\u001b[0;31m---------------------------------------------------------------------------\u001b[0m",
            "\u001b[0;31mNameError\u001b[0m                                 Traceback (most recent call last)",
            "\u001b[0;32m<ipython-input-1-092f676aae1c>\u001b[0m in \u001b[0;36m<module>\u001b[0;34m()\u001b[0m\n\u001b[0;32m----> 1\u001b[0;31m \u001b[0mcr\u001b[0m \u001b[0;34m=\u001b[0m \u001b[0mdata\u001b[0m\u001b[0;34m.\u001b[0m\u001b[0mcorr\u001b[0m\u001b[0;34m(\u001b[0m\u001b[0;34m)\u001b[0m\u001b[0;34m\u001b[0m\u001b[0;34m\u001b[0m\u001b[0m\n\u001b[0m\u001b[1;32m      2\u001b[0m \u001b[0mplt\u001b[0m\u001b[0;34m.\u001b[0m\u001b[0mfigure\u001b[0m\u001b[0;34m(\u001b[0m\u001b[0mfigsize\u001b[0m\u001b[0;34m=\u001b[0m\u001b[0;34m(\u001b[0m\u001b[0;36m15\u001b[0m\u001b[0;34m,\u001b[0m\u001b[0;36m15\u001b[0m\u001b[0;34m)\u001b[0m\u001b[0;34m,\u001b[0m \u001b[0mdpi\u001b[0m \u001b[0;34m=\u001b[0m \u001b[0;36m80\u001b[0m\u001b[0;34m)\u001b[0m\u001b[0;34m\u001b[0m\u001b[0;34m\u001b[0m\u001b[0m\n\u001b[1;32m      3\u001b[0m \u001b[0msns\u001b[0m\u001b[0;34m.\u001b[0m\u001b[0mheatmap\u001b[0m\u001b[0;34m(\u001b[0m\u001b[0mcr\u001b[0m\u001b[0;34m[\u001b[0m\u001b[0;34m(\u001b[0m\u001b[0mcr\u001b[0m\u001b[0;34m>=\u001b[0m\u001b[0;36m0.4\u001b[0m\u001b[0;34m)\u001b[0m\u001b[0;34m|\u001b[0m\u001b[0;34m(\u001b[0m\u001b[0mcr\u001b[0m\u001b[0;34m<=\u001b[0m\u001b[0;34m-\u001b[0m\u001b[0;36m0.4\u001b[0m\u001b[0;34m)\u001b[0m\u001b[0;34m]\u001b[0m\u001b[0;34m,\u001b[0m\u001b[0mannot\u001b[0m\u001b[0;34m=\u001b[0m\u001b[0;32mTrue\u001b[0m\u001b[0;34m,\u001b[0m\u001b[0mcmap\u001b[0m\u001b[0;34m=\u001b[0m\u001b[0;34m'coolwarm'\u001b[0m\u001b[0;34m)\u001b[0m\u001b[0;34m\u001b[0m\u001b[0;34m\u001b[0m\u001b[0m\n",
            "\u001b[0;31mNameError\u001b[0m: name 'data' is not defined"
          ]
        }
      ],
      "source": [
        "cr = data.corr()\n",
        "plt.figure(figsize=(15,15), dpi = 80)\n",
        "sns.heatmap(cr[(cr>=0.5)|(cr<=-0.5)],annot=True,cmap='coolwarm')\n"
      ]
    },
    {
      "cell_type": "markdown",
      "metadata": {
        "id": "x0w9zDCjFBAf"
      },
      "source": [
        "**semakin besar angkanya, semakin besar korelasinya**"
      ]
    },
    {
      "cell_type": "markdown",
      "metadata": {
        "id": "yQKpHRD0N4GR"
      },
      "source": [
        "**6. Buat regresi linear/logistik untuk memprediksi No-show**"
      ]
    },
    {
      "cell_type": "code",
      "execution_count": null,
      "metadata": {
        "colab": {
          "base_uri": "https://localhost:8080/",
          "height": 604
        },
        "id": "5Vi0UDR3O-um",
        "outputId": "e09b64a7-2b05-49af-e1c2-899e709849e1"
      },
      "outputs": [
        {
          "data": {
            "text/html": [
              "<table class=\"simpletable\">\n",
              "<caption>OLS Regression Results</caption>\n",
              "<tr>\n",
              "  <th>Dep. Variable:</th>         <td>no_show</td>     <th>  R-squared:         </th> <td>   0.044</td> \n",
              "</tr>\n",
              "<tr>\n",
              "  <th>Model:</th>                   <td>OLS</td>       <th>  Adj. R-squared:    </th> <td>   0.043</td> \n",
              "</tr>\n",
              "<tr>\n",
              "  <th>Method:</th>             <td>Least Squares</td>  <th>  F-statistic:       </th> <td>   558.5</td> \n",
              "</tr>\n",
              "<tr>\n",
              "  <th>Date:</th>             <td>Thu, 09 Jun 2022</td> <th>  Prob (F-statistic):</th>  <td>  0.00</td>  \n",
              "</tr>\n",
              "<tr>\n",
              "  <th>Time:</th>                 <td>07:19:04</td>     <th>  Log-Likelihood:    </th> <td> -53490.</td> \n",
              "</tr>\n",
              "<tr>\n",
              "  <th>No. Observations:</th>      <td>110519</td>      <th>  AIC:               </th> <td>1.070e+05</td>\n",
              "</tr>\n",
              "<tr>\n",
              "  <th>Df Residuals:</th>          <td>110509</td>      <th>  BIC:               </th> <td>1.071e+05</td>\n",
              "</tr>\n",
              "<tr>\n",
              "  <th>Df Model:</th>              <td>     9</td>      <th>                     </th>     <td> </td>    \n",
              "</tr>\n",
              "<tr>\n",
              "  <th>Covariance Type:</th>      <td>nonrobust</td>    <th>                     </th>     <td> </td>    \n",
              "</tr>\n",
              "</table>\n",
              "<table class=\"simpletable\">\n",
              "<tr>\n",
              "        <td></td>           <th>coef</th>     <th>std err</th>      <th>t</th>      <th>P>|t|</th>  <th>[0.025</th>    <th>0.975]</th>  \n",
              "</tr>\n",
              "<tr>\n",
              "  <th>Intercept</th>     <td>    0.1820</td> <td>    0.003</td> <td>   64.155</td> <td> 0.000</td> <td>    0.176</td> <td>    0.188</td>\n",
              "</tr>\n",
              "<tr>\n",
              "  <th>jeniskelamin</th>  <td>    0.0017</td> <td>    0.003</td> <td>    0.654</td> <td> 0.513</td> <td>   -0.003</td> <td>    0.007</td>\n",
              "</tr>\n",
              "<tr>\n",
              "  <th>umur</th>          <td>   -0.0012</td> <td> 6.04e-05</td> <td>  -19.415</td> <td> 0.000</td> <td>   -0.001</td> <td>   -0.001</td>\n",
              "</tr>\n",
              "<tr>\n",
              "  <th>beasiswa</th>      <td>    0.0370</td> <td>    0.004</td> <td>    9.179</td> <td> 0.000</td> <td>    0.029</td> <td>    0.045</td>\n",
              "</tr>\n",
              "<tr>\n",
              "  <th>darahtinggi</th>   <td>   -0.0047</td> <td>    0.004</td> <td>   -1.289</td> <td> 0.197</td> <td>   -0.012</td> <td>    0.002</td>\n",
              "</tr>\n",
              "<tr>\n",
              "  <th>diabetes</th>      <td>    0.0189</td> <td>    0.005</td> <td>    3.707</td> <td> 0.000</td> <td>    0.009</td> <td>    0.029</td>\n",
              "</tr>\n",
              "<tr>\n",
              "  <th>alkohol</th>       <td>    0.0320</td> <td>    0.007</td> <td>    4.584</td> <td> 0.000</td> <td>    0.018</td> <td>    0.046</td>\n",
              "</tr>\n",
              "<tr>\n",
              "  <th>disabled</th>      <td>    0.0087</td> <td>    0.007</td> <td>    1.185</td> <td> 0.236</td> <td>   -0.006</td> <td>    0.023</td>\n",
              "</tr>\n",
              "<tr>\n",
              "  <th>sms_received</th>  <td>    0.0532</td> <td>    0.003</td> <td>   19.275</td> <td> 0.000</td> <td>    0.048</td> <td>    0.059</td>\n",
              "</tr>\n",
              "<tr>\n",
              "  <th>selisih_waktu</th> <td>    0.0044</td> <td> 8.46e-05</td> <td>   51.491</td> <td> 0.000</td> <td>    0.004</td> <td>    0.005</td>\n",
              "</tr>\n",
              "</table>\n",
              "<table class=\"simpletable\">\n",
              "<tr>\n",
              "  <th>Omnibus:</th>       <td>20877.478</td> <th>  Durbin-Watson:     </th> <td>   2.007</td> \n",
              "</tr>\n",
              "<tr>\n",
              "  <th>Prob(Omnibus):</th>  <td> 0.000</td>   <th>  Jarque-Bera (JB):  </th> <td>35482.792</td>\n",
              "</tr>\n",
              "<tr>\n",
              "  <th>Skew:</th>           <td> 1.383</td>   <th>  Prob(JB):          </th> <td>    0.00</td> \n",
              "</tr>\n",
              "<tr>\n",
              "  <th>Kurtosis:</th>       <td> 3.222</td>   <th>  Cond. No.          </th> <td>    278.</td> \n",
              "</tr>\n",
              "</table><br/><br/>Warnings:<br/>[1] Standard Errors assume that the covariance matrix of the errors is correctly specified."
            ],
            "text/plain": [
              "<class 'statsmodels.iolib.summary.Summary'>\n",
              "\"\"\"\n",
              "                            OLS Regression Results                            \n",
              "==============================================================================\n",
              "Dep. Variable:                no_show   R-squared:                       0.044\n",
              "Model:                            OLS   Adj. R-squared:                  0.043\n",
              "Method:                 Least Squares   F-statistic:                     558.5\n",
              "Date:                Thu, 09 Jun 2022   Prob (F-statistic):               0.00\n",
              "Time:                        07:19:04   Log-Likelihood:                -53490.\n",
              "No. Observations:              110519   AIC:                         1.070e+05\n",
              "Df Residuals:                  110509   BIC:                         1.071e+05\n",
              "Df Model:                           9                                         \n",
              "Covariance Type:            nonrobust                                         \n",
              "=================================================================================\n",
              "                    coef    std err          t      P>|t|      [0.025      0.975]\n",
              "---------------------------------------------------------------------------------\n",
              "Intercept         0.1820      0.003     64.155      0.000       0.176       0.188\n",
              "jeniskelamin      0.0017      0.003      0.654      0.513      -0.003       0.007\n",
              "umur             -0.0012   6.04e-05    -19.415      0.000      -0.001      -0.001\n",
              "beasiswa          0.0370      0.004      9.179      0.000       0.029       0.045\n",
              "darahtinggi      -0.0047      0.004     -1.289      0.197      -0.012       0.002\n",
              "diabetes          0.0189      0.005      3.707      0.000       0.009       0.029\n",
              "alkohol           0.0320      0.007      4.584      0.000       0.018       0.046\n",
              "disabled          0.0087      0.007      1.185      0.236      -0.006       0.023\n",
              "sms_received      0.0532      0.003     19.275      0.000       0.048       0.059\n",
              "selisih_waktu     0.0044   8.46e-05     51.491      0.000       0.004       0.005\n",
              "==============================================================================\n",
              "Omnibus:                    20877.478   Durbin-Watson:                   2.007\n",
              "Prob(Omnibus):                  0.000   Jarque-Bera (JB):            35482.792\n",
              "Skew:                           1.383   Prob(JB):                         0.00\n",
              "Kurtosis:                       3.222   Cond. No.                         278.\n",
              "==============================================================================\n",
              "\n",
              "Warnings:\n",
              "[1] Standard Errors assume that the covariance matrix of the errors is correctly specified.\n",
              "\"\"\""
            ]
          },
          "execution_count": 158,
          "metadata": {},
          "output_type": "execute_result"
        }
      ],
      "source": [
        "lm = sm.OLS.from_formula(\"no_show ~ jeniskelamin + umur  + beasiswa + darahtinggi + diabetes + alkohol + disabled + sms_received + selisih_waktu\", data)\n",
        "result = lm.fit()\n",
        "result.summary()"
      ]
    },
    {
      "cell_type": "markdown",
      "metadata": {
        "id": "ebO71FeZRkLn"
      },
      "source": [
        "**P-value semakin besar semakin tidak signifikan**\n",
        "**sehingga yang tidak signifikan adalah jenis kelamin, darah tinggi, dan disabled terhadap no_show. Sisanya signifikan**"
      ]
    },
    {
      "cell_type": "markdown",
      "metadata": {
        "id": "eLc0bCXYR9M_"
      },
      "source": [
        "**Persamaan regresinya adalah**\n",
        "**y = 0.1820 + 0.0017x1 - 0.0012x2 + 0.0370x3 - 0.0047x4 + 0.0189 x5 + ... dan seterusnya**"
      ]
    }
  ],
  "metadata": {
    "colab": {
      "provenance": []
    },
    "kernelspec": {
      "display_name": "Python 3",
      "name": "python3"
    },
    "language_info": {
      "name": "python"
    }
  },
  "nbformat": 4,
  "nbformat_minor": 0
}