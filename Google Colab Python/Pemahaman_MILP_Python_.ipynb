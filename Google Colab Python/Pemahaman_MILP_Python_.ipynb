{
  "nbformat": 4,
  "nbformat_minor": 0,
  "metadata": {
    "colab": {
      "provenance": []
    },
    "kernelspec": {
      "name": "python3",
      "display_name": "Python 3"
    },
    "language_info": {
      "name": "python"
    }
  },
  "cells": [
    {
      "cell_type": "code",
      "source": [
        "pip install mip"
      ],
      "metadata": {
        "colab": {
          "base_uri": "https://localhost:8080/"
        },
        "id": "lK0oXQ2RksQ6",
        "outputId": "ca6c2f0f-4ed6-4001-d1b1-aed6b726a835"
      },
      "execution_count": null,
      "outputs": [
        {
          "output_type": "stream",
          "name": "stdout",
          "text": [
            "Looking in indexes: https://pypi.org/simple, https://us-python.pkg.dev/colab-wheels/public/simple/\n",
            "Collecting mip\n",
            "  Downloading mip-1.15.0-py3-none-any.whl (15.3 MB)\n",
            "\u001b[2K     \u001b[90m━━━━━━━━━━━━━━━━━━━━━━━━━━━━━━━━━━━━━━━━\u001b[0m \u001b[32m15.3/15.3 MB\u001b[0m \u001b[31m40.3 MB/s\u001b[0m eta \u001b[36m0:00:00\u001b[0m\n",
            "\u001b[?25hRequirement already satisfied: cffi==1.15.* in /usr/local/lib/python3.9/dist-packages (from mip) (1.15.1)\n",
            "Requirement already satisfied: pycparser in /usr/local/lib/python3.9/dist-packages (from cffi==1.15.*->mip) (2.21)\n",
            "Installing collected packages: mip\n",
            "Successfully installed mip-1.15.0\n"
          ]
        }
      ]
    },
    {
      "cell_type": "code",
      "source": [
        "pip install pyomo"
      ],
      "metadata": {
        "id": "kIT53_lSX16Q"
      },
      "execution_count": null,
      "outputs": []
    },
    {
      "cell_type": "code",
      "source": [
        "%pip install gurobipy"
      ],
      "metadata": {
        "id": "ISp-X75JZFZb"
      },
      "execution_count": null,
      "outputs": []
    },
    {
      "cell_type": "code",
      "source": [
        "pip install -U \"scipy==1.4.*\" \"pulp==2.1\""
      ],
      "metadata": {
        "colab": {
          "base_uri": "https://localhost:8080/"
        },
        "id": "TUc7BOcaG0VZ",
        "outputId": "b4a50982-a1e5-483f-dbc3-cf1b10cb3d95"
      },
      "execution_count": null,
      "outputs": [
        {
          "output_type": "stream",
          "name": "stdout",
          "text": [
            "Requirement already satisfied: pyparsing>=2.0.1 in /usr/local/lib/python3.9/dist-packages (from pulp==2.1) (3.0.9)\n",
            "Building wheels for collected packages: scipy\n",
            "  Building wheel for scipy (pyproject.toml) ... \u001b[?25lcanceled\n",
            "\u001b[31mERROR: Operation cancelled by user\u001b[0m\u001b[31m\n",
            "\u001b[0m"
          ]
        }
      ]
    },
    {
      "cell_type": "code",
      "source": [
        "!pip install ortools\n",
        "from ortools.linear_solver import pywraplp"
      ],
      "metadata": {
        "id": "UYM8IbEre_ns"
      },
      "execution_count": null,
      "outputs": []
    },
    {
      "cell_type": "code",
      "execution_count": null,
      "metadata": {
        "id": "84_YWM2a8cLM"
      },
      "outputs": [],
      "source": [
        "import pandas as pd\n",
        "import cvxpy as cp\n",
        "import numpy as np\n",
        "import gurobipy as gp\n",
        "from gurobipy import GRB\n",
        "from mip import *\n",
        "from pylab import *\n",
        "from pulp import LpMaximize, LpProblem, LpStatus, lpSum, LpVariable\n",
        "from pulp import GLPK\n",
        "from scipy.optimize import linprog\n",
        "import xlrd\n",
        "import matplotlib\n",
        "import matplotlib.pyplot as plt"
      ]
    },
    {
      "cell_type": "code",
      "source": [
        "import pyomo.environ as pyo\n",
        "from pyomo.environ import *\n",
        "\n",
        "model = ConcreteModel()\n",
        "model.T = RangeSet(5)    # time periods\n",
        "\n",
        "i0 = 5.0           # initial inventory\n",
        "c = 4.6            # setup cost\n",
        "h_pos = 0.7        # inventory holding cost\n",
        "h_neg = 1.2        # shortage cost\n",
        "P = 5.0            # maximum production amount\n",
        "\n",
        "# demand during period t\n",
        "d = {1: 5.0, 2:7.0, 3:6.2, 4:3.1, 5:1.7}\n",
        "\n",
        "\n",
        "# TODO: WRITE CODE FOR THE MODEL HERE\n",
        "\n",
        "# solve the problem\n",
        "solver = SolverFactory('glpk')\n",
        "solver.solve(model)\n",
        "\n",
        "# print the results\n",
        "for t in model.T:\n",
        "    print('Period: {0}, Prod. Amount: {1}'.format(t, value(model.x[t])))"
      ],
      "metadata": {
        "id": "AxguYNmprfRs"
      },
      "execution_count": null,
      "outputs": []
    },
    {
      "cell_type": "code",
      "source": [
        "# Parameters\n",
        "\n",
        "jenis_bahan_baku = [1,2,3]\n",
        "periode_waktu_datang = [1,t]\n",
        "periode_waktu_pesan = [1,t']\n",
        "\n",
        "curr_workforce = {'s1': 2000, 's2': 1500, 's3': 1000}\n",
        "demand = {\n",
        "    (1, 's1'): 1000,\n",
        "    (1, 's2'): 1400,\n",
        "    (1, 's3'): 1000,\n",
        "    (2, 's1'): 500,\n",
        "    (2, 's2'): 2000,\n",
        "    (2, 's3'): 1500,\n",
        "    (3, 's1'): 0,\n",
        "    (3, 's2'): 2500,\n",
        "    (3, 's3'): 2000\n",
        "}\n",
        "max_overmanning = 150\n",
        "max_parttime = 50\n",
        "parttime_cap = 0.50\n",
        "max_train_unskilled = 200\n",
        "max_train_semiskilled = 0.25\n",
        "\n",
        "training_cost = {'s1': 400, 's2': 500}\n",
        "layoff_cost = {'s1': 200, 's2': 500, 's3': 500}\n",
        "parttime_cost = {'s1': 500, 's2': 400, 's3': 400}\n",
        "overmanning_cost = {'s1': 1500, 's2': 2000, 's3': 3000}\n",
        "\n",
        "# Number of workers required for each shift.\n",
        "shifts, shiftRequirements = gp.multidict({\n",
        "  \"Mon1\":  3,\n",
        "  \"Tue2\":  2,\n",
        "  \"Wed3\":  4,\n",
        "  \"Thu4\":  4,\n",
        "  \"Fri5\":  5,\n",
        "  \"Sat6\":  6,\n",
        "  \"Sun7\":  5,\n",
        "  \"Mon8\":  2,\n",
        "  \"Tue9\":  2,\n",
        "  \"Wed10\": 3,\n",
        "  \"Thu11\": 4,\n",
        "  \"Fri12\": 6,\n",
        "  \"Sat13\": 7,\n",
        "  \"Sun14\": 5 })\n",
        "\n",
        "x = m.addVars(availability, vtype=GRB.BINARY, name=\"x\")\n",
        "slacks = m.addVars(shifts, name=\"Slack\")\n",
        "\n",
        "# Constraint: All shifts requirements most be satisfied.\n",
        "\n",
        "shift_reqmts = m.addConstrs((x.sum('*',s) + slacks[s] == shiftRequirements[s] for s in shifts), name='shiftRequirement')\n",
        "\n",
        "m.setObjectiveN(totSlack, index=0, priority=2, reltol=0.2, name='TotalSlack')\n",
        "\n",
        "m.setObjectiveN(maxShift - minShift, index=1, priority=1, name='Fairness'\n",
        "m.write('workforce.lp')\n",
        "m.optimize()\n",
        "\n",
        "status = m.Status\n",
        "if status == GRB.Status.INF_OR_UNBD or status == GRB.Status.INFEASIBLE  or status == GRB.Status.UNBOUNDED:\n",
        "    print('The model cannot be solved because it is infeasible or unbounded')\n",
        "    sys.exit(0)\n",
        "# If the optimization status of the model is not optimal for some other reason, we report that\n",
        "# situation.\n",
        "if status != GRB.Status.OPTIMAL:\n",
        "    print('Optimization was stopped with status ' + str(status))\n",
        "    sys.exit(0)\n",
        "\n",
        "# Print total slack and the number of shifts worked for each worker\n",
        "# The KPIs for this optimization number is the number of extra worked required to satisfy\n",
        "# demand and the number of shifts that each employed worker is working.\n",
        "solution = {}\n",
        "shifts_sol = {}\n",
        "solution['Total slack required'] = str(totSlack.X)\n",
        "assignments_all = {}\n",
        "gant={}\n",
        "\n",
        "assignments = dict()\n",
        "for [w, s] in availability:\n",
        "    if x[w, s].x == 1:\n",
        "        if w in assignments:\n",
        "            assignments[w].append(s)\n",
        "        else:\n",
        "            assignments[w] = [s]\n",
        "\n",
        "\n",
        "print(pd.DataFrame.from_records(list(solution.items()), columns=['KPI', 'Value']))\n",
        "print('-'*50)\n",
        "\n",
        "for w in workers:\n",
        "    shifts_sol[w]=totShifts[w].X\n",
        "    assignments_all[w]=assignments.get(w, [])\n",
        "\n",
        "print('Shifts')\n",
        "print(pd.DataFrame.from_records(list(shifts_sol.items()), columns=['Worker', 'Number of shifts']))\n",
        "\n",
        "y_pos = np.arange(len(shifts_sol.keys()))\n",
        "plt.bar(y_pos,shifts_sol.values() , align='center')\n",
        "plt.xticks(y_pos, shifts_sol.keys())\n",
        "plt.show()\n",
        "\n",
        "print('-'*50)\n",
        "for w in assignments_all:\n",
        "    gant[w] = [w]\n",
        "    for d in shifts:\n",
        "        gant[w].append('*' if d in assignments_all[w] else '-')\n",
        "\n",
        "print('Assigments')\n",
        "print('Symbols: \\'-\\': not working, \\'*\\': working')\n",
        "pd.set_option('display.width', 1000)\n",
        "print(pd.DataFrame.from_records(list(gant.values()), columns=['worker']+shifts))"
      ],
      "metadata": {
        "id": "v3BlkbG7-DbV"
      },
      "execution_count": null,
      "outputs": []
    },
    {
      "cell_type": "code",
      "source": [
        "#0.1 Objective Function: Minimize layoffs\n",
        "obj1 = layoff.sum()\n",
        "manpower.setObjective(obj1, GRB.MINIMIZE)\n",
        "\n",
        "obj2 = quicksum((training_cost[level]*train[year, level, skills[skills.index(level)+1]] if level < 's3' else 0)\n",
        "                + layoff_cost[level]*layoff[year, level]\n",
        "                + parttime_cost[level]*part_time[year, level]\n",
        "                + overmanning_cost[level] * excess[year, level] for year in years for level in skills)"
      ],
      "metadata": {
        "id": "pig3T_gTASUu"
      },
      "execution_count": null,
      "outputs": []
    },
    {
      "cell_type": "code",
      "source": [
        "rows = years.copy()\n",
        "columns = skills.copy()\n",
        "hire_plan = pd.DataFrame(columns=columns, index=rows, data=0.0)\n",
        "\n",
        "for year, level in hire.keys():\n",
        "    if (abs(hire[year, level].x) > 1e-6):\n",
        "        hire_plan.loc[year, level] = np.round(hire[year, level].x, 1)\n",
        "hire_plan"
      ],
      "metadata": {
        "id": "B6NgUyy-Ahli"
      },
      "execution_count": null,
      "outputs": []
    },
    {
      "cell_type": "code",
      "source": [
        "m = Model()"
      ],
      "metadata": {
        "id": "qjPrm8l3Z1T7"
      },
      "execution_count": null,
      "outputs": []
    },
    {
      "cell_type": "code",
      "source": [
        "m = Model(sense=MAXIMIZE, solver_name=CBC)"
      ],
      "metadata": {
        "id": "__Ft8dTqlK65"
      },
      "execution_count": null,
      "outputs": []
    },
    {
      "cell_type": "code",
      "source": [
        "x = m.add_var()"
      ],
      "metadata": {
        "id": "xfPXhVScldKM"
      },
      "execution_count": null,
      "outputs": []
    },
    {
      "cell_type": "code",
      "source": [
        "c = [90, 120, 100, 80, 130]\n",
        "b = [45, 60, 50]\n",
        "a = [[10, 15, 12, 9, 13],[20, 15, 25, 15, 10],[15, 20, 20, 15, 10]]\n",
        "T, I = range(len(b)),range(len(c))"
      ],
      "metadata": {
        "id": "inYlnjj0qiYd"
      },
      "execution_count": null,
      "outputs": []
    },
    {
      "cell_type": "code",
      "source": [
        "x = [[m.add_var(name = names[i], var_type=BINARY) for i in I] for t in T]"
      ],
      "metadata": {
        "id": "JHoHmuMFqwQl"
      },
      "execution_count": null,
      "outputs": []
    },
    {
      "cell_type": "code",
      "source": [
        "m.objective = maximize(xsum(c[i] * x[t][i] for i in I for t in T))"
      ],
      "metadata": {
        "id": "Ot8NjQR7qyKE"
      },
      "execution_count": null,
      "outputs": []
    },
    {
      "cell_type": "code",
      "source": [
        "n = 90\n",
        "y = [ m.add_var(var_type=BINARY) for i in range(n) ]"
      ],
      "metadata": {
        "id": "EJidoJcglqcV"
      },
      "execution_count": null,
      "outputs": []
    },
    {
      "cell_type": "code",
      "source": [
        "m += x + y <= 10"
      ],
      "metadata": {
        "id": "zAcTUeU_l-O9"
      },
      "execution_count": null,
      "outputs": []
    },
    {
      "cell_type": "code",
      "source": [
        "m += xsum(w[i]*x[i] for i in range(n)) <= c"
      ],
      "metadata": {
        "id": "6vJrf_hQmFii"
      },
      "execution_count": null,
      "outputs": []
    },
    {
      "cell_type": "code",
      "source": [
        "m += xsum(w[i]*x[i] for i in range(n) if i%2 == 0) <= c\n",
        "m += xsum(w[i]*x[i] for i in range(n) if i%2 == 0) <= c, 'even_sum'"
      ],
      "metadata": {
        "id": "oSHbip4_mLs3"
      },
      "execution_count": null,
      "outputs": []
    },
    {
      "cell_type": "code",
      "source": [
        "constraint = m.constr_by_name('even_sum')"
      ],
      "metadata": {
        "id": "R119QITXmS_q"
      },
      "execution_count": null,
      "outputs": []
    },
    {
      "cell_type": "code",
      "source": [
        "m.objective = xsum(c[i]*x[i] for i in range(n))\n",
        "m.objective = minimize(xsum(c[i]*x[i] for i in range(n)))\n",
        "m.objective = maximize(xsum(c[i]*x[i] for i in range(n)))"
      ],
      "metadata": {
        "id": "866Io1e6mYWc"
      },
      "execution_count": null,
      "outputs": []
    },
    {
      "cell_type": "code",
      "source": [
        "m.write('model.lp')"
      ],
      "metadata": {
        "id": "zmQxb9FYmloR"
      },
      "execution_count": null,
      "outputs": []
    },
    {
      "cell_type": "code",
      "source": [
        "m.read('model.lp')\n",
        "print('model has {} vars, {} constraints and {} nzs'.format(m.num_cols, m.num_rows, m.num_nz))"
      ],
      "metadata": {
        "id": "ipO8sD1ampvc"
      },
      "execution_count": null,
      "outputs": []
    },
    {
      "cell_type": "code",
      "source": [
        "m.max_gap = 0.05\n",
        "status = m.optimize(max_seconds=300)\n",
        "if status == OptimizationStatus.OPTIMAL:\n",
        "print('optimal solution cost {} found'.format(m.objective_value))\n",
        "elif status == OptimizationStatus.FEASIBLE:\n",
        "print('sol.cost {} found, best possible: {} '.format(m.objective_value, m.objective_bound))\n",
        "elif status == OptimizationStatus.NO_SOLUTION_FOUND:\n",
        "print('no feasible solution found, lower bound is: {} '.format(m.objective_bound))\n",
        "if status == OptimizationStatus.OPTIMAL or status == OptimizationStatus.FEASIBLE:\n",
        "print('solution:')\n",
        "for v in m.vars:\n",
        "if abs(v.x) > 1e-6: # only printing non-zeros\n",
        "print('{} : {} '.format(v.name, v.x))"
      ],
      "metadata": {
        "colab": {
          "base_uri": "https://localhost:8080/",
          "height": 130
        },
        "id": "F0pq8SN2nCtn",
        "outputId": "3cf54417-3d3f-4f2d-ca80-200a6a422ab8"
      },
      "execution_count": null,
      "outputs": [
        {
          "output_type": "error",
          "ename": "SyntaxError",
          "evalue": "ignored",
          "traceback": [
            "\u001b[0;36m  File \u001b[0;32m\"<ipython-input-13-6cd8704bbb37>\"\u001b[0;36m, line \u001b[0;32m2\u001b[0m\n\u001b[0;31m    2 status = m.optimize(max_seconds=300)\u001b[0m\n\u001b[0m      ^\u001b[0m\n\u001b[0;31mSyntaxError\u001b[0m\u001b[0;31m:\u001b[0m invalid syntax\n"
          ]
        }
      ]
    },
    {
      "cell_type": "code",
      "source": [
        "for k in range(model.num_solutions):\n",
        "print('route {} with length {} '.format(k, model.objective_values[k]))\n",
        "for (i, j) in product(range(n), range(n)):\n",
        "if x[i][j].xi(k) >= 0.98:\n",
        "print('\\tarc ({} ,{} )'.format(i,j))"
      ],
      "metadata": {
        "id": "uvNR4bH3nFD0"
      },
      "execution_count": null,
      "outputs": []
    },
    {
      "cell_type": "code",
      "source": [
        "results = {}\n",
        "for i in range(3):\n",
        " results[i+1] = [m.vars[j].x for j in range(5*i,5*i+5)]"
      ],
      "metadata": {
        "id": "NgkFCnI6rMhr"
      },
      "execution_count": null,
      "outputs": []
    },
    {
      "cell_type": "code",
      "source": [
        "result = pd.DataFrame(data = results, index = ['A','B','C','D','E'])"
      ],
      "metadata": {
        "id": "1YChnBHKrPRL"
      },
      "execution_count": null,
      "outputs": []
    },
    {
      "cell_type": "code",
      "source": [
        "from mip import Model, MAXIMIZE, CBC, INTEGER, OptimizationStatus\n",
        ">>> model = Model(sense=MAXIMIZE, solver_name=CBC)\n",
        ">>> x = model.add_var(name='x', var_type=INTEGER, lb=0, ub=10)\n",
        ">>> y = model.add_var(name='y', var_type=INTEGER, lb=0, ub=10)\n",
        ">>> model += x + y <= 10\n",
        ">>> model.objective = x + y\n",
        ">>> status = model.optimize(max_seconds=2)\n",
        ">>> status == OptimizationStatus.OPTIMAL\n",
        "True"
      ],
      "metadata": {
        "id": "q1sJ0yVxr7H9"
      },
      "execution_count": null,
      "outputs": []
    },
    {
      "cell_type": "code",
      "source": [
        "m += x1 + x2 <= 1\n",
        "m.add_constr( x1 + x2 <= 1 )"
      ],
      "metadata": {
        "id": "WTeE8lCGr9E4"
      },
      "execution_count": null,
      "outputs": []
    },
    {
      "cell_type": "code",
      "source": [
        "m += xsum(x[i] for i in range(n)) == y, \"cons1\"\n",
        "m.add_constr( xsum(x[i] for i in range(n)) == y, \"cons1\" )"
      ],
      "metadata": {
        "id": "WHBGMWvmsBOx"
      },
      "execution_count": null,
      "outputs": []
    },
    {
      "cell_type": "code",
      "source": [
        "x = m.add_var()\n",
        "x = [m.add_var(var_type=BINARY) for i in range(n)]\n"
      ],
      "metadata": {
        "id": "uSic0jg6sVuM"
      },
      "execution_count": null,
      "outputs": []
    },
    {
      "cell_type": "code",
      "source": [
        "check_optimization_results()"
      ],
      "metadata": {
        "id": "pOL-e-_3sfCA"
      },
      "execution_count": null,
      "outputs": []
    },
    {
      "cell_type": "code",
      "source": [
        "m.objective = 10*x1 + 7*x4"
      ],
      "metadata": {
        "id": "s_aGqp-Ms89z"
      },
      "execution_count": null,
      "outputs": []
    },
    {
      "cell_type": "code",
      "source": [
        "execution_time_t0 = time.time()\n",
        "\n",
        "#code blablabla ...\n",
        "\n",
        "execution_time_t1 = time.time()\n",
        "print(execution_time_t1-execution_time_t0)"
      ],
      "metadata": {
        "id": "TufK2wK07hdl"
      },
      "execution_count": null,
      "outputs": []
    },
    {
      "cell_type": "markdown",
      "source": [
        "Note: If you want to write your solution to a file, rather than print it to the terminal, you can use the model.write() command. An example implementation is:\n",
        "\n",
        "manpower.write(\"manpower-planning-output.sol\")"
      ],
      "metadata": {
        "id": "XoKIEULeA7-p"
      }
    }
  ]
}