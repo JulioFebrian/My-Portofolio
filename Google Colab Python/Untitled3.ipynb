{
  "nbformat": 4,
  "nbformat_minor": 0,
  "metadata": {
    "colab": {
      "provenance": []
    },
    "kernelspec": {
      "name": "python3",
      "display_name": "Python 3"
    },
    "language_info": {
      "name": "python"
    }
  },
  "cells": [
    {
      "cell_type": "code",
      "execution_count": null,
      "metadata": {
        "id": "u8hZZT1J-7ef"
      },
      "outputs": [],
      "source": [
        "import tensorflow as tf\n",
        "import tensorflow.keras as keras\n",
        "from tensorflow.keras.applications import EfficientNetB2, EfficientNetB0\n",
        "from tensorflow.keras import Model\n",
        "from tensorflow.keras import layers"
      ]
    }
  ]
}