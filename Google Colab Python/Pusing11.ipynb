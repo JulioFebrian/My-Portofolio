{
  "nbformat": 4,
  "nbformat_minor": 0,
  "metadata": {
    "colab": {
      "provenance": []
    },
    "kernelspec": {
      "name": "python3",
      "display_name": "Python 3"
    },
    "language_info": {
      "name": "python"
    }
  },
  "cells": [
    {
      "cell_type": "code",
      "source": [
        "pip install gurobipy"
      ],
      "metadata": {
        "colab": {
          "base_uri": "https://localhost:8080/"
        },
        "id": "_33aEtzaZe4n",
        "outputId": "4fc0781c-5267-431d-bc2b-02ed481a02ad"
      },
      "execution_count": null,
      "outputs": [
        {
          "output_type": "stream",
          "name": "stdout",
          "text": [
            "Looking in indexes: https://pypi.org/simple, https://us-python.pkg.dev/colab-wheels/public/simple/\n",
            "Collecting gurobipy\n",
            "  Downloading gurobipy-10.0.1-cp39-cp39-manylinux2014_x86_64.whl (12.8 MB)\n",
            "\u001b[2K     \u001b[90m━━━━━━━━━━━━━━━━━━━━━━━━━━━━━━━━━━━━━━━━\u001b[0m \u001b[32m12.8/12.8 MB\u001b[0m \u001b[31m50.5 MB/s\u001b[0m eta \u001b[36m0:00:00\u001b[0m\n",
            "\u001b[?25hInstalling collected packages: gurobipy\n",
            "Successfully installed gurobipy-10.0.1\n"
          ]
        }
      ]
    },
    {
      "cell_type": "code",
      "execution_count": null,
      "metadata": {
        "id": "GuO-FladZVTE"
      },
      "outputs": [],
      "source": [
        "import numpy as np\n",
        "import matplotlib.pyplot as plt\n",
        "from gurobipy import Model, GRB, quicksum"
      ]
    },
    {
      "cell_type": "code",
      "source": [
        "rnd = np.random\n",
        "rnd.seed(0)"
      ],
      "metadata": {
        "id": "X6oNc46tvCO2"
      },
      "execution_count": null,
      "outputs": []
    },
    {
      "cell_type": "code",
      "source": [
        "n = 20  # number of clients\n",
        "xc = rnd.rand(n+1)*200\n",
        "yc = rnd.rand(n+1)*100"
      ],
      "metadata": {
        "id": "2LnfjMtXvEry"
      },
      "execution_count": null,
      "outputs": []
    },
    {
      "cell_type": "code",
      "source": [
        "plt.plot(xc[0], yc[0], c='r', marker='s')\n",
        "plt.scatter(xc[1:], yc[1:], c='b')"
      ],
      "metadata": {
        "colab": {
          "base_uri": "https://localhost:8080/",
          "height": 447
        },
        "id": "_W5trRH7vLIk",
        "outputId": "ea47dd62-bd1a-4551-d3f8-e89afbf43a65"
      },
      "execution_count": null,
      "outputs": [
        {
          "output_type": "execute_result",
          "data": {
            "text/plain": [
              "<matplotlib.collections.PathCollection at 0x7fcc9c23d5b0>"
            ]
          },
          "metadata": {},
          "execution_count": 5
        },
        {
          "output_type": "display_data",
          "data": {
            "text/plain": [
              "<Figure size 640x480 with 1 Axes>"
            ],
            "image/png": "[encoded data removed]"
          },
          "metadata": {}
        }
      ]
    },
    {
      "cell_type": "code",
      "source": [
        "N = [i for i in range(1, n+1)]\n",
        "V = [0] + N\n",
        "A = [(i, j) for i in V for j in V if i != j]\n",
        "c = {(i, j): np.hypot(xc[i]-xc[j], yc[i]-yc[j]) for i, j in A}\n",
        "Q = 20\n",
        "q = {i: rnd.randint(1, 10) for i in N}"
      ],
      "metadata": {
        "id": "1XofiIQHvOaM"
      },
      "execution_count": null,
      "outputs": []
    },
    {
      "cell_type": "code",
      "source": [
        "model = Model('CVRP')"
      ],
      "metadata": {
        "id": "dXhlF4_JvShD"
      },
      "execution_count": null,
      "outputs": []
    },
    {
      "cell_type": "code",
      "source": [
        "x = model.addVars(A, vtype=GRB.BINARY)\n",
        "u = model.addVars(N, vtype=GRB.CONTINUOUS)"
      ],
      "metadata": {
        "id": "_euztGyqvUcL"
      },
      "execution_count": null,
      "outputs": []
    },
    {
      "cell_type": "code",
      "source": [
        "model.modelSense = GRB.MINIMIZE\n",
        "model.setObjective(quicksum(x[i, j]*c[i, j] for i, j in A))"
      ],
      "metadata": {
        "id": "icVMQDiMvWqt"
      },
      "execution_count": null,
      "outputs": []
    },
    {
      "cell_type": "code",
      "source": [
        "model.addConstrs(quicksum(x[i, j] for j in V if j != i) == 1 for i in N)\n",
        "model.addConstrs(quicksum(x[i, j] for i in V if i != j) == 1 for j in N)\n",
        "model.addConstrs((x[i, j] == 1) >> (u[i]+q[j] == u[j])\n",
        "               for i, j in A if i != 0 and j != 0)\n",
        "model.addConstrs(u[i] >= q[i] for i in N)\n",
        "model.addConstrs(u[i] <= Q for i in N)"
      ],
      "metadata": {
        "colab": {
          "base_uri": "https://localhost:8080/"
        },
        "id": "yeC_29Y2vYUe",
        "outputId": "4c8d6b9a-0a31-4c06-f07f-c401d3c25bf1"
      },
      "execution_count": null,
      "outputs": [
        {
          "output_type": "execute_result",
          "data": {
            "text/plain": [
              "{1: <gurobi.Constr *Awaiting Model Update*>,\n",
              " 2: <gurobi.Constr *Awaiting Model Update*>,\n",
              " 3: <gurobi.Constr *Awaiting Model Update*>,\n",
              " 4: <gurobi.Constr *Awaiting Model Update*>,\n",
              " 5: <gurobi.Constr *Awaiting Model Update*>,\n",
              " 6: <gurobi.Constr *Awaiting Model Update*>,\n",
              " 7: <gurobi.Constr *Awaiting Model Update*>,\n",
              " 8: <gurobi.Constr *Awaiting Model Update*>,\n",
              " 9: <gurobi.Constr *Awaiting Model Update*>,\n",
              " 10: <gurobi.Constr *Awaiting Model Update*>,\n",
              " 11: <gurobi.Constr *Awaiting Model Update*>,\n",
              " 12: <gurobi.Constr *Awaiting Model Update*>,\n",
              " 13: <gurobi.Constr *Awaiting Model Update*>,\n",
              " 14: <gurobi.Constr *Awaiting Model Update*>,\n",
              " 15: <gurobi.Constr *Awaiting Model Update*>,\n",
              " 16: <gurobi.Constr *Awaiting Model Update*>,\n",
              " 17: <gurobi.Constr *Awaiting Model Update*>,\n",
              " 18: <gurobi.Constr *Awaiting Model Update*>,\n",
              " 19: <gurobi.Constr *Awaiting Model Update*>,\n",
              " 20: <gurobi.Constr *Awaiting Model Update*>}"
            ]
          },
          "metadata": {},
          "execution_count": 25
        }
      ]
    },
    {
      "cell_type": "code",
      "source": [
        "model.Params.MIPGap = 0.1\n",
        "model.Params.TimeLimit = 30  # seconds\n",
        "model.optimize()"
      ],
      "metadata": {
        "colab": {
          "base_uri": "https://localhost:8080/"
        },
        "id": "2b_tMEUTvaRl",
        "outputId": "33dfc977-3f8f-469b-bdc9-59957a6bab83"
      },
      "execution_count": null,
      "outputs": [
        {
          "output_type": "stream",
          "name": "stdout",
          "text": [
            "Set parameter MIPGap to value 0.1\n",
            "Set parameter TimeLimit to value 30\n",
            "Gurobi Optimizer version 10.0.1 build v10.0.1rc0 (linux64)\n",
            "\n",
            "CPU model: Intel(R) Xeon(R) CPU @ 2.20GHz, instruction set [SSE2|AVX|AVX2]\n",
            "Thread count: 1 physical cores, 2 logical processors, using up to 2 threads\n",
            "\n",
            "Optimize a model with 80 rows, 440 columns and 840 nonzeros\n",
            "Model fingerprint: 0x354a6feb\n",
            "Model has 380 general constraints\n",
            "Variable types: 20 continuous, 420 integer (420 binary)\n",
            "Coefficient statistics:\n",
            "  Matrix range     [1e+00, 1e+00]\n",
            "  Objective range  [3e+00, 2e+02]\n",
            "  Bounds range     [1e+00, 1e+00]\n",
            "  RHS range        [1e+00, 2e+01]\n",
            "  GenCon rhs range [1e+00, 9e+00]\n",
            "  GenCon coe range [1e+00, 1e+00]\n",
            "Presolve added 734 rows and 102 columns\n",
            "Presolve time: 0.06s\n",
            "Presolved: 814 rows, 542 columns, 5618 nonzeros\n",
            "Variable types: 122 continuous, 420 integer (420 binary)\n",
            "Found heuristic solution: objective 2540.4720602\n",
            "\n",
            "Root relaxation: objective 4.516618e+02, 76 iterations, 0.00 seconds (0.00 work units)\n",
            "\n",
            "    Nodes    |    Current Node    |     Objective Bounds      |     Work\n",
            " Expl Unexpl |  Obj  Depth IntInf | Incumbent    BestBd   Gap | It/Node Time\n",
            "\n",
            "     0     0  451.66183    0   38 2540.47206  451.66183  82.2%     -    0s\n",
            "H    0     0                    2239.0859437  451.66183  79.8%     -    0s\n",
            "H    0     0                    1017.6604452  451.66183  55.6%     -    0s\n",
            "     0     0  464.19256    0   41 1017.66045  464.19256  54.4%     -    0s\n",
            "     0     0  468.55783    0   45 1017.66045  468.55783  54.0%     -    0s\n",
            "     0     0  469.55809    0   46 1017.66045  469.55809  53.9%     -    0s\n",
            "     0     0  480.34603    0   49 1017.66045  480.34603  52.8%     -    0s\n",
            "     0     0  481.72633    0   40 1017.66045  481.72633  52.7%     -    0s\n",
            "     0     0  481.72633    0   40 1017.66045  481.72633  52.7%     -    0s\n",
            "     0     0  482.84525    0   47 1017.66045  482.84525  52.6%     -    0s\n",
            "     0     0  482.91030    0   47 1017.66045  482.91030  52.5%     -    0s\n",
            "     0     0  482.93350    0   48 1017.66045  482.93350  52.5%     -    0s\n",
            "     0     0  482.93659    0   48 1017.66045  482.93659  52.5%     -    0s\n",
            "     0     0  484.38610    0   50 1017.66045  484.38610  52.4%     -    0s\n",
            "     0     0  484.38610    0   50 1017.66045  484.38610  52.4%     -    0s\n",
            "     0     0  484.49558    0   53 1017.66045  484.49558  52.4%     -    0s\n",
            "     0     0  484.49558    0   53 1017.66045  484.49558  52.4%     -    0s\n",
            "     0     0  485.85034    0   55 1017.66045  485.85034  52.3%     -    0s\n",
            "     0     0  485.85034    0   55 1017.66045  485.85034  52.3%     -    0s\n",
            "     0     0  486.11190    0   56 1017.66045  486.11190  52.2%     -    0s\n",
            "     0     0  486.35796    0   56 1017.66045  486.35796  52.2%     -    0s\n",
            "     0     0  486.35796    0   56 1017.66045  486.35796  52.2%     -    0s\n",
            "     0     0  486.41750    0   53 1017.66045  486.41750  52.2%     -    0s\n",
            "     0     0  486.42562    0   53 1017.66045  486.42562  52.2%     -    0s\n",
            "     0     0  488.09301    0   55 1017.66045  488.09301  52.0%     -    0s\n",
            "     0     0  488.09301    0   55 1017.66045  488.09301  52.0%     -    0s\n",
            "     0     0  488.10384    0   53 1017.66045  488.10384  52.0%     -    0s\n",
            "     0     0  488.78718    0   62 1017.66045  488.78718  52.0%     -    0s\n",
            "     0     0  488.82221    0   61 1017.66045  488.82221  52.0%     -    0s\n",
            "     0     0  488.82221    0   61 1017.66045  488.82221  52.0%     -    0s\n",
            "     0     0  489.10867    0   56 1017.66045  489.10867  51.9%     -    0s\n",
            "     0     0  489.11822    0   61 1017.66045  489.11822  51.9%     -    0s\n",
            "     0     0  489.11822    0   61 1017.66045  489.11822  51.9%     -    0s\n",
            "     0     0  489.34570    0   57 1017.66045  489.34570  51.9%     -    0s\n",
            "     0     0  489.34570    0   58 1017.66045  489.34570  51.9%     -    0s\n",
            "     0     0  489.37581    0   58 1017.66045  489.37581  51.9%     -    0s\n",
            "     0     0  489.38138    0   60 1017.66045  489.38138  51.9%     -    0s\n",
            "     0     0  489.38138    0   60 1017.66045  489.38138  51.9%     -    0s\n",
            "     0     2  493.15208    0   60 1017.66045  493.15208  51.5%     -    0s\n",
            "H   27    25                    1017.5491257  493.15208  51.5%  23.3    0s\n",
            "H  189   161                    1006.1688990  493.65964  50.9%  23.1    1s\n",
            "H  260   227                     987.6334081  493.65964  50.0%  21.1    1s\n",
            "H  272   226                     976.3480076  493.65964  49.4%  20.7    1s\n",
            "H  312   265                     967.5398155  494.35329  48.9%  21.2    1s\n",
            "H  524   406                     959.9175904  588.63558  38.7%  20.5    2s\n",
            "   565   435  735.42432   27   69  959.91759  603.48409  37.1%  21.5    5s\n",
            "H  624   451                     941.7719119  604.37878  35.8%  24.0    5s\n",
            "H  705   465                     935.4930091  604.37878  35.4%  24.2    6s\n",
            "H  912   542                     926.6848170  606.32180  34.6%  25.6    7s\n",
            "  1406   754  915.30470   50   33  926.68482  620.55794  33.0%  25.4   10s\n",
            "  3424  2111  847.72639   48   38  926.68482  650.20133  29.8%  24.1   15s\n",
            "  5923  3921  683.05995   32   48  926.68482  663.87698  28.4%  22.2   20s\n",
            "  8350  5689  846.52827   53   21  926.68482  671.30663  27.6%  21.3   25s\n",
            "\n",
            "Cutting planes:\n",
            "  Learned: 2\n",
            "  Gomory: 10\n",
            "  Cover: 52\n",
            "  Implied bound: 32\n",
            "  Projected implied bound: 4\n",
            "  Clique: 1\n",
            "  MIR: 20\n",
            "  StrongCG: 3\n",
            "  Flow cover: 87\n",
            "  Zero half: 13\n",
            "  Relax-and-lift: 3\n",
            "\n",
            "Explored 10202 nodes (211975 simplex iterations) in 30.04 seconds (19.91 work units)\n",
            "Thread count was 2 (of 2 available processors)\n",
            "\n",
            "Solution count 10: 926.685 935.493 941.772 ... 1017.66\n",
            "\n",
            "Time limit reached\n",
            "Best objective 9.266848169794e+02, best bound 6.745913060299e+02, gap 27.2038%\n"
          ]
        }
      ]
    },
    {
      "cell_type": "code",
      "source": [
        "model.objVal"
      ],
      "metadata": {
        "colab": {
          "base_uri": "https://localhost:8080/"
        },
        "id": "MuLeJERKwBPU",
        "outputId": "abcd3480-615c-4b4a-dcaf-966e79567f18"
      },
      "execution_count": null,
      "outputs": [
        {
          "output_type": "execute_result",
          "data": {
            "text/plain": [
              "926.6848169793905"
            ]
          },
          "metadata": {},
          "execution_count": 27
        }
      ]
    },
    {
      "cell_type": "code",
      "source": [
        "model.getConstrs()"
      ],
      "metadata": {
        "colab": {
          "base_uri": "https://localhost:8080/"
        },
        "id": "QoDBxNF-zjVa",
        "outputId": "047d0f58-f163-4a72-f4bd-d529939ffb2f"
      },
      "execution_count": null,
      "outputs": [
        {
          "output_type": "execute_result",
          "data": {
            "text/plain": [
              "<bound method Model.getConstrs of <gurobi.Model MIP instance CVRP: 80 constrs, 440 vars, Parameter changes: TimeLimit=30.0, MIPGap=0.1>>"
            ]
          },
          "metadata": {},
          "execution_count": 30
        }
      ]
    },
    {
      "cell_type": "code",
      "source": [
        "for v in model.getVars():\n",
        "    print(f\"{v.VarName} = {v.X}\")"
      ],
      "metadata": {
        "colab": {
          "base_uri": "https://localhost:8080/"
        },
        "id": "QRyVfhDlyLec",
        "outputId": "1bbc3823-7886-467e-9efe-bc1fb5b3d43e"
      },
      "execution_count": null,
      "outputs": [
        {
          "output_type": "stream",
          "name": "stdout",
          "text": [
            "C0 = 1.0\n",
            "C1 = 1.0\n",
            "C2 = -0.0\n",
            "C3 = 1.0\n",
            "C4 = -0.0\n",
            "C5 = -0.0\n",
            "C6 = 1.0\n",
            "C7 = 0.0\n",
            "C8 = -0.0\n",
            "C9 = -0.0\n",
            "C10 = -0.0\n",
            "C11 = -0.0\n",
            "C12 = -0.0\n",
            "C13 = -0.0\n",
            "C14 = 1.0\n",
            "C15 = 0.0\n",
            "C16 = 1.0\n",
            "C17 = -0.0\n",
            "C18 = -0.0\n",
            "C19 = -0.0\n",
            "C20 = -0.0\n",
            "C21 = 0.0\n",
            "C22 = 0.0\n",
            "C23 = 0.0\n",
            "C24 = 1.0\n",
            "C25 = 0.0\n",
            "C26 = 0.0\n",
            "C27 = 0.0\n",
            "C28 = 0.0\n",
            "C29 = 0.0\n",
            "C30 = 0.0\n",
            "C31 = 0.0\n",
            "C32 = 0.0\n",
            "C33 = 0.0\n",
            "C34 = 0.0\n",
            "C35 = 0.0\n",
            "C36 = 0.0\n",
            "C37 = 0.0\n",
            "C38 = 0.0\n",
            "C39 = 0.0\n",
            "C40 = 1.0\n",
            "C41 = 0.0\n",
            "C42 = 0.0\n",
            "C43 = 0.0\n",
            "C44 = 0.0\n",
            "C45 = 0.0\n",
            "C46 = 0.0\n",
            "C47 = 0.0\n",
            "C48 = 0.0\n",
            "C49 = 0.0\n",
            "C50 = 0.0\n",
            "C51 = 0.0\n",
            "C52 = 0.0\n",
            "C53 = 0.0\n",
            "C54 = 0.0\n",
            "C55 = 0.0\n",
            "C56 = 0.0\n",
            "C57 = 0.0\n",
            "C58 = 0.0\n",
            "C59 = 0.0\n",
            "C60 = -0.0\n",
            "C61 = 0.0\n",
            "C62 = 0.0\n",
            "C63 = 0.0\n",
            "C64 = 0.0\n",
            "C65 = 0.0\n",
            "C66 = 0.0\n",
            "C67 = 0.0\n",
            "C68 = 1.0\n",
            "C69 = 0.0\n",
            "C70 = 0.0\n",
            "C71 = 0.0\n",
            "C72 = 0.0\n",
            "C73 = 0.0\n",
            "C74 = 0.0\n",
            "C75 = 0.0\n",
            "C76 = 0.0\n",
            "C77 = 0.0\n",
            "C78 = 0.0\n",
            "C79 = 0.0\n",
            "C80 = -0.0\n",
            "C81 = 0.0\n",
            "C82 = 0.0\n",
            "C83 = 0.0\n",
            "C84 = 0.0\n",
            "C85 = 0.0\n",
            "C86 = 0.0\n",
            "C87 = 0.0\n",
            "C88 = 0.0\n",
            "C89 = 0.0\n",
            "C90 = 1.0\n",
            "C91 = 0.0\n",
            "C92 = 0.0\n",
            "C93 = 0.0\n",
            "C94 = 0.0\n",
            "C95 = 0.0\n",
            "C96 = 0.0\n",
            "C97 = 0.0\n",
            "C98 = 0.0\n",
            "C99 = 0.0\n",
            "C100 = -0.0\n",
            "C101 = 0.0\n",
            "C102 = 0.0\n",
            "C103 = 1.0\n",
            "C104 = 0.0\n",
            "C105 = 0.0\n",
            "C106 = 0.0\n",
            "C107 = 0.0\n",
            "C108 = 0.0\n",
            "C109 = 0.0\n",
            "C110 = 0.0\n",
            "C111 = 0.0\n",
            "C112 = 0.0\n",
            "C113 = 0.0\n",
            "C114 = 0.0\n",
            "C115 = 0.0\n",
            "C116 = 0.0\n",
            "C117 = 0.0\n",
            "C118 = 0.0\n",
            "C119 = 0.0\n",
            "C120 = 1.0\n",
            "C121 = 0.0\n",
            "C122 = 0.0\n",
            "C123 = 0.0\n",
            "C124 = 0.0\n",
            "C125 = 0.0\n",
            "C126 = 0.0\n",
            "C127 = 0.0\n",
            "C128 = 0.0\n",
            "C129 = 0.0\n",
            "C130 = 0.0\n",
            "C131 = 0.0\n",
            "C132 = 0.0\n",
            "C133 = 0.0\n",
            "C134 = 0.0\n",
            "C135 = 0.0\n",
            "C136 = 0.0\n",
            "C137 = 0.0\n",
            "C138 = 0.0\n",
            "C139 = 0.0\n",
            "C140 = -0.0\n",
            "C141 = 0.0\n",
            "C142 = 0.0\n",
            "C143 = 0.0\n",
            "C144 = 0.0\n",
            "C145 = 0.0\n",
            "C146 = 0.0\n",
            "C147 = 0.0\n",
            "C148 = 0.0\n",
            "C149 = 0.0\n",
            "C150 = 0.0\n",
            "C151 = 0.0\n",
            "C152 = 0.0\n",
            "C153 = 0.0\n",
            "C154 = 0.0\n",
            "C155 = 0.0\n",
            "C156 = 0.0\n",
            "C157 = 0.0\n",
            "C158 = 0.0\n",
            "C159 = 1.0\n",
            "C160 = -0.0\n",
            "C161 = 0.0\n",
            "C162 = 0.0\n",
            "C163 = 0.0\n",
            "C164 = 0.0\n",
            "C165 = 0.0\n",
            "C166 = 0.0\n",
            "C167 = 0.0\n",
            "C168 = 0.0\n",
            "C169 = 0.0\n",
            "C170 = 0.0\n",
            "C171 = 0.0\n",
            "C172 = 1.0\n",
            "C173 = 0.0\n",
            "C174 = 0.0\n",
            "C175 = 0.0\n",
            "C176 = 0.0\n",
            "C177 = 0.0\n",
            "C178 = 0.0\n",
            "C179 = 0.0\n",
            "C180 = 1.0\n",
            "C181 = 0.0\n",
            "C182 = 0.0\n",
            "C183 = 0.0\n",
            "C184 = 0.0\n",
            "C185 = 0.0\n",
            "C186 = 0.0\n",
            "C187 = 0.0\n",
            "C188 = 0.0\n",
            "C189 = 0.0\n",
            "C190 = 0.0\n",
            "C191 = 0.0\n",
            "C192 = 0.0\n",
            "C193 = 0.0\n",
            "C194 = 0.0\n",
            "C195 = 0.0\n",
            "C196 = 0.0\n",
            "C197 = 0.0\n",
            "C198 = 0.0\n",
            "C199 = 0.0\n",
            "C200 = 0.0\n",
            "C201 = 0.0\n",
            "C202 = 0.0\n",
            "C203 = 0.0\n",
            "C204 = 0.0\n",
            "C205 = 0.0\n",
            "C206 = 0.0\n",
            "C207 = 0.0\n",
            "C208 = 0.0\n",
            "C209 = 0.0\n",
            "C210 = 0.0\n",
            "C211 = 0.0\n",
            "C212 = 0.0\n",
            "C213 = 0.0\n",
            "C214 = 0.0\n",
            "C215 = 0.0\n",
            "C216 = 0.0\n",
            "C217 = 1.0\n",
            "C218 = 0.0\n",
            "C219 = 0.0\n",
            "C220 = -0.0\n",
            "C221 = 0.0\n",
            "C222 = 0.0\n",
            "C223 = 0.0\n",
            "C224 = 0.0\n",
            "C225 = 0.0\n",
            "C226 = 0.0\n",
            "C227 = 0.0\n",
            "C228 = 0.0\n",
            "C229 = 0.0\n",
            "C230 = 0.0\n",
            "C231 = 1.0\n",
            "C232 = 0.0\n",
            "C233 = 0.0\n",
            "C234 = 0.0\n",
            "C235 = 0.0\n",
            "C236 = 0.0\n",
            "C237 = 0.0\n",
            "C238 = 0.0\n",
            "C239 = 0.0\n",
            "C240 = 1.0\n",
            "C241 = 0.0\n",
            "C242 = 0.0\n",
            "C243 = 0.0\n",
            "C244 = 0.0\n",
            "C245 = 0.0\n",
            "C246 = 0.0\n",
            "C247 = 0.0\n",
            "C248 = 0.0\n",
            "C249 = 0.0\n",
            "C250 = 0.0\n",
            "C251 = 0.0\n",
            "C252 = 0.0\n",
            "C253 = 0.0\n",
            "C254 = 0.0\n",
            "C255 = 0.0\n",
            "C256 = 0.0\n",
            "C257 = 0.0\n",
            "C258 = 0.0\n",
            "C259 = 0.0\n",
            "C260 = -0.0\n",
            "C261 = 0.0\n",
            "C262 = 0.0\n",
            "C263 = 0.0\n",
            "C264 = 0.0\n",
            "C265 = 0.0\n",
            "C266 = 0.0\n",
            "C267 = 0.0\n",
            "C268 = 0.0\n",
            "C269 = 0.0\n",
            "C270 = 0.0\n",
            "C271 = 0.0\n",
            "C272 = 0.0\n",
            "C273 = 0.0\n",
            "C274 = 0.0\n",
            "C275 = 0.0\n",
            "C276 = 0.0\n",
            "C277 = 0.0\n",
            "C278 = 1.0\n",
            "C279 = 0.0\n",
            "C280 = 0.0\n",
            "C281 = 0.0\n",
            "C282 = 0.0\n",
            "C283 = 0.0\n",
            "C284 = 0.0\n",
            "C285 = 0.0\n",
            "C286 = 0.0\n",
            "C287 = 0.0\n",
            "C288 = 0.0\n",
            "C289 = 0.0\n",
            "C290 = 0.0\n",
            "C291 = 0.0\n",
            "C292 = 0.0\n",
            "C293 = 0.0\n",
            "C294 = 0.0\n",
            "C295 = 1.0\n",
            "C296 = 0.0\n",
            "C297 = 0.0\n",
            "C298 = 0.0\n",
            "C299 = 0.0\n",
            "C300 = -0.0\n",
            "C301 = 0.0\n",
            "C302 = 0.0\n",
            "C303 = 0.0\n",
            "C304 = 0.0\n",
            "C305 = 0.0\n",
            "C306 = 0.0\n",
            "C307 = 0.0\n",
            "C308 = 0.0\n",
            "C309 = 0.0\n",
            "C310 = 0.0\n",
            "C311 = 0.0\n",
            "C312 = 0.0\n",
            "C313 = 0.0\n",
            "C314 = 1.0\n",
            "C315 = 0.0\n",
            "C316 = 0.0\n",
            "C317 = 0.0\n",
            "C318 = 0.0\n",
            "C319 = 0.0\n",
            "C320 = -0.0\n",
            "C321 = 0.0\n",
            "C322 = 0.0\n",
            "C323 = 0.0\n",
            "C324 = 0.0\n",
            "C325 = 0.0\n",
            "C326 = 1.0\n",
            "C327 = 0.0\n",
            "C328 = 0.0\n",
            "C329 = 0.0\n",
            "C330 = 0.0\n",
            "C331 = 0.0\n",
            "C332 = 0.0\n",
            "C333 = 0.0\n",
            "C334 = 0.0\n",
            "C335 = 0.0\n",
            "C336 = 0.0\n",
            "C337 = 0.0\n",
            "C338 = 0.0\n",
            "C339 = 0.0\n",
            "C340 = -0.0\n",
            "C341 = 0.0\n",
            "C342 = 0.0\n",
            "C343 = 0.0\n",
            "C344 = 0.0\n",
            "C345 = 0.0\n",
            "C346 = 0.0\n",
            "C347 = 0.0\n",
            "C348 = 0.0\n",
            "C349 = 0.0\n",
            "C350 = 1.0\n",
            "C351 = 0.0\n",
            "C352 = 0.0\n",
            "C353 = 0.0\n",
            "C354 = 0.0\n",
            "C355 = 0.0\n",
            "C356 = 0.0\n",
            "C357 = 0.0\n",
            "C358 = 0.0\n",
            "C359 = 0.0\n",
            "C360 = 1.0\n",
            "C361 = 0.0\n",
            "C362 = 0.0\n",
            "C363 = 0.0\n",
            "C364 = 0.0\n",
            "C365 = 0.0\n",
            "C366 = 0.0\n",
            "C367 = 0.0\n",
            "C368 = 0.0\n",
            "C369 = 0.0\n",
            "C370 = 0.0\n",
            "C371 = 0.0\n",
            "C372 = 0.0\n",
            "C373 = 0.0\n",
            "C374 = 0.0\n",
            "C375 = 0.0\n",
            "C376 = 0.0\n",
            "C377 = 0.0\n",
            "C378 = 0.0\n",
            "C379 = 0.0\n",
            "C380 = 1.0\n",
            "C381 = 0.0\n",
            "C382 = 0.0\n",
            "C383 = 0.0\n",
            "C384 = 0.0\n",
            "C385 = 0.0\n",
            "C386 = 0.0\n",
            "C387 = 0.0\n",
            "C388 = 0.0\n",
            "C389 = 0.0\n",
            "C390 = 0.0\n",
            "C391 = 0.0\n",
            "C392 = 0.0\n",
            "C393 = 0.0\n",
            "C394 = 0.0\n",
            "C395 = 0.0\n",
            "C396 = 0.0\n",
            "C397 = 0.0\n",
            "C398 = 0.0\n",
            "C399 = 0.0\n",
            "C400 = 0.0\n",
            "C401 = 0.0\n",
            "C402 = 0.0\n",
            "C403 = 0.0\n",
            "C404 = 0.0\n",
            "C405 = 0.0\n",
            "C406 = 0.0\n",
            "C407 = 0.0\n",
            "C408 = 1.0\n",
            "C409 = 0.0\n",
            "C410 = 0.0\n",
            "C411 = 0.0\n",
            "C412 = 0.0\n",
            "C413 = 0.0\n",
            "C414 = 0.0\n",
            "C415 = 0.0\n",
            "C416 = 0.0\n",
            "C417 = 0.0\n",
            "C418 = 0.0\n",
            "C419 = 0.0\n",
            "C420 = 2.0\n",
            "C421 = 8.0\n",
            "C422 = 13.999999999999984\n",
            "C423 = 8.00000000000006\n",
            "C424 = 9.999999999999996\n",
            "C425 = 20.0\n",
            "C426 = 2.0000000000000107\n",
            "C427 = 10.00000000000001\n",
            "C428 = 20.0\n",
            "C429 = 10.0\n",
            "C430 = 13.00000000000006\n",
            "C431 = 20.0\n",
            "C432 = 15.0\n",
            "C433 = 12.0\n",
            "C434 = 7.0\n",
            "C435 = 17.0\n",
            "C436 = 5.0\n",
            "C437 = 19.0\n",
            "C438 = 20.0\n",
            "C439 = 6.000000000000011\n"
          ]
        }
      ]
    },
    {
      "cell_type": "code",
      "source": [
        "active_arcs = [a for a in A if x[a].x > 0.99]"
      ],
      "metadata": {
        "id": "OLfzeLlivdVF"
      },
      "execution_count": null,
      "outputs": []
    },
    {
      "cell_type": "code",
      "source": [
        "active_arcs"
      ],
      "metadata": {
        "colab": {
          "base_uri": "https://localhost:8080/"
        },
        "id": "jnr7vXpnv7NP",
        "outputId": "a603d346-c548-45ae-b450-ae1c07128141"
      },
      "execution_count": null,
      "outputs": [
        {
          "output_type": "execute_result",
          "data": {
            "text/plain": [
              "[(0, 1),\n",
              " (0, 2),\n",
              " (0, 4),\n",
              " (0, 7),\n",
              " (0, 15),\n",
              " (0, 17),\n",
              " (1, 5),\n",
              " (2, 0),\n",
              " (3, 9),\n",
              " (4, 11),\n",
              " (5, 3),\n",
              " (6, 0),\n",
              " (7, 20),\n",
              " (8, 13),\n",
              " (9, 0),\n",
              " (10, 18),\n",
              " (11, 12),\n",
              " (12, 0),\n",
              " (13, 19),\n",
              " (14, 16),\n",
              " (15, 14),\n",
              " (16, 6),\n",
              " (17, 10),\n",
              " (18, 0),\n",
              " (19, 0),\n",
              " (20, 8)]"
            ]
          },
          "metadata": {},
          "execution_count": 14
        }
      ]
    },
    {
      "cell_type": "code",
      "source": [
        "for i, j in active_arcs:\n",
        "    plt.plot([xc[i], xc[j]], [yc[i], yc[j]], c='g', zorder=0)\n",
        "plt.plot(xc[0], yc[0], c='r', marker='s')\n",
        "plt.scatter(xc[1:], yc[1:], c='b')"
      ],
      "metadata": {
        "colab": {
          "base_uri": "https://localhost:8080/",
          "height": 447
        },
        "id": "Ubvd6HtkvfC-",
        "outputId": "b886e911-11e8-4484-c677-2303aaa4a63d"
      },
      "execution_count": null,
      "outputs": [
        {
          "output_type": "execute_result",
          "data": {
            "text/plain": [
              "<matplotlib.collections.PathCollection at 0x7fcc9c068f40>"
            ]
          },
          "metadata": {},
          "execution_count": 13
        },
        {
          "output_type": "display_data",
          "data": {
            "text/plain": [
              "<Figure size 640x480 with 1 Axes>"
            ],
            "image/png": "[encoded data removed]"
          },
          "metadata": {}
        }
      ]
    }
  ]
}