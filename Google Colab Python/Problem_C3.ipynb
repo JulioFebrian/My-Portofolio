{
  "cells": [
    {
      "cell_type": "code",
      "execution_count": null,
      "metadata": {
        "id": "Pba2jMrWlMeV"
      },
      "outputs": [],
      "source": [
        "# =======================================================================================================\n",
        "# PROBLEM C3\n",
        "#\n",
        "# Build a CNN based classifier for Cats vs Dogs dataset.\n",
        "# Your input layer should accept 150x150 with 3 bytes color as the input shape.\n",
        "# This is unlabeled data, use ImageDataGenerator to automatically label it.\n",
        "# Don't use lambda layers in your model.\n",
        "#\n",
        "# The dataset used in this problem is originally published in https://www.kaggle.com/c/dogs-vs-cats/data\n",
        "#\n",
        "# Desired accuracy and validation_accuracy > 72%\n",
        "# ========================================================================================================"
      ]
    },
    {
      "cell_type": "code",
      "execution_count": null,
      "metadata": {
        "id": "ot9yYe4zlZrq"
      },
      "outputs": [],
      "source": [
        "import tensorflow as tf\n",
        "import urllib.request\n",
        "import zipfile\n",
        "import tensorflow as tf\n",
        "import os\n",
        "from tensorflow.keras.optimizers import RMSprop\n",
        "from tensorflow.keras.preprocessing.image import ImageDataGenerator"
      ]
    },
    {
      "cell_type": "code",
      "execution_count": null,
      "metadata": {
        "id": "2n46Aj71lbNS"
      },
      "outputs": [],
      "source": [
        "def solution_C3():\n",
        "    data_url = 'https://github.com/dicodingacademy/assets/raw/main/Simulation/machine_learning/cats_and_dogs.zip'\n",
        "    urllib.request.urlretrieve(data_url, 'cats_and_dogs.zip')\n",
        "    local_file = 'cats_and_dogs.zip'\n",
        "    zip_ref = zipfile.ZipFile(local_file, 'r')\n",
        "    zip_ref.extractall('data/')\n",
        "    zip_ref.close()\n",
        "\n",
        "    BASE_DIR = 'data/cats_and_dogs_filtered'\n",
        "    train_dir = os.path.join(BASE_DIR, 'train')\n",
        "    validation_dir = os.path.join(BASE_DIR, 'validation')\n",
        "\n",
        "    train_datagen = ImageDataGenerator(rescale=1.0/255.,\n",
        "                                       rotation_range=30,\n",
        "                                       shear_range=0.2,\n",
        "                                       zoom_range=0.2,\n",
        "                                       horizontal_flip=True,\n",
        "                                       fill_mode=\"nearest\") # YOUR CODE HERE\n",
        "\n",
        "    # YOUR IMAGE SIZE SHOULD BE 150x150\n",
        "    # Make sure you used \"categorical\"\n",
        "    train_generator = train_datagen.flow_from_directory(train_dir,\n",
        "                                                    batch_size=100,\n",
        "                                                    class_mode='binary',\n",
        "                                                    target_size=(150, 150)) # YOUR CODE HERE\n",
        "\n",
        "    validation_datagen = ImageDataGenerator(rescale=1.0 / 255.,\n",
        "                                            rotation_range=30,\n",
        "                                            shear_range=0.2,\n",
        "                                            zoom_range=0.2,\n",
        "                                            horizontal_flip=True,\n",
        "                                            fill_mode=\"nearest\")\n",
        "\n",
        "    validation_generator = validation_datagen.flow_from_directory(validation_dir,\n",
        "                                                                  batch_size=100,\n",
        "                                                                  class_mode='binary',\n",
        "                                                                  target_size=(150, 150))\n",
        "\n",
        "    model = tf.keras.models.Sequential([\n",
        "        tf.keras.layers.Conv2D(32, (3, 3), activation='relu', input_shape=(150, 150, 3)),\n",
        "        tf.keras.layers.MaxPooling2D(2, 2),\n",
        "        tf.keras.layers.Conv2D(64, (3, 3), activation='relu'),\n",
        "        tf.keras.layers.MaxPooling2D(2, 2),\n",
        "        tf.keras.layers.Conv2D(128, (3, 3), activation='relu'),\n",
        "        tf.keras.layers.MaxPooling2D(2, 2),\n",
        "        tf.keras.layers.Flatten(),\n",
        "        # YOUR CODE HERE, end with a Neuron Dense, activated by 'sigmoid'\n",
        "        tf.keras.layers.Dense(1, activation='sigmoid')\n",
        "    ])\n",
        "    model.compile(optimizer='adam', loss='binary_crossentropy', metrics=['acc'])\n",
        "    model.fit_generator(train_generator,\n",
        "                        epochs=10,\n",
        "                        verbose=1,\n",
        "                        validation_data=validation_generator)\n",
        "    return model\n"
      ]
    },
    {
      "cell_type": "code",
      "execution_count": null,
      "metadata": {
        "colab": {
          "base_uri": "https://localhost:8080/"
        },
        "id": "5n2TRwVtldH4",
        "outputId": "17106180-2919-44fd-942e-2ee7c3439ff0"
      },
      "outputs": [
        {
          "output_type": "stream",
          "name": "stdout",
          "text": [
            "Found 2000 images belonging to 2 classes.\n",
            "Found 1000 images belonging to 2 classes.\n"
          ]
        },
        {
          "output_type": "stream",
          "name": "stderr",
          "text": [
            "/usr/local/lib/python3.7/dist-packages/ipykernel_launcher.py:54: UserWarning: `Model.fit_generator` is deprecated and will be removed in a future version. Please use `Model.fit`, which supports generators.\n"
          ]
        },
        {
          "output_type": "stream",
          "name": "stdout",
          "text": [
            "Epoch 1/10\n",
            "20/20 [==============================] - 78s 4s/step - loss: 0.7218 - acc: 0.5085 - val_loss: 0.6906 - val_acc: 0.5000\n",
            "Epoch 2/10\n",
            "20/20 [==============================] - 74s 4s/step - loss: 0.6903 - acc: 0.5580 - val_loss: 0.6876 - val_acc: 0.5150\n",
            "Epoch 3/10\n",
            "20/20 [==============================] - 74s 4s/step - loss: 0.6766 - acc: 0.5550 - val_loss: 0.6600 - val_acc: 0.6110\n",
            "Epoch 4/10\n",
            "20/20 [==============================] - 75s 4s/step - loss: 0.6453 - acc: 0.6345 - val_loss: 0.6338 - val_acc: 0.6530\n",
            "Epoch 5/10\n",
            "20/20 [==============================] - 75s 4s/step - loss: 0.6163 - acc: 0.6545 - val_loss: 0.6000 - val_acc: 0.6810\n",
            "Epoch 6/10\n",
            "20/20 [==============================] - 76s 4s/step - loss: 0.5902 - acc: 0.6790 - val_loss: 0.6097 - val_acc: 0.6910\n",
            "Epoch 7/10\n",
            "20/20 [==============================] - 75s 4s/step - loss: 0.5851 - acc: 0.7040 - val_loss: 0.5915 - val_acc: 0.6710\n",
            "Epoch 8/10\n",
            "20/20 [==============================] - 75s 4s/step - loss: 0.5722 - acc: 0.7100 - val_loss: 0.5838 - val_acc: 0.6870\n",
            "Epoch 9/10\n",
            "20/20 [==============================] - 75s 4s/step - loss: 0.5519 - acc: 0.7245 - val_loss: 0.5615 - val_acc: 0.7210\n",
            "Epoch 10/10\n",
            "20/20 [==============================] - ETA: 0s - loss: 0.5452 - acc: 0.7320"
          ]
        }
      ],
      "source": [
        "# The code below is to save your model as a .h5 file.\n",
        "# It will be saved automatically in your Submission folder.\n",
        "if __name__ == '__main__':\n",
        "    # DO NOT CHANGE THIS CODE\n",
        "    model = solution_C3()\n",
        "    model.save(\"model_C3.h5\")"
      ]
    }
  ],
  "metadata": {
    "colab": {
      "provenance": []
    },
    "kernelspec": {
      "display_name": "Python 3",
      "name": "python3"
    },
    "language_info": {
      "name": "python"
    }
  },
  "nbformat": 4,
  "nbformat_minor": 0
}