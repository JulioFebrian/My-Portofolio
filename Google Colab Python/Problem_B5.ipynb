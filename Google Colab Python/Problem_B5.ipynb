{
  "cells": [
    {
      "cell_type": "code",
      "execution_count": null,
      "metadata": {
        "id": "rChOLFdZ1Xvs"
      },
      "outputs": [],
      "source": [
        "# ============================================================================================\n",
        "# PROBLEM B5\n",
        "#\n",
        "# Build and train a neural network model using the Daily Max Temperature.csv dataset.\n",
        "# Use MAE as the metrics of your neural network model.\n",
        "# We provided code for normalizing the data. Please do not change the code.\n",
        "# Do not use lambda layers in your model.\n",
        "#\n",
        "# The dataset used in this problem is downloaded from https://github.com/jbrownlee/Datasets\n",
        "#\n",
        "# Desired MAE < 0.2 on the normalized dataset.\n",
        "# ============================================================================================"
      ]
    },
    {
      "cell_type": "code",
      "execution_count": null,
      "metadata": {
        "id": "u95wjGw71a4w"
      },
      "outputs": [],
      "source": [
        "import tensorflow as tf\n",
        "import numpy as np\n",
        "import matplotlib.pyplot as plt\n",
        "import csv\n",
        "import urllib"
      ]
    },
    {
      "cell_type": "code",
      "execution_count": null,
      "metadata": {
        "id": "DXlM6scY1c4I"
      },
      "outputs": [],
      "source": [
        "def windowed_dataset(series, window_size, batch_size, shuffle_buffer):\n",
        "    series = tf.expand_dims(series, axis=-1)\n",
        "    ds = tf.data.Dataset.from_tensor_slices(series)\n",
        "    ds = ds.window(window_size + 1, shift=1, drop_remainder=True)\n",
        "    ds = ds.flat_map(lambda w: w.batch(window_size + 1))\n",
        "    ds = ds.shuffle(shuffle_buffer)\n",
        "    ds = ds.map(lambda w: (w[:-1], w[1:]))\n",
        "    return ds.batch(batch_size).prefetch(1)"
      ]
    },
    {
      "cell_type": "code",
      "execution_count": null,
      "metadata": {
        "id": "FiDk2kql1h6i"
      },
      "outputs": [],
      "source": [
        "\n",
        "def solution_B5():\n",
        "    data_url = 'https://raw.githubusercontent.com/jbrownlee/Datasets/master/daily-max-temperatures.csv'\n",
        "    urllib.request.urlretrieve(data_url, 'daily-max-temperatures.csv')\n",
        "\n",
        "    time_step = []\n",
        "    temps = []\n",
        "\n",
        "    with open('daily-max-temperatures.csv') as csvfile:\n",
        "        reader = csv.reader(csvfile, delimiter=',')\n",
        "        next(reader)\n",
        "        step = 0\n",
        "        for row in reader:\n",
        "            temps.append(float(row[1])) # YOUR CODE HERE\n",
        "            time_step.append(step) # YOUR CODE HERE\n",
        "            step=step + 1\n",
        "\n",
        "    series = np.array(temps)\n",
        "    time = np.array(time_step)\n",
        "    # Normalization Function. DO NOT CHANGE THIS CODE\n",
        "    min=np.min(series)\n",
        "    max=np.max(series)\n",
        "    series -= min\n",
        "    series /= max\n",
        "    time=np.array(time_step)\n",
        "\n",
        "    # DO NOT CHANGE THIS CODE\n",
        "    split_time=2500\n",
        "\n",
        "    time_train=time[:split_time]# YOUR CODE HERE\n",
        "    x_train=series[:split_time]# YOUR CODE HERE\n",
        "    time_valid=time[split_time:]# YOUR CODE HERE\n",
        "    x_valid=series[split_time:]# YOUR CODE HERE\n",
        "\n",
        "    # DO NOT CHANGE THIS CODE\n",
        "    window_size=64\n",
        "    batch_size=256\n",
        "    shuffle_buffer_size=1000\n",
        "\n",
        "    train_set=windowed_dataset(\n",
        "        x_train, window_size, batch_size, shuffle_buffer_size)\n",
        "    print(train_set)\n",
        "    print(x_train.shape)\n",
        "\n",
        "    model=tf.keras.models.Sequential([\n",
        "        tf.keras.layers.Conv1D(filters=32, kernel_size=5,\n",
        "                      strides=1, padding=\"causal\",\n",
        "                      activation=\"relu\",\n",
        "                      input_shape=[None, 1]),\n",
        "        tf.keras.layers.LSTM(64, return_sequences=True),\n",
        "        tf.keras.layers.LSTM(64, return_sequences=True),\n",
        "        tf.keras.layers.Dense(30, activation=\"relu\"),\n",
        "        tf.keras.layers.Dense(10, activation=\"relu\"),\n",
        "        # YOUR CODE HERE.\n",
        "        tf.keras.layers.Dense(1),\n",
        "        tf.keras.layers.Lambda(lambda x : x * 400.0)\n",
        "    ])\n",
        "    lr_schedule = tf.keras.callbacks.LearningRateScheduler(\n",
        "        lambda epoch: 1e-8 * 10**(epoch / 20))\n",
        "    optimizer = tf.keras.optimizers.SGD(lr=1e-8, momentum=0.9)\n",
        "    model.compile(loss=tf.keras.losses.Huber(),\n",
        "                  optimizer=optimizer,\n",
        "                  metrics=[\"mae\"])\n",
        "    history = model.fit(train_set, epochs=50, callbacks=[lr_schedule])\n",
        "    # YOUR CODE HERE\n",
        "    return model"
      ]
    },
    {
      "cell_type": "code",
      "execution_count": null,
      "metadata": {
        "colab": {
          "background_save": true,
          "base_uri": "https://localhost:8080/"
        },
        "id": "odAr_07N1jGB",
        "outputId": "30f0e873-16f4-44fd-bbe3-a2f5cf089677"
      },
      "outputs": [
        {
          "name": "stdout",
          "output_type": "stream",
          "text": [
            "<PrefetchDataset element_spec=(TensorSpec(shape=(None, None, 1), dtype=tf.float64, name=None), TensorSpec(shape=(None, None, 1), dtype=tf.float64, name=None))>\n",
            "(2500,)\n",
            "Epoch 1/50\n"
          ]
        },
        {
          "name": "stderr",
          "output_type": "stream",
          "text": [
            "/usr/local/lib/python3.7/dist-packages/keras/optimizer_v2/gradient_descent.py:102: UserWarning: The `lr` argument is deprecated, use `learning_rate` instead.\n",
            "  super(SGD, self).__init__(name, **kwargs)\n"
          ]
        },
        {
          "name": "stdout",
          "output_type": "stream",
          "text": [
            "10/10 [==============================] - 7s 317ms/step - loss: 0.3906 - mae: 0.7946 - lr: 1.0000e-08\n",
            "Epoch 2/50\n",
            "10/10 [==============================] - 3s 311ms/step - loss: 0.2201 - mae: 0.5366 - lr: 1.1220e-08\n",
            "Epoch 3/50\n",
            "10/10 [==============================] - 3s 313ms/step - loss: 0.1069 - mae: 0.3594 - lr: 1.2589e-08\n",
            "Epoch 4/50\n",
            "10/10 [==============================] - 3s 311ms/step - loss: 0.0823 - mae: 0.3375 - lr: 1.4125e-08\n",
            "Epoch 5/50\n",
            "10/10 [==============================] - 3s 312ms/step - loss: 0.0800 - mae: 0.3383 - lr: 1.5849e-08\n",
            "Epoch 6/50\n",
            "10/10 [==============================] - 3s 312ms/step - loss: 0.0749 - mae: 0.3256 - lr: 1.7783e-08\n",
            "Epoch 7/50\n",
            "10/10 [==============================] - 3s 313ms/step - loss: 0.0702 - mae: 0.3114 - lr: 1.9953e-08\n",
            "Epoch 8/50\n",
            "10/10 [==============================] - 3s 310ms/step - loss: 0.0669 - mae: 0.3015 - lr: 2.2387e-08\n",
            "Epoch 9/50\n",
            "10/10 [==============================] - 3s 313ms/step - loss: 0.0637 - mae: 0.2938 - lr: 2.5119e-08\n",
            "Epoch 10/50\n",
            "10/10 [==============================] - 3s 312ms/step - loss: 0.0604 - mae: 0.2866 - lr: 2.8184e-08\n",
            "Epoch 11/50\n",
            "10/10 [==============================] - 3s 311ms/step - loss: 0.0573 - mae: 0.2790 - lr: 3.1623e-08\n",
            "Epoch 12/50\n",
            "10/10 [==============================] - 3s 312ms/step - loss: 0.0543 - mae: 0.2707 - lr: 3.5481e-08\n",
            "Epoch 13/50\n",
            "10/10 [==============================] - 3s 312ms/step - loss: 0.0515 - mae: 0.2631 - lr: 3.9811e-08\n",
            "Epoch 14/50\n",
            "10/10 [==============================] - 3s 312ms/step - loss: 0.0488 - mae: 0.2559 - lr: 4.4668e-08\n",
            "Epoch 15/50\n",
            "10/10 [==============================] - 3s 312ms/step - loss: 0.0463 - mae: 0.2483 - lr: 5.0119e-08\n",
            "Epoch 16/50\n",
            "10/10 [==============================] - 3s 310ms/step - loss: 0.0438 - mae: 0.2408 - lr: 5.6234e-08\n",
            "Epoch 17/50\n",
            "10/10 [==============================] - 3s 315ms/step - loss: 0.0412 - mae: 0.2323 - lr: 6.3096e-08\n",
            "Epoch 18/50\n",
            "10/10 [==============================] - 3s 312ms/step - loss: 0.0385 - mae: 0.2230 - lr: 7.0795e-08\n",
            "Epoch 19/50\n",
            "10/10 [==============================] - 3s 309ms/step - loss: 0.0355 - mae: 0.2126 - lr: 7.9433e-08\n",
            "Epoch 20/50\n",
            "10/10 [==============================] - 3s 311ms/step - loss: 0.0324 - mae: 0.2002 - lr: 8.9125e-08\n",
            "Epoch 21/50\n",
            "10/10 [==============================] - 3s 307ms/step - loss: 0.0293 - mae: 0.1877 - lr: 1.0000e-07\n",
            "Epoch 22/50\n",
            "10/10 [==============================] - 3s 309ms/step - loss: 0.0265 - mae: 0.1755 - lr: 1.1220e-07\n",
            "Epoch 23/50\n",
            "10/10 [==============================] - 3s 307ms/step - loss: 0.0241 - mae: 0.1653 - lr: 1.2589e-07\n",
            "Epoch 24/50\n",
            "10/10 [==============================] - 3s 310ms/step - loss: 0.0223 - mae: 0.1585 - lr: 1.4125e-07\n",
            "Epoch 25/50\n",
            "10/10 [==============================] - 3s 309ms/step - loss: 0.0209 - mae: 0.1534 - lr: 1.5849e-07\n",
            "Epoch 26/50\n",
            "10/10 [==============================] - 3s 312ms/step - loss: 0.0199 - mae: 0.1497 - lr: 1.7783e-07\n",
            "Epoch 27/50\n",
            "10/10 [==============================] - 3s 316ms/step - loss: 0.0192 - mae: 0.1474 - lr: 1.9953e-07\n",
            "Epoch 28/50\n",
            "10/10 [==============================] - 3s 311ms/step - loss: 0.0186 - mae: 0.1453 - lr: 2.2387e-07\n",
            "Epoch 29/50\n",
            "10/10 [==============================] - 3s 312ms/step - loss: 0.0182 - mae: 0.1438 - lr: 2.5119e-07\n",
            "Epoch 30/50\n",
            "10/10 [==============================] - 3s 311ms/step - loss: 0.0178 - mae: 0.1424 - lr: 2.8184e-07\n",
            "Epoch 31/50\n",
            "10/10 [==============================] - 3s 308ms/step - loss: 0.0175 - mae: 0.1412 - lr: 3.1623e-07\n",
            "Epoch 32/50\n",
            "10/10 [==============================] - 3s 309ms/step - loss: 0.0172 - mae: 0.1402 - lr: 3.5481e-07\n",
            "Epoch 33/50\n",
            "10/10 [==============================] - 3s 310ms/step - loss: 0.0170 - mae: 0.1392 - lr: 3.9811e-07\n",
            "Epoch 34/50\n",
            "10/10 [==============================] - 3s 310ms/step - loss: 0.0167 - mae: 0.1382 - lr: 4.4668e-07\n",
            "Epoch 35/50\n",
            "10/10 [==============================] - 3s 312ms/step - loss: 0.0165 - mae: 0.1370 - lr: 5.0119e-07\n",
            "Epoch 36/50\n",
            "10/10 [==============================] - 3s 310ms/step - loss: 0.0163 - mae: 0.1361 - lr: 5.6234e-07\n",
            "Epoch 37/50\n",
            "10/10 [==============================] - 3s 310ms/step - loss: 0.0160 - mae: 0.1351 - lr: 6.3096e-07\n",
            "Epoch 38/50\n",
            "10/10 [==============================] - 3s 312ms/step - loss: 0.0158 - mae: 0.1341 - lr: 7.0795e-07\n",
            "Epoch 39/50\n",
            "10/10 [==============================] - 3s 312ms/step - loss: 0.0156 - mae: 0.1332 - lr: 7.9433e-07\n",
            "Epoch 40/50\n",
            "10/10 [==============================] - 3s 309ms/step - loss: 0.0154 - mae: 0.1326 - lr: 8.9125e-07\n",
            "Epoch 41/50\n",
            "10/10 [==============================] - 3s 310ms/step - loss: 0.0151 - mae: 0.1314 - lr: 1.0000e-06\n",
            "Epoch 42/50\n",
            "10/10 [==============================] - 3s 313ms/step - loss: 0.0149 - mae: 0.1301 - lr: 1.1220e-06\n",
            "Epoch 43/50\n",
            "10/10 [==============================] - 3s 311ms/step - loss: 0.0147 - mae: 0.1293 - lr: 1.2589e-06\n",
            "Epoch 44/50\n",
            "10/10 [==============================] - 3s 311ms/step - loss: 0.0145 - mae: 0.1287 - lr: 1.4125e-06\n",
            "Epoch 45/50\n",
            "10/10 [==============================] - 3s 310ms/step - loss: 0.0143 - mae: 0.1281 - lr: 1.5849e-06\n",
            "Epoch 46/50\n",
            "10/10 [==============================] - 3s 311ms/step - loss: 0.0141 - mae: 0.1271 - lr: 1.7783e-06\n",
            "Epoch 47/50\n",
            "10/10 [==============================] - 3s 312ms/step - loss: 0.0140 - mae: 0.1266 - lr: 1.9953e-06\n",
            "Epoch 48/50\n",
            "10/10 [==============================] - 3s 311ms/step - loss: 0.0138 - mae: 0.1258 - lr: 2.2387e-06\n",
            "Epoch 49/50\n",
            "10/10 [==============================] - 4s 309ms/step - loss: 0.0134 - mae: 0.1237 - lr: 2.5119e-06\n",
            "Epoch 50/50\n",
            "10/10 [==============================] - 3s 311ms/step - loss: 0.0128 - mae: 0.1205 - lr: 2.8184e-06\n"
          ]
        }
      ],
      "source": [
        "# The code below is to save your model as a .h5 file.\n",
        "# It will be saved automatically in your Submission folder.\n",
        "if __name__ == '__main__':\n",
        "    # DO NOT CHANGE THIS CODE\n",
        "    model=solution_B5()\n",
        "    model.save(\"model_B5.h5\")"
      ]
    }
  ],
  "metadata": {
    "colab": {
      "provenance": []
    },
    "kernelspec": {
      "display_name": "Python 3",
      "name": "python3"
    },
    "language_info": {
      "name": "python"
    }
  },
  "nbformat": 4,
  "nbformat_minor": 0
}