{
  "nbformat": 4,
  "nbformat_minor": 0,
  "metadata": {
    "colab": {
      "provenance": []
    },
    "kernelspec": {
      "name": "python3",
      "display_name": "Python 3"
    },
    "language_info": {
      "name": "python"
    }
  },
  "cells": [
    {
      "cell_type": "code",
      "source": [
        "%pip install gurobipy"
      ],
      "metadata": {
        "colab": {
          "base_uri": "https://localhost:8080/"
        },
        "id": "1KXM3edfjRSs",
        "outputId": "8bed2492-29bc-464d-e087-473ac8b6822d"
      },
      "execution_count": null,
      "outputs": [
        {
          "output_type": "stream",
          "name": "stdout",
          "text": [
            "Looking in indexes: https://pypi.org/simple, https://us-python.pkg.dev/colab-wheels/public/simple/\n",
            "Collecting gurobipy\n",
            "  Downloading gurobipy-10.0.1-cp39-cp39-manylinux2014_x86_64.whl (12.8 MB)\n",
            "\u001b[2K     \u001b[90m━━━━━━━━━━━━━━━━━━━━━━━━━━━━━━━━━━━━━━━━\u001b[0m \u001b[32m12.8/12.8 MB\u001b[0m \u001b[31m54.7 MB/s\u001b[0m eta \u001b[36m0:00:00\u001b[0m\n",
            "\u001b[?25hInstalling collected packages: gurobipy\n",
            "Successfully installed gurobipy-10.0.1\n"
          ]
        }
      ]
    },
    {
      "cell_type": "code",
      "execution_count": null,
      "metadata": {
        "id": "zC0Q-PgpjBAs"
      },
      "outputs": [],
      "source": [
        "import gurobipy as gp\n",
        "from gurobipy import GRB\n",
        "import numpy as np\n",
        "import pandas as pd\n",
        "import matplotlib\n",
        "import matplotlib.pyplot as plt"
      ]
    },
    {
      "cell_type": "markdown",
      "source": [
        "**Batasan:**\n",
        "\n",
        "Periode perencanaan diketahui, yaitu 1 periode = 1 hari\n",
        "\n",
        "Biaya di semua periode diasumsikan konstan dan tidak tergantung pada jumlah pemesanan\n",
        "\n",
        "Semua demand harus terpenuhi dan tidak diperbolehkan adanya shortage dan backlog\n",
        "\n",
        "**Indeks:**\n",
        "\n",
        "T : jumlah periode dalam planning horizon\n",
        "i  : jenis bahan baku (i = 1,2,3)\n",
        "\n",
        "t  : periode waktu datang (t = 1,…,T)\n",
        "\n",
        "**Parameter:**\n",
        "𝑑_𝑖𝑡  =𝑑𝑒𝑚𝑎𝑛𝑑 bahan baku i pada periode t (per 30 hari)\n",
        "\n",
        "𝑙_𝑖   =𝑙𝑒𝑎𝑑 𝑡𝑖𝑚𝑒 bahan baku i (3 hari)\n",
        "\n",
        "𝑐_𝑖   =harga satuan bahan baku i (Rp. 8000, Rp. 7000, Rp. 7300)\n",
        "\n",
        "𝑜_𝑖   =𝑜𝑟𝑑𝑒𝑟𝑖𝑛𝑔 𝑐𝑜𝑠𝑡 bahan baku i (Rp. 8990)\n",
        "\n",
        "ℎ_𝑖   =ℎ𝑜𝑙𝑑𝑖𝑛𝑔 𝐶𝑜𝑠𝑡 bahan baku i (Rp. 305.15, Rp. 304.33, Rp. 304.58 per kg)\n",
        "\n",
        "𝑠𝑠_𝑖𝑡 =𝑠𝑎𝑓𝑒𝑡𝑦 𝑠𝑡𝑜𝑐𝑘 bahan baku i pada periode t (10641.2 kg, 5651.6 kg, 9196.4)\n",
        "\n",
        "m_i = kapasitas gudang bahan baku (110 ton)"
      ],
      "metadata": {
        "id": "2R8v2b9vLmfx"
      }
    },
    {
      "cell_type": "code",
      "source": [
        "# 1. Model\n",
        "model = gp.Model(\"optimasi bahan baku daur ulang PET\")"
      ],
      "metadata": {
        "id": "QZrXCC9p0NHZ",
        "colab": {
          "base_uri": "https://localhost:8080/"
        },
        "outputId": "f0426f69-05c4-41ee-9b0e-c6516012db2b"
      },
      "execution_count": null,
      "outputs": [
        {
          "output_type": "stream",
          "name": "stdout",
          "text": [
            "Restricted license - for non-production use only - expires 2024-10-28\n"
          ]
        }
      ]
    },
    {
      "cell_type": "code",
      "source": [
        "# 2. Sets\n",
        " # 2.1. Periode (hari)\n",
        "t = 8\n",
        "periode = range(0, t)"
      ],
      "metadata": {
        "id": "rE6yuJBc61Ar"
      },
      "execution_count": null,
      "outputs": []
    },
    {
      "cell_type": "code",
      "source": [
        "# 3. Parameter\n",
        " # 3.1. Demand per hari (kg)\n",
        "demand = [11627.08, 15638.78, 14654.68, 12612.78, 16645.28, 10622.08, 15158.98, 0]\n",
        "\n",
        " # 3.2. Inventory_awal (kg)\n",
        "inventory_awal = 2000\n",
        "\n",
        " # 3.3. Harga bahan baku (Rp.)\n",
        "harga = [100 for i in periode]\n",
        "\n",
        " # 3.4. Holding cost per unit kg per hari (Rp.)\n",
        "holding_cost = [5 for i in periode]\n",
        "\n",
        " # 3.5. Ordering cost per satu kali pesan (Rp.)\n",
        "ordering_cost = [5000 for i in periode]\n",
        "\n",
        " # 3.6 Safety stock (kg)\n",
        "safety_stock = 0\n",
        "\n",
        " # 3.7. Inventory akhir\n",
        "inventory_akhir = safety_stock\n",
        "\n",
        " # 3.8. Lead time\n",
        "lead_time = 1"
      ],
      "metadata": {
        "id": "0TYd_DG-jfhp"
      },
      "execution_count": null,
      "outputs": []
    },
    {
      "cell_type": "markdown",
      "source": [
        "Variabel Keputusan:\n",
        "\n",
        "𝑌_𝑖𝑡𝑡′={1,0}−variabel biner\n",
        "\n",
        "𝑄_𝑖𝑡𝑡′=jumlah bahan baku i yang dipesan pada t′ dan datang pada t\n",
        "\n",
        "𝑋_𝑖𝑡=level persediaan awal bahan baku i pada periode t\n",
        "\n",
        "M     = maximum capacity amount (big-M value)"
      ],
      "metadata": {
        "id": "m-wb-HpwNHzF"
      }
    },
    {
      "cell_type": "code",
      "source": [
        "# 4. Variabel\n",
        " # 4.1. Kuantitas pesan\n",
        "kuantitas_order = model.addVars(t, name=\"kuantitas_order\", vtype=GRB.INTEGER)\n",
        "\n",
        " # 4.2. Inventory (jumlah per hari)\n",
        "inventory = model.addVars(t + lead_time, name=\"inventory\", vtype=GRB.INTEGER)\n",
        "\n",
        " # 4.3. Keputusan order (pesan = 1 / tidak pesan = 0)\n",
        "order = model.addVars(t, name=\"order\", vtype=GRB.BINARY)\n",
        "\n",
        " # 4.4. Kapasitas gudang (True - tidak ada stock di luar gudang, False - stock di luar)\n",
        "capacitated = False\n",
        "if capacitated:\n",
        "\tM = [7000, 7000, 7000, 7000, 7000, 7000, 7000, 7000]\n",
        "else:\n",
        "\tM = model.addVars(t, name=\"M\", vtype=GRB.INTEGER)"
      ],
      "metadata": {
        "id": "yuu9SGlRUloZ"
      },
      "execution_count": null,
      "outputs": []
    },
    {
      "cell_type": "markdown",
      "source": [
        "Fungsi Tujuan:\n",
        "\n",
        "Meminimalkan total biaya persediaan bahan baku gudang yang terdiri dari dua komponen biaya, yaitu biaya pesan (ordering cost) dan biaya simpan (holding cost):\n",
        "\n",
        "𝑀𝑖𝑛 𝑍=𝑂𝑟𝑑𝑒𝑟𝑖𝑛𝑔 𝐶𝑜𝑠𝑡+𝐻𝑜𝑙𝑑𝑖𝑛𝑔 𝐶𝑜𝑠𝑡\n"
      ],
      "metadata": {
        "id": "TvaZnaF9Nsmt"
      }
    },
    {
      "cell_type": "code",
      "source": [
        "# 5. Fungsi tujuan\n",
        "model.setObjective(gp.quicksum(harga[i] * kuantitas_order[i] + ordering_cost[i] * order[i] + holding_cost[i] * inventory[i] for i in periode), GRB.MINIMIZE)"
      ],
      "metadata": {
        "id": "b-C5sXNYNzBY"
      },
      "execution_count": null,
      "outputs": []
    },
    {
      "cell_type": "markdown",
      "source": [
        "Fungsi Kendala:\n",
        "1. Memastikan total pemesanan bahan baku pada periode sebelumnya memenuhi demand dengan mendefinisikan nilai level persediaan awal (𝑋_(𝑖𝑡))\n",
        "\n",
        "2. Memastikan persediaan awal tidak kurang dari jumlah safety stock yang telah ditentukan\n",
        "\n",
        "3. Mendefinisikan keputusan 𝑌_(𝑖𝑡𝑡′)  bergantung pada 𝑄_(𝑖𝑡𝑡'). Untuk memenuhi hubungan antara 𝑌_(𝑖𝑡𝑡')  dan 𝑄_(𝑖𝑡𝑡'), diperlukan angka positif (𝑀) yang sangat besar\n",
        "\n",
        "4. Mendefinisikan nilai M sebagai maksimum dari jumlah demand tiap bahan baku selama periode perencanaan dan keputusan biner 𝑌_𝑖𝑡𝑡′  \n",
        "\n",
        "5. Mendefinisikan variabel keputusan adalah non negatif\n"
      ],
      "metadata": {
        "id": "PAMubVlvajdB"
      }
    },
    {
      "cell_type": "code",
      "source": [
        "# 6. Constraints (c)\n",
        " # 6.1. Inventory memenuhi demand\n",
        "for i in range(1, t+1):\n",
        "    model.addConstr((inventory[i] == inventory[i-1] + kuantitas_order[i-1] - demand[i-1]), \"c1\")\n",
        "\n",
        " # 6.2. Inventory awal\n",
        "model.addConstr(inventory[0] == inventory_awal, \"c2\")\n",
        "\n",
        " # 6.3. Inventory akhir sama dengan safety stock\n",
        "model.addConstr(inventory[t] == inventory_akhir, \"c3\")\n",
        "\n",
        " # 6.4. Inventory setiap periode lebih dari safety stock yang telah ditetapkan\n",
        "for i in range(1, t+1):\n",
        "  model.addConstr(inventory[i-1] >= safety_stock, \"c4\")\n",
        "\n",
        " # 6.5. Hubungan kuantitas pesan dan waktu pesan memenuhi persamaan dengan Big M-value\n",
        "for i in periode:\n",
        "    model.addConstr((kuantitas_order[i] <= M[i]*order[i]), \"c5\")\n",
        "\n",
        " # 6.6. Non-negatif\n",
        "for i in periode:\n",
        "    model.addConstr((order[i] >= 0), \"c6\")\n",
        "    model.addConstr((kuantitas_order[i] >= 0), \"c7\")\n",
        "    model.addConstr((inventory[i] >= 0), \"c8\")\n",
        "    model.addConstr((M[i] >= 0), \"c9\");"
      ],
      "metadata": {
        "id": "88y_ZUkyadxv"
      },
      "execution_count": null,
      "outputs": []
    },
    {
      "cell_type": "code",
      "source": [
        "# 7. Optimasi\n",
        "model.optimize()"
      ],
      "metadata": {
        "colab": {
          "base_uri": "https://localhost:8080/"
        },
        "id": "onimWYpnk_iR",
        "outputId": "3525d098-0e96-4b02-ca48-3d26ec3d9b79"
      },
      "execution_count": null,
      "outputs": [
        {
          "output_type": "stream",
          "name": "stdout",
          "text": [
            "Gurobi Optimizer version 10.0.1 build v10.0.1rc0 (linux64)\n",
            "\n",
            "CPU model: Intel(R) Xeon(R) CPU @ 2.20GHz, instruction set [SSE2|AVX|AVX2]\n",
            "Thread count: 1 physical cores, 2 logical processors, using up to 2 threads\n",
            "\n",
            "Optimize a model with 50 rows, 33 columns and 66 nonzeros\n",
            "Model fingerprint: 0x6b1305d6\n",
            "Model has 8 quadratic constraints\n",
            "Variable types: 0 continuous, 33 integer (8 binary)\n",
            "Coefficient statistics:\n",
            "  Matrix range     [1e+00, 1e+00]\n",
            "  QMatrix range    [1e+00, 1e+00]\n",
            "  QLMatrix range   [1e+00, 1e+00]\n",
            "  Objective range  [5e+00, 5e+03]\n",
            "  Bounds range     [1e+00, 1e+00]\n",
            "  RHS range        [2e+03, 2e+04]\n",
            "Presolve removed 43 rows and 3 columns\n",
            "Presolve time: 0.00s\n",
            "\n",
            "Explored 0 nodes (0 simplex iterations) in 0.01 seconds (0.00 work units)\n",
            "Thread count was 1 (of 2 available processors)\n",
            "\n",
            "Solution count 0\n",
            "\n",
            "Model is infeasible\n",
            "Best objective -, best bound -, gap -\n"
          ]
        }
      ]
    },
    {
      "cell_type": "markdown",
      "source": [
        "**Analisis**"
      ],
      "metadata": {
        "id": "k5Et_3WAOrH5"
      }
    },
    {
      "cell_type": "code",
      "source": [
        "# 8. Analisis & Visualisasi hasil\n",
        "for v in model.getVars():\n",
        "\n",
        "\tif v.varName.startswith(\"k\"):\n",
        "\t\tprint(\"Order {} kg bahan baku pada periode {}\".format(v.x, v.varName[15:]))\n",
        "\n",
        "print(\"--------------------------------\")\n",
        "print(\"Total biaya persediaan minimum: Rp. {}\".format(model.objVal))\n",
        "print(\"--------------------------------\")"
      ],
      "metadata": {
        "colab": {
          "base_uri": "https://localhost:8080/",
          "height": 339
        },
        "id": "JFhTXEOjlXlO",
        "outputId": "8b65cd29-0bfe-461e-fc1b-b668889eea46"
      },
      "execution_count": null,
      "outputs": [
        {
          "output_type": "error",
          "ename": "AttributeError",
          "evalue": "ignored",
          "traceback": [
            "\u001b[0;31m---------------------------------------------------------------------------\u001b[0m",
            "\u001b[0;31mAttributeError\u001b[0m                            Traceback (most recent call last)",
            "\u001b[0;32m<ipython-input-11-18c00c0f9534>\u001b[0m in \u001b[0;36m<cell line: 2>\u001b[0;34m()\u001b[0m\n\u001b[1;32m      3\u001b[0m \u001b[0;34m\u001b[0m\u001b[0m\n\u001b[1;32m      4\u001b[0m         \u001b[0;32mif\u001b[0m \u001b[0mv\u001b[0m\u001b[0;34m.\u001b[0m\u001b[0mvarName\u001b[0m\u001b[0;34m.\u001b[0m\u001b[0mstartswith\u001b[0m\u001b[0;34m(\u001b[0m\u001b[0;34m\"k\"\u001b[0m\u001b[0;34m)\u001b[0m\u001b[0;34m:\u001b[0m\u001b[0;34m\u001b[0m\u001b[0;34m\u001b[0m\u001b[0m\n\u001b[0;32m----> 5\u001b[0;31m                 \u001b[0mprint\u001b[0m\u001b[0;34m(\u001b[0m\u001b[0;34m\"Order {} kg bahan baku pada periode {}\"\u001b[0m\u001b[0;34m.\u001b[0m\u001b[0mformat\u001b[0m\u001b[0;34m(\u001b[0m\u001b[0mv\u001b[0m\u001b[0;34m.\u001b[0m\u001b[0mx\u001b[0m\u001b[0;34m,\u001b[0m \u001b[0mv\u001b[0m\u001b[0;34m.\u001b[0m\u001b[0mvarName\u001b[0m\u001b[0;34m[\u001b[0m\u001b[0;36m15\u001b[0m\u001b[0;34m:\u001b[0m\u001b[0;34m]\u001b[0m\u001b[0;34m)\u001b[0m\u001b[0;34m)\u001b[0m\u001b[0;34m\u001b[0m\u001b[0;34m\u001b[0m\u001b[0m\n\u001b[0m\u001b[1;32m      6\u001b[0m \u001b[0;34m\u001b[0m\u001b[0m\n\u001b[1;32m      7\u001b[0m \u001b[0mprint\u001b[0m\u001b[0;34m(\u001b[0m\u001b[0;34m\"--------------------------------\"\u001b[0m\u001b[0;34m)\u001b[0m\u001b[0;34m\u001b[0m\u001b[0;34m\u001b[0m\u001b[0m\n",
            "\u001b[0;32msrc/gurobipy/var.pxi\u001b[0m in \u001b[0;36mgurobipy.Var.__getattr__\u001b[0;34m()\u001b[0m\n",
            "\u001b[0;32msrc/gurobipy/var.pxi\u001b[0m in \u001b[0;36mgurobipy.Var.getAttr\u001b[0;34m()\u001b[0m\n",
            "\u001b[0;32msrc/gurobipy/attrutil.pxi\u001b[0m in \u001b[0;36mgurobipy.__getattr\u001b[0;34m()\u001b[0m\n",
            "\u001b[0;31mAttributeError\u001b[0m: Unable to retrieve attribute 'x'"
          ]
        }
      ]
    },
    {
      "cell_type": "code",
      "source": [
        "kolom_order = pd.DataFrame(columns=[\"Order\"])\n",
        "for o in order.values():\n",
        "  kolom_order = kolom_order.append({\"Order\": o.X}, ignore_index=True)\n",
        "\n",
        "kolom_quantity = pd.DataFrame(columns=[\"Quantity\"])\n",
        "for q in kuantitas_order.values():\n",
        "  kolom_quantity = kolom_quantity.append({\"Quantity\": q.X}, ignore_index=True)\n",
        "\n",
        "kolom_inventory = pd.DataFrame(columns=[\"Inventory\"])\n",
        "for i in inventory.values():\n",
        "  kolom_inventory = kolom_inventory.append({\"Inventory\": i.X}, ignore_index=True)\n",
        "kolom_inventory = kolom_inventory.drop(labels=t, axis=0)\n",
        "\n",
        "kolom_demand = pd.DataFrame(demand, columns = [\"Demand\"])\n",
        "\n",
        "table = pd.concat([kolom_order, kolom_quantity, kolom_inventory, kolom_demand], axis='columns')\n",
        "print(table)\n",
        "print(\"--------------------------------\")"
      ],
      "metadata": {
        "colab": {
          "base_uri": "https://localhost:8080/"
        },
        "id": "t7s6Pyf8hR_g",
        "outputId": "61d5b298-52ec-4c80-d586-58fcbd9b0c28"
      },
      "execution_count": null,
      "outputs": [
        {
          "output_type": "stream",
          "name": "stdout",
          "text": [
            "   Order  Quantity  Inventory  Demand\n",
            "0    1.0     605.0      200.0     400\n",
            "1    0.0       0.0      405.0     400\n",
            "2    1.0    1600.0        5.0     800\n",
            "3    0.0       0.0      805.0     800\n",
            "4    1.0    1200.0        5.0    1200\n",
            "5    1.0    1200.0        5.0    1200\n",
            "6    1.0    1200.0        5.0    1200\n",
            "7    1.0    1200.0        5.0    1200\n",
            "--------------------------------\n"
          ]
        },
        {
          "output_type": "stream",
          "name": "stderr",
          "text": [
            "<ipython-input-21-198b968b0e82>:3: FutureWarning: The frame.append method is deprecated and will be removed from pandas in a future version. Use pandas.concat instead.\n",
            "  kolom_order = kolom_order.append({\"Order\": o.X}, ignore_index=True)\n",
            "<ipython-input-21-198b968b0e82>:3: FutureWarning: The frame.append method is deprecated and will be removed from pandas in a future version. Use pandas.concat instead.\n",
            "  kolom_order = kolom_order.append({\"Order\": o.X}, ignore_index=True)\n",
            "<ipython-input-21-198b968b0e82>:3: FutureWarning: The frame.append method is deprecated and will be removed from pandas in a future version. Use pandas.concat instead.\n",
            "  kolom_order = kolom_order.append({\"Order\": o.X}, ignore_index=True)\n",
            "<ipython-input-21-198b968b0e82>:3: FutureWarning: The frame.append method is deprecated and will be removed from pandas in a future version. Use pandas.concat instead.\n",
            "  kolom_order = kolom_order.append({\"Order\": o.X}, ignore_index=True)\n",
            "<ipython-input-21-198b968b0e82>:3: FutureWarning: The frame.append method is deprecated and will be removed from pandas in a future version. Use pandas.concat instead.\n",
            "  kolom_order = kolom_order.append({\"Order\": o.X}, ignore_index=True)\n",
            "<ipython-input-21-198b968b0e82>:3: FutureWarning: The frame.append method is deprecated and will be removed from pandas in a future version. Use pandas.concat instead.\n",
            "  kolom_order = kolom_order.append({\"Order\": o.X}, ignore_index=True)\n",
            "<ipython-input-21-198b968b0e82>:3: FutureWarning: The frame.append method is deprecated and will be removed from pandas in a future version. Use pandas.concat instead.\n",
            "  kolom_order = kolom_order.append({\"Order\": o.X}, ignore_index=True)\n",
            "<ipython-input-21-198b968b0e82>:3: FutureWarning: The frame.append method is deprecated and will be removed from pandas in a future version. Use pandas.concat instead.\n",
            "  kolom_order = kolom_order.append({\"Order\": o.X}, ignore_index=True)\n",
            "<ipython-input-21-198b968b0e82>:7: FutureWarning: The frame.append method is deprecated and will be removed from pandas in a future version. Use pandas.concat instead.\n",
            "  kolom_quantity = kolom_quantity.append({\"Quantity\": q.X}, ignore_index=True)\n",
            "<ipython-input-21-198b968b0e82>:7: FutureWarning: The frame.append method is deprecated and will be removed from pandas in a future version. Use pandas.concat instead.\n",
            "  kolom_quantity = kolom_quantity.append({\"Quantity\": q.X}, ignore_index=True)\n",
            "<ipython-input-21-198b968b0e82>:7: FutureWarning: The frame.append method is deprecated and will be removed from pandas in a future version. Use pandas.concat instead.\n",
            "  kolom_quantity = kolom_quantity.append({\"Quantity\": q.X}, ignore_index=True)\n",
            "<ipython-input-21-198b968b0e82>:7: FutureWarning: The frame.append method is deprecated and will be removed from pandas in a future version. Use pandas.concat instead.\n",
            "  kolom_quantity = kolom_quantity.append({\"Quantity\": q.X}, ignore_index=True)\n",
            "<ipython-input-21-198b968b0e82>:7: FutureWarning: The frame.append method is deprecated and will be removed from pandas in a future version. Use pandas.concat instead.\n",
            "  kolom_quantity = kolom_quantity.append({\"Quantity\": q.X}, ignore_index=True)\n",
            "<ipython-input-21-198b968b0e82>:7: FutureWarning: The frame.append method is deprecated and will be removed from pandas in a future version. Use pandas.concat instead.\n",
            "  kolom_quantity = kolom_quantity.append({\"Quantity\": q.X}, ignore_index=True)\n",
            "<ipython-input-21-198b968b0e82>:7: FutureWarning: The frame.append method is deprecated and will be removed from pandas in a future version. Use pandas.concat instead.\n",
            "  kolom_quantity = kolom_quantity.append({\"Quantity\": q.X}, ignore_index=True)\n",
            "<ipython-input-21-198b968b0e82>:7: FutureWarning: The frame.append method is deprecated and will be removed from pandas in a future version. Use pandas.concat instead.\n",
            "  kolom_quantity = kolom_quantity.append({\"Quantity\": q.X}, ignore_index=True)\n",
            "<ipython-input-21-198b968b0e82>:11: FutureWarning: The frame.append method is deprecated and will be removed from pandas in a future version. Use pandas.concat instead.\n",
            "  kolom_inventory = kolom_inventory.append({\"Inventory\": i.X}, ignore_index=True)\n",
            "<ipython-input-21-198b968b0e82>:11: FutureWarning: The frame.append method is deprecated and will be removed from pandas in a future version. Use pandas.concat instead.\n",
            "  kolom_inventory = kolom_inventory.append({\"Inventory\": i.X}, ignore_index=True)\n",
            "<ipython-input-21-198b968b0e82>:11: FutureWarning: The frame.append method is deprecated and will be removed from pandas in a future version. Use pandas.concat instead.\n",
            "  kolom_inventory = kolom_inventory.append({\"Inventory\": i.X}, ignore_index=True)\n",
            "<ipython-input-21-198b968b0e82>:11: FutureWarning: The frame.append method is deprecated and will be removed from pandas in a future version. Use pandas.concat instead.\n",
            "  kolom_inventory = kolom_inventory.append({\"Inventory\": i.X}, ignore_index=True)\n",
            "<ipython-input-21-198b968b0e82>:11: FutureWarning: The frame.append method is deprecated and will be removed from pandas in a future version. Use pandas.concat instead.\n",
            "  kolom_inventory = kolom_inventory.append({\"Inventory\": i.X}, ignore_index=True)\n",
            "<ipython-input-21-198b968b0e82>:11: FutureWarning: The frame.append method is deprecated and will be removed from pandas in a future version. Use pandas.concat instead.\n",
            "  kolom_inventory = kolom_inventory.append({\"Inventory\": i.X}, ignore_index=True)\n",
            "<ipython-input-21-198b968b0e82>:11: FutureWarning: The frame.append method is deprecated and will be removed from pandas in a future version. Use pandas.concat instead.\n",
            "  kolom_inventory = kolom_inventory.append({\"Inventory\": i.X}, ignore_index=True)\n",
            "<ipython-input-21-198b968b0e82>:11: FutureWarning: The frame.append method is deprecated and will be removed from pandas in a future version. Use pandas.concat instead.\n",
            "  kolom_inventory = kolom_inventory.append({\"Inventory\": i.X}, ignore_index=True)\n",
            "<ipython-input-21-198b968b0e82>:11: FutureWarning: The frame.append method is deprecated and will be removed from pandas in a future version. Use pandas.concat instead.\n",
            "  kolom_inventory = kolom_inventory.append({\"Inventory\": i.X}, ignore_index=True)\n"
          ]
        }
      ]
    },
    {
      "cell_type": "code",
      "source": [
        "ind = np.arange(t)\n",
        "width = 0.25\n",
        "\n",
        "xvals = table.Quantity\n",
        "bar1 = plt.bar(ind, xvals, width, color = 'b')\n",
        "\n",
        "yvals = table.Demand\n",
        "bar2 = plt.bar(ind+width, yvals, width, color='r')\n",
        "\n",
        "zvals = table.Inventory\n",
        "bar3 = plt.bar(ind+width*2, zvals, width, color = 'g')\n",
        "\n",
        "plt.xlabel(\"Periode\")\n",
        "plt.ylabel('Kuantitas')\n",
        "plt.title(\"Perencanaan Optimal (Biaya Minimum)\")\n",
        "\n",
        "plt.xticks(ind+width,ind)\n",
        "plt.legend((bar1, bar2, bar3), ('Pesan', 'Demand', 'Inventory'))\n",
        "plt.show()"
      ],
      "metadata": {
        "colab": {
          "base_uri": "https://localhost:8080/",
          "height": 295
        },
        "id": "ODZyVlWyaIbz",
        "outputId": "ad4d06eb-2c3c-4a04-cc0f-764c5650333a"
      },
      "execution_count": null,
      "outputs": [
        {
          "output_type": "display_data",
          "data": {
            "text/plain": [
              "<Figure size 432x288 with 1 Axes>"
            ],
            "image/png": "[encoded data removed]"
          },
          "metadata": {
            "needs_background": "light"
          }
        }
      ]
    },
    {
      "cell_type": "code",
      "source": [
        "# 9. Keterangan status\n",
        "status = model.status\n",
        "if status == GRB.Status.OPTIMAL:\n",
        "    print('[status model: optimal]')\n",
        "if status == GRB.Status.INF_OR_UNBD or status == GRB.Status.INFEASIBLE  or status == GRB.Status.UNBOUNDED or status == GRB.Status.OPTIMAL:\n",
        "    print('[status model: infeasible atau unbounded]')"
      ],
      "metadata": {
        "colab": {
          "base_uri": "https://localhost:8080/"
        },
        "id": "L8aNEvJEoKdE",
        "outputId": "36404eab-00f2-4eca-d99d-995089967807"
      },
      "execution_count": null,
      "outputs": [
        {
          "output_type": "stream",
          "name": "stdout",
          "text": [
            "[status model: infeasible atau unbounded]\n"
          ]
        }
      ]
    },
    {
      "cell_type": "markdown",
      "source": [
        "Output Solution"
      ],
      "metadata": {
        "id": "WccAVIPEO3fR"
      }
    },
    {
      "cell_type": "code",
      "source": [
        "#10. Download\n",
        "model.write(\"perencanaan-bahan-baku-output.sol\")"
      ],
      "metadata": {
        "id": "A89pS295O1rL",
        "colab": {
          "base_uri": "https://localhost:8080/",
          "height": 183
        },
        "outputId": "5d2b6615-9f17-43c5-f890-596da6d5d8e4"
      },
      "execution_count": null,
      "outputs": [
        {
          "output_type": "error",
          "ename": "NameError",
          "evalue": "ignored",
          "traceback": [
            "\u001b[0;31m---------------------------------------------------------------------------\u001b[0m",
            "\u001b[0;31mNameError\u001b[0m                                 Traceback (most recent call last)",
            "\u001b[0;32m<ipython-input-124-b746f9debb1b>\u001b[0m in \u001b[0;36m<module>\u001b[0;34m\u001b[0m\n\u001b[1;32m      1\u001b[0m \u001b[0;31m#10. Download\u001b[0m\u001b[0;34m\u001b[0m\u001b[0;34m\u001b[0m\u001b[0m\n\u001b[0;32m----> 2\u001b[0;31m \u001b[0mm\u001b[0m\u001b[0;34m.\u001b[0m\u001b[0mwrite\u001b[0m\u001b[0;34m(\u001b[0m\u001b[0;34m\"perencanaan-bahan-baku-output.sol\"\u001b[0m\u001b[0;34m)\u001b[0m\u001b[0;34m\u001b[0m\u001b[0;34m\u001b[0m\u001b[0m\n\u001b[0m",
            "\u001b[0;31mNameError\u001b[0m: name 'm' is not defined"
          ]
        }
      ]
    }
  ]
}